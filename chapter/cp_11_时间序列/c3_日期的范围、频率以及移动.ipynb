{
 "cells": [
  {
   "cell_type": "markdown",
   "id": "1fbf6506-afb5-47fd-b920-357df5926dbb",
   "metadata": {},
   "source": [
    "# 11.3 日期的范围、频率以及移动\n",
    "\n",
    "pandas中的原生时间序列一般被认为是不规则的，也就是说，它们没有固定的频率。对于大部分应用程序而言，这是无所谓的。但是，它常常需要以某种相对固定的频率进行分析，比如每日、每月、每15分钟等（这样自然会在时间序列中引入缺失值）。幸运的是，pandas有一整套标准时间序列频率以及用于重采样、频率推断、生成固定频率日期范围的工具。例如，我们可以将之前那个时间序列转换为一个具有固定频率（每日）的时间序列，只需调用resample即可："
   ]
  },
  {
   "cell_type": "code",
   "execution_count": 1,
   "id": "a6409780-e171-4666-8a0b-515fad90bcce",
   "metadata": {
    "tags": []
   },
   "outputs": [],
   "source": [
    "from datetime import datetime\n",
    "\n",
    "import pandas as pd\n",
    "import numpy as np"
   ]
  },
  {
   "cell_type": "code",
   "execution_count": 2,
   "id": "e948aa1f-71d6-49db-bd26-779dc34decd2",
   "metadata": {
    "tags": []
   },
   "outputs": [],
   "source": [
    "dates = [datetime(2011, 1, 2),  \n",
    "         datetime(2011, 1, 5),\n",
    "         datetime(2011, 1, 7),  \n",
    "         datetime(2011, 1, 8),\n",
    "         datetime(2011, 1, 10), \n",
    "         datetime(2011, 1, 12)\n",
    "        ]\n",
    "\n",
    "\n",
    "ts = pd.Series(np.random.randn(6), index=dates)"
   ]
  },
  {
   "cell_type": "code",
   "execution_count": 4,
   "id": "c0ebc950-fa21-45e6-9d56-0721884faeb9",
   "metadata": {
    "tags": []
   },
   "outputs": [
    {
     "data": {
      "text/plain": [
       "2011-01-02    0.165659\n",
       "2011-01-05   -1.552404\n",
       "2011-01-07   -0.490445\n",
       "2011-01-08    1.891984\n",
       "2011-01-10    0.641196\n",
       "2011-01-12   -0.538430\n",
       "dtype: float64"
      ]
     },
     "execution_count": 4,
     "metadata": {},
     "output_type": "execute_result"
    }
   ],
   "source": [
    "ts"
   ]
  },
  {
   "cell_type": "code",
   "execution_count": 6,
   "id": "91e7a0fe-5936-48be-9aec-cf619508e284",
   "metadata": {},
   "outputs": [
    {
     "data": {
      "text/plain": [
       "<pandas.core.resample.DatetimeIndexResampler object at 0x7f87267ada30>"
      ]
     },
     "execution_count": 6,
     "metadata": {},
     "output_type": "execute_result"
    }
   ],
   "source": [
    "resampler = ts.resample('D')\n",
    "\n",
    "resampler"
   ]
  },
  {
   "cell_type": "markdown",
   "id": "09cccd5a-d5c3-4a93-9068-5bf6cfa6b5a2",
   "metadata": {},
   "source": [
    "字符串“D”是每天的意思。\n",
    "\n",
    "频率的转换（或重采样）是一个比较大的主题，稍后将专门用一节来进行讨论（11.6小节）。这里，我将告诉你如何使用基本的频率和它的倍数。"
   ]
  },
  {
   "cell_type": "markdown",
   "id": "1a0c056d-c270-43f8-bcdc-334c4a184317",
   "metadata": {},
   "source": [
    "## 生成日期范围\n",
    "\n",
    "虽然我之前用的时候没有明说，但你可能已经猜到pandas.date_range可用于根据指定的频率生成指定长度的DatetimeIndex："
   ]
  },
  {
   "cell_type": "code",
   "execution_count": 7,
   "id": "e8d694c8-ddf3-4dca-9590-5ba2ece05589",
   "metadata": {
    "tags": []
   },
   "outputs": [
    {
     "data": {
      "text/plain": [
       "DatetimeIndex(['2012-04-01', '2012-04-02', '2012-04-03', '2012-04-04',\n",
       "               '2012-04-05', '2012-04-06', '2012-04-07', '2012-04-08',\n",
       "               '2012-04-09', '2012-04-10', '2012-04-11', '2012-04-12',\n",
       "               '2012-04-13', '2012-04-14', '2012-04-15', '2012-04-16',\n",
       "               '2012-04-17', '2012-04-18', '2012-04-19', '2012-04-20',\n",
       "               '2012-04-21', '2012-04-22', '2012-04-23', '2012-04-24',\n",
       "               '2012-04-25', '2012-04-26', '2012-04-27', '2012-04-28',\n",
       "               '2012-04-29', '2012-04-30', '2012-05-01', '2012-05-02',\n",
       "               '2012-05-03', '2012-05-04', '2012-05-05', '2012-05-06',\n",
       "               '2012-05-07', '2012-05-08', '2012-05-09', '2012-05-10',\n",
       "               '2012-05-11', '2012-05-12', '2012-05-13', '2012-05-14',\n",
       "               '2012-05-15', '2012-05-16', '2012-05-17', '2012-05-18',\n",
       "               '2012-05-19', '2012-05-20', '2012-05-21', '2012-05-22',\n",
       "               '2012-05-23', '2012-05-24', '2012-05-25', '2012-05-26',\n",
       "               '2012-05-27', '2012-05-28', '2012-05-29', '2012-05-30',\n",
       "               '2012-05-31', '2012-06-01'],\n",
       "              dtype='datetime64[ns]', freq='D')"
      ]
     },
     "execution_count": 7,
     "metadata": {},
     "output_type": "execute_result"
    }
   ],
   "source": [
    "index = pd.date_range('2012-04-01', '2012-06-01')\n",
    "\n",
    "index"
   ]
  },
  {
   "cell_type": "markdown",
   "id": "64775346-a56a-4bf4-bff8-e5cdd2a047d8",
   "metadata": {},
   "source": [
    "默认情况下，date_range会产生按天计算的时间点。如果只传入起始或结束日期，那就还得传入一个表示一段时间的数字："
   ]
  },
  {
   "cell_type": "code",
   "execution_count": 8,
   "id": "221bd6bd-7ef6-4258-85df-b5ca62be6cfa",
   "metadata": {
    "tags": []
   },
   "outputs": [
    {
     "data": {
      "text/plain": [
       "DatetimeIndex(['2012-04-01', '2012-04-02', '2012-04-03', '2012-04-04',\n",
       "               '2012-04-05', '2012-04-06', '2012-04-07', '2012-04-08',\n",
       "               '2012-04-09', '2012-04-10', '2012-04-11', '2012-04-12',\n",
       "               '2012-04-13', '2012-04-14', '2012-04-15', '2012-04-16',\n",
       "               '2012-04-17', '2012-04-18', '2012-04-19', '2012-04-20'],\n",
       "              dtype='datetime64[ns]', freq='D')"
      ]
     },
     "execution_count": 8,
     "metadata": {},
     "output_type": "execute_result"
    }
   ],
   "source": [
    "pd.date_range(start='2012-04-01', periods=20)"
   ]
  },
  {
   "cell_type": "code",
   "execution_count": 9,
   "id": "52424295-adc6-4417-b3b2-e8267785b452",
   "metadata": {
    "tags": []
   },
   "outputs": [
    {
     "data": {
      "text/plain": [
       "DatetimeIndex(['2012-05-13', '2012-05-14', '2012-05-15', '2012-05-16',\n",
       "               '2012-05-17', '2012-05-18', '2012-05-19', '2012-05-20',\n",
       "               '2012-05-21', '2012-05-22', '2012-05-23', '2012-05-24',\n",
       "               '2012-05-25', '2012-05-26', '2012-05-27', '2012-05-28',\n",
       "               '2012-05-29', '2012-05-30', '2012-05-31', '2012-06-01'],\n",
       "              dtype='datetime64[ns]', freq='D')"
      ]
     },
     "execution_count": 9,
     "metadata": {},
     "output_type": "execute_result"
    }
   ],
   "source": [
    "pd.date_range(end='2012-06-01', periods=20)"
   ]
  },
  {
   "cell_type": "markdown",
   "id": "1701f389-987a-447a-b4f1-e6b6b5f9821f",
   "metadata": {},
   "source": [
    "起始和结束日期定义了日期索引的严格边界。例如，如果你想要生成一个由每月最后一个工作日组成的日期索引，可以传入\"BM\"频率（表示business end of month，表11-4是频率列表），这样就只会包含时间间隔内（或刚好在边界上的）符合频率要求的日期："
   ]
  },
  {
   "cell_type": "code",
   "execution_count": 10,
   "id": "2d7b28b6-2a58-47c6-b9d0-e2de4b695f2b",
   "metadata": {
    "tags": []
   },
   "outputs": [
    {
     "data": {
      "text/plain": [
       "DatetimeIndex(['2000-01-31', '2000-02-29', '2000-03-31', '2000-04-28',\n",
       "               '2000-05-31', '2000-06-30', '2000-07-31', '2000-08-31',\n",
       "               '2000-09-29', '2000-10-31', '2000-11-30'],\n",
       "              dtype='datetime64[ns]', freq='BM')"
      ]
     },
     "execution_count": 10,
     "metadata": {},
     "output_type": "execute_result"
    }
   ],
   "source": [
    "pd.date_range('2000-01-01', '2000-12-01', freq='BM')"
   ]
  },
  {
   "cell_type": "markdown",
   "id": "d707c124-6f90-48a1-97fd-c9fd4e3c53b9",
   "metadata": {},
   "source": [
    "表11-4 基本的时间序列频率（不完整）\n",
    "\n",
    "date_range默认会保留起始和结束时间戳的时间信息（如果有的话）："
   ]
  },
  {
   "cell_type": "code",
   "execution_count": 11,
   "id": "a0d08c01-90c5-4815-a562-c7e22e534599",
   "metadata": {
    "tags": []
   },
   "outputs": [
    {
     "data": {
      "text/plain": [
       "DatetimeIndex(['2012-05-02 12:56:31', '2012-05-03 12:56:31',\n",
       "               '2012-05-04 12:56:31', '2012-05-05 12:56:31',\n",
       "               '2012-05-06 12:56:31'],\n",
       "              dtype='datetime64[ns]', freq='D')"
      ]
     },
     "execution_count": 11,
     "metadata": {},
     "output_type": "execute_result"
    }
   ],
   "source": [
    "pd.date_range('2012-05-02 12:56:31', periods=5)"
   ]
  },
  {
   "cell_type": "markdown",
   "id": "559315d7-9e01-4d48-b5a1-b7b5ec0a9da4",
   "metadata": {},
   "source": [
    "有时，虽然起始和结束日期带有时间信息，但你希望产生一组被规范化（normalize）到午夜的时间戳。normalize选项即可实现该功能："
   ]
  },
  {
   "cell_type": "code",
   "execution_count": 12,
   "id": "250935f9-10e4-4032-bb9c-71436c4bee85",
   "metadata": {
    "tags": []
   },
   "outputs": [
    {
     "data": {
      "text/plain": [
       "DatetimeIndex(['2012-05-02', '2012-05-03', '2012-05-04', '2012-05-05',\n",
       "               '2012-05-06'],\n",
       "              dtype='datetime64[ns]', freq='D')"
      ]
     },
     "execution_count": 12,
     "metadata": {},
     "output_type": "execute_result"
    }
   ],
   "source": [
    "pd.date_range('2012-05-02 12:56:31', periods=5, normalize=True)"
   ]
  },
  {
   "cell_type": "markdown",
   "id": "011bf3aa-8be0-463b-b595-b9e90c43e089",
   "metadata": {},
   "source": [
    "## 频率和日期偏移量\n",
    "\n",
    "pandas中的频率是由一个基础频率（base frequency）和一个乘数组成的。基础频率通常以一个字符串别名表示，比如\"M\"表示每月，\"H\"表示每小时。对于每个基础频率，都有一个被称为日期偏移量（date offset）的对象与之对应。例如，按小时计算的频率可以用Hour类表示："
   ]
  },
  {
   "cell_type": "code",
   "execution_count": 13,
   "id": "9bd705dc-67a7-4acf-a4ac-003270b7981f",
   "metadata": {
    "tags": []
   },
   "outputs": [],
   "source": [
    "from pandas.tseries.offsets import Hour, Minute"
   ]
  },
  {
   "cell_type": "code",
   "execution_count": 14,
   "id": "6d589aa2-1d1d-4b33-ae3c-f9d082f434a4",
   "metadata": {
    "tags": []
   },
   "outputs": [
    {
     "data": {
      "text/plain": [
       "<Hour>"
      ]
     },
     "execution_count": 14,
     "metadata": {},
     "output_type": "execute_result"
    }
   ],
   "source": [
    "hour = Hour()\n",
    "\n",
    "hour"
   ]
  },
  {
   "cell_type": "markdown",
   "id": "5bce8197-11fb-4603-8db0-f9aadce9640d",
   "metadata": {},
   "source": [
    "传入一个整数即可定义偏移量的倍数："
   ]
  },
  {
   "cell_type": "code",
   "execution_count": 16,
   "id": "96ea6de1-3612-436f-bc2e-db076fa9baaf",
   "metadata": {
    "tags": []
   },
   "outputs": [
    {
     "data": {
      "text/plain": [
       "<4 * Hours>"
      ]
     },
     "execution_count": 16,
     "metadata": {},
     "output_type": "execute_result"
    }
   ],
   "source": [
    "four_hours = Hour(4)\n",
    "\n",
    "four_hours"
   ]
  },
  {
   "cell_type": "markdown",
   "id": "a6861b85-fb3f-4f22-9905-224494efe379",
   "metadata": {},
   "source": [
    "一般来说，无需明确创建这样的对象，只需使用诸如\"H\"或\"4H\"这样的字符串别名即可。在基础频率前面放上一个整数即可创建倍数："
   ]
  },
  {
   "cell_type": "code",
   "execution_count": 17,
   "id": "78f1d6f5-082e-4d1b-8972-aae576c4d593",
   "metadata": {
    "tags": []
   },
   "outputs": [
    {
     "data": {
      "text/plain": [
       "DatetimeIndex(['2000-01-01 00:00:00', '2000-01-01 04:00:00',\n",
       "               '2000-01-01 08:00:00', '2000-01-01 12:00:00',\n",
       "               '2000-01-01 16:00:00', '2000-01-01 20:00:00',\n",
       "               '2000-01-02 00:00:00', '2000-01-02 04:00:00',\n",
       "               '2000-01-02 08:00:00', '2000-01-02 12:00:00',\n",
       "               '2000-01-02 16:00:00', '2000-01-02 20:00:00',\n",
       "               '2000-01-03 00:00:00', '2000-01-03 04:00:00',\n",
       "               '2000-01-03 08:00:00', '2000-01-03 12:00:00',\n",
       "               '2000-01-03 16:00:00', '2000-01-03 20:00:00'],\n",
       "              dtype='datetime64[ns]', freq='4H')"
      ]
     },
     "execution_count": 17,
     "metadata": {},
     "output_type": "execute_result"
    }
   ],
   "source": [
    "pd.date_range('2000-01-01', '2000-01-03 23:59', freq='4h')"
   ]
  },
  {
   "cell_type": "markdown",
   "id": "0ea34149-f981-4d24-9362-a523e33b3f40",
   "metadata": {},
   "source": [
    "大部分偏移量对象都可通过加法进行连接："
   ]
  },
  {
   "cell_type": "code",
   "execution_count": 18,
   "id": "9ff4a026-f892-4bcc-ac3d-b3491851be47",
   "metadata": {
    "tags": []
   },
   "outputs": [
    {
     "data": {
      "text/plain": [
       "<150 * Minutes>"
      ]
     },
     "execution_count": 18,
     "metadata": {},
     "output_type": "execute_result"
    }
   ],
   "source": [
    "Hour(2) + Minute(30)"
   ]
  },
  {
   "cell_type": "markdown",
   "id": "f5cb43b7-0980-4284-972c-e3c06634c295",
   "metadata": {},
   "source": [
    "同理，你也可以传入频率字符串（如\"2h30min\"），这种字符串可以被高效地解析为等效的表达式："
   ]
  },
  {
   "cell_type": "code",
   "execution_count": 19,
   "id": "586d5f7e-1a50-41ee-a166-5e8b517423ba",
   "metadata": {
    "tags": []
   },
   "outputs": [
    {
     "data": {
      "text/plain": [
       "DatetimeIndex(['2000-01-01 00:00:00', '2000-01-01 01:30:00',\n",
       "               '2000-01-01 03:00:00', '2000-01-01 04:30:00',\n",
       "               '2000-01-01 06:00:00', '2000-01-01 07:30:00',\n",
       "               '2000-01-01 09:00:00', '2000-01-01 10:30:00',\n",
       "               '2000-01-01 12:00:00', '2000-01-01 13:30:00'],\n",
       "              dtype='datetime64[ns]', freq='90T')"
      ]
     },
     "execution_count": 19,
     "metadata": {},
     "output_type": "execute_result"
    }
   ],
   "source": [
    "pd.date_range('2000-01-01', periods=10, freq='1h30min')"
   ]
  },
  {
   "cell_type": "markdown",
   "id": "cca703a4-d29b-4bbc-a5d6-8d7350750fda",
   "metadata": {},
   "source": [
    "有些频率所描述的时间点并不是均匀分隔的。例如，\"M\"（日历月末）和\"BM\"（每月最后一个工作日）就取决于每月的天数，对于后者，还要考虑月末是不是周末。由于没有更好的术语，我将这些称为锚点偏移量（anchored offset）。\n",
    "\n",
    "表11-4列出了pandas中的频率代码和日期偏移量类。\n",
    "\n",
    ">笔记：用户可以根据实际需求自定义一些频率类以便提供pandas所没有的日期逻辑，但具体的细节超出了本书的范围。             \n",
    "\n",
    "表11-4 时间序列的基础频率"
   ]
  },
  {
   "cell_type": "markdown",
   "id": "156b14b0-59dc-4bcf-bc01-f9a1ec1d7a25",
   "metadata": {},
   "source": [
    "## WOM日期\n",
    "\n",
    "WOM（Week Of Month）是一种非常实用的频率类，它以WOM开头。它使你能获得诸如“每月第3个星期五”之类的日期："
   ]
  },
  {
   "cell_type": "code",
   "execution_count": 21,
   "id": "1278de47-f2e1-4a96-a520-5e0fb88524b4",
   "metadata": {
    "tags": []
   },
   "outputs": [
    {
     "data": {
      "text/plain": [
       "[Timestamp('2012-01-20 00:00:00', freq='WOM-3FRI'),\n",
       " Timestamp('2012-02-17 00:00:00', freq='WOM-3FRI'),\n",
       " Timestamp('2012-03-16 00:00:00', freq='WOM-3FRI'),\n",
       " Timestamp('2012-04-20 00:00:00', freq='WOM-3FRI'),\n",
       " Timestamp('2012-05-18 00:00:00', freq='WOM-3FRI'),\n",
       " Timestamp('2012-06-15 00:00:00', freq='WOM-3FRI'),\n",
       " Timestamp('2012-07-20 00:00:00', freq='WOM-3FRI'),\n",
       " Timestamp('2012-08-17 00:00:00', freq='WOM-3FRI')]"
      ]
     },
     "execution_count": 21,
     "metadata": {},
     "output_type": "execute_result"
    }
   ],
   "source": [
    "rng = pd.date_range('2012-01-01', '2012-09-01', freq='WOM-3FRI')\n",
    "\n",
    "list(rng)"
   ]
  },
  {
   "cell_type": "markdown",
   "id": "68bc5b2a-7ccf-42e3-87ca-b1017073540e",
   "metadata": {},
   "source": [
    "## 移动（超前和滞后）数据\n",
    "\n",
    "移动（shifting）指的是沿着时间轴将数据前移或后移。Series和DataFrame都有一个shift方法用于执行单纯的前移或后移操作，保持索引不变："
   ]
  },
  {
   "cell_type": "code",
   "execution_count": 24,
   "id": "21a1a767-d995-44b6-9d49-0ffb1be50753",
   "metadata": {
    "tags": []
   },
   "outputs": [
    {
     "data": {
      "text/plain": [
       "2000-01-31   -0.408789\n",
       "2000-02-29    0.345932\n",
       "2000-03-31   -0.015869\n",
       "2000-04-30    0.387771\n",
       "Freq: M, dtype: float64"
      ]
     },
     "execution_count": 24,
     "metadata": {},
     "output_type": "execute_result"
    }
   ],
   "source": [
    "ts = pd.Series(np.random.randn(4),\n",
    "               index=pd.date_range('1/1/2000', periods=4, freq='M'))\n",
    "\n",
    "ts"
   ]
  },
  {
   "cell_type": "code",
   "execution_count": 25,
   "id": "1ec03362-b1c4-4acc-aca1-63217167120d",
   "metadata": {},
   "outputs": [
    {
     "data": {
      "text/plain": [
       "2000-01-31         NaN\n",
       "2000-02-29         NaN\n",
       "2000-03-31   -0.408789\n",
       "2000-04-30    0.345932\n",
       "Freq: M, dtype: float64"
      ]
     },
     "execution_count": 25,
     "metadata": {},
     "output_type": "execute_result"
    }
   ],
   "source": [
    "ts.shift(2)"
   ]
  },
  {
   "cell_type": "code",
   "execution_count": 28,
   "id": "eceb9ab7-eedc-4f66-9cde-62a4da068194",
   "metadata": {
    "tags": []
   },
   "outputs": [
    {
     "data": {
      "text/plain": [
       "2000-01-31   -0.015869\n",
       "2000-02-29    0.387771\n",
       "2000-03-31         NaN\n",
       "2000-04-30         NaN\n",
       "Freq: M, dtype: float64"
      ]
     },
     "execution_count": 28,
     "metadata": {},
     "output_type": "execute_result"
    }
   ],
   "source": [
    "ts.shift(-2)"
   ]
  },
  {
   "cell_type": "markdown",
   "id": "a8eb32fc-d3fd-470f-8ac2-0197b8f6a970",
   "metadata": {},
   "source": [
    "当我们这样进行移动时，就会在时间序列的前面或后面产生缺失数据。\n",
    "\n",
    "shift通常用于计算一个时间序列或多个时间序列（如DataFrame的列）中的百分比变化。可以这样表达："
   ]
  },
  {
   "cell_type": "code",
   "execution_count": 29,
   "id": "ae2e90ed-a60d-4c83-937b-d58340ca353a",
   "metadata": {
    "tags": []
   },
   "outputs": [
    {
     "data": {
      "text/plain": [
       "2000-01-31          NaN\n",
       "2000-02-29    -1.846236\n",
       "2000-03-31    -1.045874\n",
       "2000-04-30   -25.435101\n",
       "Freq: M, dtype: float64"
      ]
     },
     "execution_count": 29,
     "metadata": {},
     "output_type": "execute_result"
    }
   ],
   "source": [
    "ts / ts.shift(1) - 1"
   ]
  },
  {
   "cell_type": "markdown",
   "id": "d903b9d2-570e-4104-9dfb-28dceeaae7bb",
   "metadata": {},
   "source": [
    "由于单纯的移位操作不会修改索引，所以部分数据会被丢弃。因此，如果频率已知，则可以将其传给shift以便实现对时ts.shift(2, freq='M')间戳进行位移而不是对数据进行简单位移："
   ]
  },
  {
   "cell_type": "code",
   "execution_count": 30,
   "id": "96eb42be-5ccd-489f-9b66-5a9cbff0035e",
   "metadata": {
    "tags": []
   },
   "outputs": [
    {
     "data": {
      "text/plain": [
       "2000-03-31   -0.408789\n",
       "2000-04-30    0.345932\n",
       "2000-05-31   -0.015869\n",
       "2000-06-30    0.387771\n",
       "Freq: M, dtype: float64"
      ]
     },
     "execution_count": 30,
     "metadata": {},
     "output_type": "execute_result"
    }
   ],
   "source": [
    "ts.shift(2, freq='M')"
   ]
  },
  {
   "cell_type": "markdown",
   "id": "6c087f48-debe-4007-bf9c-536149267e32",
   "metadata": {},
   "source": [
    "这里还可以使用其他频率，于是你就能非常灵活地对数据进行超前和滞后处理了："
   ]
  },
  {
   "cell_type": "code",
   "execution_count": 31,
   "id": "0884b3d5-fa12-4967-8c0d-a0054f902677",
   "metadata": {
    "tags": []
   },
   "outputs": [
    {
     "data": {
      "text/plain": [
       "2000-02-03   -0.408789\n",
       "2000-03-03    0.345932\n",
       "2000-04-03   -0.015869\n",
       "2000-05-03    0.387771\n",
       "dtype: float64"
      ]
     },
     "execution_count": 31,
     "metadata": {},
     "output_type": "execute_result"
    }
   ],
   "source": [
    "ts.shift(3, freq='D')"
   ]
  },
  {
   "cell_type": "code",
   "execution_count": 32,
   "id": "723d0d0f-e1c6-4ed8-996c-237eea1d3f5b",
   "metadata": {
    "tags": []
   },
   "outputs": [
    {
     "data": {
      "text/plain": [
       "2000-01-31 01:30:00   -0.408789\n",
       "2000-02-29 01:30:00    0.345932\n",
       "2000-03-31 01:30:00   -0.015869\n",
       "2000-04-30 01:30:00    0.387771\n",
       "dtype: float64"
      ]
     },
     "execution_count": 32,
     "metadata": {},
     "output_type": "execute_result"
    }
   ],
   "source": [
    "ts.shift(1, freq='90T')"
   ]
  },
  {
   "cell_type": "markdown",
   "id": "c791fd74-0e8c-45d3-9678-069b826c6625",
   "metadata": {},
   "source": [
    "## 通过偏移量对日期进行位移\n",
    "\n",
    "pandas的日期偏移量还可以用在datetime或Timestamp对象上："
   ]
  },
  {
   "cell_type": "code",
   "execution_count": 36,
   "id": "a085c4c9-56e5-41b7-9a8f-b49715bf678c",
   "metadata": {
    "tags": []
   },
   "outputs": [
    {
     "data": {
      "text/plain": [
       "datetime.datetime(2023, 3, 1, 0, 0)"
      ]
     },
     "execution_count": 36,
     "metadata": {},
     "output_type": "execute_result"
    }
   ],
   "source": [
    "from pandas.tseries.offsets import Day, MonthEnd\n",
    "\n",
    "\n",
    "now = datetime(2023, 3, 1)\n",
    "\n",
    "now"
   ]
  },
  {
   "cell_type": "code",
   "execution_count": 37,
   "id": "adfc3c93-a205-449a-b12b-1edd89789fcf",
   "metadata": {
    "tags": []
   },
   "outputs": [
    {
     "data": {
      "text/plain": [
       "Timestamp('2023-03-04 00:00:00')"
      ]
     },
     "execution_count": 37,
     "metadata": {},
     "output_type": "execute_result"
    }
   ],
   "source": [
    "now + 3 * Day()"
   ]
  },
  {
   "cell_type": "markdown",
   "id": "f7d89410-ba60-420f-85cc-0d4c6dc3ea5b",
   "metadata": {},
   "source": [
    "如果加的是锚点偏移量（比如MonthEnd），第一次增量会将原日期向前滚动到符合频率规则的下一个日期："
   ]
  },
  {
   "cell_type": "code",
   "execution_count": 38,
   "id": "a03f632f-ae0c-4e0b-b4bf-17baeedfe366",
   "metadata": {
    "tags": []
   },
   "outputs": [
    {
     "data": {
      "text/plain": [
       "Timestamp('2023-03-31 00:00:00')"
      ]
     },
     "execution_count": 38,
     "metadata": {},
     "output_type": "execute_result"
    }
   ],
   "source": [
    "now + MonthEnd()"
   ]
  },
  {
   "cell_type": "code",
   "execution_count": 39,
   "id": "7df3f8de-bbef-484c-a540-3846a676b62c",
   "metadata": {
    "tags": []
   },
   "outputs": [
    {
     "data": {
      "text/plain": [
       "Timestamp('2023-04-30 00:00:00')"
      ]
     },
     "execution_count": 39,
     "metadata": {},
     "output_type": "execute_result"
    }
   ],
   "source": [
    "now + MonthEnd(2)"
   ]
  },
  {
   "cell_type": "markdown",
   "id": "004efdab-b8c0-4016-b0f7-f1c3390cccab",
   "metadata": {},
   "source": [
    "通过锚点偏移量的rollforward和rollback方法，可明确地将日期向前或向后“滚动”："
   ]
  },
  {
   "cell_type": "code",
   "execution_count": 42,
   "id": "afb49ccf-97bb-4c35-bf3a-e706811a17b6",
   "metadata": {
    "tags": []
   },
   "outputs": [
    {
     "data": {
      "text/plain": [
       "Timestamp('2023-03-31 00:00:00')"
      ]
     },
     "execution_count": 42,
     "metadata": {},
     "output_type": "execute_result"
    }
   ],
   "source": [
    "offset = MonthEnd()\n",
    "\n",
    "offset.rollforward(now)"
   ]
  },
  {
   "cell_type": "code",
   "execution_count": 43,
   "id": "595f2b8e-4639-44dd-b8c6-cb7a2794bede",
   "metadata": {
    "tags": []
   },
   "outputs": [
    {
     "data": {
      "text/plain": [
       "Timestamp('2023-02-28 00:00:00')"
      ]
     },
     "execution_count": 43,
     "metadata": {},
     "output_type": "execute_result"
    }
   ],
   "source": [
    "offset.rollback(now)"
   ]
  },
  {
   "cell_type": "markdown",
   "id": "5026ce0d-c84c-4054-8e1f-4c76552e2b59",
   "metadata": {},
   "source": [
    "日期偏移量还有一个巧妙的用法，即结合groupby使用这两个“滚动”方法："
   ]
  },
  {
   "cell_type": "code",
   "execution_count": 45,
   "id": "fe30cfe2-a02f-439c-8036-d9a7329c19d8",
   "metadata": {
    "tags": []
   },
   "outputs": [
    {
     "data": {
      "text/plain": [
       "2023-01-15    0.838336\n",
       "2023-01-19    0.100061\n",
       "2023-01-23   -0.330472\n",
       "2023-01-27   -1.379282\n",
       "2023-01-31   -0.473736\n",
       "2023-02-04    1.267700\n",
       "2023-02-08    0.015096\n",
       "2023-02-12    0.840505\n",
       "2023-02-16    0.915148\n",
       "2023-02-20   -1.363342\n",
       "2023-02-24   -1.029827\n",
       "2023-02-28   -0.366487\n",
       "2023-03-04    0.618433\n",
       "2023-03-08   -0.023712\n",
       "2023-03-12   -1.085482\n",
       "2023-03-16    0.534977\n",
       "2023-03-20    0.393094\n",
       "2023-03-24   -0.162449\n",
       "2023-03-28    0.837970\n",
       "2023-04-01    0.351977\n",
       "Freq: 4D, dtype: float64"
      ]
     },
     "execution_count": 45,
     "metadata": {},
     "output_type": "execute_result"
    }
   ],
   "source": [
    "ts = pd.Series(np.random.randn(20),\n",
    "               index=pd.date_range('1/15/2023', periods=20, freq='4d')\n",
    "              )\n",
    "\n",
    "ts"
   ]
  },
  {
   "cell_type": "code",
   "execution_count": 46,
   "id": "c5dbc93f-2b54-496d-a690-acdd608dcc9a",
   "metadata": {
    "tags": []
   },
   "outputs": [
    {
     "data": {
      "text/plain": [
       "2023-01-31   -0.249019\n",
       "2023-02-28    0.039828\n",
       "2023-03-31    0.158976\n",
       "2023-04-30    0.351977\n",
       "dtype: float64"
      ]
     },
     "execution_count": 46,
     "metadata": {},
     "output_type": "execute_result"
    }
   ],
   "source": [
    "ts.groupby(offset.rollforward).mean()"
   ]
  },
  {
   "cell_type": "markdown",
   "id": "3982f4c0-adf2-48e0-b3c4-9cf69e1c483c",
   "metadata": {},
   "source": [
    "当然，更简单、更快速地实现该功能的办法是使用resample（11.6小节将对此进行详细介绍）："
   ]
  },
  {
   "cell_type": "code",
   "execution_count": 47,
   "id": "c86607a1-45e3-4dd0-b478-dae5191e8a31",
   "metadata": {
    "tags": []
   },
   "outputs": [
    {
     "data": {
      "text/plain": [
       "2023-01-31   -0.249019\n",
       "2023-02-28    0.039828\n",
       "2023-03-31    0.158976\n",
       "2023-04-30    0.351977\n",
       "Freq: M, dtype: float64"
      ]
     },
     "execution_count": 47,
     "metadata": {},
     "output_type": "execute_result"
    }
   ],
   "source": [
    "ts.resample('M').mean()"
   ]
  },
  {
   "cell_type": "code",
   "execution_count": null,
   "id": "4e65b1eb-8768-4b5d-8650-e871ddcbf2ac",
   "metadata": {},
   "outputs": [],
   "source": []
  }
 ],
 "metadata": {
  "kernelspec": {
   "display_name": "Python 3 (ipykernel)",
   "language": "python",
   "name": "python3"
  },
  "language_info": {
   "codemirror_mode": {
    "name": "ipython",
    "version": 3
   },
   "file_extension": ".py",
   "mimetype": "text/x-python",
   "name": "python",
   "nbconvert_exporter": "python",
   "pygments_lexer": "ipython3",
   "version": "3.8.10"
  }
 },
 "nbformat": 4,
 "nbformat_minor": 5
}
