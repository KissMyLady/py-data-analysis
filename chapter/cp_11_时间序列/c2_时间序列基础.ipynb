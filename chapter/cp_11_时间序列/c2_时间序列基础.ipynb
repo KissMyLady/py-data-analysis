{
 "cells": [
  {
   "cell_type": "markdown",
   "id": "8d74100b-0e9a-453a-bf50-5c4850c627b2",
   "metadata": {},
   "source": [
    "# 11.2 时间序列基础\n",
    "\n",
    "pandas最基本的时间序列类型就是以时间戳（通常以Python字符串或datatime对象表示）为索引的Series："
   ]
  },
  {
   "cell_type": "code",
   "execution_count": 16,
   "id": "3a5892e0-9c10-4c1e-a575-2d38a720522b",
   "metadata": {
    "tags": []
   },
   "outputs": [],
   "source": [
    "from datetime import datetime\n",
    "\n",
    "import pandas as pd\n",
    "import numpy as np\n",
    "\n"
   ]
  },
  {
   "cell_type": "code",
   "execution_count": 17,
   "id": "27742b21-8a64-4866-ad6e-3d5aac87c279",
   "metadata": {
    "tags": []
   },
   "outputs": [],
   "source": [
    "dates = [datetime(2011, 1, 2),  \n",
    "         datetime(2011, 1, 5),\n",
    "         datetime(2011, 1, 7),  \n",
    "         datetime(2011, 1, 8),\n",
    "         datetime(2011, 1, 10), \n",
    "         datetime(2011, 1, 12)\n",
    "        ]\n",
    "\n",
    "\n",
    "ts = pd.Series(np.random.randn(6), index=dates)"
   ]
  },
  {
   "cell_type": "code",
   "execution_count": 12,
   "id": "9275657a-24a6-493a-8cae-d5ee6043d470",
   "metadata": {
    "tags": []
   },
   "outputs": [
    {
     "data": {
      "text/plain": [
       "2011-01-02   -0.408426\n",
       "2011-01-05    1.598457\n",
       "2011-01-07    0.383061\n",
       "2011-01-08   -1.022420\n",
       "2011-01-10   -1.760558\n",
       "2011-01-12   -0.384750\n",
       "dtype: float64"
      ]
     },
     "execution_count": 12,
     "metadata": {},
     "output_type": "execute_result"
    }
   ],
   "source": [
    "ts"
   ]
  },
  {
   "cell_type": "markdown",
   "id": "fbe27148-8d94-4c3c-af16-0a87328c88ad",
   "metadata": {},
   "source": [
    "这些datetime对象实际上是被放在一个DatetimeIndex中的："
   ]
  },
  {
   "cell_type": "code",
   "execution_count": 9,
   "id": "f3611587-1e86-4f20-80bf-f301c1c0e2f2",
   "metadata": {
    "tags": []
   },
   "outputs": [
    {
     "data": {
      "text/plain": [
       "DatetimeIndex(['2011-01-02', '2011-01-05', '2011-01-07', '2011-01-08',\n",
       "               '2011-01-10', '2011-01-12'],\n",
       "              dtype='datetime64[ns]', freq=None)"
      ]
     },
     "execution_count": 9,
     "metadata": {},
     "output_type": "execute_result"
    }
   ],
   "source": [
    "ts.index"
   ]
  },
  {
   "cell_type": "markdown",
   "id": "fd7e9e05-abbb-4f0c-aa2e-c20466ffd949",
   "metadata": {},
   "source": [
    "跟其他Series一样，不同索引的时间序列之间的算术运算会自动按日期对齐："
   ]
  },
  {
   "cell_type": "code",
   "execution_count": 10,
   "id": "f5b634c4-6d4c-4606-8930-d4e3378277ac",
   "metadata": {
    "tags": []
   },
   "outputs": [
    {
     "data": {
      "text/plain": [
       "2011-01-02   -0.408426\n",
       "2011-01-07    0.383061\n",
       "2011-01-10   -1.760558\n",
       "dtype: float64"
      ]
     },
     "execution_count": 10,
     "metadata": {},
     "output_type": "execute_result"
    }
   ],
   "source": [
    "ts[::2]"
   ]
  },
  {
   "cell_type": "code",
   "execution_count": 11,
   "id": "7d6803e7-c0e1-4a61-ad2d-acebc610861f",
   "metadata": {
    "tags": []
   },
   "outputs": [
    {
     "data": {
      "text/plain": [
       "2011-01-02   -0.816852\n",
       "2011-01-05         NaN\n",
       "2011-01-07    0.766122\n",
       "2011-01-08         NaN\n",
       "2011-01-10   -3.521116\n",
       "2011-01-12         NaN\n",
       "dtype: float64"
      ]
     },
     "execution_count": 11,
     "metadata": {},
     "output_type": "execute_result"
    }
   ],
   "source": [
    "ts + ts[::2]"
   ]
  },
  {
   "cell_type": "markdown",
   "id": "6295c95b-ed05-4c03-adbb-4aa7106cb76c",
   "metadata": {},
   "source": [
    "pandas用NumPy的datetime64数据类型以纳秒形式存储时间戳："
   ]
  },
  {
   "cell_type": "code",
   "execution_count": 13,
   "id": "62824551-7784-48ed-9439-f788751d275b",
   "metadata": {
    "tags": []
   },
   "outputs": [
    {
     "data": {
      "text/plain": [
       "dtype('<M8[ns]')"
      ]
     },
     "execution_count": 13,
     "metadata": {},
     "output_type": "execute_result"
    }
   ],
   "source": [
    "ts.index.dtype"
   ]
  },
  {
   "cell_type": "markdown",
   "id": "3777dab5-bfd7-41cc-b73d-88d5ed2f58ad",
   "metadata": {},
   "source": [
    "DatetimeIndex中的各个标量值是pandas的Timestamp对象："
   ]
  },
  {
   "cell_type": "code",
   "execution_count": 21,
   "id": "454de7b0-8f2c-462b-a2fc-52b30783ff7e",
   "metadata": {
    "tags": []
   },
   "outputs": [
    {
     "data": {
      "text/plain": [
       "Timestamp('2011-01-02 00:00:00')"
      ]
     },
     "execution_count": 21,
     "metadata": {},
     "output_type": "execute_result"
    }
   ],
   "source": [
    "stamp = ts.index[0]\n",
    "\n",
    "stamp"
   ]
  },
  {
   "cell_type": "markdown",
   "id": "99421baf-9d1d-4d9e-b2c7-615afcf6207c",
   "metadata": {},
   "source": [
    "只要有需要，TimeStamp可以随时自动转换为datetime对象。此外，它还可以存储频率信息（如果有的话），且知道如何执行时区转换以及其他操作。稍后将对此进行详细讲解。"
   ]
  },
  {
   "cell_type": "markdown",
   "id": "c4961a7a-940e-4336-9bd2-018fc5c50dd3",
   "metadata": {},
   "source": [
    "## 索引、选取、子集构造\n",
    "\n",
    "当你根据标签索引选取数据时，时间序列和其它的pandas.Series很像："
   ]
  },
  {
   "cell_type": "code",
   "execution_count": 28,
   "id": "1c41ea67-b884-4645-8c9e-13acaec250aa",
   "metadata": {
    "tags": []
   },
   "outputs": [
    {
     "data": {
      "text/plain": [
       "Timestamp('2011-01-07 00:00:00')"
      ]
     },
     "execution_count": 28,
     "metadata": {},
     "output_type": "execute_result"
    }
   ],
   "source": [
    "stamp = ts.index[2]\n",
    "\n",
    "stamp"
   ]
  },
  {
   "cell_type": "code",
   "execution_count": 30,
   "id": "9a1aa88d-ff92-464d-b562-d9495fbc844a",
   "metadata": {
    "tags": []
   },
   "outputs": [
    {
     "data": {
      "text/plain": [
       "2011-01-02   -1.483063\n",
       "2011-01-05    0.379312\n",
       "2011-01-07   -0.471273\n",
       "2011-01-08   -0.051339\n",
       "2011-01-10   -1.132343\n",
       "2011-01-12    0.473631\n",
       "dtype: float64"
      ]
     },
     "execution_count": 30,
     "metadata": {},
     "output_type": "execute_result"
    }
   ],
   "source": [
    "ts"
   ]
  },
  {
   "cell_type": "code",
   "execution_count": 29,
   "id": "21b67bea-656d-4c9c-b83d-69dfccd0ab65",
   "metadata": {
    "tags": []
   },
   "outputs": [
    {
     "data": {
      "text/plain": [
       "-0.47127311798706856"
      ]
     },
     "execution_count": 29,
     "metadata": {},
     "output_type": "execute_result"
    }
   ],
   "source": [
    "ts[stamp]"
   ]
  },
  {
   "cell_type": "markdown",
   "id": "a7ce51c7-c5e9-4464-9eba-962eb8c08b7a",
   "metadata": {},
   "source": [
    "还有一种更为方便的用法：传入一个可以被解释为日期的字符串："
   ]
  },
  {
   "cell_type": "code",
   "execution_count": 24,
   "id": "829e9a56-d86e-426c-a9e6-e9c711dacd0d",
   "metadata": {
    "tags": []
   },
   "outputs": [
    {
     "data": {
      "text/plain": [
       "-1.1323429221231307"
      ]
     },
     "execution_count": 24,
     "metadata": {},
     "output_type": "execute_result"
    }
   ],
   "source": [
    "ts['1/10/2011']"
   ]
  },
  {
   "cell_type": "code",
   "execution_count": 25,
   "id": "2700c5f2-031e-49fa-90ab-f309d1fdc678",
   "metadata": {
    "tags": []
   },
   "outputs": [
    {
     "data": {
      "text/plain": [
       "-1.1323429221231307"
      ]
     },
     "execution_count": 25,
     "metadata": {},
     "output_type": "execute_result"
    }
   ],
   "source": [
    "ts['20110110']"
   ]
  },
  {
   "cell_type": "markdown",
   "id": "f6f58fd1-fe54-427d-a371-e0bdcbd40995",
   "metadata": {},
   "source": [
    "对于较长的时间序列，只需传入“年”或“年月”即可轻松选取数据的切片："
   ]
  },
  {
   "cell_type": "code",
   "execution_count": 31,
   "id": "a6c9a225-3f82-475f-baf9-5ecc7ed365b1",
   "metadata": {
    "tags": []
   },
   "outputs": [
    {
     "data": {
      "text/plain": [
       "2000-01-01   -0.096114\n",
       "2000-01-02    1.169649\n",
       "2000-01-03    0.093056\n",
       "2000-01-04    0.103898\n",
       "2000-01-05   -0.736592\n",
       "                ...   \n",
       "2002-09-22   -1.030183\n",
       "2002-09-23   -0.656297\n",
       "2002-09-24   -1.062430\n",
       "2002-09-25   -0.994502\n",
       "2002-09-26    1.553867\n",
       "Freq: D, Length: 1000, dtype: float64"
      ]
     },
     "execution_count": 31,
     "metadata": {},
     "output_type": "execute_result"
    }
   ],
   "source": [
    "longer_ts = pd.Series(np.random.randn(1000),\n",
    "                      index=pd.date_range('1/1/2000', periods=1000))\n",
    "\n",
    "longer_ts"
   ]
  },
  {
   "cell_type": "code",
   "execution_count": 32,
   "id": "7d602b7b-a309-4610-8674-33780aba5742",
   "metadata": {
    "tags": []
   },
   "outputs": [
    {
     "data": {
      "text/plain": [
       "2001-01-01   -1.809703\n",
       "2001-01-02    0.676659\n",
       "2001-01-03    0.063402\n",
       "2001-01-04   -0.644760\n",
       "2001-01-05   -0.396866\n",
       "                ...   \n",
       "2001-12-27   -1.767160\n",
       "2001-12-28    1.638261\n",
       "2001-12-29    1.523844\n",
       "2001-12-30    0.126169\n",
       "2001-12-31   -0.443061\n",
       "Freq: D, Length: 365, dtype: float64"
      ]
     },
     "execution_count": 32,
     "metadata": {},
     "output_type": "execute_result"
    }
   ],
   "source": [
    "longer_ts['2001']"
   ]
  },
  {
   "cell_type": "markdown",
   "id": "a89a6b02-a566-4093-90e3-53d261d2d071",
   "metadata": {},
   "source": [
    "这里，字符串“2001”被解释成年，并根据它选取时间区间。指定月也同样奏效："
   ]
  },
  {
   "cell_type": "code",
   "execution_count": 33,
   "id": "e3aa0a09-f054-426c-a18a-2d3744ac8034",
   "metadata": {
    "tags": []
   },
   "outputs": [
    {
     "data": {
      "text/plain": [
       "2001-05-01    0.145742\n",
       "2001-05-02   -0.506860\n",
       "2001-05-03   -0.345550\n",
       "2001-05-04    1.024504\n",
       "2001-05-05    0.585017\n",
       "2001-05-06   -0.004322\n",
       "2001-05-07   -1.253289\n",
       "2001-05-08   -0.086394\n",
       "2001-05-09    1.326425\n",
       "2001-05-10    0.193412\n",
       "2001-05-11    0.160195\n",
       "2001-05-12    3.020535\n",
       "2001-05-13    0.595003\n",
       "2001-05-14   -1.494349\n",
       "2001-05-15   -0.149323\n",
       "2001-05-16    0.585441\n",
       "2001-05-17    0.510000\n",
       "2001-05-18   -1.176993\n",
       "2001-05-19    0.836444\n",
       "2001-05-20   -0.978820\n",
       "2001-05-21   -0.497039\n",
       "2001-05-22    0.387140\n",
       "2001-05-23   -1.259972\n",
       "2001-05-24    0.230182\n",
       "2001-05-25   -0.047785\n",
       "2001-05-26   -0.942228\n",
       "2001-05-27    1.335167\n",
       "2001-05-28    0.043434\n",
       "2001-05-29    1.112417\n",
       "2001-05-30   -0.143607\n",
       "2001-05-31   -0.220669\n",
       "Freq: D, dtype: float64"
      ]
     },
     "execution_count": 33,
     "metadata": {},
     "output_type": "execute_result"
    }
   ],
   "source": [
    "longer_ts['2001-05']"
   ]
  },
  {
   "cell_type": "markdown",
   "id": "7334135d-6e39-4925-99f1-fc317b6c01ee",
   "metadata": {},
   "source": [
    "datetime对象也可以进行切片："
   ]
  },
  {
   "cell_type": "code",
   "execution_count": 34,
   "id": "725d5821-f713-4aeb-825f-cc9b4415956d",
   "metadata": {
    "tags": []
   },
   "outputs": [
    {
     "data": {
      "text/plain": [
       "2011-01-07   -0.471273\n",
       "2011-01-08   -0.051339\n",
       "2011-01-10   -1.132343\n",
       "2011-01-12    0.473631\n",
       "dtype: float64"
      ]
     },
     "execution_count": 34,
     "metadata": {},
     "output_type": "execute_result"
    }
   ],
   "source": [
    "ts[datetime(2011, 1, 7):]"
   ]
  },
  {
   "cell_type": "markdown",
   "id": "12089473-4eb5-4cca-9165-f893e4b133b3",
   "metadata": {},
   "source": [
    "由于大部分时间序列数据都是按照时间先后排序的，因此你也可以用不存在于该时间序列中的时间戳对其进行切片（即范围查询）："
   ]
  },
  {
   "cell_type": "code",
   "execution_count": 35,
   "id": "7f4979e5-9542-47de-b42f-5eb1de0bf78f",
   "metadata": {
    "tags": []
   },
   "outputs": [
    {
     "data": {
      "text/plain": [
       "2011-01-02   -1.483063\n",
       "2011-01-05    0.379312\n",
       "2011-01-07   -0.471273\n",
       "2011-01-08   -0.051339\n",
       "2011-01-10   -1.132343\n",
       "2011-01-12    0.473631\n",
       "dtype: float64"
      ]
     },
     "execution_count": 35,
     "metadata": {},
     "output_type": "execute_result"
    }
   ],
   "source": [
    "ts"
   ]
  },
  {
   "cell_type": "code",
   "execution_count": 36,
   "id": "67ceee6b-674f-4296-a2c2-db6326bfaf8e",
   "metadata": {
    "tags": []
   },
   "outputs": [
    {
     "data": {
      "text/plain": [
       "2011-01-07   -0.471273\n",
       "2011-01-08   -0.051339\n",
       "2011-01-10   -1.132343\n",
       "dtype: float64"
      ]
     },
     "execution_count": 36,
     "metadata": {},
     "output_type": "execute_result"
    }
   ],
   "source": [
    "ts['1/6/2011':'1/11/2011']"
   ]
  },
  {
   "cell_type": "markdown",
   "id": "4f09d846-bd53-4afc-9236-e0ae4c7f2144",
   "metadata": {},
   "source": [
    "跟之前一样，你可以传入字符串日期、datetime或Timestamp。注意，这样切片所产生的是原时间序列的视图，跟NumPy数组的切片运算是一样的。\n",
    "\n",
    "这意味着，没有数据被复制，对切片进行修改会反映到原始数据上。\n",
    "\n",
    "此外，还有一个等价的实例方法也可以截取两个日期之间TimeSeries："
   ]
  },
  {
   "cell_type": "code",
   "execution_count": 37,
   "id": "c55ecd96-f635-4fe6-a0d6-7bf6bde38ace",
   "metadata": {
    "tags": []
   },
   "outputs": [
    {
     "data": {
      "text/plain": [
       "2011-01-02   -1.483063\n",
       "2011-01-05    0.379312\n",
       "2011-01-07   -0.471273\n",
       "2011-01-08   -0.051339\n",
       "dtype: float64"
      ]
     },
     "execution_count": 37,
     "metadata": {},
     "output_type": "execute_result"
    }
   ],
   "source": [
    "ts.truncate(after='1/9/2011')"
   ]
  },
  {
   "cell_type": "markdown",
   "id": "1114bf59-ac82-4a27-8884-02f1b3ec4e5a",
   "metadata": {},
   "source": [
    "面这些操作对DataFrame也有效。例如，对DataFrame的行进行索引："
   ]
  },
  {
   "cell_type": "code",
   "execution_count": 39,
   "id": "20c7826f-8539-4851-8026-99ccd8cd92a3",
   "metadata": {
    "tags": []
   },
   "outputs": [
    {
     "data": {
      "text/plain": [
       "DatetimeIndex(['2000-01-05', '2000-01-12', '2000-01-19', '2000-01-26',\n",
       "               '2000-02-02', '2000-02-09', '2000-02-16', '2000-02-23',\n",
       "               '2000-03-01', '2000-03-08', '2000-03-15', '2000-03-22',\n",
       "               '2000-03-29', '2000-04-05', '2000-04-12', '2000-04-19',\n",
       "               '2000-04-26', '2000-05-03', '2000-05-10', '2000-05-17',\n",
       "               '2000-05-24', '2000-05-31', '2000-06-07', '2000-06-14',\n",
       "               '2000-06-21', '2000-06-28', '2000-07-05', '2000-07-12',\n",
       "               '2000-07-19', '2000-07-26', '2000-08-02', '2000-08-09',\n",
       "               '2000-08-16', '2000-08-23', '2000-08-30', '2000-09-06',\n",
       "               '2000-09-13', '2000-09-20', '2000-09-27', '2000-10-04',\n",
       "               '2000-10-11', '2000-10-18', '2000-10-25', '2000-11-01',\n",
       "               '2000-11-08', '2000-11-15', '2000-11-22', '2000-11-29',\n",
       "               '2000-12-06', '2000-12-13', '2000-12-20', '2000-12-27',\n",
       "               '2001-01-03', '2001-01-10', '2001-01-17', '2001-01-24',\n",
       "               '2001-01-31', '2001-02-07', '2001-02-14', '2001-02-21',\n",
       "               '2001-02-28', '2001-03-07', '2001-03-14', '2001-03-21',\n",
       "               '2001-03-28', '2001-04-04', '2001-04-11', '2001-04-18',\n",
       "               '2001-04-25', '2001-05-02', '2001-05-09', '2001-05-16',\n",
       "               '2001-05-23', '2001-05-30', '2001-06-06', '2001-06-13',\n",
       "               '2001-06-20', '2001-06-27', '2001-07-04', '2001-07-11',\n",
       "               '2001-07-18', '2001-07-25', '2001-08-01', '2001-08-08',\n",
       "               '2001-08-15', '2001-08-22', '2001-08-29', '2001-09-05',\n",
       "               '2001-09-12', '2001-09-19', '2001-09-26', '2001-10-03',\n",
       "               '2001-10-10', '2001-10-17', '2001-10-24', '2001-10-31',\n",
       "               '2001-11-07', '2001-11-14', '2001-11-21', '2001-11-28'],\n",
       "              dtype='datetime64[ns]', freq='W-WED')"
      ]
     },
     "execution_count": 39,
     "metadata": {},
     "output_type": "execute_result"
    }
   ],
   "source": [
    "dates = pd.date_range('1/1/2000', periods=100, freq='W-WED')\n",
    "\n",
    "dates"
   ]
  },
  {
   "cell_type": "code",
   "execution_count": 41,
   "id": "4774ee8d-6789-4715-9277-b0e986fa268c",
   "metadata": {
    "tags": []
   },
   "outputs": [
    {
     "data": {
      "text/html": [
       "<div>\n",
       "<style scoped>\n",
       "    .dataframe tbody tr th:only-of-type {\n",
       "        vertical-align: middle;\n",
       "    }\n",
       "\n",
       "    .dataframe tbody tr th {\n",
       "        vertical-align: top;\n",
       "    }\n",
       "\n",
       "    .dataframe thead th {\n",
       "        text-align: right;\n",
       "    }\n",
       "</style>\n",
       "<table border=\"1\" class=\"dataframe\">\n",
       "  <thead>\n",
       "    <tr style=\"text-align: right;\">\n",
       "      <th></th>\n",
       "      <th>Colorado</th>\n",
       "      <th>Texas</th>\n",
       "      <th>New York</th>\n",
       "      <th>Ohio</th>\n",
       "    </tr>\n",
       "  </thead>\n",
       "  <tbody>\n",
       "    <tr>\n",
       "      <th>2000-01-05</th>\n",
       "      <td>0.065952</td>\n",
       "      <td>-0.191071</td>\n",
       "      <td>0.494759</td>\n",
       "      <td>-0.219107</td>\n",
       "    </tr>\n",
       "    <tr>\n",
       "      <th>2000-01-12</th>\n",
       "      <td>2.472006</td>\n",
       "      <td>-0.691622</td>\n",
       "      <td>1.228253</td>\n",
       "      <td>0.509034</td>\n",
       "    </tr>\n",
       "    <tr>\n",
       "      <th>2000-01-19</th>\n",
       "      <td>0.677090</td>\n",
       "      <td>0.681932</td>\n",
       "      <td>-0.962329</td>\n",
       "      <td>-1.313845</td>\n",
       "    </tr>\n",
       "    <tr>\n",
       "      <th>2000-01-26</th>\n",
       "      <td>1.149651</td>\n",
       "      <td>0.338954</td>\n",
       "      <td>0.911078</td>\n",
       "      <td>0.447360</td>\n",
       "    </tr>\n",
       "    <tr>\n",
       "      <th>2000-02-02</th>\n",
       "      <td>0.056815</td>\n",
       "      <td>-1.238735</td>\n",
       "      <td>-1.091003</td>\n",
       "      <td>-0.386503</td>\n",
       "    </tr>\n",
       "    <tr>\n",
       "      <th>...</th>\n",
       "      <td>...</td>\n",
       "      <td>...</td>\n",
       "      <td>...</td>\n",
       "      <td>...</td>\n",
       "    </tr>\n",
       "    <tr>\n",
       "      <th>2001-10-31</th>\n",
       "      <td>-1.256055</td>\n",
       "      <td>-0.520620</td>\n",
       "      <td>-3.559648</td>\n",
       "      <td>-1.339546</td>\n",
       "    </tr>\n",
       "    <tr>\n",
       "      <th>2001-11-07</th>\n",
       "      <td>2.256898</td>\n",
       "      <td>2.960218</td>\n",
       "      <td>-2.292915</td>\n",
       "      <td>-0.380202</td>\n",
       "    </tr>\n",
       "    <tr>\n",
       "      <th>2001-11-14</th>\n",
       "      <td>0.097468</td>\n",
       "      <td>-0.665734</td>\n",
       "      <td>-0.501976</td>\n",
       "      <td>-0.980440</td>\n",
       "    </tr>\n",
       "    <tr>\n",
       "      <th>2001-11-21</th>\n",
       "      <td>-1.798154</td>\n",
       "      <td>0.245858</td>\n",
       "      <td>1.603977</td>\n",
       "      <td>2.225696</td>\n",
       "    </tr>\n",
       "    <tr>\n",
       "      <th>2001-11-28</th>\n",
       "      <td>-1.557906</td>\n",
       "      <td>-0.595505</td>\n",
       "      <td>2.712871</td>\n",
       "      <td>-0.743101</td>\n",
       "    </tr>\n",
       "  </tbody>\n",
       "</table>\n",
       "<p>100 rows × 4 columns</p>\n",
       "</div>"
      ],
      "text/plain": [
       "            Colorado     Texas  New York      Ohio\n",
       "2000-01-05  0.065952 -0.191071  0.494759 -0.219107\n",
       "2000-01-12  2.472006 -0.691622  1.228253  0.509034\n",
       "2000-01-19  0.677090  0.681932 -0.962329 -1.313845\n",
       "2000-01-26  1.149651  0.338954  0.911078  0.447360\n",
       "2000-02-02  0.056815 -1.238735 -1.091003 -0.386503\n",
       "...              ...       ...       ...       ...\n",
       "2001-10-31 -1.256055 -0.520620 -3.559648 -1.339546\n",
       "2001-11-07  2.256898  2.960218 -2.292915 -0.380202\n",
       "2001-11-14  0.097468 -0.665734 -0.501976 -0.980440\n",
       "2001-11-21 -1.798154  0.245858  1.603977  2.225696\n",
       "2001-11-28 -1.557906 -0.595505  2.712871 -0.743101\n",
       "\n",
       "[100 rows x 4 columns]"
      ]
     },
     "execution_count": 41,
     "metadata": {},
     "output_type": "execute_result"
    }
   ],
   "source": [
    "long_df = pd.DataFrame(np.random.randn(100, 4),\n",
    "                       index=dates,\n",
    "                       columns=['Colorado', 'Texas','New York', 'Ohio'])\n",
    "\n",
    "long_df"
   ]
  },
  {
   "cell_type": "code",
   "execution_count": 42,
   "id": "cab9c05a-6b41-47bf-80d7-f7ef7dfe027f",
   "metadata": {
    "tags": []
   },
   "outputs": [
    {
     "data": {
      "text/html": [
       "<div>\n",
       "<style scoped>\n",
       "    .dataframe tbody tr th:only-of-type {\n",
       "        vertical-align: middle;\n",
       "    }\n",
       "\n",
       "    .dataframe tbody tr th {\n",
       "        vertical-align: top;\n",
       "    }\n",
       "\n",
       "    .dataframe thead th {\n",
       "        text-align: right;\n",
       "    }\n",
       "</style>\n",
       "<table border=\"1\" class=\"dataframe\">\n",
       "  <thead>\n",
       "    <tr style=\"text-align: right;\">\n",
       "      <th></th>\n",
       "      <th>Colorado</th>\n",
       "      <th>Texas</th>\n",
       "      <th>New York</th>\n",
       "      <th>Ohio</th>\n",
       "    </tr>\n",
       "  </thead>\n",
       "  <tbody>\n",
       "    <tr>\n",
       "      <th>2001-05-02</th>\n",
       "      <td>0.413034</td>\n",
       "      <td>-0.759442</td>\n",
       "      <td>0.772159</td>\n",
       "      <td>1.029921</td>\n",
       "    </tr>\n",
       "    <tr>\n",
       "      <th>2001-05-09</th>\n",
       "      <td>-0.389429</td>\n",
       "      <td>-0.162595</td>\n",
       "      <td>0.800556</td>\n",
       "      <td>-0.760673</td>\n",
       "    </tr>\n",
       "    <tr>\n",
       "      <th>2001-05-16</th>\n",
       "      <td>-1.921415</td>\n",
       "      <td>0.555918</td>\n",
       "      <td>-1.018637</td>\n",
       "      <td>1.658074</td>\n",
       "    </tr>\n",
       "    <tr>\n",
       "      <th>2001-05-23</th>\n",
       "      <td>-0.447243</td>\n",
       "      <td>-0.743070</td>\n",
       "      <td>-0.211915</td>\n",
       "      <td>-1.252747</td>\n",
       "    </tr>\n",
       "    <tr>\n",
       "      <th>2001-05-30</th>\n",
       "      <td>0.684598</td>\n",
       "      <td>-0.165927</td>\n",
       "      <td>0.441707</td>\n",
       "      <td>-0.535392</td>\n",
       "    </tr>\n",
       "  </tbody>\n",
       "</table>\n",
       "</div>"
      ],
      "text/plain": [
       "            Colorado     Texas  New York      Ohio\n",
       "2001-05-02  0.413034 -0.759442  0.772159  1.029921\n",
       "2001-05-09 -0.389429 -0.162595  0.800556 -0.760673\n",
       "2001-05-16 -1.921415  0.555918 -1.018637  1.658074\n",
       "2001-05-23 -0.447243 -0.743070 -0.211915 -1.252747\n",
       "2001-05-30  0.684598 -0.165927  0.441707 -0.535392"
      ]
     },
     "execution_count": 42,
     "metadata": {},
     "output_type": "execute_result"
    }
   ],
   "source": [
    "long_df.loc['5-2001']"
   ]
  },
  {
   "cell_type": "markdown",
   "id": "22efe03e-fc17-4776-a185-1d4103fc41fe",
   "metadata": {},
   "source": [
    "## 带有重复索引的时间序列\n",
    "\n",
    "在某些应用场景中，可能会存在多个观测数据落在同一个时间点上的情况。下面就是一个例子："
   ]
  },
  {
   "cell_type": "code",
   "execution_count": 44,
   "id": "6aba56b8-45a3-4677-b4d7-c555243be751",
   "metadata": {
    "tags": []
   },
   "outputs": [
    {
     "data": {
      "text/plain": [
       "2000-01-01    0\n",
       "2000-01-02    1\n",
       "2000-01-02    2\n",
       "2000-01-02    3\n",
       "2000-01-03    4\n",
       "dtype: int64"
      ]
     },
     "execution_count": 44,
     "metadata": {},
     "output_type": "execute_result"
    }
   ],
   "source": [
    "dates = pd.DatetimeIndex(['1/1/2000', \n",
    "                          '1/2/2000', \n",
    "                          '1/2/2000',\n",
    "                          '1/2/2000', \n",
    "                          '1/3/2000'])\n",
    "\n",
    "dup_ts = pd.Series(np.arange(5), index=dates)\n",
    "\n",
    "dup_ts"
   ]
  },
  {
   "cell_type": "markdown",
   "id": "39693633-ed6e-4a49-b740-dd798825afb1",
   "metadata": {},
   "source": [
    "通过检查索引的is_unique属性，我们就可以知道它是不是唯一的："
   ]
  },
  {
   "cell_type": "code",
   "execution_count": 45,
   "id": "eee552b8-db57-49a9-a059-0e157bf12747",
   "metadata": {
    "tags": []
   },
   "outputs": [
    {
     "data": {
      "text/plain": [
       "False"
      ]
     },
     "execution_count": 45,
     "metadata": {},
     "output_type": "execute_result"
    }
   ],
   "source": [
    "dup_ts.index.is_unique"
   ]
  },
  {
   "cell_type": "markdown",
   "id": "93b35637-6445-4558-afb6-c1fc6087ae2b",
   "metadata": {},
   "source": [
    "对这个时间序列进行索引，要么产生标量值，要么产生切片，具体要看所选的时间点是否重复："
   ]
  },
  {
   "cell_type": "code",
   "execution_count": 46,
   "id": "a09d6bed-069e-42fb-bc27-f37ae4bfb29e",
   "metadata": {
    "tags": []
   },
   "outputs": [
    {
     "data": {
      "text/plain": [
       "4"
      ]
     },
     "execution_count": 46,
     "metadata": {},
     "output_type": "execute_result"
    }
   ],
   "source": [
    "dup_ts['1/3/2000']  # not duplicated"
   ]
  },
  {
   "cell_type": "code",
   "execution_count": 47,
   "id": "9c644065-0767-4c5b-ba4e-8c39a7f52e54",
   "metadata": {
    "tags": []
   },
   "outputs": [
    {
     "data": {
      "text/plain": [
       "2000-01-02    1\n",
       "2000-01-02    2\n",
       "2000-01-02    3\n",
       "dtype: int64"
      ]
     },
     "execution_count": 47,
     "metadata": {},
     "output_type": "execute_result"
    }
   ],
   "source": [
    "dup_ts['1/2/2000']  # duplicated"
   ]
  },
  {
   "cell_type": "markdown",
   "id": "9c433f25-5aa9-428d-9de3-1c22cf81fa66",
   "metadata": {},
   "source": [
    "假设你想要对具有非唯一时间戳的数据进行聚合。一个办法是使用groupby，并传入level=0："
   ]
  },
  {
   "cell_type": "code",
   "execution_count": 49,
   "id": "b2cd4f82-dab9-48f2-bcf3-43a1a3dd0c32",
   "metadata": {
    "tags": []
   },
   "outputs": [
    {
     "data": {
      "text/plain": [
       "<pandas.core.groupby.generic.SeriesGroupBy object at 0x7fc11a3caee0>"
      ]
     },
     "execution_count": 49,
     "metadata": {},
     "output_type": "execute_result"
    }
   ],
   "source": [
    "grouped = dup_ts.groupby(level=0)\n",
    "\n",
    "grouped"
   ]
  },
  {
   "cell_type": "code",
   "execution_count": 50,
   "id": "1782890f-5639-49a7-a0b6-b5cb8709365c",
   "metadata": {
    "tags": []
   },
   "outputs": [
    {
     "data": {
      "text/plain": [
       "2000-01-01    0.0\n",
       "2000-01-02    2.0\n",
       "2000-01-03    4.0\n",
       "dtype: float64"
      ]
     },
     "execution_count": 50,
     "metadata": {},
     "output_type": "execute_result"
    }
   ],
   "source": [
    "grouped.mean()"
   ]
  },
  {
   "cell_type": "code",
   "execution_count": 51,
   "id": "a8c15efd-208d-43cb-9bd2-66e23b822408",
   "metadata": {
    "tags": []
   },
   "outputs": [
    {
     "data": {
      "text/plain": [
       "2000-01-01    1\n",
       "2000-01-02    3\n",
       "2000-01-03    1\n",
       "dtype: int64"
      ]
     },
     "execution_count": 51,
     "metadata": {},
     "output_type": "execute_result"
    }
   ],
   "source": [
    "grouped.count()"
   ]
  },
  {
   "cell_type": "code",
   "execution_count": null,
   "id": "084d8fe9-e903-4a2a-9578-2e717f74ebe0",
   "metadata": {},
   "outputs": [],
   "source": []
  }
 ],
 "metadata": {
  "kernelspec": {
   "display_name": "Python 3 (ipykernel)",
   "language": "python",
   "name": "python3"
  },
  "language_info": {
   "codemirror_mode": {
    "name": "ipython",
    "version": 3
   },
   "file_extension": ".py",
   "mimetype": "text/x-python",
   "name": "python",
   "nbconvert_exporter": "python",
   "pygments_lexer": "ipython3",
   "version": "3.8.10"
  }
 },
 "nbformat": 4,
 "nbformat_minor": 5
}
