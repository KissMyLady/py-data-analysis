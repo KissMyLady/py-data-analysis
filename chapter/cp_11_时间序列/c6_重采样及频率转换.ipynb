{
 "cells": [
  {
   "cell_type": "markdown",
   "id": "6f2f1609-c3c4-4192-92c3-04d7a8c0450f",
   "metadata": {},
   "source": [
    "# 11.6 重采样及频率转换\n",
    "\n",
    "重采样（resampling）指的是将时间序列从一个频率转换到另一个频率的处理过程。将高频率数据聚合到低频率称为降采样（downsampling），而将低频率数据转换到高频率则称为升采样（upsampling）。并不是所有的重采样都能被划分到这两个大类中。例如，将W-WED（每周三）转换为W-FRI既不是降采样也不是升采样。\n",
    "\n",
    "pandas对象都带有一个resample方法，它是各种频率转换工作的主力函数。resample有一个类似于groupby的API，调用resample可以分组数据，然后会调用一个聚合函数："
   ]
  },
  {
   "cell_type": "code",
   "execution_count": 1,
   "id": "931f4492-95e9-42d3-985b-c721fded7b12",
   "metadata": {
    "tags": []
   },
   "outputs": [],
   "source": [
    "from datetime import datetime\n",
    "\n",
    "import pandas as pd\n",
    "import numpy as np"
   ]
  },
  {
   "cell_type": "code",
   "execution_count": 2,
   "id": "9a9d2c59-5de8-438e-8ceb-389ac1c4a03f",
   "metadata": {
    "tags": []
   },
   "outputs": [
    {
     "data": {
      "text/plain": [
       "2000-01-01    0.375103\n",
       "2000-01-02    1.071034\n",
       "2000-01-03    0.647248\n",
       "2000-01-04    0.488860\n",
       "2000-01-05    0.432354\n",
       "                ...   \n",
       "2000-04-05   -0.139699\n",
       "2000-04-06   -0.705903\n",
       "2000-04-07   -0.522485\n",
       "2000-04-08   -1.385005\n",
       "2000-04-09    0.805760\n",
       "Freq: D, Length: 100, dtype: float64"
      ]
     },
     "execution_count": 2,
     "metadata": {},
     "output_type": "execute_result"
    }
   ],
   "source": [
    "rng = pd.date_range('2000-01-01', periods=100, freq='D')\n",
    "\n",
    "ts = pd.Series(np.random.randn(len(rng)), index=rng)\n",
    "\n",
    "ts"
   ]
  },
  {
   "cell_type": "code",
   "execution_count": 3,
   "id": "35049b26-8773-4059-8897-5a9115a10b57",
   "metadata": {
    "tags": []
   },
   "outputs": [
    {
     "data": {
      "text/plain": [
       "2000-01-31   -0.261068\n",
       "2000-02-29    0.143114\n",
       "2000-03-31    0.175814\n",
       "2000-04-30   -0.554309\n",
       "Freq: M, dtype: float64"
      ]
     },
     "execution_count": 3,
     "metadata": {},
     "output_type": "execute_result"
    }
   ],
   "source": [
    "ts.resample('M').mean()"
   ]
  },
  {
   "cell_type": "code",
   "execution_count": 4,
   "id": "458f15ff-72b1-4227-b581-e2c11ec1714c",
   "metadata": {
    "tags": []
   },
   "outputs": [
    {
     "data": {
      "text/plain": [
       "2000-01   -0.261068\n",
       "2000-02    0.143114\n",
       "2000-03    0.175814\n",
       "2000-04   -0.554309\n",
       "Freq: M, dtype: float64"
      ]
     },
     "execution_count": 4,
     "metadata": {},
     "output_type": "execute_result"
    }
   ],
   "source": [
    "ts.resample('M', kind='period').mean()"
   ]
  },
  {
   "cell_type": "markdown",
   "id": "ee71ea1d-325e-43f7-8ae7-66ea4d1ee56e",
   "metadata": {},
   "source": [
    "resample是一个灵活高效的方法，可用于处理非常大的时间序列。我将通过一系列的示例说明其用法。表11-5总结它的一些选项。\n",
    "\n",
    "表11-5 resample方法的参数"
   ]
  },
  {
   "cell_type": "markdown",
   "id": "a2fe8a15-cb74-4972-9f9c-b2e335d4cff9",
   "metadata": {},
   "source": [
    "## 降采样\n",
    "\n",
    "将数据聚合到规律的低频率是一件非常普通的时间序列处理任务。待聚合的数据不必拥有固定的频率，期望的频率会自动定义聚合的面元边界，这些面元用于将时间序列拆分为多个片段。例如，要转换到月度频率（'M'或'BM'），数据需要被划分到多个单月时间段中。各时间段都是半开放的。一个数据点只能属于一个时间段，所有时间段的并集必须能组成整个时间帧。在用resample对数据进行降采样时，需要考虑两样东西：\n",
    "\n",
    "- 各区间哪边是闭合的。\n",
    "- 如何标记各个聚合面元，用区间的开头还是末尾。\n",
    "\n",
    "为了说明，我们来看一些“1分钟”数据："
   ]
  },
  {
   "cell_type": "code",
   "execution_count": 7,
   "id": "e98b6310-2dd0-4b1b-9caa-0f32130ac8a9",
   "metadata": {
    "tags": []
   },
   "outputs": [
    {
     "data": {
      "text/plain": [
       "DatetimeIndex(['2000-01-01 00:00:00', '2000-01-01 00:01:00',\n",
       "               '2000-01-01 00:02:00', '2000-01-01 00:03:00',\n",
       "               '2000-01-01 00:04:00', '2000-01-01 00:05:00',\n",
       "               '2000-01-01 00:06:00', '2000-01-01 00:07:00',\n",
       "               '2000-01-01 00:08:00', '2000-01-01 00:09:00',\n",
       "               '2000-01-01 00:10:00', '2000-01-01 00:11:00'],\n",
       "              dtype='datetime64[ns]', freq='T')"
      ]
     },
     "execution_count": 7,
     "metadata": {},
     "output_type": "execute_result"
    }
   ],
   "source": [
    "rng= pd.date_range('2000-01-01',\n",
    "                    periods=12, \n",
    "                    freq='T'\n",
    "                   )\n",
    "\n",
    "rng"
   ]
  },
  {
   "cell_type": "code",
   "execution_count": 10,
   "id": "80a7e841-967a-4137-9866-ccacc7c9bcd5",
   "metadata": {
    "tags": []
   },
   "outputs": [
    {
     "data": {
      "text/plain": [
       "2000-01-01 00:00:00     0\n",
       "2000-01-01 00:01:00     1\n",
       "2000-01-01 00:02:00     2\n",
       "2000-01-01 00:03:00     3\n",
       "2000-01-01 00:04:00     4\n",
       "2000-01-01 00:05:00     5\n",
       "2000-01-01 00:06:00     6\n",
       "2000-01-01 00:07:00     7\n",
       "2000-01-01 00:08:00     8\n",
       "2000-01-01 00:09:00     9\n",
       "2000-01-01 00:10:00    10\n",
       "2000-01-01 00:11:00    11\n",
       "Freq: T, dtype: int64"
      ]
     },
     "execution_count": 10,
     "metadata": {},
     "output_type": "execute_result"
    }
   ],
   "source": [
    "ts = pd.Series(np.arange(12), \n",
    "               index=rng\n",
    "              )\n",
    "\n",
    "ts"
   ]
  },
  {
   "cell_type": "markdown",
   "id": "ace5c79f-fe2b-49a3-b396-43e95af67334",
   "metadata": {},
   "source": [
    "假设你想要通过求和的方式将这些数据聚合到“5分钟”块中："
   ]
  },
  {
   "cell_type": "code",
   "execution_count": 11,
   "id": "f3bba7f9-eb72-4e53-be6c-6c9900d0ce36",
   "metadata": {
    "tags": []
   },
   "outputs": [
    {
     "data": {
      "text/plain": [
       "1999-12-31 23:55:00     0\n",
       "2000-01-01 00:00:00    15\n",
       "2000-01-01 00:05:00    40\n",
       "2000-01-01 00:10:00    11\n",
       "Freq: 5T, dtype: int64"
      ]
     },
     "execution_count": 11,
     "metadata": {},
     "output_type": "execute_result"
    }
   ],
   "source": [
    "ts.resample('5min', closed='right').sum()"
   ]
  },
  {
   "cell_type": "markdown",
   "id": "ff2acc1e-914a-4eef-bdab-fde2353b0146",
   "metadata": {},
   "source": [
    "传入的频率将会以“5分钟”的增量定义面元边界。默认情况下，面元的右边界是包含的，因此00:00到00:05的区间中是包含00:05的。传入closed='left'会让区间以左边界闭合："
   ]
  },
  {
   "cell_type": "markdown",
   "id": "cbf41497-0e79-41f0-9c01-5bb6c8b44ece",
   "metadata": {},
   "source": [
    "如你所见，最终的时间序列是以各面元右边界的时间戳进行标记的。传入label='right'即可用面元的邮编界对其进行标记："
   ]
  },
  {
   "cell_type": "code",
   "execution_count": 13,
   "id": "135ba4a6-fe3d-4d18-8926-ac4bb68fa9fc",
   "metadata": {
    "tags": []
   },
   "outputs": [
    {
     "data": {
      "text/plain": [
       "2000-01-01 00:00:00     0\n",
       "2000-01-01 00:05:00    15\n",
       "2000-01-01 00:10:00    40\n",
       "2000-01-01 00:15:00    11\n",
       "Freq: 5T, dtype: int64"
      ]
     },
     "execution_count": 13,
     "metadata": {},
     "output_type": "execute_result"
    }
   ],
   "source": [
    "ts.resample('5min', closed='right', label='right').sum()"
   ]
  },
  {
   "cell_type": "markdown",
   "id": "b175bd90-94f5-4f6f-a2d4-aaefdd6b54ad",
   "metadata": {},
   "source": [
    "图11-3说明了“1分钟”数据被转换为“5分钟”数据的处理过程。"
   ]
  },
  {
   "cell_type": "markdown",
   "id": "548d9831-8e5d-4a4d-a1c7-bef2fd33ba78",
   "metadata": {},
   "source": [
    "最后，你可能希望对结果索引做一些位移，比如从右边界减去一秒以便更容易明白该时间戳到底表示的是哪个区间。只需通过loffset设置一个字符串或日期偏移量即可实现这个目的："
   ]
  },
  {
   "cell_type": "code",
   "execution_count": 14,
   "id": "cd81e0cd-ff9f-4354-8f6d-af5bd946648e",
   "metadata": {
    "tags": []
   },
   "outputs": [
    {
     "name": "stderr",
     "output_type": "stream",
     "text": [
      "/tmp/ipykernel_139178/2625098377.py:1: FutureWarning: 'loffset' in .resample() and in Grouper() is deprecated.\n",
      "\n",
      ">>> df.resample(freq=\"3s\", loffset=\"8H\")\n",
      "\n",
      "becomes:\n",
      "\n",
      ">>> from pandas.tseries.frequencies import to_offset\n",
      ">>> df = df.resample(freq=\"3s\").mean()\n",
      ">>> df.index = df.index.to_timestamp() + to_offset(\"8H\")\n",
      "\n",
      "  ts.resample('5min',\n"
     ]
    },
    {
     "data": {
      "text/plain": [
       "1999-12-31 23:59:59     0\n",
       "2000-01-01 00:04:59    15\n",
       "2000-01-01 00:09:59    40\n",
       "2000-01-01 00:14:59    11\n",
       "Freq: 5T, dtype: int64"
      ]
     },
     "execution_count": 14,
     "metadata": {},
     "output_type": "execute_result"
    }
   ],
   "source": [
    "ts.resample('5min', \n",
    "            closed='right',\n",
    "            label='right', \n",
    "            loffset='-1s'\n",
    "           ).sum()\n"
   ]
  },
  {
   "cell_type": "code",
   "execution_count": 16,
   "id": "5eeec6bb-8bd9-49a5-b355-13eda8a1645d",
   "metadata": {
    "tags": []
   },
   "outputs": [
    {
     "name": "stderr",
     "output_type": "stream",
     "text": [
      "/tmp/ipykernel_139178/2875458470.py:1: FutureWarning: 'loffset' in .resample() and in Grouper() is deprecated.\n",
      "\n",
      ">>> df.resample(freq=\"3s\", loffset=\"8H\")\n",
      "\n",
      "becomes:\n",
      "\n",
      ">>> from pandas.tseries.frequencies import to_offset\n",
      ">>> df = df.resample(freq=\"3s\").mean()\n",
      ">>> df.index = df.index.to_timestamp() + to_offset(\"8H\")\n",
      "\n",
      "  ts.resample('5min', closed='right', label='right', loffset='-1s').sum()\n"
     ]
    },
    {
     "data": {
      "text/plain": [
       "1999-12-31 23:59:59     0\n",
       "2000-01-01 00:04:59    15\n",
       "2000-01-01 00:09:59    40\n",
       "2000-01-01 00:14:59    11\n",
       "Freq: 5T, dtype: int64"
      ]
     },
     "execution_count": 16,
     "metadata": {},
     "output_type": "execute_result"
    }
   ],
   "source": [
    "ts.resample('5min', closed='right', label='right', loffset='-1s').sum()\n"
   ]
  },
  {
   "cell_type": "markdown",
   "id": "5066ef1f-8e62-4720-a1ea-98a7755b233b",
   "metadata": {},
   "source": [
    "此外，也可以通过调用结果对象的shift方法来实现该目的，这样就不需要设置loffset了。"
   ]
  },
  {
   "cell_type": "markdown",
   "id": "d72c8344-d1db-4db6-b37e-f40d51d37b66",
   "metadata": {},
   "source": [
    "## OHLC重采样\n",
    "\n",
    "金融领域中有一种无所不在的时间序列聚合方式，即计算各面元的四个值：第一个值（open，开盘）、最后一个值（close，收盘）、最大值（high，最高）以及最小值（low，最低）。传入how='ohlc'即可得到一个含有这四种聚合值的DataFrame。整个过程很高效，只需一次扫描即可计算出结果："
   ]
  },
  {
   "cell_type": "code",
   "execution_count": 17,
   "id": "ab72478a-41e9-4a63-afd8-5db47c3726ab",
   "metadata": {
    "tags": []
   },
   "outputs": [
    {
     "data": {
      "text/html": [
       "<div>\n",
       "<style scoped>\n",
       "    .dataframe tbody tr th:only-of-type {\n",
       "        vertical-align: middle;\n",
       "    }\n",
       "\n",
       "    .dataframe tbody tr th {\n",
       "        vertical-align: top;\n",
       "    }\n",
       "\n",
       "    .dataframe thead th {\n",
       "        text-align: right;\n",
       "    }\n",
       "</style>\n",
       "<table border=\"1\" class=\"dataframe\">\n",
       "  <thead>\n",
       "    <tr style=\"text-align: right;\">\n",
       "      <th></th>\n",
       "      <th>open</th>\n",
       "      <th>high</th>\n",
       "      <th>low</th>\n",
       "      <th>close</th>\n",
       "    </tr>\n",
       "  </thead>\n",
       "  <tbody>\n",
       "    <tr>\n",
       "      <th>2000-01-01 00:00:00</th>\n",
       "      <td>0</td>\n",
       "      <td>4</td>\n",
       "      <td>0</td>\n",
       "      <td>4</td>\n",
       "    </tr>\n",
       "    <tr>\n",
       "      <th>2000-01-01 00:05:00</th>\n",
       "      <td>5</td>\n",
       "      <td>9</td>\n",
       "      <td>5</td>\n",
       "      <td>9</td>\n",
       "    </tr>\n",
       "    <tr>\n",
       "      <th>2000-01-01 00:10:00</th>\n",
       "      <td>10</td>\n",
       "      <td>11</td>\n",
       "      <td>10</td>\n",
       "      <td>11</td>\n",
       "    </tr>\n",
       "  </tbody>\n",
       "</table>\n",
       "</div>"
      ],
      "text/plain": [
       "                     open  high  low  close\n",
       "2000-01-01 00:00:00     0     4    0      4\n",
       "2000-01-01 00:05:00     5     9    5      9\n",
       "2000-01-01 00:10:00    10    11   10     11"
      ]
     },
     "execution_count": 17,
     "metadata": {},
     "output_type": "execute_result"
    }
   ],
   "source": [
    "ts.resample('5min').ohlc()"
   ]
  },
  {
   "cell_type": "markdown",
   "id": "d3839c41-0f6c-4f57-afdf-84809cd64c03",
   "metadata": {},
   "source": [
    "##升采样和插值\n",
    "\n",
    "在将数据从低频率转换到高频率时，就不需要聚合了。我们来看一个带有一些周型数据的DataFrame："
   ]
  },
  {
   "cell_type": "code",
   "execution_count": 18,
   "id": "679b0215-fa9b-464b-94f4-67b1eab5bf9a",
   "metadata": {
    "tags": []
   },
   "outputs": [
    {
     "data": {
      "text/html": [
       "<div>\n",
       "<style scoped>\n",
       "    .dataframe tbody tr th:only-of-type {\n",
       "        vertical-align: middle;\n",
       "    }\n",
       "\n",
       "    .dataframe tbody tr th {\n",
       "        vertical-align: top;\n",
       "    }\n",
       "\n",
       "    .dataframe thead th {\n",
       "        text-align: right;\n",
       "    }\n",
       "</style>\n",
       "<table border=\"1\" class=\"dataframe\">\n",
       "  <thead>\n",
       "    <tr style=\"text-align: right;\">\n",
       "      <th></th>\n",
       "      <th>Colorado</th>\n",
       "      <th>Texas</th>\n",
       "      <th>New York</th>\n",
       "      <th>Ohio</th>\n",
       "    </tr>\n",
       "  </thead>\n",
       "  <tbody>\n",
       "    <tr>\n",
       "      <th>2000-01-05</th>\n",
       "      <td>0.589634</td>\n",
       "      <td>0.957699</td>\n",
       "      <td>1.535916</td>\n",
       "      <td>-0.854045</td>\n",
       "    </tr>\n",
       "    <tr>\n",
       "      <th>2000-01-12</th>\n",
       "      <td>-0.098657</td>\n",
       "      <td>1.315946</td>\n",
       "      <td>-0.717368</td>\n",
       "      <td>0.168471</td>\n",
       "    </tr>\n",
       "  </tbody>\n",
       "</table>\n",
       "</div>"
      ],
      "text/plain": [
       "            Colorado     Texas  New York      Ohio\n",
       "2000-01-05  0.589634  0.957699  1.535916 -0.854045\n",
       "2000-01-12 -0.098657  1.315946 -0.717368  0.168471"
      ]
     },
     "execution_count": 18,
     "metadata": {},
     "output_type": "execute_result"
    }
   ],
   "source": [
    "frame = pd.DataFrame(np.random.randn(2, 4),\n",
    "                     index=pd.date_range('1/1/2000', \n",
    "                                         periods=2,\n",
    "                                         freq='W-WED'),\n",
    "                     columns=['Colorado', 'Texas', 'New York', 'Ohio']\n",
    "                    )\n",
    "\n",
    "frame"
   ]
  },
  {
   "cell_type": "markdown",
   "id": "be1c2ddc-6f62-469d-8bf1-cd2a57066a94",
   "metadata": {},
   "source": [
    "当你对这个数据进行聚合，每组只有一个值，这样就会引入缺失值。我们使用asfreq方法转换成高频，不经过聚合："
   ]
  },
  {
   "cell_type": "code",
   "execution_count": 20,
   "id": "677a2c89-8ebd-4924-bf0c-8374a518ceb8",
   "metadata": {
    "tags": []
   },
   "outputs": [
    {
     "data": {
      "text/html": [
       "<div>\n",
       "<style scoped>\n",
       "    .dataframe tbody tr th:only-of-type {\n",
       "        vertical-align: middle;\n",
       "    }\n",
       "\n",
       "    .dataframe tbody tr th {\n",
       "        vertical-align: top;\n",
       "    }\n",
       "\n",
       "    .dataframe thead th {\n",
       "        text-align: right;\n",
       "    }\n",
       "</style>\n",
       "<table border=\"1\" class=\"dataframe\">\n",
       "  <thead>\n",
       "    <tr style=\"text-align: right;\">\n",
       "      <th></th>\n",
       "      <th>Colorado</th>\n",
       "      <th>Texas</th>\n",
       "      <th>New York</th>\n",
       "      <th>Ohio</th>\n",
       "    </tr>\n",
       "  </thead>\n",
       "  <tbody>\n",
       "    <tr>\n",
       "      <th>2000-01-05</th>\n",
       "      <td>0.589634</td>\n",
       "      <td>0.957699</td>\n",
       "      <td>1.535916</td>\n",
       "      <td>-0.854045</td>\n",
       "    </tr>\n",
       "    <tr>\n",
       "      <th>2000-01-06</th>\n",
       "      <td>NaN</td>\n",
       "      <td>NaN</td>\n",
       "      <td>NaN</td>\n",
       "      <td>NaN</td>\n",
       "    </tr>\n",
       "    <tr>\n",
       "      <th>2000-01-07</th>\n",
       "      <td>NaN</td>\n",
       "      <td>NaN</td>\n",
       "      <td>NaN</td>\n",
       "      <td>NaN</td>\n",
       "    </tr>\n",
       "    <tr>\n",
       "      <th>2000-01-08</th>\n",
       "      <td>NaN</td>\n",
       "      <td>NaN</td>\n",
       "      <td>NaN</td>\n",
       "      <td>NaN</td>\n",
       "    </tr>\n",
       "    <tr>\n",
       "      <th>2000-01-09</th>\n",
       "      <td>NaN</td>\n",
       "      <td>NaN</td>\n",
       "      <td>NaN</td>\n",
       "      <td>NaN</td>\n",
       "    </tr>\n",
       "    <tr>\n",
       "      <th>2000-01-10</th>\n",
       "      <td>NaN</td>\n",
       "      <td>NaN</td>\n",
       "      <td>NaN</td>\n",
       "      <td>NaN</td>\n",
       "    </tr>\n",
       "    <tr>\n",
       "      <th>2000-01-11</th>\n",
       "      <td>NaN</td>\n",
       "      <td>NaN</td>\n",
       "      <td>NaN</td>\n",
       "      <td>NaN</td>\n",
       "    </tr>\n",
       "    <tr>\n",
       "      <th>2000-01-12</th>\n",
       "      <td>-0.098657</td>\n",
       "      <td>1.315946</td>\n",
       "      <td>-0.717368</td>\n",
       "      <td>0.168471</td>\n",
       "    </tr>\n",
       "  </tbody>\n",
       "</table>\n",
       "</div>"
      ],
      "text/plain": [
       "            Colorado     Texas  New York      Ohio\n",
       "2000-01-05  0.589634  0.957699  1.535916 -0.854045\n",
       "2000-01-06       NaN       NaN       NaN       NaN\n",
       "2000-01-07       NaN       NaN       NaN       NaN\n",
       "2000-01-08       NaN       NaN       NaN       NaN\n",
       "2000-01-09       NaN       NaN       NaN       NaN\n",
       "2000-01-10       NaN       NaN       NaN       NaN\n",
       "2000-01-11       NaN       NaN       NaN       NaN\n",
       "2000-01-12 -0.098657  1.315946 -0.717368  0.168471"
      ]
     },
     "execution_count": 20,
     "metadata": {},
     "output_type": "execute_result"
    }
   ],
   "source": [
    "df_daily = frame.resample('D').asfreq()\n",
    "\n",
    "df_daily"
   ]
  },
  {
   "cell_type": "markdown",
   "id": "2f903353-6497-4523-bf2a-a6a39196d9fe",
   "metadata": {},
   "source": [
    "假设你想要用前面的周型值填充“非星期三”。resampling的填充和插值方式跟fillna和reindex的一样："
   ]
  },
  {
   "cell_type": "code",
   "execution_count": 21,
   "id": "40db3278-b0ee-4b43-8088-342d6eeeb68a",
   "metadata": {
    "tags": []
   },
   "outputs": [
    {
     "data": {
      "text/html": [
       "<div>\n",
       "<style scoped>\n",
       "    .dataframe tbody tr th:only-of-type {\n",
       "        vertical-align: middle;\n",
       "    }\n",
       "\n",
       "    .dataframe tbody tr th {\n",
       "        vertical-align: top;\n",
       "    }\n",
       "\n",
       "    .dataframe thead th {\n",
       "        text-align: right;\n",
       "    }\n",
       "</style>\n",
       "<table border=\"1\" class=\"dataframe\">\n",
       "  <thead>\n",
       "    <tr style=\"text-align: right;\">\n",
       "      <th></th>\n",
       "      <th>Colorado</th>\n",
       "      <th>Texas</th>\n",
       "      <th>New York</th>\n",
       "      <th>Ohio</th>\n",
       "    </tr>\n",
       "  </thead>\n",
       "  <tbody>\n",
       "    <tr>\n",
       "      <th>2000-01-05</th>\n",
       "      <td>0.589634</td>\n",
       "      <td>0.957699</td>\n",
       "      <td>1.535916</td>\n",
       "      <td>-0.854045</td>\n",
       "    </tr>\n",
       "    <tr>\n",
       "      <th>2000-01-06</th>\n",
       "      <td>0.589634</td>\n",
       "      <td>0.957699</td>\n",
       "      <td>1.535916</td>\n",
       "      <td>-0.854045</td>\n",
       "    </tr>\n",
       "    <tr>\n",
       "      <th>2000-01-07</th>\n",
       "      <td>0.589634</td>\n",
       "      <td>0.957699</td>\n",
       "      <td>1.535916</td>\n",
       "      <td>-0.854045</td>\n",
       "    </tr>\n",
       "    <tr>\n",
       "      <th>2000-01-08</th>\n",
       "      <td>0.589634</td>\n",
       "      <td>0.957699</td>\n",
       "      <td>1.535916</td>\n",
       "      <td>-0.854045</td>\n",
       "    </tr>\n",
       "    <tr>\n",
       "      <th>2000-01-09</th>\n",
       "      <td>0.589634</td>\n",
       "      <td>0.957699</td>\n",
       "      <td>1.535916</td>\n",
       "      <td>-0.854045</td>\n",
       "    </tr>\n",
       "    <tr>\n",
       "      <th>2000-01-10</th>\n",
       "      <td>0.589634</td>\n",
       "      <td>0.957699</td>\n",
       "      <td>1.535916</td>\n",
       "      <td>-0.854045</td>\n",
       "    </tr>\n",
       "    <tr>\n",
       "      <th>2000-01-11</th>\n",
       "      <td>0.589634</td>\n",
       "      <td>0.957699</td>\n",
       "      <td>1.535916</td>\n",
       "      <td>-0.854045</td>\n",
       "    </tr>\n",
       "    <tr>\n",
       "      <th>2000-01-12</th>\n",
       "      <td>-0.098657</td>\n",
       "      <td>1.315946</td>\n",
       "      <td>-0.717368</td>\n",
       "      <td>0.168471</td>\n",
       "    </tr>\n",
       "  </tbody>\n",
       "</table>\n",
       "</div>"
      ],
      "text/plain": [
       "            Colorado     Texas  New York      Ohio\n",
       "2000-01-05  0.589634  0.957699  1.535916 -0.854045\n",
       "2000-01-06  0.589634  0.957699  1.535916 -0.854045\n",
       "2000-01-07  0.589634  0.957699  1.535916 -0.854045\n",
       "2000-01-08  0.589634  0.957699  1.535916 -0.854045\n",
       "2000-01-09  0.589634  0.957699  1.535916 -0.854045\n",
       "2000-01-10  0.589634  0.957699  1.535916 -0.854045\n",
       "2000-01-11  0.589634  0.957699  1.535916 -0.854045\n",
       "2000-01-12 -0.098657  1.315946 -0.717368  0.168471"
      ]
     },
     "execution_count": 21,
     "metadata": {},
     "output_type": "execute_result"
    }
   ],
   "source": [
    "frame.resample('D').ffill()"
   ]
  },
  {
   "cell_type": "markdown",
   "id": "168bebe5-30e6-4644-9f99-eb11dec531c2",
   "metadata": {},
   "source": [
    "同样，这里也可以只填充指定的时期数（目的是限制前面的观测值的持续使用距离）："
   ]
  },
  {
   "cell_type": "markdown",
   "id": "2b42f97d-9f79-4a1d-9817-8405407fec6d",
   "metadata": {},
   "source": [
    "注意，新的日期索引完全没必要跟旧的重叠："
   ]
  },
  {
   "cell_type": "code",
   "execution_count": 22,
   "id": "d97f68f1-5fd4-4aa1-85f9-c24defd4a741",
   "metadata": {
    "tags": []
   },
   "outputs": [
    {
     "data": {
      "text/html": [
       "<div>\n",
       "<style scoped>\n",
       "    .dataframe tbody tr th:only-of-type {\n",
       "        vertical-align: middle;\n",
       "    }\n",
       "\n",
       "    .dataframe tbody tr th {\n",
       "        vertical-align: top;\n",
       "    }\n",
       "\n",
       "    .dataframe thead th {\n",
       "        text-align: right;\n",
       "    }\n",
       "</style>\n",
       "<table border=\"1\" class=\"dataframe\">\n",
       "  <thead>\n",
       "    <tr style=\"text-align: right;\">\n",
       "      <th></th>\n",
       "      <th>Colorado</th>\n",
       "      <th>Texas</th>\n",
       "      <th>New York</th>\n",
       "      <th>Ohio</th>\n",
       "    </tr>\n",
       "  </thead>\n",
       "  <tbody>\n",
       "    <tr>\n",
       "      <th>2000-01-06</th>\n",
       "      <td>0.589634</td>\n",
       "      <td>0.957699</td>\n",
       "      <td>1.535916</td>\n",
       "      <td>-0.854045</td>\n",
       "    </tr>\n",
       "    <tr>\n",
       "      <th>2000-01-13</th>\n",
       "      <td>-0.098657</td>\n",
       "      <td>1.315946</td>\n",
       "      <td>-0.717368</td>\n",
       "      <td>0.168471</td>\n",
       "    </tr>\n",
       "  </tbody>\n",
       "</table>\n",
       "</div>"
      ],
      "text/plain": [
       "            Colorado     Texas  New York      Ohio\n",
       "2000-01-06  0.589634  0.957699  1.535916 -0.854045\n",
       "2000-01-13 -0.098657  1.315946 -0.717368  0.168471"
      ]
     },
     "execution_count": 22,
     "metadata": {},
     "output_type": "execute_result"
    }
   ],
   "source": [
    "frame.resample('W-THU').ffill()"
   ]
  },
  {
   "cell_type": "markdown",
   "id": "d660f493-f974-4536-bba8-cb11ef1892b2",
   "metadata": {},
   "source": [
    "## 通过时期进行重采样\n",
    "\n",
    "对那些使用时期索引的数据进行重采样与时间戳很像："
   ]
  },
  {
   "cell_type": "code",
   "execution_count": 25,
   "id": "0e5c3e4f-77b0-4763-aa58-9434065105fe",
   "metadata": {
    "tags": []
   },
   "outputs": [
    {
     "data": {
      "text/html": [
       "<div>\n",
       "<style scoped>\n",
       "    .dataframe tbody tr th:only-of-type {\n",
       "        vertical-align: middle;\n",
       "    }\n",
       "\n",
       "    .dataframe tbody tr th {\n",
       "        vertical-align: top;\n",
       "    }\n",
       "\n",
       "    .dataframe thead th {\n",
       "        text-align: right;\n",
       "    }\n",
       "</style>\n",
       "<table border=\"1\" class=\"dataframe\">\n",
       "  <thead>\n",
       "    <tr style=\"text-align: right;\">\n",
       "      <th></th>\n",
       "      <th>Colorado</th>\n",
       "      <th>Texas</th>\n",
       "      <th>New York</th>\n",
       "      <th>Ohio</th>\n",
       "    </tr>\n",
       "  </thead>\n",
       "  <tbody>\n",
       "    <tr>\n",
       "      <th>2000-01</th>\n",
       "      <td>-1.122430</td>\n",
       "      <td>0.137510</td>\n",
       "      <td>0.480341</td>\n",
       "      <td>-0.382167</td>\n",
       "    </tr>\n",
       "    <tr>\n",
       "      <th>2000-02</th>\n",
       "      <td>-0.141096</td>\n",
       "      <td>0.853050</td>\n",
       "      <td>-2.304634</td>\n",
       "      <td>1.196920</td>\n",
       "    </tr>\n",
       "    <tr>\n",
       "      <th>2000-03</th>\n",
       "      <td>-1.578841</td>\n",
       "      <td>-0.763457</td>\n",
       "      <td>-1.477681</td>\n",
       "      <td>-0.336945</td>\n",
       "    </tr>\n",
       "    <tr>\n",
       "      <th>2000-04</th>\n",
       "      <td>-0.157981</td>\n",
       "      <td>0.735355</td>\n",
       "      <td>-0.992008</td>\n",
       "      <td>0.011157</td>\n",
       "    </tr>\n",
       "    <tr>\n",
       "      <th>2000-05</th>\n",
       "      <td>0.832767</td>\n",
       "      <td>-0.741682</td>\n",
       "      <td>-0.209806</td>\n",
       "      <td>2.358965</td>\n",
       "    </tr>\n",
       "    <tr>\n",
       "      <th>2000-06</th>\n",
       "      <td>-0.067782</td>\n",
       "      <td>-0.359067</td>\n",
       "      <td>0.464881</td>\n",
       "      <td>-0.004299</td>\n",
       "    </tr>\n",
       "    <tr>\n",
       "      <th>2000-07</th>\n",
       "      <td>0.896280</td>\n",
       "      <td>0.483854</td>\n",
       "      <td>-0.535428</td>\n",
       "      <td>-1.240675</td>\n",
       "    </tr>\n",
       "    <tr>\n",
       "      <th>2000-08</th>\n",
       "      <td>-1.028906</td>\n",
       "      <td>0.974636</td>\n",
       "      <td>-0.177606</td>\n",
       "      <td>-0.925124</td>\n",
       "    </tr>\n",
       "    <tr>\n",
       "      <th>2000-09</th>\n",
       "      <td>-0.958059</td>\n",
       "      <td>0.353401</td>\n",
       "      <td>0.558435</td>\n",
       "      <td>0.018048</td>\n",
       "    </tr>\n",
       "    <tr>\n",
       "      <th>2000-10</th>\n",
       "      <td>2.065366</td>\n",
       "      <td>1.247460</td>\n",
       "      <td>-0.249530</td>\n",
       "      <td>-1.013787</td>\n",
       "    </tr>\n",
       "  </tbody>\n",
       "</table>\n",
       "</div>"
      ],
      "text/plain": [
       "         Colorado     Texas  New York      Ohio\n",
       "2000-01 -1.122430  0.137510  0.480341 -0.382167\n",
       "2000-02 -0.141096  0.853050 -2.304634  1.196920\n",
       "2000-03 -1.578841 -0.763457 -1.477681 -0.336945\n",
       "2000-04 -0.157981  0.735355 -0.992008  0.011157\n",
       "2000-05  0.832767 -0.741682 -0.209806  2.358965\n",
       "2000-06 -0.067782 -0.359067  0.464881 -0.004299\n",
       "2000-07  0.896280  0.483854 -0.535428 -1.240675\n",
       "2000-08 -1.028906  0.974636 -0.177606 -0.925124\n",
       "2000-09 -0.958059  0.353401  0.558435  0.018048\n",
       "2000-10  2.065366  1.247460 -0.249530 -1.013787"
      ]
     },
     "execution_count": 25,
     "metadata": {},
     "output_type": "execute_result"
    }
   ],
   "source": [
    "frame = pd.DataFrame(np.random.randn(24, 4),\n",
    "                     index=pd.period_range('1-2000', '12-2001',freq='M'),\n",
    "                     columns=['Colorado', 'Texas', 'New York', 'Ohio']\n",
    "                    )\n",
    "\n",
    "frame[:10]"
   ]
  },
  {
   "cell_type": "code",
   "execution_count": 27,
   "id": "d06bdfd1-61c5-4a77-840c-f8f45c77a8b3",
   "metadata": {
    "tags": []
   },
   "outputs": [
    {
     "data": {
      "text/html": [
       "<div>\n",
       "<style scoped>\n",
       "    .dataframe tbody tr th:only-of-type {\n",
       "        vertical-align: middle;\n",
       "    }\n",
       "\n",
       "    .dataframe tbody tr th {\n",
       "        vertical-align: top;\n",
       "    }\n",
       "\n",
       "    .dataframe thead th {\n",
       "        text-align: right;\n",
       "    }\n",
       "</style>\n",
       "<table border=\"1\" class=\"dataframe\">\n",
       "  <thead>\n",
       "    <tr style=\"text-align: right;\">\n",
       "      <th></th>\n",
       "      <th>Colorado</th>\n",
       "      <th>Texas</th>\n",
       "      <th>New York</th>\n",
       "      <th>Ohio</th>\n",
       "    </tr>\n",
       "  </thead>\n",
       "  <tbody>\n",
       "    <tr>\n",
       "      <th>2000</th>\n",
       "      <td>-0.166971</td>\n",
       "      <td>0.295861</td>\n",
       "      <td>-0.384832</td>\n",
       "      <td>0.060514</td>\n",
       "    </tr>\n",
       "    <tr>\n",
       "      <th>2001</th>\n",
       "      <td>-0.613921</td>\n",
       "      <td>-0.039024</td>\n",
       "      <td>-0.043503</td>\n",
       "      <td>-0.215634</td>\n",
       "    </tr>\n",
       "  </tbody>\n",
       "</table>\n",
       "</div>"
      ],
      "text/plain": [
       "      Colorado     Texas  New York      Ohio\n",
       "2000 -0.166971  0.295861 -0.384832  0.060514\n",
       "2001 -0.613921 -0.039024 -0.043503 -0.215634"
      ]
     },
     "execution_count": 27,
     "metadata": {},
     "output_type": "execute_result"
    }
   ],
   "source": [
    "annual_frame = frame.resample('A-DEC').mean()\n",
    "\n",
    "annual_frame"
   ]
  },
  {
   "cell_type": "markdown",
   "id": "82a23cc4-cb4c-41c7-bc16-032cc4a58d07",
   "metadata": {},
   "source": [
    "升采样要稍微麻烦一些，因为你必须决定在新频率中各区间的哪端用于放置原来的值，就像asfreq方法那样。convention参数默认为'start'，也可设置为'end'："
   ]
  },
  {
   "cell_type": "code",
   "execution_count": 28,
   "id": "a3eb87c3-8d33-4e65-806e-b2c360b14a71",
   "metadata": {
    "tags": []
   },
   "outputs": [
    {
     "data": {
      "text/html": [
       "<div>\n",
       "<style scoped>\n",
       "    .dataframe tbody tr th:only-of-type {\n",
       "        vertical-align: middle;\n",
       "    }\n",
       "\n",
       "    .dataframe tbody tr th {\n",
       "        vertical-align: top;\n",
       "    }\n",
       "\n",
       "    .dataframe thead th {\n",
       "        text-align: right;\n",
       "    }\n",
       "</style>\n",
       "<table border=\"1\" class=\"dataframe\">\n",
       "  <thead>\n",
       "    <tr style=\"text-align: right;\">\n",
       "      <th></th>\n",
       "      <th>Colorado</th>\n",
       "      <th>Texas</th>\n",
       "      <th>New York</th>\n",
       "      <th>Ohio</th>\n",
       "    </tr>\n",
       "  </thead>\n",
       "  <tbody>\n",
       "    <tr>\n",
       "      <th>2000Q1</th>\n",
       "      <td>-0.166971</td>\n",
       "      <td>0.295861</td>\n",
       "      <td>-0.384832</td>\n",
       "      <td>0.060514</td>\n",
       "    </tr>\n",
       "    <tr>\n",
       "      <th>2000Q2</th>\n",
       "      <td>-0.166971</td>\n",
       "      <td>0.295861</td>\n",
       "      <td>-0.384832</td>\n",
       "      <td>0.060514</td>\n",
       "    </tr>\n",
       "    <tr>\n",
       "      <th>2000Q3</th>\n",
       "      <td>-0.166971</td>\n",
       "      <td>0.295861</td>\n",
       "      <td>-0.384832</td>\n",
       "      <td>0.060514</td>\n",
       "    </tr>\n",
       "    <tr>\n",
       "      <th>2000Q4</th>\n",
       "      <td>-0.166971</td>\n",
       "      <td>0.295861</td>\n",
       "      <td>-0.384832</td>\n",
       "      <td>0.060514</td>\n",
       "    </tr>\n",
       "    <tr>\n",
       "      <th>2001Q1</th>\n",
       "      <td>-0.613921</td>\n",
       "      <td>-0.039024</td>\n",
       "      <td>-0.043503</td>\n",
       "      <td>-0.215634</td>\n",
       "    </tr>\n",
       "    <tr>\n",
       "      <th>2001Q2</th>\n",
       "      <td>-0.613921</td>\n",
       "      <td>-0.039024</td>\n",
       "      <td>-0.043503</td>\n",
       "      <td>-0.215634</td>\n",
       "    </tr>\n",
       "    <tr>\n",
       "      <th>2001Q3</th>\n",
       "      <td>-0.613921</td>\n",
       "      <td>-0.039024</td>\n",
       "      <td>-0.043503</td>\n",
       "      <td>-0.215634</td>\n",
       "    </tr>\n",
       "    <tr>\n",
       "      <th>2001Q4</th>\n",
       "      <td>-0.613921</td>\n",
       "      <td>-0.039024</td>\n",
       "      <td>-0.043503</td>\n",
       "      <td>-0.215634</td>\n",
       "    </tr>\n",
       "  </tbody>\n",
       "</table>\n",
       "</div>"
      ],
      "text/plain": [
       "        Colorado     Texas  New York      Ohio\n",
       "2000Q1 -0.166971  0.295861 -0.384832  0.060514\n",
       "2000Q2 -0.166971  0.295861 -0.384832  0.060514\n",
       "2000Q3 -0.166971  0.295861 -0.384832  0.060514\n",
       "2000Q4 -0.166971  0.295861 -0.384832  0.060514\n",
       "2001Q1 -0.613921 -0.039024 -0.043503 -0.215634\n",
       "2001Q2 -0.613921 -0.039024 -0.043503 -0.215634\n",
       "2001Q3 -0.613921 -0.039024 -0.043503 -0.215634\n",
       "2001Q4 -0.613921 -0.039024 -0.043503 -0.215634"
      ]
     },
     "execution_count": 28,
     "metadata": {},
     "output_type": "execute_result"
    }
   ],
   "source": [
    "# Q-DEC: Quarterly, year ending in December\n",
    "\n",
    "annual_frame.resample('Q-DEC').ffill()"
   ]
  },
  {
   "cell_type": "code",
   "execution_count": 29,
   "id": "f39e90d4-c1c5-413c-899f-368ea4c3dae2",
   "metadata": {
    "tags": []
   },
   "outputs": [
    {
     "data": {
      "text/html": [
       "<div>\n",
       "<style scoped>\n",
       "    .dataframe tbody tr th:only-of-type {\n",
       "        vertical-align: middle;\n",
       "    }\n",
       "\n",
       "    .dataframe tbody tr th {\n",
       "        vertical-align: top;\n",
       "    }\n",
       "\n",
       "    .dataframe thead th {\n",
       "        text-align: right;\n",
       "    }\n",
       "</style>\n",
       "<table border=\"1\" class=\"dataframe\">\n",
       "  <thead>\n",
       "    <tr style=\"text-align: right;\">\n",
       "      <th></th>\n",
       "      <th>Colorado</th>\n",
       "      <th>Texas</th>\n",
       "      <th>New York</th>\n",
       "      <th>Ohio</th>\n",
       "    </tr>\n",
       "  </thead>\n",
       "  <tbody>\n",
       "    <tr>\n",
       "      <th>2000Q4</th>\n",
       "      <td>-0.166971</td>\n",
       "      <td>0.295861</td>\n",
       "      <td>-0.384832</td>\n",
       "      <td>0.060514</td>\n",
       "    </tr>\n",
       "    <tr>\n",
       "      <th>2001Q1</th>\n",
       "      <td>-0.166971</td>\n",
       "      <td>0.295861</td>\n",
       "      <td>-0.384832</td>\n",
       "      <td>0.060514</td>\n",
       "    </tr>\n",
       "    <tr>\n",
       "      <th>2001Q2</th>\n",
       "      <td>-0.166971</td>\n",
       "      <td>0.295861</td>\n",
       "      <td>-0.384832</td>\n",
       "      <td>0.060514</td>\n",
       "    </tr>\n",
       "    <tr>\n",
       "      <th>2001Q3</th>\n",
       "      <td>-0.166971</td>\n",
       "      <td>0.295861</td>\n",
       "      <td>-0.384832</td>\n",
       "      <td>0.060514</td>\n",
       "    </tr>\n",
       "    <tr>\n",
       "      <th>2001Q4</th>\n",
       "      <td>-0.613921</td>\n",
       "      <td>-0.039024</td>\n",
       "      <td>-0.043503</td>\n",
       "      <td>-0.215634</td>\n",
       "    </tr>\n",
       "  </tbody>\n",
       "</table>\n",
       "</div>"
      ],
      "text/plain": [
       "        Colorado     Texas  New York      Ohio\n",
       "2000Q4 -0.166971  0.295861 -0.384832  0.060514\n",
       "2001Q1 -0.166971  0.295861 -0.384832  0.060514\n",
       "2001Q2 -0.166971  0.295861 -0.384832  0.060514\n",
       "2001Q3 -0.166971  0.295861 -0.384832  0.060514\n",
       "2001Q4 -0.613921 -0.039024 -0.043503 -0.215634"
      ]
     },
     "execution_count": 29,
     "metadata": {},
     "output_type": "execute_result"
    }
   ],
   "source": [
    "annual_frame.resample('Q-DEC', convention='end').ffill()"
   ]
  },
  {
   "cell_type": "markdown",
   "id": "12353bf3-1f8f-41ed-a9b4-cb2ce27ec07a",
   "metadata": {},
   "source": [
    "由于时期指的是时间区间，所以升采样和降采样的规则就比较严格：\n",
    "\n",
    "- 在降采样中，目标频率必须是源频率的子时期（subperiod）。\n",
    "- 在升采样中，目标频率必须是源频率的超时期（superperiod）。\n",
    "\n",
    "如果不满足这些条件，就会引发异常。这主要影响的是按季、年、周计算的频率。例如，由Q-MAR定义的时间区间只能升采样为A-MAR、A-JUN、A-SEP、A-DEC等："
   ]
  },
  {
   "cell_type": "code",
   "execution_count": 31,
   "id": "6a556da1-f3e6-4de7-ae6a-b456a8be457e",
   "metadata": {
    "tags": []
   },
   "outputs": [
    {
     "data": {
      "text/html": [
       "<div>\n",
       "<style scoped>\n",
       "    .dataframe tbody tr th:only-of-type {\n",
       "        vertical-align: middle;\n",
       "    }\n",
       "\n",
       "    .dataframe tbody tr th {\n",
       "        vertical-align: top;\n",
       "    }\n",
       "\n",
       "    .dataframe thead th {\n",
       "        text-align: right;\n",
       "    }\n",
       "</style>\n",
       "<table border=\"1\" class=\"dataframe\">\n",
       "  <thead>\n",
       "    <tr style=\"text-align: right;\">\n",
       "      <th></th>\n",
       "      <th>Colorado</th>\n",
       "      <th>Texas</th>\n",
       "      <th>New York</th>\n",
       "      <th>Ohio</th>\n",
       "    </tr>\n",
       "  </thead>\n",
       "  <tbody>\n",
       "    <tr>\n",
       "      <th>2000Q4</th>\n",
       "      <td>-0.166971</td>\n",
       "      <td>0.295861</td>\n",
       "      <td>-0.384832</td>\n",
       "      <td>0.060514</td>\n",
       "    </tr>\n",
       "    <tr>\n",
       "      <th>2001Q1</th>\n",
       "      <td>-0.166971</td>\n",
       "      <td>0.295861</td>\n",
       "      <td>-0.384832</td>\n",
       "      <td>0.060514</td>\n",
       "    </tr>\n",
       "    <tr>\n",
       "      <th>2001Q2</th>\n",
       "      <td>-0.166971</td>\n",
       "      <td>0.295861</td>\n",
       "      <td>-0.384832</td>\n",
       "      <td>0.060514</td>\n",
       "    </tr>\n",
       "    <tr>\n",
       "      <th>2001Q3</th>\n",
       "      <td>-0.166971</td>\n",
       "      <td>0.295861</td>\n",
       "      <td>-0.384832</td>\n",
       "      <td>0.060514</td>\n",
       "    </tr>\n",
       "    <tr>\n",
       "      <th>2001Q4</th>\n",
       "      <td>-0.613921</td>\n",
       "      <td>-0.039024</td>\n",
       "      <td>-0.043503</td>\n",
       "      <td>-0.215634</td>\n",
       "    </tr>\n",
       "    <tr>\n",
       "      <th>2002Q1</th>\n",
       "      <td>-0.613921</td>\n",
       "      <td>-0.039024</td>\n",
       "      <td>-0.043503</td>\n",
       "      <td>-0.215634</td>\n",
       "    </tr>\n",
       "    <tr>\n",
       "      <th>2002Q2</th>\n",
       "      <td>-0.613921</td>\n",
       "      <td>-0.039024</td>\n",
       "      <td>-0.043503</td>\n",
       "      <td>-0.215634</td>\n",
       "    </tr>\n",
       "    <tr>\n",
       "      <th>2002Q3</th>\n",
       "      <td>-0.613921</td>\n",
       "      <td>-0.039024</td>\n",
       "      <td>-0.043503</td>\n",
       "      <td>-0.215634</td>\n",
       "    </tr>\n",
       "  </tbody>\n",
       "</table>\n",
       "</div>"
      ],
      "text/plain": [
       "        Colorado     Texas  New York      Ohio\n",
       "2000Q4 -0.166971  0.295861 -0.384832  0.060514\n",
       "2001Q1 -0.166971  0.295861 -0.384832  0.060514\n",
       "2001Q2 -0.166971  0.295861 -0.384832  0.060514\n",
       "2001Q3 -0.166971  0.295861 -0.384832  0.060514\n",
       "2001Q4 -0.613921 -0.039024 -0.043503 -0.215634\n",
       "2002Q1 -0.613921 -0.039024 -0.043503 -0.215634\n",
       "2002Q2 -0.613921 -0.039024 -0.043503 -0.215634\n",
       "2002Q3 -0.613921 -0.039024 -0.043503 -0.215634"
      ]
     },
     "execution_count": 31,
     "metadata": {},
     "output_type": "execute_result"
    }
   ],
   "source": [
    "annual_frame.resample('Q-MAR').ffill()"
   ]
  },
  {
   "cell_type": "code",
   "execution_count": null,
   "id": "81e12bde-c4b1-4c83-a800-13aa7cb779fe",
   "metadata": {},
   "outputs": [],
   "source": []
  }
 ],
 "metadata": {
  "kernelspec": {
   "display_name": "Python 3 (ipykernel)",
   "language": "python",
   "name": "python3"
  },
  "language_info": {
   "codemirror_mode": {
    "name": "ipython",
    "version": 3
   },
   "file_extension": ".py",
   "mimetype": "text/x-python",
   "name": "python",
   "nbconvert_exporter": "python",
   "pygments_lexer": "ipython3",
   "version": "3.8.10"
  }
 },
 "nbformat": 4,
 "nbformat_minor": 5
}
