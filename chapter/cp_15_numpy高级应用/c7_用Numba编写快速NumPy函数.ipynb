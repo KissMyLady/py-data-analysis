{
 "cells": [
  {
   "cell_type": "markdown",
   "id": "5d513e82-e347-48a7-93a6-5a7bc9f02ae6",
   "metadata": {},
   "source": [
    "#A.7 用Numba编写快速NumPy函数\n",
    "\n",
    "Numba是一个开源项目，它可以利用CPUs、GPUs或其它硬件为类似NumPy的数据创建快速函数。它使用了LLVM项目（http://llvm.org/），将Python代码转换为机器代码。\n",
    "\n",
    "为了介绍Numba，来考虑一个纯粹的Python函数，它使用for循环计算表达式(x - y).mean()："
   ]
  },
  {
   "cell_type": "code",
   "execution_count": 1,
   "id": "1a0b2e1e-948c-41b4-ac39-d9cfc35f251a",
   "metadata": {
    "tags": []
   },
   "outputs": [],
   "source": [
    "import numpy as np"
   ]
  },
  {
   "cell_type": "code",
   "execution_count": 2,
   "id": "4c26869f-f741-4ad3-9cb9-64e8278ebefe",
   "metadata": {
    "tags": []
   },
   "outputs": [],
   "source": [
    "\n",
    "def mean_distance(x, y):\n",
    "    nx = len(x)\n",
    "    result = 0.0\n",
    "    count = 0\n",
    "\n",
    "    for i in range(nx):\n",
    "        result += x[i] - y[i]\n",
    "        count += 1\n",
    "\n",
    "    return result / count"
   ]
  },
  {
   "cell_type": "markdown",
   "id": "098b9f4e-273d-4e7e-93d0-847253dba95f",
   "metadata": {},
   "source": [
    "这个函数很慢："
   ]
  },
  {
   "cell_type": "code",
   "execution_count": 7,
   "id": "63ab545a-c6b2-4062-886c-cbbf5d022689",
   "metadata": {
    "tags": []
   },
   "outputs": [],
   "source": [
    "x = np.random.randn(10000000)\n",
    "y = np.random.randn(10000000)"
   ]
  },
  {
   "cell_type": "code",
   "execution_count": 4,
   "id": "5d94fa40-ab3c-496f-8ce2-bf670e79e19c",
   "metadata": {
    "tags": []
   },
   "outputs": [
    {
     "name": "stdout",
     "output_type": "stream",
     "text": [
      "1.19 s ± 31.3 ms per loop (mean ± std. dev. of 7 runs, 1 loop each)\n"
     ]
    }
   ],
   "source": [
    "%timeit mean_distance(x, y)"
   ]
  },
  {
   "cell_type": "code",
   "execution_count": 5,
   "id": "f3796428-da6c-4e3e-9d03-cf10bbeffadd",
   "metadata": {
    "tags": []
   },
   "outputs": [
    {
     "name": "stdout",
     "output_type": "stream",
     "text": [
      "17.2 ms ± 12.5 µs per loop (mean ± std. dev. of 7 runs, 100 loops each)\n"
     ]
    }
   ],
   "source": [
    "%timeit (x - y).mean()"
   ]
  },
  {
   "cell_type": "markdown",
   "id": "3735a0a6-8757-4539-96a1-6e9a8894430e",
   "metadata": {},
   "source": [
    "NumPy的版本要比它快过100倍。我们可以转换这个函数为编译的Numba函数，使用numba.jit函数："
   ]
  },
  {
   "cell_type": "code",
   "execution_count": 3,
   "id": "00bb9ac0-11ca-4585-b3a5-bc270ed9dc18",
   "metadata": {
    "tags": []
   },
   "outputs": [],
   "source": [
    "import numba as nb"
   ]
  },
  {
   "cell_type": "code",
   "execution_count": 4,
   "id": "a48ac584-8fa6-4644-a945-280c335a3f9d",
   "metadata": {},
   "outputs": [],
   "source": [
    "numba_mean_distance = nb.jit(mean_distance)"
   ]
  },
  {
   "cell_type": "markdown",
   "id": "96fad85d-966a-4c42-8062-a7c10a4c495b",
   "metadata": {},
   "source": [
    "也可以写成装饰器："
   ]
  },
  {
   "cell_type": "code",
   "execution_count": 5,
   "id": "fb6593ef-e011-4ce7-8727-d0843de97edf",
   "metadata": {
    "tags": []
   },
   "outputs": [],
   "source": [
    "@nb.jit\n",
    "def mean_distance(x, y):\n",
    "    nx = len(x)\n",
    "    result = 0.0\n",
    "    count = 0\n",
    "    for i in range(nx):\n",
    "        result += x[i] - y[i]\n",
    "        count += 1\n",
    "    return result / count"
   ]
  },
  {
   "cell_type": "markdown",
   "id": "da726faf-743e-47d1-b56e-cd259e8c48f1",
   "metadata": {},
   "source": [
    "它要比矢量化的NumPy快："
   ]
  },
  {
   "cell_type": "code",
   "execution_count": 9,
   "id": "f9f9fe37-dd06-46f2-bae7-2eca4b663c28",
   "metadata": {
    "tags": []
   },
   "outputs": [
    {
     "name": "stdout",
     "output_type": "stream",
     "text": [
      "6 ms ± 35.4 µs per loop (mean ± std. dev. of 7 runs, 100 loops each)\n"
     ]
    }
   ],
   "source": [
    "%timeit numba_mean_distance(x, y)"
   ]
  },
  {
   "cell_type": "markdown",
   "id": "de078df8-7fe3-4aee-a7cb-60dd4ff5b339",
   "metadata": {},
   "source": [
    "Numba不能编译Python代码，但它支持纯Python写的一个部分，可以编写数值算法。\n",
    "\n",
    "Numba是一个深厚的库，支持多种硬件、编译模式和用户插件。它还可以编译NumPy Python API的一部分，而不用for循环。Numba也可以识别可以便以为机器编码的结构体，但是若调用CPython API，它就不知道如何编译。Numba的jit函数有一个选项，nopython=True，它限制了可以被转换为Python代码的代码，这些代码可以编译为LLVM，但没有任何Python C API调用。jit(nopython=True)有一个简短的别名numba.njit。\n",
    "\n",
    "前面的例子，我们还可以这样写："
   ]
  },
  {
   "cell_type": "code",
   "execution_count": 10,
   "id": "623d27c4-9bda-4abc-9071-4d85251c2888",
   "metadata": {
    "tags": []
   },
   "outputs": [],
   "source": [
    "from numba import float64, njit\n",
    "\n",
    "\n",
    "@njit(float64(float64[:], float64[:]))\n",
    "def mean_distance(x, y):\n",
    "    return (x - y).mean()"
   ]
  },
  {
   "cell_type": "markdown",
   "id": "33a24ea6-4ddf-44ff-b72d-11d95ae012fd",
   "metadata": {},
   "source": [
    "我建议你学习Numba的线上文档（http://numba.pydata.org/）。下一节介绍一个创建自定义Numpy ufunc对象的例子。\n",
    "\n",
    "## 用Numba创建自定义numpy.ufunc对象\n",
    "\n",
    "numba.vectorize创建了一个编译的NumPy ufunc，它与内置的ufunc很像。考虑一个numpy.add的Python例子："
   ]
  },
  {
   "cell_type": "code",
   "execution_count": 12,
   "id": "f40af7a4-9e5a-456f-b854-536cf1bba7b9",
   "metadata": {
    "tags": []
   },
   "outputs": [],
   "source": [
    "from numba import vectorize\n",
    "\n",
    "\n",
    "@vectorize\n",
    "def nb_add(x, y):\n",
    "    return x + y"
   ]
  },
  {
   "cell_type": "markdown",
   "id": "8eb0608b-3601-4d91-a4c0-f6a3cdcf61df",
   "metadata": {},
   "source": [
    "现在有："
   ]
  },
  {
   "cell_type": "code",
   "execution_count": 14,
   "id": "2ce8952e-93cd-4155-9ce0-78053da31fea",
   "metadata": {
    "tags": []
   },
   "outputs": [
    {
     "data": {
      "text/plain": [
       "array([ 0,  2,  4,  6,  8, 10, 12, 14, 16, 18])"
      ]
     },
     "execution_count": 14,
     "metadata": {},
     "output_type": "execute_result"
    }
   ],
   "source": [
    "x = np.arange(10)\n",
    "\n",
    "nb_add(x, x)"
   ]
  },
  {
   "cell_type": "code",
   "execution_count": 15,
   "id": "bd13b6f8-f234-4bca-9eda-0b320add110e",
   "metadata": {
    "tags": []
   },
   "outputs": [
    {
     "data": {
      "text/plain": [
       "array([ 0,  1,  3,  6, 10, 15, 21, 28, 36, 45])"
      ]
     },
     "execution_count": 15,
     "metadata": {},
     "output_type": "execute_result"
    }
   ],
   "source": [
    "nb_add.accumulate(x, 0)"
   ]
  },
  {
   "cell_type": "code",
   "execution_count": null,
   "id": "55cbffeb-470c-4c54-aa62-d2cd39318b0d",
   "metadata": {},
   "outputs": [],
   "source": []
  }
 ],
 "metadata": {
  "kernelspec": {
   "display_name": "Python 3 (ipykernel)",
   "language": "python",
   "name": "python3"
  },
  "language_info": {
   "codemirror_mode": {
    "name": "ipython",
    "version": 3
   },
   "file_extension": ".py",
   "mimetype": "text/x-python",
   "name": "python",
   "nbconvert_exporter": "python",
   "pygments_lexer": "ipython3",
   "version": "3.8.10"
  }
 },
 "nbformat": 4,
 "nbformat_minor": 5
}
