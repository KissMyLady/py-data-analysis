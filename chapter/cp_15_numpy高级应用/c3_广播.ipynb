{
 "cells": [
  {
   "cell_type": "markdown",
   "id": "3d358602-3f44-4691-95ec-238f829c145b",
   "metadata": {},
   "source": [
    "# A.3 广播\n",
    "\n",
    "广播（broadcasting）指的是不同形状的数组之间的算术运算的执行方式。它是一种非常强大的功能，但也容易令人误解，即使是经验丰富的老手也是如此。将标量值跟数组合并时就会发生最简单的广播："
   ]
  },
  {
   "cell_type": "code",
   "execution_count": 1,
   "id": "3642d6ad-8be1-4b10-90b9-122ab73546b2",
   "metadata": {
    "tags": []
   },
   "outputs": [],
   "source": [
    "import numpy as np"
   ]
  },
  {
   "cell_type": "code",
   "execution_count": 4,
   "id": "06af65d9-e2ba-4710-ba7e-b7c7e7fe4d68",
   "metadata": {
    "tags": []
   },
   "outputs": [
    {
     "data": {
      "text/plain": [
       "array([0, 1, 2, 3, 4])"
      ]
     },
     "execution_count": 4,
     "metadata": {},
     "output_type": "execute_result"
    }
   ],
   "source": [
    "arr = np.arange(5)\n",
    "\n",
    "arr"
   ]
  },
  {
   "cell_type": "code",
   "execution_count": 5,
   "id": "d33980cc-2452-4395-b955-97923a6d6cbe",
   "metadata": {
    "tags": []
   },
   "outputs": [
    {
     "data": {
      "text/plain": [
       "array([ 0,  4,  8, 12, 16])"
      ]
     },
     "execution_count": 5,
     "metadata": {},
     "output_type": "execute_result"
    }
   ],
   "source": [
    "arr * 4"
   ]
  },
  {
   "cell_type": "markdown",
   "id": "5b5d1ecf-ac08-4aa0-8f3f-de0c26934f37",
   "metadata": {},
   "source": [
    "这里我们说：在这个乘法运算中，标量值4被广播到了其他所有的元素上。\n",
    "\n",
    "看一个例子，我们可以通过减去列平均值的方式对数组的每一列进行距平化处理。这个问题解决起来非常简单："
   ]
  },
  {
   "cell_type": "code",
   "execution_count": 16,
   "id": "34d8f02d-7c06-4577-bf71-e3559d198f9a",
   "metadata": {
    "tags": []
   },
   "outputs": [
    {
     "data": {
      "text/plain": [
       "array([[ 1.46367305e+00,  5.49854060e-01,  1.41297481e+00],\n",
       "       [ 1.15477989e+00, -8.49189952e-01, -1.95989985e+00],\n",
       "       [-1.58178574e+00, -7.07576930e-01, -1.89393709e+00],\n",
       "       [ 9.76919327e-01,  4.48428159e-01,  9.93296455e-04]])"
      ]
     },
     "execution_count": 16,
     "metadata": {},
     "output_type": "execute_result"
    }
   ],
   "source": [
    "arr = np.random.randn(4, 3)\n",
    "\n",
    "arr"
   ]
  },
  {
   "cell_type": "code",
   "execution_count": 17,
   "id": "78b3d771-926d-444f-bdcc-cdc83b47d0f8",
   "metadata": {
    "tags": []
   },
   "outputs": [
    {
     "data": {
      "text/plain": [
       "-0.08206391390045777"
      ]
     },
     "execution_count": 17,
     "metadata": {},
     "output_type": "execute_result"
    }
   ],
   "source": [
    "arr.mean()"
   ]
  },
  {
   "cell_type": "code",
   "execution_count": 22,
   "id": "f6b27842-e233-4b2c-b5d7-b40b7f608ea5",
   "metadata": {
    "tags": []
   },
   "outputs": [
    {
     "data": {
      "text/plain": [
       "array([[ 0.96027642,  0.68947523,  2.02294202],\n",
       "       [ 0.65138326, -0.70956879, -1.34993264],\n",
       "       [-2.08518237, -0.56795576, -1.28396988],\n",
       "       [ 0.4735227 ,  0.58804932,  0.6109605 ]])"
      ]
     },
     "execution_count": 22,
     "metadata": {},
     "output_type": "execute_result"
    }
   ],
   "source": [
    "arr.mean(0)\n",
    "\n",
    "demeaned = arr - arr.mean(0)\n",
    "\n",
    "demeaned"
   ]
  },
  {
   "cell_type": "code",
   "execution_count": 23,
   "id": "431e2262-c48e-4337-8351-4d13c10dc4c3",
   "metadata": {
    "tags": []
   },
   "outputs": [
    {
     "data": {
      "text/plain": [
       "array([ 0.00000000e+00,  2.77555756e-17, -5.55111512e-17])"
      ]
     },
     "execution_count": 23,
     "metadata": {},
     "output_type": "execute_result"
    }
   ],
   "source": [
    "demeaned.mean(0)"
   ]
  },
  {
   "cell_type": "markdown",
   "id": "85b6e0d8-9da7-4f71-be29-019060ea8283",
   "metadata": {},
   "source": [
    "图A-4形象地展示了该过程。用广播的方式对行进行距平化处理会稍微麻烦一些。幸运的是，只要遵循一定的规则，低维度的值是可以被广播到数组的任意维度的（比如对二维数组各列减去行平均值）。"
   ]
  },
  {
   "cell_type": "markdown",
   "id": "70a867f3-cf3d-4e6c-b5d5-55204a54a980",
   "metadata": {},
   "source": [
    "于是就得到了："
   ]
  },
  {
   "cell_type": "markdown",
   "id": "4f2f4128-650d-4cf5-aac3-21cf74cd1917",
   "metadata": {},
   "source": [
    "虽然我是一名经验丰富的NumPy老手，但经常还是得停下来画张图并想想广播的原则。再来看一下最后那个例子，假设你希望对各行减去那个平均值。由于arr.mean(0)的长度为3，所以它可以在0轴向上进行广播：因为arr的后缘维度是3，所以它们是兼容的。根据该原则，要在1轴向上做减法（即各行减去行平均值），较小的那个数组的形状必须是(4,1)："
   ]
  },
  {
   "cell_type": "code",
   "execution_count": 24,
   "id": "915be3fc-00fa-4bfa-aa17-bfaa175c6aa6",
   "metadata": {
    "tags": []
   },
   "outputs": [
    {
     "data": {
      "text/plain": [
       "array([[ 1.46367305e+00,  5.49854060e-01,  1.41297481e+00],\n",
       "       [ 1.15477989e+00, -8.49189952e-01, -1.95989985e+00],\n",
       "       [-1.58178574e+00, -7.07576930e-01, -1.89393709e+00],\n",
       "       [ 9.76919327e-01,  4.48428159e-01,  9.93296455e-04]])"
      ]
     },
     "execution_count": 24,
     "metadata": {},
     "output_type": "execute_result"
    }
   ],
   "source": [
    "arr"
   ]
  },
  {
   "cell_type": "code",
   "execution_count": 27,
   "id": "c580bca5-5db3-4aed-866f-bd78d55e34bc",
   "metadata": {
    "tags": []
   },
   "outputs": [
    {
     "data": {
      "text/plain": [
       "(4,)"
      ]
     },
     "execution_count": 27,
     "metadata": {},
     "output_type": "execute_result"
    }
   ],
   "source": [
    "row_means = arr.mean(1)\n",
    "\n",
    "\n",
    "row_means.shape"
   ]
  },
  {
   "cell_type": "code",
   "execution_count": 28,
   "id": "24b8d852-3c0f-4ef6-8213-eaab0273690d",
   "metadata": {
    "tags": []
   },
   "outputs": [
    {
     "data": {
      "text/plain": [
       "array([[ 1.14216731],\n",
       "       [-0.55143664],\n",
       "       [-1.39443325],\n",
       "       [ 0.47544693]])"
      ]
     },
     "execution_count": 28,
     "metadata": {},
     "output_type": "execute_result"
    }
   ],
   "source": [
    "row_means.reshape((4, 1))"
   ]
  },
  {
   "cell_type": "code",
   "execution_count": 30,
   "id": "ff04c6e8-f81c-4ecb-8aef-ba5ebc38c030",
   "metadata": {
    "tags": []
   },
   "outputs": [
    {
     "data": {
      "text/plain": [
       "array([ 1.11022302e-16,  7.40148683e-17, -7.40148683e-17, -3.70074342e-17])"
      ]
     },
     "execution_count": 30,
     "metadata": {},
     "output_type": "execute_result"
    }
   ],
   "source": [
    "demeaned = arr - row_means.reshape((4, 1))\n",
    "\n",
    "demeaned.mean(1)"
   ]
  },
  {
   "cell_type": "markdown",
   "id": "b568e64f-b514-4983-9493-a48726b1b400",
   "metadata": {},
   "source": [
    "图A-5说明了该运算的过程。\n",
    "\n",
    "二维数组在轴1上的广播"
   ]
  },
  {
   "cell_type": "markdown",
   "id": "5da860c1-be07-4571-b576-f49eda10a30c",
   "metadata": {},
   "source": [
    "图A-6展示了另外一种情况，这次是在一个三维数组上沿0轴向加上一个二维数组。\n",
    "\n",
    "三维数组在轴0上的广播"
   ]
  },
  {
   "cell_type": "markdown",
   "id": "152db39d-95b7-483b-ab2f-362ba017f147",
   "metadata": {},
   "source": [
    "## 沿其它轴向广播\n",
    "\n",
    "高维度数组的广播似乎更难以理解，而实际上它也是遵循广播原则的。如果不然，你就会得到下面这样一个错误："
   ]
  },
  {
   "cell_type": "code",
   "execution_count": 31,
   "id": "1650f1ea-a729-4228-9d4b-3202377d2506",
   "metadata": {
    "tags": []
   },
   "outputs": [
    {
     "ename": "ValueError",
     "evalue": "operands could not be broadcast together with shapes (4,3) (4,) ",
     "output_type": "error",
     "traceback": [
      "\u001b[0;31m---------------------------------------------------------------------------\u001b[0m",
      "\u001b[0;31mValueError\u001b[0m                                Traceback (most recent call last)",
      "Cell \u001b[0;32mIn[31], line 1\u001b[0m\n\u001b[0;32m----> 1\u001b[0m \u001b[43marr\u001b[49m\u001b[43m \u001b[49m\u001b[38;5;241;43m-\u001b[39;49m\u001b[43m \u001b[49m\u001b[43marr\u001b[49m\u001b[38;5;241;43m.\u001b[39;49m\u001b[43mmean\u001b[49m\u001b[43m(\u001b[49m\u001b[38;5;241;43m1\u001b[39;49m\u001b[43m)\u001b[49m\n",
      "\u001b[0;31mValueError\u001b[0m: operands could not be broadcast together with shapes (4,3) (4,) "
     ]
    }
   ],
   "source": [
    "arr - arr.mean(1)"
   ]
  },
  {
   "cell_type": "markdown",
   "id": "0f65ff6d-ff65-4e80-9571-f6e4c7f21ac3",
   "metadata": {},
   "source": [
    "人们经常需要通过算术运算过程将较低维度的数组在除0轴以外的其他轴向上广播。根据广播的原则，较小数组的“广播维”必须为1。在上面那个行距平化的例子中，这就意味着要将行平均值的形状变成(4,1)而不是(4,)："
   ]
  },
  {
   "cell_type": "code",
   "execution_count": 32,
   "id": "45408147-93f8-4f76-9f8d-30972a8c95f7",
   "metadata": {
    "tags": []
   },
   "outputs": [
    {
     "data": {
      "text/plain": [
       "array([[ 0.32150574, -0.59231325,  0.2708075 ],\n",
       "       [ 1.70621653, -0.29775332, -1.40846321],\n",
       "       [-0.18735249,  0.68685632, -0.49950383],\n",
       "       [ 0.5014724 , -0.02701877, -0.47445363]])"
      ]
     },
     "execution_count": 32,
     "metadata": {},
     "output_type": "execute_result"
    }
   ],
   "source": [
    "arr - arr.mean(1).reshape((4, 1))"
   ]
  },
  {
   "cell_type": "markdown",
   "id": "6c4b1268-473c-40ef-97b9-bbcdf2a4c24c",
   "metadata": {},
   "source": [
    "对于三维的情况，在三维中的任何一维上广播其实也就是将数据重塑为兼容的形状而已。图A-7说明了要在三维数组各维度上广播的形状需求。"
   ]
  },
  {
   "cell_type": "markdown",
   "id": "1d66c0b0-b6de-47e1-914a-8271ea3dfe35",
   "metadata": {},
   "source": [
    "能在该三维数组上广播的二维数组的形状"
   ]
  },
  {
   "cell_type": "markdown",
   "id": "f6c98d87-67d3-462d-a40e-f20e42521cad",
   "metadata": {},
   "source": [
    "于是就有了一个非常普遍的问题（尤其是在通用算法中），即专门为了广播而添加一个长度为1的新轴。虽然reshape是一个办法，但插入轴需要构造一个表示新形状的元组。这是一个很郁闷的过程。因此，NumPy数组提供了一种通过索引机制插入轴的特殊语法。下面这段代码通过特殊的np.newaxis属性以及“全”切片来插入新轴："
   ]
  },
  {
   "cell_type": "code",
   "execution_count": 34,
   "id": "bdf8329f-3370-4198-9dd8-917bf76b9afe",
   "metadata": {
    "tags": []
   },
   "outputs": [
    {
     "data": {
      "text/plain": [
       "(4, 1, 4)"
      ]
     },
     "execution_count": 34,
     "metadata": {},
     "output_type": "execute_result"
    }
   ],
   "source": [
    "arr = np.zeros((4, 4))\n",
    "\n",
    "\n",
    "arr_3d = arr[:, np.newaxis, :]\n",
    "\n",
    "\n",
    "arr_3d.shape"
   ]
  },
  {
   "cell_type": "code",
   "execution_count": 36,
   "id": "259aa8d1-9801-4cff-8b59-723e8e985627",
   "metadata": {
    "tags": []
   },
   "outputs": [
    {
     "data": {
      "text/plain": [
       "array([[ 0.70350853],\n",
       "       [-0.61439544],\n",
       "       [ 0.98136066]])"
      ]
     },
     "execution_count": 36,
     "metadata": {},
     "output_type": "execute_result"
    }
   ],
   "source": [
    "arr_1d = np.random.normal(size=3)\n",
    "\n",
    "arr_1d[:, np.newaxis]"
   ]
  },
  {
   "cell_type": "code",
   "execution_count": 37,
   "id": "faf1500a-279d-43c6-88d7-a40cb231bdde",
   "metadata": {
    "tags": []
   },
   "outputs": [
    {
     "data": {
      "text/plain": [
       "array([[ 0.70350853, -0.61439544,  0.98136066]])"
      ]
     },
     "execution_count": 37,
     "metadata": {},
     "output_type": "execute_result"
    }
   ],
   "source": [
    "arr_1d[np.newaxis, :]"
   ]
  },
  {
   "cell_type": "markdown",
   "id": "d967509e-aa20-427f-9fb4-5286c79e2b1e",
   "metadata": {},
   "source": [
    "因此，如果我们有一个三维数组，并希望对轴2进行距平化，那么只需要编写下面这样的代码就可以了："
   ]
  },
  {
   "cell_type": "code",
   "execution_count": 39,
   "id": "535c1885-be7c-4b0b-a4b6-79b605091975",
   "metadata": {
    "tags": []
   },
   "outputs": [
    {
     "data": {
      "text/plain": [
       "array([[ 0.0122237 ,  0.49249001, -0.01649733,  1.52224706],\n",
       "       [ 0.74515135,  0.1556852 ,  0.25522562, -0.13554703],\n",
       "       [ 0.44620237,  0.846375  , -0.21527686,  0.42231453]])"
      ]
     },
     "execution_count": 39,
     "metadata": {},
     "output_type": "execute_result"
    }
   ],
   "source": [
    "arr = np.random.randn(3, 4, 5)\n",
    "\n",
    "depth_means = arr.mean(2)\n",
    "\n",
    "depth_means"
   ]
  },
  {
   "cell_type": "code",
   "execution_count": 40,
   "id": "9053b55b-118e-4c1a-bdb0-c5668f66f908",
   "metadata": {
    "tags": []
   },
   "outputs": [
    {
     "data": {
      "text/plain": [
       "(3, 4)"
      ]
     },
     "execution_count": 40,
     "metadata": {},
     "output_type": "execute_result"
    }
   ],
   "source": [
    "depth_means.shape"
   ]
  },
  {
   "cell_type": "code",
   "execution_count": 41,
   "id": "7729f8be-f16f-4cf0-80d9-ac839af1d4b5",
   "metadata": {
    "tags": []
   },
   "outputs": [
    {
     "data": {
      "text/plain": [
       "array([[-2.35922393e-17,  0.00000000e+00,  4.44089210e-17,\n",
       "        -1.33226763e-16],\n",
       "       [ 8.88178420e-17,  4.44089210e-17,  0.00000000e+00,\n",
       "         2.22044605e-17],\n",
       "       [ 0.00000000e+00,  0.00000000e+00, -2.22044605e-17,\n",
       "        -8.88178420e-17]])"
      ]
     },
     "execution_count": 41,
     "metadata": {},
     "output_type": "execute_result"
    }
   ],
   "source": [
    "demeaned = arr - depth_means[:, :, np.newaxis]\n",
    "\n",
    "demeaned.mean(2)"
   ]
  },
  {
   "cell_type": "markdown",
   "id": "efc3bc3c-2ebc-45a7-b8db-3576020af59c",
   "metadata": {},
   "source": [
    "有些读者可能会想，在对指定轴进行距平化时，有没有一种既通用又不牺牲性能的方法呢？实际上是有的，但需要一些索引方面的技巧："
   ]
  },
  {
   "cell_type": "code",
   "execution_count": 42,
   "id": "a32e994e-c849-458a-8d55-4bd9a471cf5f",
   "metadata": {
    "tags": []
   },
   "outputs": [],
   "source": [
    "def demean_axis(arr, axis=0):\n",
    "    means = arr.mean(axis)\n",
    "\n",
    "    # This generalizes things like [:, :, np.newaxis] to N dimensions\n",
    "    indexer = [slice(None)] * arr.ndim\n",
    "    indexer[axis] = np.newaxis\n",
    "    return arr - means[indexer]"
   ]
  },
  {
   "cell_type": "markdown",
   "id": "02092c68-a894-4159-a6a9-c8f227eebb5f",
   "metadata": {},
   "source": [
    "## 通过广播设置数组的值\n",
    "\n",
    "算术运算所遵循的广播原则同样也适用于通过索引机制设置数组值的操作。对于最简单的情况，我们可以这样做："
   ]
  },
  {
   "cell_type": "code",
   "execution_count": 43,
   "id": "101120e8-2e89-47b8-a4f9-67c5a88ca716",
   "metadata": {
    "tags": []
   },
   "outputs": [
    {
     "data": {
      "text/plain": [
       "array([[5., 5., 5.],\n",
       "       [5., 5., 5.],\n",
       "       [5., 5., 5.],\n",
       "       [5., 5., 5.]])"
      ]
     },
     "execution_count": 43,
     "metadata": {},
     "output_type": "execute_result"
    }
   ],
   "source": [
    "arr = np.zeros((4, 3))\n",
    "\n",
    "\n",
    "arr[:] = 5\n",
    "\n",
    "\n",
    "arr"
   ]
  },
  {
   "cell_type": "markdown",
   "id": "3f15429a-9fe2-4098-8b8a-451fe520e79e",
   "metadata": {},
   "source": [
    "但是，假设我们想要用一个一维数组来设置目标数组的各列，只要保证形状兼容就可以了："
   ]
  },
  {
   "cell_type": "code",
   "execution_count": 44,
   "id": "f746bd25-80fb-4235-9ae2-5d31a2ed6eba",
   "metadata": {
    "tags": []
   },
   "outputs": [
    {
     "data": {
      "text/plain": [
       "array([[ 1.28,  1.28,  1.28],\n",
       "       [-0.42, -0.42, -0.42],\n",
       "       [ 0.44,  0.44,  0.44],\n",
       "       [ 1.6 ,  1.6 ,  1.6 ]])"
      ]
     },
     "execution_count": 44,
     "metadata": {},
     "output_type": "execute_result"
    }
   ],
   "source": [
    "col = np.array([1.28, -0.42, 0.44, 1.6])\n",
    "\n",
    "\n",
    "arr[:] = col[:, np.newaxis]\n",
    "\n",
    "\n",
    "arr"
   ]
  },
  {
   "cell_type": "code",
   "execution_count": 45,
   "id": "3e8bcba4-16c4-4ec8-ad49-6e16ae02e401",
   "metadata": {
    "tags": []
   },
   "outputs": [
    {
     "data": {
      "text/plain": [
       "array([[-1.37 , -1.37 , -1.37 ],\n",
       "       [ 0.509,  0.509,  0.509],\n",
       "       [ 0.44 ,  0.44 ,  0.44 ],\n",
       "       [ 1.6  ,  1.6  ,  1.6  ]])"
      ]
     },
     "execution_count": 45,
     "metadata": {},
     "output_type": "execute_result"
    }
   ],
   "source": [
    "arr[:2] = [[-1.37], [0.509]]\n",
    "\n",
    "arr"
   ]
  },
  {
   "cell_type": "code",
   "execution_count": null,
   "id": "c34c7237-8522-4f9c-b657-19089cd5e5ff",
   "metadata": {},
   "outputs": [],
   "source": []
  }
 ],
 "metadata": {
  "kernelspec": {
   "display_name": "Python 3 (ipykernel)",
   "language": "python",
   "name": "python3"
  },
  "language_info": {
   "codemirror_mode": {
    "name": "ipython",
    "version": 3
   },
   "file_extension": ".py",
   "mimetype": "text/x-python",
   "name": "python",
   "nbconvert_exporter": "python",
   "pygments_lexer": "ipython3",
   "version": "3.8.10"
  }
 },
 "nbformat": 4,
 "nbformat_minor": 5
}
