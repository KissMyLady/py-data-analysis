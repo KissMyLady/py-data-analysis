{
 "cells": [
  {
   "cell_type": "markdown",
   "id": "3820b8c1-92e0-473c-b2fc-66aa559757c0",
   "metadata": {},
   "source": [
    "# A.4 ufunc高级应用\n",
    "\n",
    "虽然许多NumPy用户只会用到通用函数所提供的快速的元素级运算，但通用函数实际上还有一些高级用法能使我们丢开循环而编写出更为简洁的代码。\n",
    "\n",
    "## ufunc实例方法\n",
    "\n",
    "NumPy的各个二元ufunc都有一些用于执行特定矢量化运算的特殊方法。表A-2汇总了这些方法，下面我将通过几个具体的例子对它们进行说明。\n",
    "\n",
    "reduce接受一个数组参数，并通过一系列的二元运算对其值进行聚合（可指明轴向）。例如，我们可以用np.add.reduce对数组中各个元素进行求和："
   ]
  },
  {
   "cell_type": "code",
   "execution_count": 1,
   "id": "b6dbbac7-ff17-47fe-8be8-3ab9dd475a84",
   "metadata": {
    "tags": []
   },
   "outputs": [],
   "source": [
    "import numpy as np"
   ]
  },
  {
   "cell_type": "code",
   "execution_count": 2,
   "id": "10858464-6c1e-4594-91f7-b6c0e1cfdd13",
   "metadata": {
    "tags": []
   },
   "outputs": [
    {
     "data": {
      "text/plain": [
       "45"
      ]
     },
     "execution_count": 2,
     "metadata": {},
     "output_type": "execute_result"
    }
   ],
   "source": [
    "arr = np.arange(10)\n",
    "\n",
    "\n",
    "np.add.reduce(arr)\n",
    "\n",
    "\n",
    "arr.sum()"
   ]
  },
  {
   "cell_type": "markdown",
   "id": "b760b2b6-721a-4640-ae1b-a7321f8953b0",
   "metadata": {},
   "source": [
    "起始值取决于ufunc（对于add的情况，就是0）。如果设置了轴号，约简运算就会沿该轴向执行。这就使你能用一种比较简洁的方式得到某些问题的答案。在下面这个例子中，我们用np.logical_and检查数组各行中的值是否是有序的："
   ]
  },
  {
   "cell_type": "code",
   "execution_count": 3,
   "id": "ab200d52-58e0-4308-acea-b2100b8a1b2e",
   "metadata": {
    "tags": []
   },
   "outputs": [
    {
     "data": {
      "text/plain": [
       "array([[ True,  True,  True,  True],\n",
       "       [False,  True, False, False],\n",
       "       [ True,  True,  True,  True],\n",
       "       [ True, False,  True,  True],\n",
       "       [ True,  True,  True,  True]])"
      ]
     },
     "execution_count": 3,
     "metadata": {},
     "output_type": "execute_result"
    }
   ],
   "source": [
    "np.random.seed(12346)  # for reproducibility\n",
    "\n",
    "\n",
    "arr = np.random.randn(5, 5)\n",
    "\n",
    "\n",
    "arr[::2].sort(1) # sort a few rows\n",
    "\n",
    "\n",
    "arr[:, :-1] < arr[:, 1:]"
   ]
  },
  {
   "cell_type": "code",
   "execution_count": 4,
   "id": "9375ea62-7ce9-4688-8d21-33812c26dc7c",
   "metadata": {
    "tags": []
   },
   "outputs": [
    {
     "data": {
      "text/plain": [
       "array([ True, False,  True, False,  True])"
      ]
     },
     "execution_count": 4,
     "metadata": {},
     "output_type": "execute_result"
    }
   ],
   "source": [
    "np.logical_and.reduce(arr[:, :-1] < arr[:, 1:], axis=1)"
   ]
  },
  {
   "cell_type": "markdown",
   "id": "f2d7b91b-7d2f-4d9d-b6dd-292445946e84",
   "metadata": {},
   "source": [
    "注意，logical_and.reduce跟all方法是等价的。\n",
    "\n",
    "ccumulate跟reduce的关系就像cumsum跟sum的关系那样。它产生一个跟原数组大小相同的中间“累计”值数组："
   ]
  },
  {
   "cell_type": "code",
   "execution_count": 5,
   "id": "3fd105a0-663d-4ace-9a4c-f2694ccbe688",
   "metadata": {
    "tags": []
   },
   "outputs": [
    {
     "data": {
      "text/plain": [
       "array([[ 0,  1,  3,  6, 10],\n",
       "       [ 5, 11, 18, 26, 35],\n",
       "       [10, 21, 33, 46, 60]])"
      ]
     },
     "execution_count": 5,
     "metadata": {},
     "output_type": "execute_result"
    }
   ],
   "source": [
    "arr = np.arange(15).reshape((3, 5))\n",
    "\n",
    "np.add.accumulate(arr, axis=1)"
   ]
  },
  {
   "cell_type": "markdown",
   "id": "c32350de-c89f-4855-b53c-ca0e209e83c2",
   "metadata": {},
   "source": [
    "outer用于计算两个数组的叉积："
   ]
  },
  {
   "cell_type": "code",
   "execution_count": 6,
   "id": "1a7d4131-3d84-4ec9-b4ed-0ec9bdfdaffb",
   "metadata": {
    "tags": []
   },
   "outputs": [
    {
     "data": {
      "text/plain": [
       "array([0, 1, 1, 2, 2])"
      ]
     },
     "execution_count": 6,
     "metadata": {},
     "output_type": "execute_result"
    }
   ],
   "source": [
    "arr = np.arange(3).repeat([1, 2, 2])\n",
    "\n",
    "arr"
   ]
  },
  {
   "cell_type": "code",
   "execution_count": 7,
   "id": "0b6538fd-5ce8-43c4-a383-424e828d53b7",
   "metadata": {
    "tags": []
   },
   "outputs": [
    {
     "data": {
      "text/plain": [
       "array([[0, 0, 0, 0, 0],\n",
       "       [0, 1, 2, 3, 4],\n",
       "       [0, 1, 2, 3, 4],\n",
       "       [0, 2, 4, 6, 8],\n",
       "       [0, 2, 4, 6, 8]])"
      ]
     },
     "execution_count": 7,
     "metadata": {},
     "output_type": "execute_result"
    }
   ],
   "source": [
    "np.multiply.outer(arr, np.arange(5))"
   ]
  },
  {
   "cell_type": "markdown",
   "id": "90c3b635-23c3-4993-a2f4-cbc0a5ae0e54",
   "metadata": {},
   "source": [
    "outer输出结果的维度是两个输入数据的维度之和："
   ]
  },
  {
   "cell_type": "code",
   "execution_count": 8,
   "id": "75b06036-a88a-45b2-a542-b7f16742d480",
   "metadata": {
    "tags": []
   },
   "outputs": [
    {
     "data": {
      "text/plain": [
       "(3, 4, 5)"
      ]
     },
     "execution_count": 8,
     "metadata": {},
     "output_type": "execute_result"
    }
   ],
   "source": [
    "x, y = np.random.randn(3, 4), np.random.randn(5)\n",
    "\n",
    "\n",
    "result = np.subtract.outer(x, y)\n",
    "\n",
    "\n",
    "result.shape"
   ]
  },
  {
   "cell_type": "markdown",
   "id": "c95d91cf-5484-45ab-9a17-401cc8d53f12",
   "metadata": {},
   "source": [
    "最后一个方法reduceat用于计算“局部约简”，其实就是一个对数据各切片进行聚合的groupby运算。它接受一组用于指示如何对值进行拆分和聚合的“面元边界”："
   ]
  },
  {
   "cell_type": "code",
   "execution_count": 9,
   "id": "60d4a3bd-7ade-4066-8019-31ae478bbb4a",
   "metadata": {
    "tags": []
   },
   "outputs": [
    {
     "data": {
      "text/plain": [
       "array([10, 18, 17])"
      ]
     },
     "execution_count": 9,
     "metadata": {},
     "output_type": "execute_result"
    }
   ],
   "source": [
    "arr = np.arange(10)\n",
    "\n",
    "\n",
    "np.add.reduceat(arr, [0, 5, 8])"
   ]
  },
  {
   "cell_type": "markdown",
   "id": "64d7879e-a39b-4c46-bc80-9bdf293aa6ec",
   "metadata": {},
   "source": [
    "最终结果是在arr[0:5]、arr[5:8]以及arr[8:]上执行的约简。跟其他方法一样，这里也可以传入一个axis参数："
   ]
  },
  {
   "cell_type": "code",
   "execution_count": 10,
   "id": "3bbbf21b-a807-4e5d-b39b-d4f989a3e888",
   "metadata": {
    "tags": []
   },
   "outputs": [
    {
     "data": {
      "text/plain": [
       "array([[ 0,  0,  0,  0,  0],\n",
       "       [ 0,  1,  2,  3,  4],\n",
       "       [ 0,  2,  4,  6,  8],\n",
       "       [ 0,  3,  6,  9, 12]])"
      ]
     },
     "execution_count": 10,
     "metadata": {},
     "output_type": "execute_result"
    }
   ],
   "source": [
    "arr = np.multiply.outer(np.arange(4), np.arange(5))\n",
    "\n",
    "arr"
   ]
  },
  {
   "cell_type": "code",
   "execution_count": 11,
   "id": "7fdaa7b7-7cc8-437d-89a1-de460e9714c8",
   "metadata": {
    "tags": []
   },
   "outputs": [
    {
     "data": {
      "text/plain": [
       "array([[ 0,  0,  0],\n",
       "       [ 1,  5,  4],\n",
       "       [ 2, 10,  8],\n",
       "       [ 3, 15, 12]])"
      ]
     },
     "execution_count": 11,
     "metadata": {},
     "output_type": "execute_result"
    }
   ],
   "source": [
    "np.add.reduceat(arr, [0, 2, 4], axis=1)"
   ]
  },
  {
   "cell_type": "markdown",
   "id": "a21a2103-7461-40ba-ab64-38bd86bc24d0",
   "metadata": {},
   "source": [
    "表A-2总结了部分的ufunc方法。\n",
    "\n",
    "ufunc方法"
   ]
  },
  {
   "cell_type": "markdown",
   "id": "88e5172b-6692-4159-b4c1-db14891a63ae",
   "metadata": {},
   "source": [
    "## 编写新的ufunc\n",
    "\n",
    "有多种方法可以让你编写自己的NumPy ufuncs。最常见的是使用NumPy C API，但它超越了本书的范围。在本节，我们讲纯粹的Python ufunc。\n",
    "\n",
    "numpy.frompyfunc接受一个Python函数以及两个分别表示输入输出参数数量的参数。例如，下面是一个能够实现元素级加法的简单函数："
   ]
  },
  {
   "cell_type": "code",
   "execution_count": 12,
   "id": "4f39a00e-b411-4a3b-9701-5f060f1a1d48",
   "metadata": {
    "tags": []
   },
   "outputs": [],
   "source": [
    "def add_elements(x, y):\n",
    "    return x + y"
   ]
  },
  {
   "cell_type": "code",
   "execution_count": 13,
   "id": "14de56aa-f45b-4e0d-8810-0b649e41ba3d",
   "metadata": {
    "tags": []
   },
   "outputs": [
    {
     "data": {
      "text/plain": [
       "array([0, 2, 4, 6, 8, 10, 12, 14], dtype=object)"
      ]
     },
     "execution_count": 13,
     "metadata": {},
     "output_type": "execute_result"
    }
   ],
   "source": [
    "add_them = np.frompyfunc(add_elements, 2, 1)\n",
    "add_them(np.arange(8), np.arange(8))"
   ]
  },
  {
   "cell_type": "markdown",
   "id": "9a284e45-4d1c-4d67-a64b-5d8519b59f81",
   "metadata": {},
   "source": [
    "用frompyfunc创建的函数总是返回Python对象数组，这一点很不方便。幸运的是，还有另一个办法，即numpy.vectorize。虽然没有frompyfunc那么强大，但可以让你指定输出类型："
   ]
  },
  {
   "cell_type": "code",
   "execution_count": 14,
   "id": "103f7161-3f2c-46dd-8d28-459685546536",
   "metadata": {
    "tags": []
   },
   "outputs": [
    {
     "data": {
      "text/plain": [
       "array([ 0.,  2.,  4.,  6.,  8., 10., 12., 14.])"
      ]
     },
     "execution_count": 14,
     "metadata": {},
     "output_type": "execute_result"
    }
   ],
   "source": [
    "add_them = np.vectorize(add_elements, otypes=[np.float64])\n",
    "\n",
    "\n",
    "add_them(np.arange(8), np.arange(8))"
   ]
  },
  {
   "cell_type": "markdown",
   "id": "9b713522-c431-4e96-98dd-3a15f3dba07f",
   "metadata": {},
   "source": [
    "虽然这两个函数提供了一种创建ufunc型函数的手段，但它们非常慢，因为它们在计算每个元素时都要执行一次Python函数调用，这就会比NumPy自带的基于C的ufunc慢很多："
   ]
  },
  {
   "cell_type": "code",
   "execution_count": 15,
   "id": "692cedf7-5737-4751-bd52-709af41198d7",
   "metadata": {
    "tags": []
   },
   "outputs": [
    {
     "name": "stdout",
     "output_type": "stream",
     "text": [
      "697 µs ± 4.95 µs per loop (mean ± std. dev. of 7 runs, 1,000 loops each)\n"
     ]
    }
   ],
   "source": [
    "arr = np.random.randn(10000)\n",
    "\n",
    "\n",
    "%timeit add_them(arr, arr)"
   ]
  },
  {
   "cell_type": "code",
   "execution_count": 16,
   "id": "6dc7592f-fe06-41eb-8ad2-6309b4002a70",
   "metadata": {
    "tags": []
   },
   "outputs": [
    {
     "name": "stdout",
     "output_type": "stream",
     "text": [
      "1.76 µs ± 1.5 ns per loop (mean ± std. dev. of 7 runs, 1,000,000 loops each)\n"
     ]
    }
   ],
   "source": [
    "%timeit np.add(arr, arr)"
   ]
  },
  {
   "cell_type": "markdown",
   "id": "4f3798b8-4248-4a93-8417-0a897003a760",
   "metadata": {},
   "source": [
    "本章的后面，我会介绍使用Numba（http://numba.pydata.org/），创建快速Python ufuncs。"
   ]
  },
  {
   "cell_type": "code",
   "execution_count": null,
   "id": "975e73d6-af24-45af-8bbb-9ea43b1b324d",
   "metadata": {},
   "outputs": [],
   "source": []
  }
 ],
 "metadata": {
  "kernelspec": {
   "display_name": "Python 3 (ipykernel)",
   "language": "python",
   "name": "python3"
  },
  "language_info": {
   "codemirror_mode": {
    "name": "ipython",
    "version": 3
   },
   "file_extension": ".py",
   "mimetype": "text/x-python",
   "name": "python",
   "nbconvert_exporter": "python",
   "pygments_lexer": "ipython3",
   "version": "3.8.10"
  }
 },
 "nbformat": 4,
 "nbformat_minor": 5
}
