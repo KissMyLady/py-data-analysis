{
 "cells": [
  {
   "cell_type": "markdown",
   "id": "d42b2138-c4bf-4a69-9744-7e9eabebbeba",
   "metadata": {},
   "source": [
    "# A.8 高级数组输入输出\n",
    "\n",
    "我在第4章中讲过，np.save 和 np.load 可用于读写磁盘上以二进制格式存储的数组。其实还有一些工具可用于更为复杂的场景。尤其是内存映像（memory map），它使你能处理在内存中放不下的数据集。\n",
    "\n",
    "## 内存映像文件\n",
    "\n",
    "内存映像文件是一种将磁盘上的非常大的 `二进制数据文件` 当做内存中的数组进行处理的方式。NumPy实现了一个类似于ndarray的memmap对象，它允许将大文件分成小段进行读写，而不是一次性将整个数组读入内存。另外，memmap也拥有跟普通数组一样的方法，因此，基本上只要是能用于ndarray的算法就也能用于memmap。\n",
    "\n",
    "要创建一个内存映像，可以使用函数np.memmap并传入一个文件路径、数据类型、形状以及文件模式："
   ]
  },
  {
   "cell_type": "code",
   "execution_count": 1,
   "id": "14c167d0-c2fb-4a33-aadb-f2ed2abff46b",
   "metadata": {
    "tags": []
   },
   "outputs": [],
   "source": [
    "import numpy as np"
   ]
  },
  {
   "cell_type": "code",
   "execution_count": 2,
   "id": "b1fc2e54-ced3-4d63-b3ff-eb2552f14e01",
   "metadata": {
    "tags": []
   },
   "outputs": [
    {
     "data": {
      "text/plain": [
       "memmap([[0., 0., 0., ..., 0., 0., 0.],\n",
       "        [0., 0., 0., ..., 0., 0., 0.],\n",
       "        [0., 0., 0., ..., 0., 0., 0.],\n",
       "        ...,\n",
       "        [0., 0., 0., ..., 0., 0., 0.],\n",
       "        [0., 0., 0., ..., 0., 0., 0.],\n",
       "        [0., 0., 0., ..., 0., 0., 0.]])"
      ]
     },
     "execution_count": 2,
     "metadata": {},
     "output_type": "execute_result"
    }
   ],
   "source": [
    "mmap = np.memmap('mymmap', \n",
    "                 dtype='float64', \n",
    "                 mode='w+',\n",
    "                 shape=(10000, 10000)\n",
    "                )\n",
    "\n",
    "mmap"
   ]
  },
  {
   "cell_type": "markdown",
   "id": "122b70ae-291b-49a7-ae84-a868737655fa",
   "metadata": {},
   "source": [
    "对memmap切片将会返回磁盘上的数据的视图："
   ]
  },
  {
   "cell_type": "code",
   "execution_count": 3,
   "id": "a808bcf8-7acf-4bfe-8942-913a4f87f220",
   "metadata": {
    "tags": []
   },
   "outputs": [],
   "source": [
    "section = mmap[:5]"
   ]
  },
  {
   "cell_type": "markdown",
   "id": "ab55f3ac-8199-4522-a2a7-43a57263d066",
   "metadata": {},
   "source": [
    "如果将数据赋值给这些视图：数据会先被缓存在内存中（就像是Python的文件对象），调用flush即可将其写入磁盘："
   ]
  },
  {
   "cell_type": "code",
   "execution_count": 4,
   "id": "2bec159d-8939-4cff-b353-847f291f5373",
   "metadata": {
    "tags": []
   },
   "outputs": [
    {
     "data": {
      "text/plain": [
       "memmap([[ 0.05704397, -1.83505687,  0.89498322, ...,  0.38314487,\n",
       "          0.4159928 ,  0.603153  ],\n",
       "        [-1.009654  , -0.7755939 , -1.17773394, ...,  0.32369958,\n",
       "         -0.39847625, -0.55877856],\n",
       "        [ 1.04994376, -2.18208884,  1.30411099, ...,  1.19723281,\n",
       "         -0.64248139, -0.38442695],\n",
       "        ...,\n",
       "        [ 0.        ,  0.        ,  0.        , ...,  0.        ,\n",
       "          0.        ,  0.        ],\n",
       "        [ 0.        ,  0.        ,  0.        , ...,  0.        ,\n",
       "          0.        ,  0.        ],\n",
       "        [ 0.        ,  0.        ,  0.        , ...,  0.        ,\n",
       "          0.        ,  0.        ]])"
      ]
     },
     "execution_count": 4,
     "metadata": {},
     "output_type": "execute_result"
    }
   ],
   "source": [
    "section[:] = np.random.randn(5, 10000)\n",
    "\n",
    "mmap.flush()\n",
    "\n",
    "mmap"
   ]
  },
  {
   "cell_type": "code",
   "execution_count": 5,
   "id": "3e5c29da-c1e1-4dea-a6aa-565a33ba546f",
   "metadata": {
    "tags": []
   },
   "outputs": [],
   "source": [
    "del mmap"
   ]
  },
  {
   "cell_type": "markdown",
   "id": "244057b2-ebda-4cca-b18c-9dffb61fdfe6",
   "metadata": {},
   "source": [
    "只要某个内存映像超出了作用域，它就会被垃圾回收器回收，之前对其所做的任何修改都会被写入磁盘。当打开一个已经存在的内存映像时，仍然需要指明数据类型和形状，因为磁盘上的那个文件只是一块二进制数据而已，没有任何元数据："
   ]
  },
  {
   "cell_type": "code",
   "execution_count": 6,
   "id": "85083f81-c1c5-4c6f-bd37-a894c0a1ab45",
   "metadata": {
    "tags": []
   },
   "outputs": [
    {
     "data": {
      "text/plain": [
       "memmap([[ 0.05704397, -1.83505687,  0.89498322, ...,  0.38314487,\n",
       "          0.4159928 ,  0.603153  ],\n",
       "        [-1.009654  , -0.7755939 , -1.17773394, ...,  0.32369958,\n",
       "         -0.39847625, -0.55877856],\n",
       "        [ 1.04994376, -2.18208884,  1.30411099, ...,  1.19723281,\n",
       "         -0.64248139, -0.38442695],\n",
       "        ...,\n",
       "        [ 0.        ,  0.        ,  0.        , ...,  0.        ,\n",
       "          0.        ,  0.        ],\n",
       "        [ 0.        ,  0.        ,  0.        , ...,  0.        ,\n",
       "          0.        ,  0.        ],\n",
       "        [ 0.        ,  0.        ,  0.        , ...,  0.        ,\n",
       "          0.        ,  0.        ]])"
      ]
     },
     "execution_count": 6,
     "metadata": {},
     "output_type": "execute_result"
    }
   ],
   "source": [
    "mmap = np.memmap('mymmap', dtype='float64', shape=(10000, 10000))\n",
    "\n",
    "mmap"
   ]
  },
  {
   "cell_type": "markdown",
   "id": "52068fde-628b-4d51-aa5e-81a91874d87f",
   "metadata": {},
   "source": [
    "内存映像可以使用前面介绍的结构化或嵌套dtype。\n",
    "\n",
    "## HDF5及其他数组存储方式\n",
    "\n",
    "PyTables和h5py这两个Python项目可以将NumPy的数组数据存储为高效且可压缩的HDF5格式（HDF意思是“层次化数据格式”）。你可以安全地将好几百GB甚至TB的数据存储为HDF5格式。要学习Python使用HDF5，请参考pandas线上文档。"
   ]
  },
  {
   "cell_type": "code",
   "execution_count": null,
   "id": "ab50c8c1-f9b6-4a4f-8043-e40781cb2a82",
   "metadata": {},
   "outputs": [],
   "source": []
  }
 ],
 "metadata": {
  "kernelspec": {
   "display_name": "Python 3 (ipykernel)",
   "language": "python",
   "name": "python3"
  },
  "language_info": {
   "codemirror_mode": {
    "name": "ipython",
    "version": 3
   },
   "file_extension": ".py",
   "mimetype": "text/x-python",
   "name": "python",
   "nbconvert_exporter": "python",
   "pygments_lexer": "ipython3",
   "version": "3.8.10"
  }
 },
 "nbformat": 4,
 "nbformat_minor": 5
}
