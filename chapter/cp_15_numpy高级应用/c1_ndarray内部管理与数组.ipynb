{
 "cells": [
  {
   "cell_type": "markdown",
   "id": "7f9a9425-b0b5-446f-bc89-8e20191a7f21",
   "metadata": {},
   "source": [
    "# 附录A NumPy高级应用\n",
    "\n",
    "在这篇附录中，我会深入NumPy库的数组计算。这会包括ndarray更内部的细节，和更高级的数组操作和算法。\n",
    "\n",
    "本章包括了一些杂乱的章节，不需要仔细研究。\n",
    "\n",
    "# A.1 ndarray对象的内部机理\n",
    "\n",
    "NumPy的ndarray提供了一种将同质数据块（可以是连续或跨越）解释为多维数组对象的方式。正如你之前所看到的那样，数据类型（dtype）决定了数据的解释方式，比如浮点数、整数、布尔值等。\n",
    "\n",
    "ndarray如此强大的部分原因是所有数组对象都是数据块的一个跨度视图（strided view）。你可能想知道数组视图arr[::2,::-1]不复制任何数据的原因是什么。简单地说，ndarray不只是一块内存和一个dtype，它还有跨度信息，这使得数组能以各种步幅（step size）在内存中移动。更准确地讲，ndarray内部由以下内容组成：\n",
    "\n",
    "- 一个指向数据（内存或内存映射文件中的一块数据）的指针。\n",
    "- 数据类型或dtype，描述在数组中的固定大小值的格子。\n",
    "- 一个表示数组形状（shape）的元组。\n",
    "- 一个跨度元组（stride），其中的整数指的是为了前进到当前维度下一个元素需要“跨过”的字节数。\n",
    "\n",
    "图A-1简单地说明了ndarray的内部结构。"
   ]
  },
  {
   "cell_type": "markdown",
   "id": "3b9e29e9-fdc7-4cdc-9f1c-7ec6e684d088",
   "metadata": {},
   "source": [
    "例如，一个10×5的数组，其形状为(10,5)："
   ]
  },
  {
   "cell_type": "code",
   "execution_count": 4,
   "id": "aec47f7d-e446-46b6-87cf-67cc9e44fe79",
   "metadata": {
    "tags": []
   },
   "outputs": [],
   "source": [
    "import numpy as np"
   ]
  },
  {
   "cell_type": "code",
   "execution_count": 5,
   "id": "7fa40389-1c2a-468f-9e89-73a9c849dca3",
   "metadata": {
    "tags": []
   },
   "outputs": [
    {
     "data": {
      "text/plain": [
       "(10, 5)"
      ]
     },
     "execution_count": 5,
     "metadata": {},
     "output_type": "execute_result"
    }
   ],
   "source": [
    "np.ones((10, 5)).shape"
   ]
  },
  {
   "cell_type": "markdown",
   "id": "41e75c48-d654-4084-bd24-740d94ca7f95",
   "metadata": {},
   "source": [
    "一个典型的（C顺序，稍后将详细讲解）3×4×5的float64（8个字节）数组，其跨度为(160,40,8) —— 知道跨度是非常有用的，通常，跨度在一个轴上越大，沿这个轴进行计算的开销就越大："
   ]
  },
  {
   "cell_type": "code",
   "execution_count": 6,
   "id": "826cf725-54c7-4602-9667-8a4b813c5100",
   "metadata": {
    "tags": []
   },
   "outputs": [
    {
     "data": {
      "text/plain": [
       "(160, 40, 8)"
      ]
     },
     "execution_count": 6,
     "metadata": {},
     "output_type": "execute_result"
    }
   ],
   "source": [
    "np.ones((3, 4, 5), dtype=np.float64).strides"
   ]
  },
  {
   "cell_type": "markdown",
   "id": "ad7ef07a-fe62-4f32-9896-512711fb3c20",
   "metadata": {},
   "source": [
    "虽然NumPy用户很少会对数组的跨度信息感兴趣，但它们却是构建非复制式数组视图的重要因素。跨度甚至可以是负数，这样会使数组在内存中后向移动，比如在切片obj `[::-1]` 或obj `[:,::-1]` 中就是这样的。"
   ]
  },
  {
   "cell_type": "markdown",
   "id": "442a1afa-4ece-45b6-8df0-d32a11e352d1",
   "metadata": {},
   "source": [
    "## NumPy数据类型体系\n",
    "\n",
    "你可能偶尔需要检查数组中所包含的是否是整数、浮点数、字符串或Python对象。因为浮点数的种类很多（从float16到float128），判断dtype是否属于某个大类的工作非常繁琐。幸运的是，dtype都有一个超类（比如np.integer和np.floating），它们可以跟np.issubdtype函数结合使用："
   ]
  },
  {
   "cell_type": "code",
   "execution_count": 8,
   "id": "f7296a00-2a77-4c69-9449-dafa1874b106",
   "metadata": {
    "tags": []
   },
   "outputs": [
    {
     "data": {
      "text/plain": [
       "True"
      ]
     },
     "execution_count": 8,
     "metadata": {},
     "output_type": "execute_result"
    }
   ],
   "source": [
    "ints = np.ones(10, dtype=np.uint16)\n",
    "\n",
    "floats = np.ones(10, dtype=np.float32)\n",
    "\n",
    "np.issubdtype(ints.dtype, np.integer)"
   ]
  },
  {
   "cell_type": "code",
   "execution_count": 9,
   "id": "de8e8c0c-81ec-4119-9ec6-9a7635fc8432",
   "metadata": {
    "tags": []
   },
   "outputs": [
    {
     "data": {
      "text/plain": [
       "True"
      ]
     },
     "execution_count": 9,
     "metadata": {},
     "output_type": "execute_result"
    }
   ],
   "source": [
    "np.issubdtype(floats.dtype, np.floating)"
   ]
  },
  {
   "cell_type": "markdown",
   "id": "387d8a90-92b5-4538-b2b1-1a07872de33b",
   "metadata": {},
   "source": [
    "调用dtype的mro方法即可查看其所有的父类："
   ]
  },
  {
   "cell_type": "code",
   "execution_count": 10,
   "id": "05ac8c1f-a837-475a-a05f-e9965a7a15d4",
   "metadata": {
    "tags": []
   },
   "outputs": [
    {
     "data": {
      "text/plain": [
       "[numpy.float64,\n",
       " numpy.floating,\n",
       " numpy.inexact,\n",
       " numpy.number,\n",
       " numpy.generic,\n",
       " float,\n",
       " object]"
      ]
     },
     "execution_count": 10,
     "metadata": {},
     "output_type": "execute_result"
    }
   ],
   "source": [
    "np.float64.mro()"
   ]
  },
  {
   "cell_type": "markdown",
   "id": "fa4d6517-4e30-4ac9-be39-359722e88457",
   "metadata": {},
   "source": [
    "然后得到："
   ]
  },
  {
   "cell_type": "code",
   "execution_count": 11,
   "id": "faba218b-86aa-4aa5-93c1-11ec2b6c2bae",
   "metadata": {
    "tags": []
   },
   "outputs": [
    {
     "data": {
      "text/plain": [
       "True"
      ]
     },
     "execution_count": 11,
     "metadata": {},
     "output_type": "execute_result"
    }
   ],
   "source": [
    "np.issubdtype(ints.dtype, np.number)"
   ]
  },
  {
   "cell_type": "markdown",
   "id": "03c9ac5d-e6be-4735-9665-410148f9dca5",
   "metadata": {},
   "source": [
    "大部分NumPy用户完全不需要了解这些知识，但是这些知识偶尔还是能派上用场的。图A-2说明了dtype体系以及父子类关系。"
   ]
  },
  {
   "cell_type": "markdown",
   "id": "a39c4a4e-05b7-4e8f-8209-305556e933b7",
   "metadata": {},
   "source": [
    "# A.2 高级数组操作\n",
    "\n",
    "除花式索引、切片、布尔条件取子集等操作之外，数组的操作方式还有很多。虽然pandas中的高级函数可以处理数据分析工作中的许多重型任务，但有时你还是需要编写一些在现有库中找不到的数据算法。\n",
    "\n",
    "## 数组重塑\n",
    "\n",
    "多数情况下，你可以无需复制任何数据，就将数组从一个形状转换为另一个形状。只需向数组的实例方法reshape传入一个表示新形状的元组即可实现该目的。例如，假设有一个一维数组，我们希望将其重新排列为一个矩阵（结果见图A-3）："
   ]
  },
  {
   "cell_type": "code",
   "execution_count": 12,
   "id": "692be02c-c8ab-44cf-b774-6b390e72885b",
   "metadata": {
    "tags": []
   },
   "outputs": [
    {
     "data": {
      "text/plain": [
       "array([0, 1, 2, 3, 4, 5, 6, 7])"
      ]
     },
     "execution_count": 12,
     "metadata": {},
     "output_type": "execute_result"
    }
   ],
   "source": [
    "arr = np.arange(8)\n",
    "\n",
    "arr"
   ]
  },
  {
   "cell_type": "code",
   "execution_count": 13,
   "id": "35d18e21-a11a-434c-b32c-7531c22a7067",
   "metadata": {
    "tags": []
   },
   "outputs": [
    {
     "data": {
      "text/plain": [
       "array([[0, 1],\n",
       "       [2, 3],\n",
       "       [4, 5],\n",
       "       [6, 7]])"
      ]
     },
     "execution_count": 13,
     "metadata": {},
     "output_type": "execute_result"
    }
   ],
   "source": [
    "arr.reshape((4, 2))"
   ]
  },
  {
   "cell_type": "markdown",
   "id": "729d7861-8a56-47ae-ae14-404077e8cc5d",
   "metadata": {},
   "source": [
    "多维数组也能被重塑："
   ]
  },
  {
   "cell_type": "code",
   "execution_count": 14,
   "id": "271e9e34-a056-44d9-b636-4f58c5b161e2",
   "metadata": {
    "tags": []
   },
   "outputs": [
    {
     "data": {
      "text/plain": [
       "array([[0, 1, 2, 3],\n",
       "       [4, 5, 6, 7]])"
      ]
     },
     "execution_count": 14,
     "metadata": {},
     "output_type": "execute_result"
    }
   ],
   "source": [
    "arr.reshape((4, 2)).reshape((2, 4))"
   ]
  },
  {
   "cell_type": "markdown",
   "id": "7cea5cf0-b679-43ee-8300-dbfdfe62edef",
   "metadata": {},
   "source": [
    "作为参数的形状的其中一维可以是－1，它表示该维度的大小由数据本身推断而来："
   ]
  },
  {
   "cell_type": "code",
   "execution_count": 15,
   "id": "a8799af1-e196-4bad-b82f-0ce40a75a9a8",
   "metadata": {
    "tags": []
   },
   "outputs": [
    {
     "data": {
      "text/plain": [
       "array([[ 0,  1,  2],\n",
       "       [ 3,  4,  5],\n",
       "       [ 6,  7,  8],\n",
       "       [ 9, 10, 11],\n",
       "       [12, 13, 14]])"
      ]
     },
     "execution_count": 15,
     "metadata": {},
     "output_type": "execute_result"
    }
   ],
   "source": [
    "arr = np.arange(15)\n",
    "\n",
    "arr.reshape((5, -1))"
   ]
  },
  {
   "cell_type": "markdown",
   "id": "627aa1cd-bf9c-41df-9103-843de6b7cb70",
   "metadata": {},
   "source": [
    "与reshape将一维数组转换为多维数组的运算过程相反的运算通常称为扁平化（flattening）或散开（raveling）："
   ]
  },
  {
   "cell_type": "code",
   "execution_count": 16,
   "id": "1b5ec762-645d-4512-9386-a464365ec4d4",
   "metadata": {
    "tags": []
   },
   "outputs": [
    {
     "data": {
      "text/plain": [
       "array([[ 0,  1,  2],\n",
       "       [ 3,  4,  5],\n",
       "       [ 6,  7,  8],\n",
       "       [ 9, 10, 11],\n",
       "       [12, 13, 14]])"
      ]
     },
     "execution_count": 16,
     "metadata": {},
     "output_type": "execute_result"
    }
   ],
   "source": [
    "arr = np.arange(15).reshape((5, 3))\n",
    "\n",
    "arr"
   ]
  },
  {
   "cell_type": "code",
   "execution_count": 17,
   "id": "5639b49e-46a9-4b38-98cf-daed1d5102d0",
   "metadata": {
    "tags": []
   },
   "outputs": [
    {
     "data": {
      "text/plain": [
       "array([ 0,  1,  2,  3,  4,  5,  6,  7,  8,  9, 10, 11, 12, 13, 14])"
      ]
     },
     "execution_count": 17,
     "metadata": {},
     "output_type": "execute_result"
    }
   ],
   "source": [
    "arr.ravel()"
   ]
  },
  {
   "cell_type": "markdown",
   "id": "22809b55-1574-427a-a6c3-fe28e1b36365",
   "metadata": {},
   "source": [
    "如果结果中的值与原始数组相同，ravel不会产生源数据的副本。flatten方法的行为类似于ravel，只不过它总是返回数据的副本："
   ]
  },
  {
   "cell_type": "code",
   "execution_count": 18,
   "id": "28d71986-2b10-4f90-9109-00afc781edce",
   "metadata": {
    "tags": []
   },
   "outputs": [
    {
     "data": {
      "text/plain": [
       "array([ 0,  1,  2,  3,  4,  5,  6,  7,  8,  9, 10, 11, 12, 13, 14])"
      ]
     },
     "execution_count": 18,
     "metadata": {},
     "output_type": "execute_result"
    }
   ],
   "source": [
    "arr.flatten()"
   ]
  },
  {
   "cell_type": "markdown",
   "id": "c98251a4-db77-40cf-881c-20762874aa71",
   "metadata": {},
   "source": [
    "数组可以被重塑或散开为别的顺序。这对NumPy新手来说是一个比较微妙的问题，所以在下一小节中我们将专门讲解这个问题。\n",
    "\n",
    "## C和Fortran顺序\n",
    "\n",
    "NumPy允许你更为灵活地控制数据在内存中的布局。默认情况下，NumPy数组是按行优先顺序创建的。在空间方面，这就意味着，对于一个二维数组，每行中的数据项是被存放在相邻内存位置上的。另一种顺序是列优先顺序，它意味着每列中的数据项是被存放在相邻内存位置上的。\n",
    "\n",
    "由于一些历史原因，行和列优先顺序又分别称为C和Fortran顺序。在FORTRAN 77中，矩阵全都是列优先的。\n",
    "\n",
    "像reshape和reval这样的函数，都可以接受一个表示数组数据存放顺序的order参数。一般可以是'C'或'F'（还有'A'和'K'等不常用的选项，具体请参考NumPy的文档）。图A-3对此进行了说明："
   ]
  },
  {
   "cell_type": "code",
   "execution_count": 19,
   "id": "99287c70-b5c6-45b0-a2d8-2ae4c6d76fe2",
   "metadata": {
    "tags": []
   },
   "outputs": [
    {
     "data": {
      "text/plain": [
       "array([[ 0,  1,  2,  3],\n",
       "       [ 4,  5,  6,  7],\n",
       "       [ 8,  9, 10, 11]])"
      ]
     },
     "execution_count": 19,
     "metadata": {},
     "output_type": "execute_result"
    }
   ],
   "source": [
    "arr = np.arange(12).reshape((3, 4))\n",
    "\n",
    "arr"
   ]
  },
  {
   "cell_type": "code",
   "execution_count": 20,
   "id": "4817b116-9061-462e-b2c5-384ccfe91d13",
   "metadata": {
    "tags": []
   },
   "outputs": [
    {
     "data": {
      "text/plain": [
       "array([ 0,  1,  2,  3,  4,  5,  6,  7,  8,  9, 10, 11])"
      ]
     },
     "execution_count": 20,
     "metadata": {},
     "output_type": "execute_result"
    }
   ],
   "source": [
    "arr.ravel()"
   ]
  },
  {
   "cell_type": "code",
   "execution_count": 21,
   "id": "99730aad-eeaa-4f81-9db4-bd40780563e3",
   "metadata": {
    "tags": []
   },
   "outputs": [
    {
     "data": {
      "text/plain": [
       "array([ 0,  4,  8,  1,  5,  9,  2,  6, 10,  3,  7, 11])"
      ]
     },
     "execution_count": 21,
     "metadata": {},
     "output_type": "execute_result"
    }
   ],
   "source": [
    "arr.ravel('F')"
   ]
  },
  {
   "cell_type": "markdown",
   "id": "f08ea9b0-dcd8-4b5f-98c2-47308b23ece8",
   "metadata": {},
   "source": [
    "二维或更高维数组的重塑过程比较令人费解（见图A-3）。C和Fortran顺序的关键区别就是维度的行进顺序：\n",
    "\n",
    "- C/行优先顺序：先经过更高的维度（例如，轴1会先于轴0被处理）。\n",
    "- Fortran/列优先顺序：后经过更高的维度（例如，轴0会先于轴1被处理）。\n",
    "\n",
    "\n",
    "## 数组的合并和拆分\n",
    "\n",
    "numpy.concatenate可以按指定轴将一个由数组组成的序列（如元组、列表等）连接到一起："
   ]
  },
  {
   "cell_type": "code",
   "execution_count": 22,
   "id": "c97c36e9-1a3d-424c-b4a4-445b0851ecc1",
   "metadata": {
    "tags": []
   },
   "outputs": [
    {
     "data": {
      "text/plain": [
       "array([[ 1,  2,  3],\n",
       "       [ 4,  5,  6],\n",
       "       [ 7,  8,  9],\n",
       "       [10, 11, 12]])"
      ]
     },
     "execution_count": 22,
     "metadata": {},
     "output_type": "execute_result"
    }
   ],
   "source": [
    "arr1 = np.array([[1, 2, 3], [4, 5, 6]])\n",
    "\n",
    "arr2 = np.array([[7, 8, 9], [10, 11, 12]])\n",
    "\n",
    "np.concatenate([arr1, arr2], axis=0)"
   ]
  },
  {
   "cell_type": "code",
   "execution_count": 23,
   "id": "63089d7d-350e-4296-85d5-4484ef466acb",
   "metadata": {
    "tags": []
   },
   "outputs": [
    {
     "data": {
      "text/plain": [
       "array([[ 1,  2,  3,  7,  8,  9],\n",
       "       [ 4,  5,  6, 10, 11, 12]])"
      ]
     },
     "execution_count": 23,
     "metadata": {},
     "output_type": "execute_result"
    }
   ],
   "source": [
    "np.concatenate([arr1, arr2], axis=1)"
   ]
  },
  {
   "cell_type": "markdown",
   "id": "8c5d5598-a3ea-4204-b143-65cd3c3851a3",
   "metadata": {},
   "source": [
    "对于常见的连接操作，NumPy提供了一些比较方便的方法（如vstack和hstack）。因此，上面的运算还可以表达为："
   ]
  },
  {
   "cell_type": "code",
   "execution_count": 24,
   "id": "5a729005-9053-4f88-a4cb-9c67836a9d02",
   "metadata": {
    "tags": []
   },
   "outputs": [
    {
     "data": {
      "text/plain": [
       "array([[ 1,  2,  3],\n",
       "       [ 4,  5,  6],\n",
       "       [ 7,  8,  9],\n",
       "       [10, 11, 12]])"
      ]
     },
     "execution_count": 24,
     "metadata": {},
     "output_type": "execute_result"
    }
   ],
   "source": [
    "np.vstack((arr1, arr2))"
   ]
  },
  {
   "cell_type": "code",
   "execution_count": 25,
   "id": "2fa95baf-3075-4a97-a832-81e8be5f5af9",
   "metadata": {
    "tags": []
   },
   "outputs": [
    {
     "data": {
      "text/plain": [
       "array([[ 1,  2,  3,  7,  8,  9],\n",
       "       [ 4,  5,  6, 10, 11, 12]])"
      ]
     },
     "execution_count": 25,
     "metadata": {},
     "output_type": "execute_result"
    }
   ],
   "source": [
    "np.hstack((arr1, arr2))"
   ]
  },
  {
   "cell_type": "markdown",
   "id": "34ba77a9-961d-48bd-93f4-3fac2a684859",
   "metadata": {},
   "source": [
    "与此相反，split用于将一个数组沿指定轴拆分为多个数组："
   ]
  },
  {
   "cell_type": "code",
   "execution_count": 26,
   "id": "79c14b69-95c5-4517-9b4b-d93a9a2034fb",
   "metadata": {
    "tags": []
   },
   "outputs": [
    {
     "data": {
      "text/plain": [
       "array([[-0.40014685,  0.57754405],\n",
       "       [-1.15294229,  0.39250443],\n",
       "       [ 0.07094194, -1.95466785],\n",
       "       [-1.01733544,  0.83630226],\n",
       "       [ 0.84928065, -0.71610903]])"
      ]
     },
     "execution_count": 26,
     "metadata": {},
     "output_type": "execute_result"
    }
   ],
   "source": [
    "arr = np.random.randn(5, 2)\n",
    "\n",
    "arr"
   ]
  },
  {
   "cell_type": "code",
   "execution_count": 27,
   "id": "ba38baef-4598-44e0-ae5e-397c51c67fca",
   "metadata": {
    "tags": []
   },
   "outputs": [
    {
     "data": {
      "text/plain": [
       "array([[-0.40014685,  0.57754405]])"
      ]
     },
     "execution_count": 27,
     "metadata": {},
     "output_type": "execute_result"
    }
   ],
   "source": [
    "first, second, third = np.split(arr, [1, 3])\n",
    "\n",
    "first"
   ]
  },
  {
   "cell_type": "code",
   "execution_count": 28,
   "id": "a11e0e73-bf2f-453b-a7fe-db61619236a7",
   "metadata": {
    "tags": []
   },
   "outputs": [
    {
     "data": {
      "text/plain": [
       "array([[-1.15294229,  0.39250443],\n",
       "       [ 0.07094194, -1.95466785]])"
      ]
     },
     "execution_count": 28,
     "metadata": {},
     "output_type": "execute_result"
    }
   ],
   "source": [
    "second"
   ]
  },
  {
   "cell_type": "code",
   "execution_count": 29,
   "id": "8734f2a4-9072-4359-8f4e-f8cd466b47bb",
   "metadata": {
    "tags": []
   },
   "outputs": [
    {
     "data": {
      "text/plain": [
       "array([[-1.01733544,  0.83630226],\n",
       "       [ 0.84928065, -0.71610903]])"
      ]
     },
     "execution_count": 29,
     "metadata": {},
     "output_type": "execute_result"
    }
   ],
   "source": [
    "third"
   ]
  },
  {
   "cell_type": "markdown",
   "id": "7d8a304f-53b7-42bb-8e6b-3a5be1cde277",
   "metadata": {},
   "source": [
    "传入到np.split的值 [1,3] 指示在哪个索引处分割数组。\n",
    "\n",
    "表A-1中列出了所有关于数组连接和拆分的函数，其中有些是专门为了方便常见的连接运算而提供的。"
   ]
  },
  {
   "cell_type": "markdown",
   "id": "2dc07293-f250-4f41-9895-729f3fcb74ce",
   "metadata": {},
   "source": [
    "## 堆叠辅助类：`r_`和`c_`\n",
    "\n",
    "NumPy命名空间中有两个特殊的对象—— `r_` 和 `c_`，它们可以使数组的堆叠操作更为简洁："
   ]
  },
  {
   "cell_type": "code",
   "execution_count": 30,
   "id": "a4b4c8d9-ea09-450a-96d4-04168c3b0e05",
   "metadata": {
    "tags": []
   },
   "outputs": [
    {
     "data": {
      "text/plain": [
       "array([[ 0.        ,  1.        ],\n",
       "       [ 2.        ,  3.        ],\n",
       "       [ 4.        ,  5.        ],\n",
       "       [-0.06618184, -0.73842699],\n",
       "       [ 0.44299995,  0.79669088],\n",
       "       [-0.90790227, -1.02390444]])"
      ]
     },
     "execution_count": 30,
     "metadata": {},
     "output_type": "execute_result"
    }
   ],
   "source": [
    "arr = np.arange(6)\n",
    "\n",
    "\n",
    "arr1 = arr.reshape((3, 2))\n",
    "arr2 = np.random.randn(3, 2)\n",
    "\n",
    "\n",
    "np.r_[arr1, arr2]"
   ]
  },
  {
   "cell_type": "code",
   "execution_count": 31,
   "id": "b81c26fa-7ce7-4c52-aacd-19e5052e9618",
   "metadata": {
    "tags": []
   },
   "outputs": [
    {
     "data": {
      "text/plain": [
       "array([[ 0.        ,  1.        ,  0.        ],\n",
       "       [ 2.        ,  3.        ,  1.        ],\n",
       "       [ 4.        ,  5.        ,  2.        ],\n",
       "       [-0.06618184, -0.73842699,  3.        ],\n",
       "       [ 0.44299995,  0.79669088,  4.        ],\n",
       "       [-0.90790227, -1.02390444,  5.        ]])"
      ]
     },
     "execution_count": 31,
     "metadata": {},
     "output_type": "execute_result"
    }
   ],
   "source": [
    "np.c_[np.r_[arr1, arr2], arr]"
   ]
  },
  {
   "cell_type": "markdown",
   "id": "7414c88a-4eee-4f45-bd30-cfa7db8cbe41",
   "metadata": {},
   "source": [
    "它还可以将切片转换成数组："
   ]
  },
  {
   "cell_type": "code",
   "execution_count": 32,
   "id": "c1c50624-23db-453f-a249-2ce560eb650b",
   "metadata": {
    "tags": []
   },
   "outputs": [
    {
     "data": {
      "text/plain": [
       "array([[  1, -10],\n",
       "       [  2,  -9],\n",
       "       [  3,  -8],\n",
       "       [  4,  -7],\n",
       "       [  5,  -6]])"
      ]
     },
     "execution_count": 32,
     "metadata": {},
     "output_type": "execute_result"
    }
   ],
   "source": [
    "np.c_[1:6, -10:-5]"
   ]
  },
  {
   "cell_type": "markdown",
   "id": "500e52b5-0b32-42e3-ae3c-698fb550470a",
   "metadata": {
    "tags": []
   },
   "source": [
    "`r_` 和 `c_` 的具体功能请参考其文档。\n",
    "\n",
    "## 元素的重复操作：tile和repeat\n",
    "\n",
    "对数组进行重复以产生更大数组的工具主要是repeat和tile这两个函数。repeat会将数组中的各个元素重复一定次数，从而产生一个更大的数组："
   ]
  },
  {
   "cell_type": "code",
   "execution_count": 34,
   "id": "25b533c4-f650-4c53-9e94-9e441288dd24",
   "metadata": {
    "tags": []
   },
   "outputs": [
    {
     "data": {
      "text/plain": [
       "array([0, 1, 2])"
      ]
     },
     "execution_count": 34,
     "metadata": {},
     "output_type": "execute_result"
    }
   ],
   "source": [
    "arr = np.arange(3)\n",
    "\n",
    "arr"
   ]
  },
  {
   "cell_type": "code",
   "execution_count": 35,
   "id": "3174c7b2-e3a2-4c81-a945-fb2d3ca0dea2",
   "metadata": {
    "tags": []
   },
   "outputs": [
    {
     "data": {
      "text/plain": [
       "array([0, 0, 0, 1, 1, 1, 2, 2, 2])"
      ]
     },
     "execution_count": 35,
     "metadata": {},
     "output_type": "execute_result"
    }
   ],
   "source": [
    "arr.repeat(3)"
   ]
  },
  {
   "cell_type": "markdown",
   "id": "1b1357dc-06f2-4c0a-ad49-1775d68bfb49",
   "metadata": {},
   "source": [
    "> 笔记：跟其他流行的数组编程语言（如MATLAB）不同，NumPy中很少需要对数组进行重复（replicate）。这主要是因为广播（broadcasting，我们将在下一节中讲解该技术）能更好地满足该需求。\n",
    "\n",
    "默认情况下，如果传入的是一个整数，则各元素就都会重复那么多次。如果传入的是一组整数，则各元素就可以重复不同的次数："
   ]
  },
  {
   "cell_type": "code",
   "execution_count": 36,
   "id": "335bb237-f13b-4078-9e3e-1db9da54febe",
   "metadata": {
    "tags": []
   },
   "outputs": [
    {
     "data": {
      "text/plain": [
       "array([0, 0, 1, 1, 1, 2, 2, 2, 2])"
      ]
     },
     "execution_count": 36,
     "metadata": {},
     "output_type": "execute_result"
    }
   ],
   "source": [
    "arr.repeat([2, 3, 4])"
   ]
  },
  {
   "cell_type": "markdown",
   "id": "c0e1d519-1dec-4298-bc7b-f388fbd15e10",
   "metadata": {},
   "source": [
    "对于多维数组，还可以让它们的元素沿指定轴重复："
   ]
  },
  {
   "cell_type": "code",
   "execution_count": 38,
   "id": "aa110cb6-dc05-489b-bfcb-3bc3568fdfe3",
   "metadata": {
    "tags": []
   },
   "outputs": [
    {
     "data": {
      "text/plain": [
       "array([[-1.65925639, -0.32191027],\n",
       "       [-0.50620784, -0.18262158]])"
      ]
     },
     "execution_count": 38,
     "metadata": {},
     "output_type": "execute_result"
    }
   ],
   "source": [
    "arr = np.random.randn(2, 2)\n",
    "\n",
    "arr"
   ]
  },
  {
   "cell_type": "code",
   "execution_count": 39,
   "id": "de5891ab-c0a4-43b8-a23c-eaeac3a101a6",
   "metadata": {
    "tags": []
   },
   "outputs": [
    {
     "data": {
      "text/plain": [
       "array([[-1.65925639, -0.32191027],\n",
       "       [-1.65925639, -0.32191027],\n",
       "       [-0.50620784, -0.18262158],\n",
       "       [-0.50620784, -0.18262158]])"
      ]
     },
     "execution_count": 39,
     "metadata": {},
     "output_type": "execute_result"
    }
   ],
   "source": [
    "arr.repeat(2, axis=0)"
   ]
  },
  {
   "cell_type": "markdown",
   "id": "a8c4bbf0-51dc-4c10-9693-48364e8813ab",
   "metadata": {},
   "source": [
    "注意，如果没有设置轴向，则数组会被扁平化，这可能不会是你想要的结果。同样，在对多维进行重复时，也可以传入一组整数，这样就会使各切片重复不同的次数："
   ]
  },
  {
   "cell_type": "code",
   "execution_count": 40,
   "id": "e89ef873-9764-4622-bfe7-7f269155c50c",
   "metadata": {
    "tags": []
   },
   "outputs": [
    {
     "data": {
      "text/plain": [
       "array([[-1.65925639, -0.32191027],\n",
       "       [-1.65925639, -0.32191027],\n",
       "       [-0.50620784, -0.18262158],\n",
       "       [-0.50620784, -0.18262158],\n",
       "       [-0.50620784, -0.18262158]])"
      ]
     },
     "execution_count": 40,
     "metadata": {},
     "output_type": "execute_result"
    }
   ],
   "source": [
    "arr.repeat([2, 3], axis=0)"
   ]
  },
  {
   "cell_type": "code",
   "execution_count": 41,
   "id": "85d84e45-4849-4c5f-9f84-33a9b2c7646d",
   "metadata": {
    "tags": []
   },
   "outputs": [
    {
     "data": {
      "text/plain": [
       "array([[-1.65925639, -1.65925639, -0.32191027, -0.32191027, -0.32191027],\n",
       "       [-0.50620784, -0.50620784, -0.18262158, -0.18262158, -0.18262158]])"
      ]
     },
     "execution_count": 41,
     "metadata": {},
     "output_type": "execute_result"
    }
   ],
   "source": [
    "arr.repeat([2, 3], axis=1)"
   ]
  },
  {
   "cell_type": "markdown",
   "id": "f94b84a2-124d-4624-a669-ce58ca5c6f90",
   "metadata": {},
   "source": [
    "tile 的功能是沿指定轴向堆叠数组的副本。你可以形象地将其想象成“铺瓷砖”："
   ]
  },
  {
   "cell_type": "code",
   "execution_count": 42,
   "id": "3507dfd0-94c3-4fb9-ba61-251ec41c43a7",
   "metadata": {
    "tags": []
   },
   "outputs": [
    {
     "data": {
      "text/plain": [
       "array([[-1.65925639, -0.32191027],\n",
       "       [-0.50620784, -0.18262158]])"
      ]
     },
     "execution_count": 42,
     "metadata": {},
     "output_type": "execute_result"
    }
   ],
   "source": [
    "arr"
   ]
  },
  {
   "cell_type": "code",
   "execution_count": 43,
   "id": "eedac946-7565-48ba-97a8-f52319b20e3d",
   "metadata": {
    "tags": []
   },
   "outputs": [
    {
     "data": {
      "text/plain": [
       "array([[-1.65925639, -0.32191027, -1.65925639, -0.32191027],\n",
       "       [-0.50620784, -0.18262158, -0.50620784, -0.18262158]])"
      ]
     },
     "execution_count": 43,
     "metadata": {},
     "output_type": "execute_result"
    }
   ],
   "source": [
    "np.tile(arr, 2)"
   ]
  },
  {
   "cell_type": "markdown",
   "id": "b4ce2300-0de7-44f1-be21-d717846bea29",
   "metadata": {},
   "source": [
    "第二个参数是瓷砖的数量。对于标量，瓷砖是水平铺设的，而不是垂直铺设。它可以是一个表示“铺设”布局的元组："
   ]
  },
  {
   "cell_type": "code",
   "execution_count": 44,
   "id": "74f18fdc-7df1-469c-9634-d01d52415dcc",
   "metadata": {
    "tags": []
   },
   "outputs": [
    {
     "data": {
      "text/plain": [
       "array([[-1.65925639, -0.32191027],\n",
       "       [-0.50620784, -0.18262158]])"
      ]
     },
     "execution_count": 44,
     "metadata": {},
     "output_type": "execute_result"
    }
   ],
   "source": [
    "arr"
   ]
  },
  {
   "cell_type": "code",
   "execution_count": 45,
   "id": "29ac822e-0d6e-4b2f-a95e-e78c605239dc",
   "metadata": {
    "tags": []
   },
   "outputs": [
    {
     "data": {
      "text/plain": [
       "array([[-1.65925639, -0.32191027],\n",
       "       [-0.50620784, -0.18262158],\n",
       "       [-1.65925639, -0.32191027],\n",
       "       [-0.50620784, -0.18262158]])"
      ]
     },
     "execution_count": 45,
     "metadata": {},
     "output_type": "execute_result"
    }
   ],
   "source": [
    "np.tile(arr, (2, 1))"
   ]
  },
  {
   "cell_type": "code",
   "execution_count": 46,
   "id": "53b9cafd-723e-4881-9368-a4444922b391",
   "metadata": {
    "tags": []
   },
   "outputs": [
    {
     "data": {
      "text/plain": [
       "array([[-1.65925639, -0.32191027, -1.65925639, -0.32191027],\n",
       "       [-0.50620784, -0.18262158, -0.50620784, -0.18262158],\n",
       "       [-1.65925639, -0.32191027, -1.65925639, -0.32191027],\n",
       "       [-0.50620784, -0.18262158, -0.50620784, -0.18262158],\n",
       "       [-1.65925639, -0.32191027, -1.65925639, -0.32191027],\n",
       "       [-0.50620784, -0.18262158, -0.50620784, -0.18262158]])"
      ]
     },
     "execution_count": 46,
     "metadata": {},
     "output_type": "execute_result"
    }
   ],
   "source": [
    "np.tile(arr, (3, 2))"
   ]
  },
  {
   "cell_type": "markdown",
   "id": "f9597f40-8570-48a3-bc52-81782ce187ec",
   "metadata": {},
   "source": [
    "## 花式索引的等价函数：take和put\n",
    "\n",
    "在第4章中我们讲过，获取和设置数组子集的一个办法是通过整数数组使用花式索引："
   ]
  },
  {
   "cell_type": "code",
   "execution_count": 47,
   "id": "9c17a116-247b-4345-a22e-b5902fd2f3ce",
   "metadata": {
    "tags": []
   },
   "outputs": [
    {
     "data": {
      "text/plain": [
       "array([700, 100, 200, 600])"
      ]
     },
     "execution_count": 47,
     "metadata": {},
     "output_type": "execute_result"
    }
   ],
   "source": [
    "arr = np.arange(10) * 100\n",
    "\n",
    "inds = [7, 1, 2, 6]\n",
    "\n",
    "\n",
    "arr[inds]"
   ]
  },
  {
   "cell_type": "markdown",
   "id": "69feaeb1-5582-4bbe-827d-f8c8d7085323",
   "metadata": {},
   "source": [
    "ndarray还有其它方法用于获取单个轴向上的选区："
   ]
  },
  {
   "cell_type": "code",
   "execution_count": 48,
   "id": "a64870d1-41d4-499c-bc0c-5071527ad40a",
   "metadata": {
    "tags": []
   },
   "outputs": [
    {
     "data": {
      "text/plain": [
       "array([  0,  42,  42, 300, 400, 500,  42,  42, 800, 900])"
      ]
     },
     "execution_count": 48,
     "metadata": {},
     "output_type": "execute_result"
    }
   ],
   "source": [
    "arr.take(inds)\n",
    "\n",
    "\n",
    "arr.put(inds, 42)\n",
    "\n",
    "\n",
    "arr"
   ]
  },
  {
   "cell_type": "code",
   "execution_count": 50,
   "id": "ca5e93eb-b6fa-4f27-ac96-16d1d09cae7b",
   "metadata": {
    "tags": []
   },
   "outputs": [
    {
     "data": {
      "text/plain": [
       "array([  0,  41,  42, 300, 400, 500,  43,  40, 800, 900])"
      ]
     },
     "execution_count": 50,
     "metadata": {},
     "output_type": "execute_result"
    }
   ],
   "source": [
    "arr.put(inds, [40, 41, 42, 43])\n",
    "\n",
    "arr"
   ]
  },
  {
   "cell_type": "markdown",
   "id": "845d6fa2-05ea-4ec1-ad8f-ea3816c63181",
   "metadata": {},
   "source": [
    "要在其它轴上使用take，只需传入axis关键字即可："
   ]
  },
  {
   "cell_type": "code",
   "execution_count": 51,
   "id": "3b59fd6e-b8bf-4591-834a-e5c6bbce5d35",
   "metadata": {
    "tags": []
   },
   "outputs": [
    {
     "data": {
      "text/plain": [
       "array([[-1.61566876, -0.19050563,  0.0156007 ,  0.13756615],\n",
       "       [ 0.69576078,  0.78433202,  0.87687069,  0.32608304]])"
      ]
     },
     "execution_count": 51,
     "metadata": {},
     "output_type": "execute_result"
    }
   ],
   "source": [
    "inds = [2, 0, 2, 1]\n",
    "\n",
    "arr = np.random.randn(2, 4)\n",
    "\n",
    "arr"
   ]
  },
  {
   "cell_type": "code",
   "execution_count": 52,
   "id": "bc66a3aa-a16d-4997-a3e4-e20f0de367c2",
   "metadata": {
    "tags": []
   },
   "outputs": [
    {
     "data": {
      "text/plain": [
       "array([[ 0.0156007 , -1.61566876,  0.0156007 , -0.19050563],\n",
       "       [ 0.87687069,  0.69576078,  0.87687069,  0.78433202]])"
      ]
     },
     "execution_count": 52,
     "metadata": {},
     "output_type": "execute_result"
    }
   ],
   "source": [
    "arr.take(inds, axis=1)"
   ]
  },
  {
   "cell_type": "markdown",
   "id": "df84ef1a-6c88-4d79-b1be-73e996fe35a9",
   "metadata": {},
   "source": [
    "put不接受axis参数，它只会在数组的扁平化版本（一维，C顺序）上进行索引。因此，在需要用其他轴向的索引设置元素时，最好还是使用花式索引。"
   ]
  },
  {
   "cell_type": "code",
   "execution_count": null,
   "id": "953e656b-2aaf-4b45-9ae6-c9ae62cec96a",
   "metadata": {},
   "outputs": [],
   "source": []
  }
 ],
 "metadata": {
  "kernelspec": {
   "display_name": "Python 3 (ipykernel)",
   "language": "python",
   "name": "python3"
  },
  "language_info": {
   "codemirror_mode": {
    "name": "ipython",
    "version": 3
   },
   "file_extension": ".py",
   "mimetype": "text/x-python",
   "name": "python",
   "nbconvert_exporter": "python",
   "pygments_lexer": "ipython3",
   "version": "3.8.10"
  }
 },
 "nbformat": 4,
 "nbformat_minor": 5
}
