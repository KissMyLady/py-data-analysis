{
 "cells": [
  {
   "cell_type": "markdown",
   "id": "076d075e-1efc-47d6-ac77-74bd4b9965a2",
   "metadata": {},
   "source": [
    "# A.6 更多有关排序的话题\n",
    "\n",
    "跟Python内置的列表一样，ndarray的sort实例方法也是就地排序。也就是说，数组内容的重新排列是不会产生新数组的："
   ]
  },
  {
   "cell_type": "code",
   "execution_count": 2,
   "id": "2593c8c5-d6ed-4636-92f3-fa0f6224c81d",
   "metadata": {
    "tags": []
   },
   "outputs": [],
   "source": [
    "import numpy as np"
   ]
  },
  {
   "cell_type": "code",
   "execution_count": 3,
   "id": "f23cd048-98c1-41ef-a76a-8d470f909701",
   "metadata": {
    "tags": []
   },
   "outputs": [
    {
     "data": {
      "text/plain": [
       "array([-0.30826509, -0.20607945,  0.08027812,  1.10375238,  1.1800909 ,\n",
       "        1.4999838 ])"
      ]
     },
     "execution_count": 3,
     "metadata": {},
     "output_type": "execute_result"
    }
   ],
   "source": [
    "arr = np.random.randn(6)\n",
    "\n",
    "arr.sort()\n",
    "\n",
    "arr"
   ]
  },
  {
   "cell_type": "markdown",
   "id": "270dbacd-7ca4-40ed-a1f1-89fc72f3822e",
   "metadata": {},
   "source": [
    "在对数组进行就地排序时要注意一点，如果目标数组只是一个视图，则原始数组将会被修改："
   ]
  },
  {
   "cell_type": "code",
   "execution_count": 4,
   "id": "282e1fa5-f88e-442b-8194-a3cbae5b3901",
   "metadata": {
    "tags": []
   },
   "outputs": [
    {
     "data": {
      "text/plain": [
       "array([[-0.9506252 ,  0.03810191, -0.45741525, -0.21485722,  0.22785563],\n",
       "       [ 0.21478368,  0.00725486, -0.66159205,  1.6715343 , -0.63847846],\n",
       "       [-0.18868164, -0.51598031,  1.71909875,  1.36262638,  0.88090668]])"
      ]
     },
     "execution_count": 4,
     "metadata": {},
     "output_type": "execute_result"
    }
   ],
   "source": [
    "arr = np.random.randn(3, 5)\n",
    "\n",
    "arr"
   ]
  },
  {
   "cell_type": "code",
   "execution_count": 5,
   "id": "83620b03-ba11-4bb3-8830-bccfc62a5126",
   "metadata": {
    "tags": []
   },
   "outputs": [],
   "source": [
    "arr[:, 0].sort()  # Sort first column values in-place"
   ]
  },
  {
   "cell_type": "code",
   "execution_count": 7,
   "id": "b8c9430c-a4c6-4aa6-95a1-158025c67a00",
   "metadata": {
    "tags": []
   },
   "outputs": [
    {
     "data": {
      "text/plain": [
       "array([[-0.9506252 ,  0.03810191, -0.45741525, -0.21485722,  0.22785563],\n",
       "       [-0.18868164,  0.00725486, -0.66159205,  1.6715343 , -0.63847846],\n",
       "       [ 0.21478368, -0.51598031,  1.71909875,  1.36262638,  0.88090668]])"
      ]
     },
     "execution_count": 7,
     "metadata": {},
     "output_type": "execute_result"
    }
   ],
   "source": [
    "# 很明显, 没有被修改\n",
    "arr"
   ]
  },
  {
   "cell_type": "markdown",
   "id": "f20cc484-1530-41e7-b408-15d1533a7e52",
   "metadata": {},
   "source": [
    "相反，numpy.sort会为原数组创建一个已排序副本。另外，它所接受的参数（比如kind）跟ndarray.sort一样："
   ]
  },
  {
   "cell_type": "code",
   "execution_count": 9,
   "id": "1edcc095-2d07-455f-8df4-2028b553ae2f",
   "metadata": {
    "tags": []
   },
   "outputs": [
    {
     "data": {
      "text/plain": [
       "array([-0.40724733, -0.13473455,  2.46845716, -1.74959492, -0.36279067])"
      ]
     },
     "execution_count": 9,
     "metadata": {},
     "output_type": "execute_result"
    }
   ],
   "source": [
    "arr = np.random.randn(5)\n",
    "\n",
    "arr"
   ]
  },
  {
   "cell_type": "code",
   "execution_count": 10,
   "id": "1f8c0fa1-3bbd-4301-aa56-f04dc82aee44",
   "metadata": {
    "tags": []
   },
   "outputs": [
    {
     "data": {
      "text/plain": [
       "array([-1.74959492, -0.40724733, -0.36279067, -0.13473455,  2.46845716])"
      ]
     },
     "execution_count": 10,
     "metadata": {},
     "output_type": "execute_result"
    }
   ],
   "source": [
    "np.sort(arr)"
   ]
  },
  {
   "cell_type": "code",
   "execution_count": 11,
   "id": "9864c62c-da7a-4ea9-a281-2ee0f162db68",
   "metadata": {
    "tags": []
   },
   "outputs": [
    {
     "data": {
      "text/plain": [
       "array([-0.40724733, -0.13473455,  2.46845716, -1.74959492, -0.36279067])"
      ]
     },
     "execution_count": 11,
     "metadata": {},
     "output_type": "execute_result"
    }
   ],
   "source": [
    "arr"
   ]
  },
  {
   "cell_type": "code",
   "execution_count": null,
   "id": "c68f42bf-a463-4cf3-9d0c-96a672677b69",
   "metadata": {},
   "outputs": [],
   "source": []
  }
 ],
 "metadata": {
  "kernelspec": {
   "display_name": "Python 3 (ipykernel)",
   "language": "python",
   "name": "python3"
  },
  "language_info": {
   "codemirror_mode": {
    "name": "ipython",
    "version": 3
   },
   "file_extension": ".py",
   "mimetype": "text/x-python",
   "name": "python",
   "nbconvert_exporter": "python",
   "pygments_lexer": "ipython3",
   "version": "3.8.10"
  }
 },
 "nbformat": 4,
 "nbformat_minor": 5
}
