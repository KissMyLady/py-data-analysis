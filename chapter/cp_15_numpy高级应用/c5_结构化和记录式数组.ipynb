{
 "cells": [
  {
   "cell_type": "markdown",
   "id": "ec8d52dd-c28c-4dfd-a5f5-2c7b59a82bd6",
   "metadata": {},
   "source": [
    "# A.5 结构化和记录式数组\n",
    "\n",
    "你可能已经注意到了，到目前为止我们所讨论的ndarray都是一种同质数据容器，也就是说，在它所表示的内存块中，各元素占用的字节数相同（具体根据dtype而定）。从表面上看，它似乎不能用于表示异质或表格型的数据。结构化数组是一种特殊的ndarray，其中的各个元素可以被看做C语言中的结构体（struct，这就是“结构化”的由来）或SQL表中带有多个命名字段的行："
   ]
  },
  {
   "cell_type": "code",
   "execution_count": 1,
   "id": "49951362-ed52-475e-a01e-ef148eb7d556",
   "metadata": {
    "tags": []
   },
   "outputs": [],
   "source": [
    "import numpy as np"
   ]
  },
  {
   "cell_type": "code",
   "execution_count": 2,
   "id": "66c04a2b-295d-417e-81be-70137056ecc3",
   "metadata": {
    "tags": []
   },
   "outputs": [
    {
     "data": {
      "text/plain": [
       "array([(1.5       ,  6), (3.14159265, -2)],\n",
       "      dtype=[('x', '<f8'), ('y', '<i4')])"
      ]
     },
     "execution_count": 2,
     "metadata": {},
     "output_type": "execute_result"
    }
   ],
   "source": [
    "dtype = [('x', np.float64), ('y', np.int32)]\n",
    "\n",
    "\n",
    "sarr = np.array([(1.5, 6), (np.pi, -2)], dtype=dtype)\n",
    "\n",
    "\n",
    "sarr"
   ]
  },
  {
   "cell_type": "markdown",
   "id": "612d2b25-599e-4bc0-846b-a766b915e0ec",
   "metadata": {},
   "source": [
    "定义结构化dtype（请参考NumPy的在线文档）的方式有很多。最典型的办法是元组列表，各元组的格式为(field_name,field_data_type)。这样，数组的元素就成了元组式的对象，该对象中各个元素可以像字典那样进行访问："
   ]
  },
  {
   "cell_type": "code",
   "execution_count": 3,
   "id": "29632597-c56d-4dce-86c5-c0f9201752bd",
   "metadata": {
    "tags": []
   },
   "outputs": [
    {
     "data": {
      "text/plain": [
       "(1.5, 6)"
      ]
     },
     "execution_count": 3,
     "metadata": {},
     "output_type": "execute_result"
    }
   ],
   "source": [
    "sarr[0]"
   ]
  },
  {
   "cell_type": "code",
   "execution_count": 4,
   "id": "d58d6e77-2623-41f8-ba13-f671eb4aac0d",
   "metadata": {
    "tags": []
   },
   "outputs": [
    {
     "data": {
      "text/plain": [
       "6"
      ]
     },
     "execution_count": 4,
     "metadata": {},
     "output_type": "execute_result"
    }
   ],
   "source": [
    "sarr[0]['y']"
   ]
  },
  {
   "cell_type": "markdown",
   "id": "3a6379f3-ba6d-4d2d-a866-0c151471f5f0",
   "metadata": {},
   "source": [
    "字段名保存在dtype.names属性中。在访问结构化数组的某个字段时，返回的是该数据的视图，所以不会发生数据复制："
   ]
  },
  {
   "cell_type": "code",
   "execution_count": 5,
   "id": "24c5be8d-a7da-4236-ae1d-4a1bee8c4969",
   "metadata": {
    "tags": []
   },
   "outputs": [
    {
     "data": {
      "text/plain": [
       "array([1.5       , 3.14159265])"
      ]
     },
     "execution_count": 5,
     "metadata": {},
     "output_type": "execute_result"
    }
   ],
   "source": [
    "sarr['x']"
   ]
  },
  {
   "cell_type": "markdown",
   "id": "f80b9c21-a7ee-467a-a285-a0dde6c06701",
   "metadata": {},
   "source": [
    "## 嵌套dtype和多维字段\n",
    "\n",
    "在定义结构化dtype时，你可以再设置一个形状（可以是一个整数，也可以是一个元组）："
   ]
  },
  {
   "cell_type": "code",
   "execution_count": 6,
   "id": "106b54d8-4de6-4e35-a293-5c957318b514",
   "metadata": {
    "tags": []
   },
   "outputs": [
    {
     "data": {
      "text/plain": [
       "array([([0, 0, 0], 0), ([0, 0, 0], 0), ([0, 0, 0], 0), ([0, 0, 0], 0)],\n",
       "      dtype=[('x', '<i8', (3,)), ('y', '<i4')])"
      ]
     },
     "execution_count": 6,
     "metadata": {},
     "output_type": "execute_result"
    }
   ],
   "source": [
    "dtype = [('x', np.int64, 3), ('y', np.int32)]\n",
    "\n",
    "\n",
    "arr = np.zeros(4, dtype=dtype)\n",
    "\n",
    "\n",
    "arr"
   ]
  },
  {
   "cell_type": "markdown",
   "id": "c54a043f-7f31-46b5-8a85-a701a3bbf4b5",
   "metadata": {},
   "source": [
    "在这种情况下，各个记录的x字段所表示的是一个长度为3的数组："
   ]
  },
  {
   "cell_type": "code",
   "execution_count": 7,
   "id": "95a8c89d-7f13-4d08-8c79-4dde99f7a872",
   "metadata": {
    "tags": []
   },
   "outputs": [
    {
     "data": {
      "text/plain": [
       "array([0, 0, 0])"
      ]
     },
     "execution_count": 7,
     "metadata": {},
     "output_type": "execute_result"
    }
   ],
   "source": [
    "arr[0]['x']"
   ]
  },
  {
   "cell_type": "markdown",
   "id": "471f33c5-8ccb-4f22-a92a-1b400598f070",
   "metadata": {
    "tags": []
   },
   "source": [
    "这样，访问 `arr['x']` 即可得到一个二维数组，而不是前面那个例子中的一维数组："
   ]
  },
  {
   "cell_type": "code",
   "execution_count": 9,
   "id": "01f734b0-c408-4d4b-ba81-d114242e3e17",
   "metadata": {
    "tags": []
   },
   "outputs": [
    {
     "data": {
      "text/plain": [
       "array([[0, 0, 0],\n",
       "       [0, 0, 0],\n",
       "       [0, 0, 0],\n",
       "       [0, 0, 0]])"
      ]
     },
     "execution_count": 9,
     "metadata": {},
     "output_type": "execute_result"
    }
   ],
   "source": [
    "arr['x']"
   ]
  },
  {
   "cell_type": "code",
   "execution_count": 10,
   "id": "bb9043ad-17b9-4f8f-935f-35e2a0e01ef8",
   "metadata": {
    "tags": []
   },
   "outputs": [
    {
     "data": {
      "text/plain": [
       "array([0, 0, 0, 0], dtype=int32)"
      ]
     },
     "execution_count": 10,
     "metadata": {},
     "output_type": "execute_result"
    }
   ],
   "source": [
    "arr['y']"
   ]
  },
  {
   "cell_type": "markdown",
   "id": "5dafa304-7338-43b7-b1ab-98ad1d4c96f1",
   "metadata": {},
   "source": [
    "这就使你能用单个数组的内存块存放复杂的嵌套结构。你还可以嵌套dtype，作出更复杂的结构。下面是一个简单的例子："
   ]
  },
  {
   "cell_type": "code",
   "execution_count": 11,
   "id": "5b3f4a5d-9d07-4b45-b84f-408143e845b3",
   "metadata": {
    "tags": []
   },
   "outputs": [
    {
     "data": {
      "text/plain": [
       "array([(1., 2.), (3., 4.)], dtype=[('a', '<f8'), ('b', '<f4')])"
      ]
     },
     "execution_count": 11,
     "metadata": {},
     "output_type": "execute_result"
    }
   ],
   "source": [
    "dtype = [('x', [('a', 'f8'), ('b', 'f4')]), ('y', np.int32)]\n",
    "\n",
    "\n",
    "data = np.array([((1, 2), 5), ((3, 4), 6)], dtype=dtype)\n",
    "\n",
    "\n",
    "data['x']"
   ]
  },
  {
   "cell_type": "code",
   "execution_count": 12,
   "id": "6fb0c7f3-e3db-447b-8450-2868327a094e",
   "metadata": {
    "tags": []
   },
   "outputs": [
    {
     "data": {
      "text/plain": [
       "array([5, 6], dtype=int32)"
      ]
     },
     "execution_count": 12,
     "metadata": {},
     "output_type": "execute_result"
    }
   ],
   "source": [
    "data['y']"
   ]
  },
  {
   "cell_type": "code",
   "execution_count": 13,
   "id": "e092f29b-1569-4814-bf20-b6150d356e10",
   "metadata": {
    "tags": []
   },
   "outputs": [
    {
     "data": {
      "text/plain": [
       "array([1., 3.])"
      ]
     },
     "execution_count": 13,
     "metadata": {},
     "output_type": "execute_result"
    }
   ],
   "source": [
    "data['x']['a']"
   ]
  },
  {
   "cell_type": "markdown",
   "id": "675f146e-bb4e-4029-abc5-f2f17177457f",
   "metadata": {},
   "source": [
    "pandas的DataFrame并不直接支持该功能，但它的分层索引机制跟这个差不多。\n",
    "\n",
    "## 为什么要用结构化数组\n",
    "\n",
    "跟pandas的DataFrame相比，NumPy的结构化数组是一种相对较低级的工具。它可以将单个内存块解释为带有任意复杂嵌套列的表格型结构。由于数组中的每个元素在内存中都被表示为固定的字节数，所以结构化数组能够提供非常快速高效的磁盘数据读写（包括内存映像）、网络传输等功能。\n",
    "\n",
    "结构化数组的另一个常见用法是，将数据文件写成定长记录字节流，这是C和C++代码中常见的数据序列化手段（业界许多历史系统中都能找得到）。只要知道文件的格式（记录的大小、元素的顺序、字节数以及数据类型等），就可以用np.fromfile将数据读入内存。这种用法超出了本书的范围，知道这点就可以了。"
   ]
  },
  {
   "cell_type": "code",
   "execution_count": null,
   "id": "86238bc1-381e-4a1a-b88e-f7b3dfbf0fda",
   "metadata": {},
   "outputs": [],
   "source": []
  }
 ],
 "metadata": {
  "kernelspec": {
   "display_name": "Python 3 (ipykernel)",
   "language": "python",
   "name": "python3"
  },
  "language_info": {
   "codemirror_mode": {
    "name": "ipython",
    "version": 3
   },
   "file_extension": ".py",
   "mimetype": "text/x-python",
   "name": "python",
   "nbconvert_exporter": "python",
   "pygments_lexer": "ipython3",
   "version": "3.8.10"
  }
 },
 "nbformat": 4,
 "nbformat_minor": 5
}
