{
 "cells": [
  {
   "cell_type": "markdown",
   "id": "85a72bdd-2c65-4360-9049-2a1f46d7b194",
   "metadata": {},
   "source": [
    "## 相关系数与协方差\n",
    "\n",
    "有些汇总统计（如相关系数和协方差）是通过参数对计算出来的。我们来看几个DataFrame，它们的数据来自Yahoo!Finance的股票价格和成交量，使用的是pandas-datareader包（可以用conda或pip安装）："
   ]
  },
  {
   "cell_type": "code",
   "execution_count": 47,
   "id": "c15ae2cb-913f-42a6-9b5d-d0c441a8fd5b",
   "metadata": {
    "tags": []
   },
   "outputs": [],
   "source": [
    "import pandas_datareader.data as pdr\n",
    "import fix_yahoo_finance as yf\n",
    "\n",
    "\n",
    "import pandas as pd\n",
    "import numpy as np\n",
    "\n",
    "\n",
    "yf.pdr_override()"
   ]
  },
  {
   "cell_type": "code",
   "execution_count": 35,
   "id": "899edb88-cd32-443d-af5b-b5bc32f52e24",
   "metadata": {
    "tags": []
   },
   "outputs": [],
   "source": [
    "# 手动加载\n",
    "# data_path = r'/home/mylady/code/python/py-data-analysis/data_examples'\n",
    "data_path = r'../../data_examples'\n",
    "\n",
    "\n",
    "yahoo_volume = pd.read_pickle('%s/%s' % (data_path, 'yahoo_volume.pkl'))\n",
    "yahoo_price = pd.read_pickle('%s/%s' % (data_path, 'yahoo_price.pkl'))"
   ]
  },
  {
   "cell_type": "code",
   "execution_count": 36,
   "id": "1aa188bd-4da7-4212-b84c-7884810e4c1a",
   "metadata": {
    "tags": []
   },
   "outputs": [
    {
     "name": "stdout",
     "output_type": "stream",
     "text": [
      "交易量 前5行数据: \n",
      "                  AAPL      GOOG      IBM      MSFT\n",
      "Date                                              \n",
      "2010-01-04  123432400   3927000  6155300  38409100\n",
      "2010-01-05  150476200   6031900  6841400  49749600\n",
      "2010-01-06  138040000   7987100  5605300  58182400\n",
      "2010-01-07  119282800  12876600  5840600  50559700\n",
      "2010-01-08  111902700   9483900  4197200  51197400\n",
      "\n",
      "交易量 打印索引: \n",
      " DatetimeIndex(['2010-01-04', '2010-01-05', '2010-01-06', '2010-01-07',\n",
      "               '2010-01-08', '2010-01-11', '2010-01-12', '2010-01-13',\n",
      "               '2010-01-14', '2010-01-15',\n",
      "               ...\n",
      "               '2016-10-10', '2016-10-11', '2016-10-12', '2016-10-13',\n",
      "               '2016-10-14', '2016-10-17', '2016-10-18', '2016-10-19',\n",
      "               '2016-10-20', '2016-10-21'],\n",
      "              dtype='datetime64[ns]', name='Date', length=1714, freq=None)\n",
      "\n",
      "交易量 打印行: \n",
      " Index(['AAPL', 'GOOG', 'IBM', 'MSFT'], dtype='object')\n"
     ]
    }
   ],
   "source": [
    "print('交易量 前5行数据: \\n', yahoo_volume.head())\n",
    "\n",
    "print('\\n交易量 打印索引: \\n', yahoo_volume.index)\n",
    "\n",
    "print('\\n交易量 打印行: \\n', yahoo_volume.columns)"
   ]
  },
  {
   "cell_type": "code",
   "execution_count": 27,
   "id": "e950bb0b-f01f-4dbc-92e8-9cdbfdeb02f9",
   "metadata": {
    "tags": []
   },
   "outputs": [
    {
     "name": "stdout",
     "output_type": "stream",
     "text": [
      "价格 前5行数据: \n",
      "                  AAPL        GOOG         IBM       MSFT\n",
      "Date                                                    \n",
      "2010-01-04  27.990226  313.062468  113.304536  25.884104\n",
      "2010-01-05  28.038618  311.683844  111.935822  25.892466\n",
      "2010-01-06  27.592626  303.826685  111.208683  25.733566\n",
      "2010-01-07  27.541619  296.753749  110.823732  25.465944\n",
      "2010-01-08  27.724725  300.709808  111.935822  25.641571\n",
      "\n",
      "价格 打印索引: \n",
      " DatetimeIndex(['2010-01-04', '2010-01-05', '2010-01-06', '2010-01-07',\n",
      "               '2010-01-08', '2010-01-11', '2010-01-12', '2010-01-13',\n",
      "               '2010-01-14', '2010-01-15',\n",
      "               ...\n",
      "               '2016-10-10', '2016-10-11', '2016-10-12', '2016-10-13',\n",
      "               '2016-10-14', '2016-10-17', '2016-10-18', '2016-10-19',\n",
      "               '2016-10-20', '2016-10-21'],\n",
      "              dtype='datetime64[ns]', name='Date', length=1714, freq=None)\n",
      "\n",
      "价格 打印行: \n",
      " Index(['AAPL', 'GOOG', 'IBM', 'MSFT'], dtype='object')\n"
     ]
    }
   ],
   "source": [
    "print('价格 前5行数据: \\n', yahoo_price.head())\n",
    "\n",
    "print('\\n价格 打印索引: \\n', yahoo_price.index)\n",
    "\n",
    "print('\\n价格 打印行: \\n', yahoo_price.columns)"
   ]
  },
  {
   "cell_type": "markdown",
   "id": "417a466c-ddcd-4b4e-a7fd-f15c004c4c3f",
   "metadata": {},
   "source": [
    "> 注意：此时Yahoo! Finance已经不存在了，因为2017年Yahoo!被Verizon收购了。参阅pandas-datareader文档，可以学习最新的功能。\n",
    "\n",
    "我使用pandas_datareader模块下载了一些股票数据："
   ]
  },
  {
   "cell_type": "markdown",
   "id": "a87a899d-55ef-49f9-9f13-ec8bb2de6660",
   "metadata": {},
   "source": [
    "现在计算价格的百分数变化，时间序列的操作会在第11章介绍："
   ]
  },
  {
   "cell_type": "code",
   "execution_count": 29,
   "id": "6a74f14b-c08d-4431-88a5-cfea9208b425",
   "metadata": {
    "tags": []
   },
   "outputs": [
    {
     "data": {
      "text/html": [
       "<div>\n",
       "<style scoped>\n",
       "    .dataframe tbody tr th:only-of-type {\n",
       "        vertical-align: middle;\n",
       "    }\n",
       "\n",
       "    .dataframe tbody tr th {\n",
       "        vertical-align: top;\n",
       "    }\n",
       "\n",
       "    .dataframe thead th {\n",
       "        text-align: right;\n",
       "    }\n",
       "</style>\n",
       "<table border=\"1\" class=\"dataframe\">\n",
       "  <thead>\n",
       "    <tr style=\"text-align: right;\">\n",
       "      <th></th>\n",
       "      <th>AAPL</th>\n",
       "      <th>GOOG</th>\n",
       "      <th>IBM</th>\n",
       "      <th>MSFT</th>\n",
       "    </tr>\n",
       "    <tr>\n",
       "      <th>Date</th>\n",
       "      <th></th>\n",
       "      <th></th>\n",
       "      <th></th>\n",
       "      <th></th>\n",
       "    </tr>\n",
       "  </thead>\n",
       "  <tbody>\n",
       "    <tr>\n",
       "      <th>2010-01-04</th>\n",
       "      <td>NaN</td>\n",
       "      <td>NaN</td>\n",
       "      <td>NaN</td>\n",
       "      <td>NaN</td>\n",
       "    </tr>\n",
       "    <tr>\n",
       "      <th>2010-01-05</th>\n",
       "      <td>0.001729</td>\n",
       "      <td>-0.004404</td>\n",
       "      <td>-0.012080</td>\n",
       "      <td>0.000323</td>\n",
       "    </tr>\n",
       "    <tr>\n",
       "      <th>2010-01-06</th>\n",
       "      <td>-0.015906</td>\n",
       "      <td>-0.025209</td>\n",
       "      <td>-0.006496</td>\n",
       "      <td>-0.006137</td>\n",
       "    </tr>\n",
       "    <tr>\n",
       "      <th>2010-01-07</th>\n",
       "      <td>-0.001849</td>\n",
       "      <td>-0.023280</td>\n",
       "      <td>-0.003462</td>\n",
       "      <td>-0.010400</td>\n",
       "    </tr>\n",
       "    <tr>\n",
       "      <th>2010-01-08</th>\n",
       "      <td>0.006648</td>\n",
       "      <td>0.013331</td>\n",
       "      <td>0.010035</td>\n",
       "      <td>0.006897</td>\n",
       "    </tr>\n",
       "    <tr>\n",
       "      <th>...</th>\n",
       "      <td>...</td>\n",
       "      <td>...</td>\n",
       "      <td>...</td>\n",
       "      <td>...</td>\n",
       "    </tr>\n",
       "    <tr>\n",
       "      <th>2016-10-17</th>\n",
       "      <td>-0.000680</td>\n",
       "      <td>0.001837</td>\n",
       "      <td>0.002072</td>\n",
       "      <td>-0.003483</td>\n",
       "    </tr>\n",
       "    <tr>\n",
       "      <th>2016-10-18</th>\n",
       "      <td>-0.000681</td>\n",
       "      <td>0.019616</td>\n",
       "      <td>-0.026168</td>\n",
       "      <td>0.007690</td>\n",
       "    </tr>\n",
       "    <tr>\n",
       "      <th>2016-10-19</th>\n",
       "      <td>-0.002979</td>\n",
       "      <td>0.007846</td>\n",
       "      <td>0.003583</td>\n",
       "      <td>-0.002255</td>\n",
       "    </tr>\n",
       "    <tr>\n",
       "      <th>2016-10-20</th>\n",
       "      <td>-0.000512</td>\n",
       "      <td>-0.005652</td>\n",
       "      <td>0.001719</td>\n",
       "      <td>-0.004867</td>\n",
       "    </tr>\n",
       "    <tr>\n",
       "      <th>2016-10-21</th>\n",
       "      <td>-0.003930</td>\n",
       "      <td>0.003011</td>\n",
       "      <td>-0.012474</td>\n",
       "      <td>0.042096</td>\n",
       "    </tr>\n",
       "  </tbody>\n",
       "</table>\n",
       "<p>1714 rows × 4 columns</p>\n",
       "</div>"
      ],
      "text/plain": [
       "                AAPL      GOOG       IBM      MSFT\n",
       "Date                                              \n",
       "2010-01-04       NaN       NaN       NaN       NaN\n",
       "2010-01-05  0.001729 -0.004404 -0.012080  0.000323\n",
       "2010-01-06 -0.015906 -0.025209 -0.006496 -0.006137\n",
       "2010-01-07 -0.001849 -0.023280 -0.003462 -0.010400\n",
       "2010-01-08  0.006648  0.013331  0.010035  0.006897\n",
       "...              ...       ...       ...       ...\n",
       "2016-10-17 -0.000680  0.001837  0.002072 -0.003483\n",
       "2016-10-18 -0.000681  0.019616 -0.026168  0.007690\n",
       "2016-10-19 -0.002979  0.007846  0.003583 -0.002255\n",
       "2016-10-20 -0.000512 -0.005652  0.001719 -0.004867\n",
       "2016-10-21 -0.003930  0.003011 -0.012474  0.042096\n",
       "\n",
       "[1714 rows x 4 columns]"
      ]
     },
     "execution_count": 29,
     "metadata": {},
     "output_type": "execute_result"
    }
   ],
   "source": [
    "returns = yahoo_price.pct_change()\n",
    "\n",
    "returns"
   ]
  },
  {
   "cell_type": "code",
   "execution_count": 30,
   "id": "6e9b5790-473f-4ad2-aaa2-efd944fb1726",
   "metadata": {
    "tags": []
   },
   "outputs": [
    {
     "data": {
      "text/html": [
       "<div>\n",
       "<style scoped>\n",
       "    .dataframe tbody tr th:only-of-type {\n",
       "        vertical-align: middle;\n",
       "    }\n",
       "\n",
       "    .dataframe tbody tr th {\n",
       "        vertical-align: top;\n",
       "    }\n",
       "\n",
       "    .dataframe thead th {\n",
       "        text-align: right;\n",
       "    }\n",
       "</style>\n",
       "<table border=\"1\" class=\"dataframe\">\n",
       "  <thead>\n",
       "    <tr style=\"text-align: right;\">\n",
       "      <th></th>\n",
       "      <th>AAPL</th>\n",
       "      <th>GOOG</th>\n",
       "      <th>IBM</th>\n",
       "      <th>MSFT</th>\n",
       "    </tr>\n",
       "    <tr>\n",
       "      <th>Date</th>\n",
       "      <th></th>\n",
       "      <th></th>\n",
       "      <th></th>\n",
       "      <th></th>\n",
       "    </tr>\n",
       "  </thead>\n",
       "  <tbody>\n",
       "    <tr>\n",
       "      <th>2016-10-17</th>\n",
       "      <td>-0.000680</td>\n",
       "      <td>0.001837</td>\n",
       "      <td>0.002072</td>\n",
       "      <td>-0.003483</td>\n",
       "    </tr>\n",
       "    <tr>\n",
       "      <th>2016-10-18</th>\n",
       "      <td>-0.000681</td>\n",
       "      <td>0.019616</td>\n",
       "      <td>-0.026168</td>\n",
       "      <td>0.007690</td>\n",
       "    </tr>\n",
       "    <tr>\n",
       "      <th>2016-10-19</th>\n",
       "      <td>-0.002979</td>\n",
       "      <td>0.007846</td>\n",
       "      <td>0.003583</td>\n",
       "      <td>-0.002255</td>\n",
       "    </tr>\n",
       "    <tr>\n",
       "      <th>2016-10-20</th>\n",
       "      <td>-0.000512</td>\n",
       "      <td>-0.005652</td>\n",
       "      <td>0.001719</td>\n",
       "      <td>-0.004867</td>\n",
       "    </tr>\n",
       "    <tr>\n",
       "      <th>2016-10-21</th>\n",
       "      <td>-0.003930</td>\n",
       "      <td>0.003011</td>\n",
       "      <td>-0.012474</td>\n",
       "      <td>0.042096</td>\n",
       "    </tr>\n",
       "  </tbody>\n",
       "</table>\n",
       "</div>"
      ],
      "text/plain": [
       "                AAPL      GOOG       IBM      MSFT\n",
       "Date                                              \n",
       "2016-10-17 -0.000680  0.001837  0.002072 -0.003483\n",
       "2016-10-18 -0.000681  0.019616 -0.026168  0.007690\n",
       "2016-10-19 -0.002979  0.007846  0.003583 -0.002255\n",
       "2016-10-20 -0.000512 -0.005652  0.001719 -0.004867\n",
       "2016-10-21 -0.003930  0.003011 -0.012474  0.042096"
      ]
     },
     "execution_count": 30,
     "metadata": {},
     "output_type": "execute_result"
    }
   ],
   "source": [
    "returns.tail()"
   ]
  },
  {
   "cell_type": "markdown",
   "id": "f388e3dd-2634-416c-916f-d4fdba854679",
   "metadata": {},
   "source": [
    "Series的corr方法用于计算两个Series中重叠的、非NA的、按索引对齐的值的相关系数。与此类似，cov用于计算协方差："
   ]
  },
  {
   "cell_type": "code",
   "execution_count": 33,
   "id": "ab373b6a-f5c2-4fd9-bbd2-db5c8c970719",
   "metadata": {
    "tags": []
   },
   "outputs": [
    {
     "data": {
      "text/plain": [
       "Date\n",
       "2010-01-04         NaN\n",
       "2010-01-05   -0.012080\n",
       "2010-01-06   -0.006496\n",
       "2010-01-07   -0.003462\n",
       "2010-01-08    0.010035\n",
       "                ...   \n",
       "2016-10-17    0.002072\n",
       "2016-10-18   -0.026168\n",
       "2016-10-19    0.003583\n",
       "2016-10-20    0.001719\n",
       "2016-10-21   -0.012474\n",
       "Name: IBM, Length: 1714, dtype: float64"
      ]
     },
     "execution_count": 33,
     "metadata": {},
     "output_type": "execute_result"
    }
   ],
   "source": [
    "returns['IBM']"
   ]
  },
  {
   "cell_type": "code",
   "execution_count": 31,
   "id": "8ce2e5c5-3d1a-4a0f-8190-6c8e5084374e",
   "metadata": {
    "tags": []
   },
   "outputs": [
    {
     "data": {
      "text/plain": [
       "0.49976361144151144"
      ]
     },
     "execution_count": 31,
     "metadata": {},
     "output_type": "execute_result"
    }
   ],
   "source": [
    "returns['MSFT'].corr(returns['IBM'])"
   ]
  },
  {
   "cell_type": "code",
   "execution_count": 32,
   "id": "851a8108-876f-4583-a7fc-1bdf5cc4a60e",
   "metadata": {
    "tags": []
   },
   "outputs": [
    {
     "data": {
      "text/plain": [
       "8.870655479703546e-05"
      ]
     },
     "execution_count": 32,
     "metadata": {},
     "output_type": "execute_result"
    }
   ],
   "source": [
    "returns['MSFT'].cov(returns['IBM'])"
   ]
  },
  {
   "cell_type": "markdown",
   "id": "61773abf-1482-46e1-a5e4-3455c6def144",
   "metadata": {},
   "source": [
    "因为MSTF是一个合理的Python属性，我们还可以用更简洁的语法选择列："
   ]
  },
  {
   "cell_type": "code",
   "execution_count": 37,
   "id": "e2305a44-4e62-4072-9d69-1acd0dadc295",
   "metadata": {},
   "outputs": [
    {
     "data": {
      "text/plain": [
       "0.49976361144151144"
      ]
     },
     "execution_count": 37,
     "metadata": {},
     "output_type": "execute_result"
    }
   ],
   "source": [
    "returns.MSFT.corr(returns.IBM)"
   ]
  },
  {
   "cell_type": "markdown",
   "id": "5032aa5a-eb7f-4707-ba1d-12fcaadfc3a1",
   "metadata": {},
   "source": [
    "另一方面，DataFrame的corr和cov方法将以DataFrame的形式分别返回完整的相关系数或协方差矩阵："
   ]
  },
  {
   "cell_type": "code",
   "execution_count": 38,
   "id": "1e4e8d52-d191-4c41-8885-aae9f0d0edd5",
   "metadata": {
    "tags": []
   },
   "outputs": [
    {
     "data": {
      "text/html": [
       "<div>\n",
       "<style scoped>\n",
       "    .dataframe tbody tr th:only-of-type {\n",
       "        vertical-align: middle;\n",
       "    }\n",
       "\n",
       "    .dataframe tbody tr th {\n",
       "        vertical-align: top;\n",
       "    }\n",
       "\n",
       "    .dataframe thead th {\n",
       "        text-align: right;\n",
       "    }\n",
       "</style>\n",
       "<table border=\"1\" class=\"dataframe\">\n",
       "  <thead>\n",
       "    <tr style=\"text-align: right;\">\n",
       "      <th></th>\n",
       "      <th>AAPL</th>\n",
       "      <th>GOOG</th>\n",
       "      <th>IBM</th>\n",
       "      <th>MSFT</th>\n",
       "    </tr>\n",
       "  </thead>\n",
       "  <tbody>\n",
       "    <tr>\n",
       "      <th>AAPL</th>\n",
       "      <td>1.000000</td>\n",
       "      <td>0.407919</td>\n",
       "      <td>0.386817</td>\n",
       "      <td>0.389695</td>\n",
       "    </tr>\n",
       "    <tr>\n",
       "      <th>GOOG</th>\n",
       "      <td>0.407919</td>\n",
       "      <td>1.000000</td>\n",
       "      <td>0.405099</td>\n",
       "      <td>0.465919</td>\n",
       "    </tr>\n",
       "    <tr>\n",
       "      <th>IBM</th>\n",
       "      <td>0.386817</td>\n",
       "      <td>0.405099</td>\n",
       "      <td>1.000000</td>\n",
       "      <td>0.499764</td>\n",
       "    </tr>\n",
       "    <tr>\n",
       "      <th>MSFT</th>\n",
       "      <td>0.389695</td>\n",
       "      <td>0.465919</td>\n",
       "      <td>0.499764</td>\n",
       "      <td>1.000000</td>\n",
       "    </tr>\n",
       "  </tbody>\n",
       "</table>\n",
       "</div>"
      ],
      "text/plain": [
       "          AAPL      GOOG       IBM      MSFT\n",
       "AAPL  1.000000  0.407919  0.386817  0.389695\n",
       "GOOG  0.407919  1.000000  0.405099  0.465919\n",
       "IBM   0.386817  0.405099  1.000000  0.499764\n",
       "MSFT  0.389695  0.465919  0.499764  1.000000"
      ]
     },
     "execution_count": 38,
     "metadata": {},
     "output_type": "execute_result"
    }
   ],
   "source": [
    "returns.corr()"
   ]
  },
  {
   "cell_type": "markdown",
   "id": "567dcf6b-bd0b-4414-9669-271d5dbf349c",
   "metadata": {},
   "source": [
    "利用DataFrame的corrwith方法，你可以计算其列或行跟另一个Series或DataFrame之间的相关系数。传入一个Series将会返回一个相关系数值Series（针对各列进行计算）："
   ]
  },
  {
   "cell_type": "code",
   "execution_count": 44,
   "id": "449bc351-ffd6-47cf-ad94-ebcb132debe5",
   "metadata": {
    "tags": []
   },
   "outputs": [
    {
     "name": "stdout",
     "output_type": "stream",
     "text": [
      "IBM: \n",
      "AAPL    0.386817\n",
      "GOOG    0.405099\n",
      "IBM     1.000000\n",
      "MSFT    0.499764\n",
      "dtype: float64\n",
      "\n",
      "GOOG: \n",
      "AAPL    0.407919\n",
      "GOOG    1.000000\n",
      "IBM     0.405099\n",
      "MSFT    0.465919\n",
      "dtype: float64\n",
      "\n",
      "AAPL: \n",
      "AAPL    1.000000\n",
      "GOOG    0.407919\n",
      "IBM     0.386817\n",
      "MSFT    0.389695\n",
      "dtype: float64\n"
     ]
    }
   ],
   "source": [
    "print(\"IBM: \")\n",
    "print(returns.corrwith(returns.IBM))\n",
    "\n",
    "print(\"\")\n",
    "\n",
    "print(\"GOOG: \")\n",
    "print(returns.corrwith(returns.GOOG))\n",
    "\n",
    "print(\"\")\n",
    "\n",
    "print(\"AAPL: \")\n",
    "print(returns.corrwith(returns.AAPL))"
   ]
  },
  {
   "cell_type": "markdown",
   "id": "d2f96d81-c887-4e68-b713-086e60f835b1",
   "metadata": {},
   "source": [
    "传入一个DataFrame则会计算按列名配对的相关系数。这里，我计算百分比变化与成交量的相关系数："
   ]
  },
  {
   "cell_type": "code",
   "execution_count": 46,
   "id": "1240c885-eae8-4c7e-8126-8fcb51f43274",
   "metadata": {
    "tags": []
   },
   "outputs": [
    {
     "data": {
      "text/plain": [
       "AAPL   -0.075565\n",
       "GOOG   -0.007067\n",
       "IBM    -0.204849\n",
       "MSFT   -0.092950\n",
       "dtype: float64"
      ]
     },
     "execution_count": 46,
     "metadata": {},
     "output_type": "execute_result"
    }
   ],
   "source": [
    "returns.corrwith(yahoo_volume)"
   ]
  },
  {
   "cell_type": "markdown",
   "id": "06cac68e-5ad1-4834-bd43-4745bf34a5b6",
   "metadata": {},
   "source": [
    "传入axis='columns'即可按行进行计算。无论如何，在计算相关系数之前，所有的数据项都会按标签对齐。"
   ]
  },
  {
   "cell_type": "code",
   "execution_count": null,
   "id": "81ebe764-b45d-4c5a-9f07-a708705a8478",
   "metadata": {},
   "outputs": [],
   "source": []
  }
 ],
 "metadata": {
  "kernelspec": {
   "display_name": "Python 3 (ipykernel)",
   "language": "python",
   "name": "python3"
  },
  "language_info": {
   "codemirror_mode": {
    "name": "ipython",
    "version": 3
   },
   "file_extension": ".py",
   "mimetype": "text/x-python",
   "name": "python",
   "nbconvert_exporter": "python",
   "pygments_lexer": "ipython3",
   "version": "3.8.10"
  }
 },
 "nbformat": 4,
 "nbformat_minor": 5
}
