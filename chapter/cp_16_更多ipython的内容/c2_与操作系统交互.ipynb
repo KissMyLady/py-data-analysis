{
 "cells": [
  {
   "cell_type": "markdown",
   "id": "0dcd35f4-ef17-4e51-bc51-9b73d5186944",
   "metadata": {},
   "source": [
    "# B.2 与操作系统交互\n",
    "\n",
    "IPython的另一个功能是无缝连接文件系统和操作系统。这意味着，在同时做其它事时，无需退出IPython，就可以像Windows或Unix使用命令行操作，包括shell命令、更改目录、用Python对象（列表或字符串）存储结果。它还有简单的命令别名和目录书签功能。\n",
    "\n",
    "表B-1总结了调用shell命令的魔术函数和语法。我会在下面几节介绍这些功能。"
   ]
  },
  {
   "cell_type": "code",
   "execution_count": 1,
   "id": "c85e5547-db77-4ce5-91b9-90f2b5dcb0e9",
   "metadata": {
    "tags": []
   },
   "outputs": [
    {
     "name": "stdout",
     "output_type": "stream",
     "text": [
      "~/code/python/py-data-analysis/chapter/cp_16_更多ipython的内容\n"
     ]
    }
   ],
   "source": [
    "!dirs"
   ]
  },
  {
   "cell_type": "code",
   "execution_count": 2,
   "id": "377e3a9b-0eb0-4320-b0d1-18dbbe925fbe",
   "metadata": {
    "tags": []
   },
   "outputs": [
    {
     "data": {
      "text/plain": [
       "{'SHELL': '/bin/bash',\n",
       " 'JAVA_PATH': '/home/mylady/apps/java8/jdk8/bin:/home/mylady/apps/java8/jdk8/jre/bin',\n",
       " 'LANGUAGE': 'zh_CN:zh',\n",
       " 'TERMCAP': 'SC|screen|VT 100/ANSI X3.64 virtual terminal:DO=\\\\E[%dB:LE=\\\\E[%dD:RI=\\\\E[%dC:UP=\\\\E[%dA:bs:bt=\\\\E[Z:cd=\\\\E[J:ce=\\\\E[K:cl=\\\\E[H\\\\E[J:cm=\\\\E[%i%d;%dH:ct=\\\\E[3g:do=^J:nd=\\\\E[C:pt:rc=\\\\E8:rs=\\\\Ec:sc=\\\\E7:st=\\\\EH:up=\\\\EM:le=^H:bl=^G:cr=^M:it#8:ho=\\\\E[H:nw=\\\\EE:ta=^I:is=\\\\E)0:li#45:co#172:am:xn:xv:LP:sr=\\\\EM:al=\\\\E[L:AL=\\\\E[%dL:cs=\\\\E[%i%d;%dr:dl=\\\\E[M:DL=\\\\E[%dM:dc=\\\\E[P:DC=\\\\E[%dP:im=\\\\E[4h:ei=\\\\E[4l:mi:IC=\\\\E[%d@:ks=\\\\E[?1h\\\\E=:ke=\\\\E[?1l\\\\E>:vi=\\\\E[?25l:ve=\\\\E[34h\\\\E[?25h:vs=\\\\E[34l:ti=\\\\E[?1049h:te=\\\\E[?1049l:us=\\\\E[4m:ue=\\\\E[24m:so=\\\\E[3m:se=\\\\E[23m:mb=\\\\E[5m:md=\\\\E[1m:mh=\\\\E[2m:mr=\\\\E[7m:me=\\\\E[m:ms:Co#8:pa#64:AF=\\\\E[3%dm:AB=\\\\E[4%dm:op=\\\\E[39;49m:AX:vb=\\\\Eg:G0:as=\\\\E(0:ae=\\\\E(B:ac=\\\\140\\\\140aaffggjjkkllmmnnooppqqrrssttuuvvwwxxyyzz{{||}}~~..--++,,hhII00:po=\\\\E[5i:pf=\\\\E[4i:Km=\\\\E[M:k0=\\\\E[10~:k1=\\\\EOP:k2=\\\\EOQ:k3=\\\\EOR:k4=\\\\EOS:k5=\\\\E[15~:k6=\\\\E[17~:k7=\\\\E[18~:k8=\\\\E[19~:k9=\\\\E[20~:k;=\\\\E[21~:F1=\\\\E[23~:F2=\\\\E[24~:kB=\\\\E[Z:kh=\\\\E[1~:@1=\\\\E[1~:kH=\\\\E[4~:@7=\\\\E[4~:kN=\\\\E[6~:kP=\\\\E[5~:kI=\\\\E[2~:kD=\\\\E[3~:ku=\\\\EOA:kd=\\\\EOB:kr=\\\\EOC:kl=\\\\EOD:km:',\n",
       " 'JAVA_HOME': '/home/mylady/apps/java8/jdk8',\n",
       " 'JRE_HOME': '/home/mylady/apps/java8/jdk8/jre',\n",
       " 'WINDOW': '0',\n",
       " 'PWD': '/home/mylady/code/python/py-data-analysis',\n",
       " 'LOGNAME': 'mylady',\n",
       " 'XDG_SESSION_TYPE': 'tty',\n",
       " 'TFHUB_CACHE_DIR': '/home/mylady/.cache/tfhub_modules',\n",
       " 'VIRTUALENVWRAPPER_VIRTUALENV': '/home/mylady/.local/bin/virtualenv',\n",
       " 'MOTD_SHOWN': 'pam',\n",
       " 'VIRTUALENVWRAPPER_SCRIPT': '/home/mylady/.local/bin/virtualenvwrapper.sh',\n",
       " 'HOME': '/home/mylady',\n",
       " 'LANG': 'zh_CN.UTF-8',\n",
       " 'LS_COLORS': 'rs=0:di=01;34:ln=01;36:mh=00:pi=40;33:so=01;35:do=01;35:bd=40;33;01:cd=40;33;01:or=40;31;01:mi=00:su=37;41:sg=30;43:ca=30;41:tw=30;42:ow=34;42:st=37;44:ex=01;32:*.tar=01;31:*.tgz=01;31:*.arc=01;31:*.arj=01;31:*.taz=01;31:*.lha=01;31:*.lz4=01;31:*.lzh=01;31:*.lzma=01;31:*.tlz=01;31:*.txz=01;31:*.tzo=01;31:*.t7z=01;31:*.zip=01;31:*.z=01;31:*.dz=01;31:*.gz=01;31:*.lrz=01;31:*.lz=01;31:*.lzo=01;31:*.xz=01;31:*.zst=01;31:*.tzst=01;31:*.bz2=01;31:*.bz=01;31:*.tbz=01;31:*.tbz2=01;31:*.tz=01;31:*.deb=01;31:*.rpm=01;31:*.jar=01;31:*.war=01;31:*.ear=01;31:*.sar=01;31:*.rar=01;31:*.alz=01;31:*.ace=01;31:*.zoo=01;31:*.cpio=01;31:*.7z=01;31:*.rz=01;31:*.cab=01;31:*.wim=01;31:*.swm=01;31:*.dwm=01;31:*.esd=01;31:*.jpg=01;35:*.jpeg=01;35:*.mjpg=01;35:*.mjpeg=01;35:*.gif=01;35:*.bmp=01;35:*.pbm=01;35:*.pgm=01;35:*.ppm=01;35:*.tga=01;35:*.xbm=01;35:*.xpm=01;35:*.tif=01;35:*.tiff=01;35:*.png=01;35:*.svg=01;35:*.svgz=01;35:*.mng=01;35:*.pcx=01;35:*.mov=01;35:*.mpg=01;35:*.mpeg=01;35:*.m2v=01;35:*.mkv=01;35:*.webm=01;35:*.ogm=01;35:*.mp4=01;35:*.m4v=01;35:*.mp4v=01;35:*.vob=01;35:*.qt=01;35:*.nuv=01;35:*.wmv=01;35:*.asf=01;35:*.rm=01;35:*.rmvb=01;35:*.flc=01;35:*.avi=01;35:*.fli=01;35:*.flv=01;35:*.gl=01;35:*.dl=01;35:*.xcf=01;35:*.xwd=01;35:*.yuv=01;35:*.cgm=01;35:*.emf=01;35:*.ogv=01;35:*.ogx=01;35:*.aac=00;36:*.au=00;36:*.flac=00;36:*.m4a=00;36:*.mid=00;36:*.midi=00;36:*.mka=00;36:*.mp3=00;36:*.mpc=00;36:*.ogg=00;36:*.ra=00;36:*.wav=00;36:*.oga=00;36:*.opus=00;36:*.spx=00;36:*.xspf=00;36:',\n",
       " 'VIRTUAL_ENV': '/home/mylady/.virtualenvs/py-data-analysis',\n",
       " 'VIRTUALENVWRAPPER_WORKON_CD': '1',\n",
       " 'M2_HOME': '/home/mylady/apps/maven/apache-maven-3.9.0',\n",
       " 'VIRTUALENVWRAPPER_PYTHON': '/usr/bin/python3.8',\n",
       " 'SSH_CONNECTION': '192.168.0.102 60421 192.168.0.105 22',\n",
       " 'WORKON_HOME': '/home/mylady/.virtualenvs',\n",
       " 'LESSCLOSE': '/usr/bin/lesspipe %s %s',\n",
       " 'XDG_SESSION_CLASS': 'user',\n",
       " 'TERM': 'xterm-color',\n",
       " 'LESSOPEN': '| /usr/bin/lesspipe %s',\n",
       " 'USER': 'mylady',\n",
       " 'VIRTUALENVWRAPPER_PROJECT_FILENAME': '.project',\n",
       " 'DISPLAY': 'localhost:11.0',\n",
       " 'SHLVL': '2',\n",
       " 'XDG_SESSION_ID': '225',\n",
       " 'CLASSPATH': '.:/home/mylady/apps/java8/jdk8/lib:/home/mylady/apps/java8/jdk8/jre/lib:',\n",
       " 'XDG_RUNTIME_DIR': '/run/user/1000',\n",
       " 'PS1': '(py-data-analysis) ${debian_chroot:+($debian_chroot)}\\\\[\\\\033[01;35;01m\\\\]\\\\u\\\\[\\\\033[00;00;01m\\\\]@\\\\[\\\\033[01;35;01m\\\\]\\\\h\\\\[\\\\033[00;31;01m\\\\]:\\\\[\\\\033[00;00;01m\\\\]\\\\W \\\\[\\\\033[01;36;01m\\\\]\\\\$ \\\\e[0m',\n",
       " 'SSH_CLIENT': '192.168.0.102 60421 22',\n",
       " 'XDG_DATA_DIRS': '/usr/local/share:/usr/share:/var/lib/snapd/desktop',\n",
       " 'PATH': '/home/mylady/.virtualenvs/py-data-analysis/bin:/home/mylady/.local/bin:/usr/local/sbin:/usr/local/bin:/usr/sbin:/usr/bin:/sbin:/bin:/usr/games:/usr/local/games:/snap/bin:/home/mylady/apps/java8/jdk8/bin:/home/mylady/apps/java8/jdk8/jre/bin:/home/mylady/apps/maven/apache-maven-3.9.0/bin',\n",
       " 'STY': '76458.py-data-analysis',\n",
       " 'VIRTUALENVWRAPPER_HOOK_DIR': '/home/mylady/.virtualenvs',\n",
       " 'DBUS_SESSION_BUS_ADDRESS': 'unix:path=/run/user/1000/bus',\n",
       " 'SSH_TTY': '/dev/pts/3',\n",
       " 'OLDPWD': '/home/mylady/code/python',\n",
       " '_': '/home/mylady/.virtualenvs/py-data-analysis/bin/jupyter',\n",
       " 'PYDEVD_USE_FRAME_EVAL': 'NO',\n",
       " 'JPY_PARENT_PID': '85381',\n",
       " 'CLICOLOR': '1',\n",
       " 'FORCE_COLOR': '1',\n",
       " 'CLICOLOR_FORCE': '1',\n",
       " 'PAGER': 'cat',\n",
       " 'GIT_PAGER': 'cat',\n",
       " 'MPLBACKEND': 'module://matplotlib_inline.backend_inline'}"
      ]
     },
     "execution_count": 2,
     "metadata": {},
     "output_type": "execute_result"
    }
   ],
   "source": [
    "%env"
   ]
  },
  {
   "cell_type": "code",
   "execution_count": null,
   "id": "a2078dfe-28ac-4efb-97b8-8d2eadf07f4b",
   "metadata": {},
   "outputs": [],
   "source": []
  },
  {
   "cell_type": "markdown",
   "id": "c729bd1e-1762-4eab-b21f-dab07080c6e3",
   "metadata": {},
   "source": [
    "# B.4 使用IPython高效开发的技巧\n",
    "\n",
    "方便快捷地写代码、调试和使用是每个人的目标。除了代码风格，流程细节（比如代码重载）也需要一些调整。\n",
    "\n",
    "因此，这一节的内容更像是门艺术而不是科学，还需要你不断的试验，以达成高效。最终，你要能结构优化代码，并且能省时省力地检查程序或函数的结果。我发现用IPython设计的软件比起命令行，要更适合工作。尤其是当发生错误时，你需要检查自己或别人写的数月或数年前写的代码的错误。\n",
    "\n",
    "## 重载模块依赖\n",
    "\n",
    "在Python中，当你输入import some_lib，some_lib中的代码就会被执行，所有的变量、函数和定义的引入，就会被存入到新创建的some_lib模块命名空间。当下一次输入some_lib，就会得到一个已存在的模块命名空间的引用。潜在的问题是当你%run一个脚本，它依赖于另一个模块，而这个模块做过修改，就会产生问题。假设我在test_script.py中有如下代码：\n",
    "\n",
    "```python\n",
    "import some_lib\n",
    "\n",
    "x = 5\n",
    "y = [1, 2, 3, 4]\n",
    "result = some_lib.get_answer(x, y)\n",
    "```\n",
    "\n",
    "如果你运行过了%run test_script.py，然后修改了some_lib.py，下一次再执行%run test_script.py，还会得到旧版本的some_lib.py，这是因为Python模块系统的“一次加载”机制。这一点区分了Python和其它数据分析环境，比如MATLAB，它会自动传播代码修改。解决这个问题，有多种方法。第一种是在标准库importlib模块中使用reload函数：\n",
    "\n",
    "```python\n",
    "import some_lib\n",
    "import importlib\n",
    "\n",
    "importlib.reload(some_lib)\n",
    "```\n",
    "\n",
    "这可以保证每次运行test_script.py时可以加载最新的some_lib.py。很明显，如果依赖更深，在各处都使用reload是非常麻烦的。对于这个问题，IPython有一个特殊的dreload函数（它不是魔术函数）重载深层的模块。如果我运行过some_lib.py，然后输入dreload(some_lib)，就会尝试重载some_lib和它的依赖。不过，这个方法不适用于所有场景，但比重启IPython强多了。\n",
    "\n",
    "## 代码设计技巧\n",
    "\n",
    "对于这单，没有简单的对策，但是有一些原则，是我在工作中发现很好用的。\n",
    "\n",
    "## 保持相关对象和数据活跃\n",
    "\n",
    "为命令行写一个下面示例中的程序是很少见的：\n",
    "\n",
    "```python\n",
    "from my_functions import g\n",
    "\n",
    "def f(x, y):\n",
    "    return g(x + y)\n",
    "\n",
    "def main():\n",
    "    x = 6\n",
    "    y = 7.5\n",
    "    result = x + y\n",
    "\n",
    "if __name__ == '__main__':\n",
    "    main()\n",
    "```\n",
    "\n",
    "在IPython中运行这个程序会发生问题，你发现是什么了吗？运行之后，任何定义在main函数中的结果和对象都不能在IPython中被访问到。更好的方法是将main中的代码直接在模块的命名空间中执行（或者在``__name__ == '__main__':``中，如果你想让这个模块可以被引用）。这样，当你%rundiamante，就可以查看所有定义在main中的变量。这等价于在Jupyter notebook的代码格中定义一个顶级变量。\n",
    "\n",
    "## 扁平优于嵌套\n",
    "\n",
    "深层嵌套的代码总让我联想到洋葱皮。当测试或调试一个函数时，你需要剥多少层洋葱皮才能到达目标代码呢？“扁平优于嵌套”是Python之禅的一部分，它也适用于交互式代码开发。尽量将函数和类去耦合和模块化，有利于测试（如果你是在写单元测试）、调试和交互式使用。\n",
    "\n",
    "## 克服对大文件的恐惧\n",
    "\n",
    "如果你之前是写JAVA（或者其它类似的语言），你可能被告知要让文件简短。在多数语言中，这都是合理的建议：太长会让人感觉是坏代码，意味着重构和重组是必要的。但是，在用IPython开发时，运行10个相关联的小文件（小于100行），比起两个或三个长文件，会让你更头疼。更少的文件意味着重载更少的模块和更少的编辑时在文件中跳转。我发现维护大模块，每个模块都是紧密组织的，会更实用和Pythonic。经过方案迭代，有时会将大文件分解成小文件。\n",
    "\n",
    "我不建议极端化这条建议，那样会形成一个单独的超大文件。找到一个合理和直观的大型代码模块库和封装结构往往需要一点工作，但这在团队工作中非常重要。每个模块都应该结构紧密，并且应该能直观地找到负责每个功能领域功能和类。"
   ]
  },
  {
   "cell_type": "markdown",
   "id": "369e8ec4-c7a1-4f1f-a604-5fa4cfca192b",
   "metadata": {},
   "source": [
    "# B.5 IPython高级功能\n",
    "\n",
    "要全面地使用IPython系统需要用另一种稍微不同的方式写代码，或深入IPython的配置。\n",
    "\n",
    "## 让类是对IPython友好的\n",
    "\n",
    "IPython会尽可能地在控制台美化展示每个字符串。对于许多对象，比如字典、列表和元组，内置的pprint模块可以用来美化格式。但是，在用户定义的类中，你必自己生成字符串。假设有一个下面的简单的类："
   ]
  },
  {
   "cell_type": "code",
   "execution_count": 4,
   "id": "e46edbbb-e84b-4e17-9739-8bc74a324789",
   "metadata": {
    "tags": []
   },
   "outputs": [],
   "source": [
    "class Message:\n",
    "    def __init__(self, msg):\n",
    "        self.msg = msg"
   ]
  },
  {
   "cell_type": "markdown",
   "id": "2ca7344e-f685-46f5-ac61-d93b3b9f8aad",
   "metadata": {},
   "source": [
    "如果这么写，就会发现默认的输出不够美观："
   ]
  },
  {
   "cell_type": "code",
   "execution_count": 5,
   "id": "7d22d2ea-4487-4d88-bf61-e3917c4e9735",
   "metadata": {
    "tags": []
   },
   "outputs": [
    {
     "data": {
      "text/plain": [
       "<__main__.Message at 0x7f4eac394a30>"
      ]
     },
     "execution_count": 5,
     "metadata": {},
     "output_type": "execute_result"
    }
   ],
   "source": [
    "x = Message('I have a secret')\n",
    "\n",
    "x"
   ]
  },
  {
   "cell_type": "markdown",
   "id": "52b99f79-7426-408c-b57d-9d1715e4cd79",
   "metadata": {},
   "source": [
    "IPython会接收__repr__魔术方法返回的字符串（通过output = repr(obj)），并在控制台打印出来。因此，我们可以添加一个简单的__repr__方法到前面的类中，以得到一个更有用的输出："
   ]
  },
  {
   "cell_type": "code",
   "execution_count": 7,
   "id": "c8bbaa27-3625-4f83-b892-b32cd34b74e8",
   "metadata": {
    "tags": []
   },
   "outputs": [
    {
     "data": {
      "text/plain": [
       "Message: I have a secret"
      ]
     },
     "execution_count": 7,
     "metadata": {},
     "output_type": "execute_result"
    }
   ],
   "source": [
    "class Message:\n",
    "    def __init__(self, msg):\n",
    "        self.msg = msg\n",
    "\n",
    "    def __repr__(self):\n",
    "        return 'Message: %s' % self.msg\n",
    "\n",
    "\n",
    "x = Message('I have a secret')\n",
    "x"
   ]
  },
  {
   "cell_type": "markdown",
   "id": "233177f4-81d5-4b60-bc0b-bb189d50ab93",
   "metadata": {},
   "source": [
    "## 文件和配置\n",
    "\n",
    "通过扩展配置系统，大多数IPython和Jupyter notebook的外观（颜色、提示符、行间距等等）和动作都是可以配置的。通过配置，你可以做到：\n",
    "\n",
    "- 改变颜色主题\n",
    "- 改变输入和输出提示符，或删除输出之后、输入之前的空行\n",
    "- 执行任意Python语句（例如，引入总是要使用的代码或者每次加载IPython都要运行的内容）\n",
    "- 启用IPython总是要运行的插件，比如line_profiler中的%lprun魔术函数\n",
    "- 启用Jupyter插件\n",
    "- 定义自己的魔术函数或系统别名\n",
    "\n",
    "IPython的配置存储在特殊的ipython_config.py文件中，它通常是在用户home目录的.ipython/文件夹中。配置是通过一个特殊文件。当你启动IPython，就会默认加载这个存储在profile_default文件夹中的默认文件。因此，在我的Linux系统，完整的IPython配置文件路径是："
   ]
  },
  {
   "cell_type": "raw",
   "id": "44b21fb3-b64b-4be3-88c7-18c00552977f",
   "metadata": {},
   "source": [
    "/home/wesm/.ipython/profile_default/ipython_config.py"
   ]
  },
  {
   "cell_type": "markdown",
   "id": "125be047-a608-42d0-b710-58e3b05b9204",
   "metadata": {},
   "source": [
    "要启动这个文件，运行下面的命令：\n",
    "```sh\n",
    "ipython profile create\n",
    "```"
   ]
  },
  {
   "cell_type": "markdown",
   "id": "bfe34446-f9da-4233-b179-e684f9b4f923",
   "metadata": {},
   "source": [
    "这个文件中的内容留给读者自己探索。这个文件有注释，解释了每个配置选项的作用。另一点，可以有多个配置文件。假设你想要另一个IPython配置文件，专门是为另一个应用或项目的。创建一个新的配置文件很简单，如下所示：\n",
    "```sh\n",
    "ipython profile create secret_project\n",
    "```"
   ]
  },
  {
   "cell_type": "markdown",
   "id": "afafe08e-f986-4dbf-a06a-7085c9247b89",
   "metadata": {},
   "source": [
    "做完之后，在新创建的profile_secret_project目录便捷配置文件，然后如下启动IPython：\n",
    "```sh\n",
    "$ ipython --profile=secret_project\n",
    "Python 3.5.1 | packaged by conda-forge | (default, May 20 2016, 05:22:56)\n",
    "Type \"copyright\", \"credits\" or \"license\" for more information.\n",
    "\n",
    "IPython 5.1.0 -- An enhanced Interactive Python.\n",
    "?         -> Introduction and overview of IPython's features.\n",
    "%quickref -> Quick reference.\n",
    "help      -> Python's own help system.\n",
    "object?   -> Details about 'object', use 'object??' for extra details.\n",
    "\n",
    "IPython profile: secret_project\n",
    "```"
   ]
  },
  {
   "cell_type": "markdown",
   "id": "1ded794a-08a6-4895-8413-c49b67d26066",
   "metadata": {},
   "source": [
    "和之前一样，IPython的文档是一个极好的学习配置文件的资源。\n",
    "\n",
    "配置Jupyter有些不同，因为你可以使用除了Python的其它语言。要创建一个类似的Jupyter配置文件，运行："
   ]
  },
  {
   "cell_type": "raw",
   "id": "3de62fdf-8d90-48d7-b213-21451384168c",
   "metadata": {},
   "source": [
    "jupyter notebook --generate-config"
   ]
  },
  {
   "cell_type": "markdown",
   "id": "055d52a4-51ec-40ab-8274-e3a21ae90772",
   "metadata": {},
   "source": [
    "这样会在home目录的.jupyter/jupyter_notebook_config.py创建配置文件。编辑完之后，可以将它重命名：\n",
    "```sh\n",
    "$ mv ~/.jupyter/jupyter_notebook_config.py ~/.jupyter/my_custom_config.py\n",
    "```"
   ]
  },
  {
   "cell_type": "markdown",
   "id": "79d09408-8582-463c-848d-44fc50885b1d",
   "metadata": {},
   "source": [
    "打开Jupyter之后，你可以添加--config参数：\n",
    "```sh\n",
    "jupyter notebook --config=~/.jupyter/my_custom_config.py\n",
    "```"
   ]
  },
  {
   "cell_type": "markdown",
   "id": "8a229a1d-2945-4f58-845e-79cc57ba1108",
   "metadata": {},
   "source": [
    "# B.6 总结\n",
    "\n",
    "学习过本书中的代码案例，你的Python技能得到了一定的提升，我建议你持续学习IPython和Jupyter。因为这两个项目的设计初衷就是提高生产率的，你可能还会发现一些工具，可以让你更便捷地使用Python和计算库。\n",
    "\n",
    "你可以在nbviewer（https://nbviewer.jupyter.org/）上找到更多有趣的Jupyter notebooks。"
   ]
  },
  {
   "cell_type": "code",
   "execution_count": null,
   "id": "ed87a444-b218-4489-bc6b-2a19ee00d951",
   "metadata": {},
   "outputs": [],
   "source": []
  }
 ],
 "metadata": {
  "kernelspec": {
   "display_name": "Python 3 (ipykernel)",
   "language": "python",
   "name": "python3"
  },
  "language_info": {
   "codemirror_mode": {
    "name": "ipython",
    "version": 3
   },
   "file_extension": ".py",
   "mimetype": "text/x-python",
   "name": "python",
   "nbconvert_exporter": "python",
   "pygments_lexer": "ipython3",
   "version": "3.8.10"
  }
 },
 "nbformat": 4,
 "nbformat_minor": 5
}
