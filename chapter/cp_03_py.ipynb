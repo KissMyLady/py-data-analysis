{
 "cells": [
  {
   "cell_type": "markdown",
   "id": "8360e6a4",
   "metadata": {},
   "source": [
    "# 3.1 数据结构和序列\n",
    "\n",
    "## 元组"
   ]
  },
  {
   "cell_type": "code",
   "execution_count": 1,
   "id": "fdd2f860",
   "metadata": {
    "tags": []
   },
   "outputs": [
    {
     "name": "stdout",
     "output_type": "stream",
     "text": [
      "(4, 5, 6)\n"
     ]
    }
   ],
   "source": [
    "tup = 4, 5, 6\n",
    "# tup = (4, 5, 6)\n",
    "\n",
    "print(tup)"
   ]
  },
  {
   "cell_type": "code",
   "execution_count": 5,
   "id": "5807eebb-acea-427e-b2bc-a21a76b320c2",
   "metadata": {
    "tags": []
   },
   "outputs": [
    {
     "name": "stdout",
     "output_type": "stream",
     "text": [
      "((4, 5, 6), (7, 8))\n"
     ]
    }
   ],
   "source": [
    "# 当用复杂的表达式定义元组，最好将值放到圆括号内，如下所示：\n",
    "\n",
    "nested_tup = (4, 5, 6), (7, 8)\n",
    "\n",
    "print(nested_tup)"
   ]
  },
  {
   "cell_type": "code",
   "execution_count": 6,
   "id": "3a6c86c3",
   "metadata": {
    "tags": []
   },
   "outputs": [
    {
     "name": "stdout",
     "output_type": "stream",
     "text": [
      "(4, 0, 2)\n",
      "('s', 't', 'r', 'i', 'n', 'g')\n"
     ]
    }
   ],
   "source": [
    "# 用``tuple``可以将任意序列或迭代器转换成元组：\n",
    "\n",
    "aList = [4, 0, 2]\n",
    "print(tuple(aList))\n",
    "\n",
    "tup = tuple('string')\n",
    "print(tup)"
   ]
  },
  {
   "cell_type": "code",
   "execution_count": 10,
   "id": "6b9f421b",
   "metadata": {
    "tags": []
   },
   "outputs": [
    {
     "data": {
      "text/plain": [
       "'s'"
      ]
     },
     "execution_count": 10,
     "metadata": {},
     "output_type": "execute_result"
    }
   ],
   "source": [
    "# 可以用方括号访问元组中的元素。和C、C++、JAVA等语言一样，序列是从0开始的：\n",
    "tup[0]"
   ]
  },
  {
   "cell_type": "code",
   "execution_count": 11,
   "id": "fbb07cc7",
   "metadata": {
    "tags": []
   },
   "outputs": [],
   "source": [
    "# 元组中存储的对象可能是可变对象。一旦创建了元组，元组中的对象就不能修改了：\n",
    "tup = tuple(['foo', [1, 2], True])\n",
    "# tup[2] = False"
   ]
  },
  {
   "cell_type": "code",
   "execution_count": 12,
   "id": "b308ad07",
   "metadata": {
    "tags": []
   },
   "outputs": [
    {
     "data": {
      "text/plain": [
       "('foo', [1, 2, 30], True)"
      ]
     },
     "execution_count": 12,
     "metadata": {},
     "output_type": "execute_result"
    }
   ],
   "source": [
    "# 如果元组中的某个对象是可变的，比如列表，可以在原位进行修改：\n",
    "tup[1].append(30)\n",
    "tup"
   ]
  },
  {
   "cell_type": "code",
   "execution_count": 13,
   "id": "b9904609",
   "metadata": {
    "tags": []
   },
   "outputs": [
    {
     "data": {
      "text/plain": [
       "(4, None, 'foo', 6, 0, 'bar')"
      ]
     },
     "execution_count": 13,
     "metadata": {},
     "output_type": "execute_result"
    }
   ],
   "source": [
    "# 可以用加号运算符将元组串联起来：\n",
    "(4, None, 'foo') + (6, 0) + ('bar',)"
   ]
  },
  {
   "cell_type": "code",
   "execution_count": 15,
   "id": "2629f904",
   "metadata": {},
   "outputs": [
    {
     "data": {
      "text/plain": [
       "('foo', 'bar', 'foo', 'bar', 'foo', 'bar', 'foo', 'bar')"
      ]
     },
     "execution_count": 15,
     "metadata": {},
     "output_type": "execute_result"
    }
   ],
   "source": [
    "# 元组乘以一个整数，像列表一样，会将几个元组的复制串联起来： 对象本身并没有被复制，只是引用了它。\n",
    "('foo', 'bar') * 4"
   ]
  },
  {
   "cell_type": "markdown",
   "id": "cbd51c36",
   "metadata": {},
   "source": [
    "### 拆分元组"
   ]
  },
  {
   "cell_type": "code",
   "execution_count": 16,
   "id": "e0e4f8cf",
   "metadata": {},
   "outputs": [],
   "source": [
    "# 如果你想将元组赋值给类似元组的变量，Python会试图拆分等号右边的值：\n",
    "tup = (4, 5, 6)\n",
    "a, b, c = tup"
   ]
  },
  {
   "cell_type": "code",
   "execution_count": 17,
   "id": "90c82e0f",
   "metadata": {},
   "outputs": [
    {
     "data": {
      "text/plain": [
       "7"
      ]
     },
     "execution_count": 17,
     "metadata": {},
     "output_type": "execute_result"
    }
   ],
   "source": [
    "# 即使含有元组的元组也会被拆分：\n",
    "tup = 4, 5, (6, 7)\n",
    "a, b, (c, d) = tup\n",
    "d"
   ]
  },
  {
   "cell_type": "code",
   "execution_count": 18,
   "id": "1dd9eb2a",
   "metadata": {},
   "outputs": [
    {
     "name": "stdout",
     "output_type": "stream",
     "text": [
      "a=1, b=2, c=3\n",
      "a=4, b=5, c=6\n",
      "a=7, b=8, c=9\n"
     ]
    }
   ],
   "source": [
    "# 变量拆分常用来迭代元组或列表序列：\n",
    "seq = [(1, 2, 3), (4, 5, 6), (7, 8, 9)]\n",
    "for a, b, c in seq:\n",
    "    print('a={0}, b={1}, c={2}'.format(a, b, c))"
   ]
  },
  {
   "cell_type": "code",
   "execution_count": 30,
   "id": "bdea36db",
   "metadata": {},
   "outputs": [
    {
     "name": "stdout",
     "output_type": "stream",
     "text": [
      "3 4 5\n"
     ]
    }
   ],
   "source": [
    "# Python最近新增了更多高级的元组拆分功能，允许从元组的开头“摘取”几个元素。它使用了特殊的语法``*rest``，\n",
    "# 这也用在函数签名中以抓取任意长度列表的位置参数：\n",
    "values = (1, 2, 3, 4, 5, )\n",
    "\n",
    "a, b, *rest = values\n",
    "a, b\n",
    "\n",
    "print(*rest)\n",
    "\n",
    "# ``rest``的部分是想要舍弃的部分，rest的名字不重要。作为惯用写法，许多Python程序员会将不需要的变量使用下划线：\n",
    "a, b, *_ = values"
   ]
  },
  {
   "cell_type": "markdown",
   "id": "b5751dea",
   "metadata": {},
   "source": [
    "### tuple方法"
   ]
  },
  {
   "cell_type": "code",
   "execution_count": 32,
   "id": "b22b35eb",
   "metadata": {},
   "outputs": [
    {
     "data": {
      "text/plain": [
       "4"
      ]
     },
     "execution_count": 32,
     "metadata": {},
     "output_type": "execute_result"
    }
   ],
   "source": [
    "# 因为元组的大小和内容不能修改，它的实例方法都很轻量。其中一个很有用的就是``count``（也适用于列表），它可以统计某个值得出现频率：\n",
    "a = (1, 2, 2, 2, 3, 4, 2)\n",
    "a.count(2)"
   ]
  },
  {
   "cell_type": "code",
   "execution_count": 33,
   "id": "439940f2",
   "metadata": {},
   "outputs": [
    {
     "data": {
      "text/plain": [
       "4"
      ]
     },
     "execution_count": 33,
     "metadata": {},
     "output_type": "execute_result"
    }
   ],
   "source": [
    "bList = [1, 2, 2, 2, 3, 4, 2]\n",
    "bList.count(2)"
   ]
  },
  {
   "cell_type": "markdown",
   "id": "468f7e0e",
   "metadata": {},
   "source": [
    "## 列表"
   ]
  },
  {
   "cell_type": "code",
   "execution_count": 34,
   "id": "9968b2bb",
   "metadata": {},
   "outputs": [
    {
     "data": {
      "text/plain": [
       "['foo', 'bar', 'baz']"
      ]
     },
     "execution_count": 34,
     "metadata": {},
     "output_type": "execute_result"
    }
   ],
   "source": [
    "a_list = [2, 3, 7, None]\n",
    "tup = ('foo', 'bar', 'baz')\n",
    "b_list = list(tup)\n",
    "\n",
    "b_list"
   ]
  },
  {
   "cell_type": "code",
   "execution_count": 37,
   "id": "756b9704",
   "metadata": {},
   "outputs": [
    {
     "name": "stdout",
     "output_type": "stream",
     "text": [
      "range(0, 10)\n"
     ]
    },
    {
     "data": {
      "text/plain": [
       "[0, 1, 2, 3, 4, 5, 6, 7, 8, 9]"
      ]
     },
     "execution_count": 37,
     "metadata": {},
     "output_type": "execute_result"
    }
   ],
   "source": [
    "# ``list``函数常用来在数据处理中实体化迭代器或生成器：\n",
    "gen = range(10)\n",
    "print(gen)\n",
    "\n",
    "list(gen)"
   ]
  },
  {
   "cell_type": "markdown",
   "id": "4ecc4df6",
   "metadata": {},
   "source": [
    "### 添加和删除元素"
   ]
  },
  {
   "cell_type": "code",
   "execution_count": null,
   "id": "28e838bb",
   "metadata": {},
   "outputs": [],
   "source": [
    "# 末尾添加\n",
    "b_list.append('dwarf')\n",
    "\n",
    "# 指定插入\n",
    "b_list.insert(1, 'red')\n",
    "\n",
    "\"\"\"\n",
    "警告：与``append``相比，``insert``耗费的计算量大，因为对后续元素的引用必须在内部迁移，以便为新元素提供空间。\n",
    "如果要在序列的头部和尾部插入元素，你可能需要使用``collections.deque``，一个双尾部队列。\n",
    "\"\"\""
   ]
  },
  {
   "cell_type": "code",
   "execution_count": null,
   "id": "afc08465",
   "metadata": {},
   "outputs": [],
   "source": [
    "# insert的逆运算是pop，它移除并返回指定位置的元素：\n",
    "b_list.pop(2)"
   ]
  },
  {
   "cell_type": "code",
   "execution_count": null,
   "id": "363cb845",
   "metadata": {},
   "outputs": [],
   "source": [
    "# 可以用``remove``去除某个值，``remove``会先寻找第一个值并除去：\n",
    "b_list.append('foo')"
   ]
  },
  {
   "cell_type": "code",
   "execution_count": 38,
   "id": "112d84d7",
   "metadata": {},
   "outputs": [
    {
     "data": {
      "text/plain": [
       "False"
      ]
     },
     "execution_count": 38,
     "metadata": {},
     "output_type": "execute_result"
    }
   ],
   "source": [
    "# 用``in``可以检查列表是否包含某个值：\n",
    "'dwarf' in b_list"
   ]
  },
  {
   "cell_type": "code",
   "execution_count": 39,
   "id": "8b7b68df",
   "metadata": {},
   "outputs": [
    {
     "data": {
      "text/plain": [
       "True"
      ]
     },
     "execution_count": 39,
     "metadata": {},
     "output_type": "execute_result"
    }
   ],
   "source": [
    "'dwarf' not in b_list\n",
    "\"\"\"\n",
    "在列表中检查是否存在某个值远比字典和集合速度 慢 ，因为Python是线性搜索列表中的值，\n",
    "    但在字典和集合中，在同样的时间内还可以检查其它项（基于哈希表）。\n",
    "\"\"\""
   ]
  },
  {
   "cell_type": "markdown",
   "id": "e8ab8e18",
   "metadata": {},
   "source": [
    "### 串联和组合列表"
   ]
  },
  {
   "cell_type": "code",
   "execution_count": 40,
   "id": "a4e50b60",
   "metadata": {},
   "outputs": [
    {
     "data": {
      "text/plain": [
       "[4, None, 'foo', 7, 8, (2, 3)]"
      ]
     },
     "execution_count": 40,
     "metadata": {},
     "output_type": "execute_result"
    }
   ],
   "source": [
    "# 与元组类似，可以用加号将两个列表串联起来：\n",
    "[4, None, 'foo'] + [7, 8, (2, 3)]"
   ]
  },
  {
   "cell_type": "code",
   "execution_count": 42,
   "id": "49b47b44",
   "metadata": {},
   "outputs": [
    {
     "data": {
      "text/plain": [
       "[4, None, 'foo', 7, 8, (2, 3)]"
      ]
     },
     "execution_count": 42,
     "metadata": {},
     "output_type": "execute_result"
    }
   ],
   "source": [
    "# extend 追加写入\n",
    "x = [4, None, 'foo']\n",
    "x.extend([7, 8, (2, 3)])\n",
    "x"
   ]
  },
  {
   "cell_type": "code",
   "execution_count": null,
   "id": "5569b0d3",
   "metadata": {},
   "outputs": [],
   "source": [
    "\"\"\"\n",
    "通过加法将列表串联的计算量较大，因为要新建一个列表，并且要复制对象。用``extend``追加元素，尤其是到一个大列表中，更为可取。因此：\n",
    "\n",
    "要比串联方法快\n",
    "everything = []\n",
    "for chunk in list_of_lists:\n",
    "    everything = everything + chunk\n",
    "\"\"\"\n",
    "everything = []\n",
    "for chunk in list_of_lists:\n",
    "    everything.extend(chunk)"
   ]
  },
  {
   "cell_type": "markdown",
   "id": "6938e5b0",
   "metadata": {},
   "source": [
    "### 排序"
   ]
  },
  {
   "cell_type": "code",
   "execution_count": 44,
   "id": "a4638b1a",
   "metadata": {},
   "outputs": [
    {
     "data": {
      "text/plain": [
       "[1, 2, 3, 5, 7]"
      ]
     },
     "execution_count": 44,
     "metadata": {},
     "output_type": "execute_result"
    }
   ],
   "source": [
    "# 原地原地排序\n",
    "a = [7, 2, 5, 1, 3]\n",
    "a.sort()\n",
    "a"
   ]
  },
  {
   "cell_type": "code",
   "execution_count": 45,
   "id": "7db8dc6a",
   "metadata": {},
   "outputs": [
    {
     "data": {
      "text/plain": [
       "['He', 'saw', 'six', 'small', 'foxes']"
      ]
     },
     "execution_count": 45,
     "metadata": {},
     "output_type": "execute_result"
    }
   ],
   "source": [
    "# 排序参数\n",
    "b = ['saw', 'small', 'He', 'foxes', 'six']\n",
    "b.sort(key=len)\n",
    "b"
   ]
  },
  {
   "cell_type": "markdown",
   "id": "df530ef2",
   "metadata": {},
   "source": [
    "### 二分搜索和维护已排序的列表"
   ]
  },
  {
   "cell_type": "code",
   "execution_count": 46,
   "id": "11f7e379",
   "metadata": {},
   "outputs": [
    {
     "data": {
      "text/plain": [
       "4"
      ]
     },
     "execution_count": 46,
     "metadata": {},
     "output_type": "execute_result"
    }
   ],
   "source": [
    "\"\"\"\n",
    "``bisect``模块支持二分查找，和向已排序的列表插入值。``bisect.bisect``可以找到插入值后仍保证排序的位置，``bisect.insort``是向这个位置插入值：\n",
    "\"\"\"\n",
    "import bisect\n",
    "\n",
    "c = [1, 2, 2, 2, 3, 4, 7]\n",
    "bisect.bisect(c, 2)\n"
   ]
  },
  {
   "cell_type": "markdown",
   "id": "26546ae6",
   "metadata": {},
   "source": [
    "### 切片"
   ]
  },
  {
   "cell_type": "code",
   "execution_count": 48,
   "id": "2cabf04c",
   "metadata": {},
   "outputs": [
    {
     "data": {
      "text/plain": [
       "[2, 3, 7, 5]"
      ]
     },
     "execution_count": 48,
     "metadata": {},
     "output_type": "execute_result"
    }
   ],
   "source": [
    "\"\"\"\n",
    "用切边可以选取大多数序列类型的一部分，切片的基本形式是在方括号中使用``start:stop``：\n",
    "\"\"\"\n",
    "\n",
    "seq = [7, 2, 3, 7, 5, 6, 0, 1]\n",
    "seq[1:5]"
   ]
  },
  {
   "cell_type": "code",
   "execution_count": 51,
   "id": "9acf15c5",
   "metadata": {},
   "outputs": [
    {
     "data": {
      "text/plain": [
       "[7, 2, 3, 61, 300, 3, 3, 5, 6, 0, 1]"
      ]
     },
     "execution_count": 51,
     "metadata": {},
     "output_type": "execute_result"
    }
   ],
   "source": [
    "# 切片赋值\n",
    "seq[3:4] = [61, 300]\n",
    "seq"
   ]
  },
  {
   "cell_type": "code",
   "execution_count": 55,
   "id": "76face8b",
   "metadata": {},
   "outputs": [
    {
     "name": "stdout",
     "output_type": "stream",
     "text": [
      "[7, 2, 3, 61, 300]\n",
      "[61, 300, 3, 3, 5, 6, 0, 1]\n"
     ]
    }
   ],
   "source": [
    "# 默认序列的开头和结尾\n",
    "a1 = seq[:5]\n",
    "print(a1)\n",
    "\n",
    "a2 = seq[3:]\n",
    "print(a2)"
   ]
  },
  {
   "cell_type": "code",
   "execution_count": 56,
   "id": "ef24550d",
   "metadata": {},
   "outputs": [
    {
     "name": "stdout",
     "output_type": "stream",
     "text": [
      "[5, 6, 0, 1]\n",
      "[3, 3, 5, 6]\n"
     ]
    }
   ],
   "source": [
    "# 从后向前切片\n",
    "a3 = seq[-4:]\n",
    "print(a3)\n",
    "\n",
    "a4 = seq[-6:-2]\n",
    "print(a4)"
   ]
  },
  {
   "cell_type": "code",
   "execution_count": 59,
   "id": "8b188187",
   "metadata": {},
   "outputs": [
    {
     "name": "stdout",
     "output_type": "stream",
     "text": [
      "[7, 2, 3, 61, 300, 3, 3, 5, 6, 0, 1]\n",
      "[7, 3, 300, 3, 6, 1]\n"
     ]
    }
   ],
   "source": [
    "# 在第二个冒号后面使用``step``，可以隔一个取一个元素：\n",
    "print(seq)\n",
    "\n",
    "abb = seq[ : : 2]\n",
    "print(abb)"
   ]
  },
  {
   "cell_type": "code",
   "execution_count": 60,
   "id": "9c62153f",
   "metadata": {},
   "outputs": [
    {
     "name": "stdout",
     "output_type": "stream",
     "text": [
      "[7, 2, 3, 61, 300, 3, 3, 5, 6, 0, 1]\n",
      "[1, 0, 6, 5, 3, 3, 300, 61, 3, 2, 7]\n"
     ]
    }
   ],
   "source": [
    "# 一个聪明的方法是使用``-1``，它可以将列表或元组颠倒过来：\n",
    "print(seq)\n",
    "\n",
    "abb = seq[ : : -1]\n",
    "print(abb)"
   ]
  },
  {
   "cell_type": "markdown",
   "id": "74012c9c",
   "metadata": {},
   "source": [
    "### 序列函数"
   ]
  },
  {
   "cell_type": "code",
   "execution_count": null,
   "id": "0886c6f7",
   "metadata": {},
   "outputs": [],
   "source": [
    "# enumerate函数\n",
    "\"\"\"\n",
    "迭代一个序列时，你可能想跟踪当前项的序号。手动的方法可能是下面这样：\n",
    "\"\"\"\n",
    "i = 0\n",
    "for value in collection:\n",
    "   # do something with value\n",
    "   i += 1"
   ]
  },
  {
   "cell_type": "code",
   "execution_count": null,
   "id": "c43b3749",
   "metadata": {},
   "outputs": [],
   "source": [
    "\"\"\"\n",
    "因为这么做很常见，Python内建了一个``enumerate``函数，可以返回``(i, value)``元组序列：\n",
    "当你索引数据时，使用``enumerate``的一个好方法是计算序列（唯一的）``dict``映射到位置的值：\n",
    "\"\"\""
   ]
  },
  {
   "cell_type": "code",
   "execution_count": 66,
   "id": "a3eaf9bb",
   "metadata": {},
   "outputs": [
    {
     "name": "stdout",
     "output_type": "stream",
     "text": [
      "index: 0, 遍历对象: foo\n",
      "index: 1, 遍历对象: bar\n",
      "index: 2, 遍历对象: baz\n"
     ]
    }
   ],
   "source": [
    "some_list = ['foo', 'bar', 'baz']\n",
    "\n",
    "for i, v in enumerate(some_list):\n",
    "    print(\"index: %s, 遍历对象: %s\" % (i, v))"
   ]
  },
  {
   "cell_type": "markdown",
   "id": "74feaf01",
   "metadata": {},
   "source": [
    "### sorted函数"
   ]
  },
  {
   "cell_type": "code",
   "execution_count": 69,
   "id": "7c1a1be9",
   "metadata": {},
   "outputs": [
    {
     "name": "stdout",
     "output_type": "stream",
     "text": [
      "[0, 1, 2, 2, 3, 6, 7]\n",
      "[' ', 'a', 'c', 'e', 'e', 'h', 'o', 'r', 'r', 's']\n"
     ]
    }
   ],
   "source": [
    "# ``sorted``函数可以从任意序列的元素返回一个新的排好序的列表： `sorted`函数可以接受和`sort`相同的参数。\n",
    "abd_1 = sorted([7, 1, 2, 6, 0, 3, 2])\n",
    "print(abd_1)\n",
    "\n",
    "abd_2 = sorted('horse race')\n",
    "print(abd_2)"
   ]
  },
  {
   "cell_type": "markdown",
   "id": "c43aa9bd",
   "metadata": {},
   "source": [
    "### zip函数"
   ]
  },
  {
   "cell_type": "code",
   "execution_count": 71,
   "id": "fad6c9ff",
   "metadata": {},
   "outputs": [
    {
     "name": "stdout",
     "output_type": "stream",
     "text": [
      "<zip object at 0x0000021397E01380>\n",
      "[('foo', 'one'), ('bar', 'two'), ('baz', 'three')]\n"
     ]
    }
   ],
   "source": [
    "# ``zip``可以将多个列表、元组或其它序列成对组合成一个元组列表：\n",
    "seq1 = ['foo', 'bar', 'baz']\n",
    "seq2 = ['one', 'two', 'three']\n",
    "\n",
    "zipped =zip(seq1, seq2)\n",
    "\n",
    "print(zipped)\n",
    "print(list(zipped))"
   ]
  },
  {
   "cell_type": "code",
   "execution_count": 72,
   "id": "13a5c9f9",
   "metadata": {},
   "outputs": [
    {
     "data": {
      "text/plain": [
       "[('foo', 'one', False), ('bar', 'two', True)]"
      ]
     },
     "execution_count": 72,
     "metadata": {},
     "output_type": "execute_result"
    }
   ],
   "source": [
    "# ``zip``可以处理任意多的序列，元素的个数取决于最短的序列：\n",
    "seq3 = [False, True]\n",
    "\n",
    "list(zip(seq1, seq2, seq3))"
   ]
  },
  {
   "cell_type": "code",
   "execution_count": 75,
   "id": "0ea24c47",
   "metadata": {},
   "outputs": [
    {
     "name": "stdout",
     "output_type": "stream",
     "text": [
      "index: 0, value: foo one\n",
      "index: 1, value: bar two\n",
      "index: 2, value: baz three\n"
     ]
    }
   ],
   "source": [
    "# ``zip``的常见用法之一是同时迭代多个序列，可能结合``enumerate``使用：\n",
    "\n",
    "for i, (a, b) in enumerate(zip(seq1, seq2)):\n",
    "    print(\"index: %s, value: %s %s\" % (i, a, b))\n"
   ]
  },
  {
   "cell_type": "code",
   "execution_count": 77,
   "id": "f3411126",
   "metadata": {},
   "outputs": [
    {
     "name": "stdout",
     "output_type": "stream",
     "text": [
      "('Nolan', 'Roger', 'Schilling')\n",
      "('Ryan', 'Clemens', 'Curt')\n"
     ]
    }
   ],
   "source": [
    "# 给出一个“被压缩的”序列，``zip``可以被用来解压序列。也可以当作把行的列表转换为列的列表。这个方法看起来有点神奇：\n",
    "\n",
    "pitchers = [('Nolan', 'Ryan'), ('Roger', 'Clemens'),('Schilling', 'Curt')]\n",
    "\n",
    "first_names, last_names = zip(*pitchers)\n",
    "\n",
    "print(first_names)\n",
    "print(last_names)"
   ]
  },
  {
   "cell_type": "markdown",
   "id": "a2c60cdf",
   "metadata": {},
   "source": [
    "### reversed函数"
   ]
  },
  {
   "cell_type": "code",
   "execution_count": 1,
   "id": "e9410d08",
   "metadata": {},
   "outputs": [
    {
     "data": {
      "text/plain": [
       "[9, 8, 7, 6, 5, 4, 3, 2, 1, 0]"
      ]
     },
     "execution_count": 1,
     "metadata": {},
     "output_type": "execute_result"
    }
   ],
   "source": [
    "# ``reversed``可以从后向前迭代一个序列： 要记住``reversed``是一个生成器（后面详细介绍），只有实体化（即列表或for循环）之后才能创建翻转的序列。\n",
    "list(reversed(range(10)))\n"
   ]
  },
  {
   "cell_type": "code",
   "execution_count": 2,
   "id": "aec4725c",
   "metadata": {},
   "outputs": [],
   "source": [
    "## 字典"
   ]
  },
  {
   "cell_type": "code",
   "execution_count": 4,
   "id": "c43104cf",
   "metadata": {},
   "outputs": [
    {
     "data": {
      "text/plain": [
       "{'a': 'some value', 'b': [1, 2, 3, 4]}"
      ]
     },
     "execution_count": 4,
     "metadata": {},
     "output_type": "execute_result"
    }
   ],
   "source": [
    "\"\"\"\n",
    "字典可能是Python最为重要的数据结构。它更为常见的名字是哈希映射或关联数组。它是键值对的大小可变集合，键和值都是Python对象。\n",
    "创建字典的方法之一是使用尖括号，用冒号分隔键和值：\n",
    "\"\"\"\n",
    "\n",
    "d1 = {'a' : 'some value', 'b' : [1, 2, 3, 4]}\n",
    "d1"
   ]
  },
  {
   "cell_type": "code",
   "execution_count": 5,
   "id": "f235aacf",
   "metadata": {},
   "outputs": [
    {
     "data": {
      "text/plain": [
       "{'a': 'some value', 'b': [1, 2, 3, 4], 7: 'an integer'}"
      ]
     },
     "execution_count": 5,
     "metadata": {},
     "output_type": "execute_result"
    }
   ],
   "source": [
    "# 字典访问\n",
    "d1[7] = 'an integer'\n",
    "d1"
   ]
  },
  {
   "cell_type": "code",
   "execution_count": 6,
   "id": "8cd98aa6",
   "metadata": {},
   "outputs": [
    {
     "data": {
      "text/plain": [
       "[1, 2, 3, 4]"
      ]
     },
     "execution_count": 6,
     "metadata": {},
     "output_type": "execute_result"
    }
   ],
   "source": [
    "d1['b']"
   ]
  },
  {
   "cell_type": "code",
   "execution_count": 7,
   "id": "1a8fdd85",
   "metadata": {},
   "outputs": [
    {
     "data": {
      "text/plain": [
       "True"
      ]
     },
     "execution_count": 7,
     "metadata": {},
     "output_type": "execute_result"
    }
   ],
   "source": [
    "# 你可以用检查列表和元组是否包含某个值的方法，检查字典中是否包含某个键：\n",
    "'b' in d1"
   ]
  },
  {
   "cell_type": "code",
   "execution_count": 8,
   "id": "3a355ac1",
   "metadata": {},
   "outputs": [
    {
     "data": {
      "text/plain": [
       "{'a': 'some value', 'b': [1, 2, 3, 4], 7: 'an integer', 5: 'some value'}"
      ]
     },
     "execution_count": 8,
     "metadata": {},
     "output_type": "execute_result"
    }
   ],
   "source": [
    "# 可以用``del``关键字或``pop``方法（返回值的同时删除键）删除值：\n",
    "\n",
    "d1[5] = 'some value'\n",
    "d1"
   ]
  },
  {
   "cell_type": "code",
   "execution_count": 10,
   "id": "0097481c",
   "metadata": {},
   "outputs": [],
   "source": [
    "del d1[5]"
   ]
  },
  {
   "cell_type": "code",
   "execution_count": 20,
   "id": "3a6c1575",
   "metadata": {},
   "outputs": [
    {
     "data": {
      "text/plain": [
       "{'a': 'some value', 7: 'an integer'}"
      ]
     },
     "execution_count": 20,
     "metadata": {},
     "output_type": "execute_result"
    }
   ],
   "source": [
    "d1"
   ]
  },
  {
   "cell_type": "code",
   "execution_count": null,
   "id": "9475ca1e",
   "metadata": {},
   "outputs": [],
   "source": [
    "ret = d1.pop('b')"
   ]
  },
  {
   "cell_type": "code",
   "execution_count": 19,
   "id": "1dc68656",
   "metadata": {},
   "outputs": [
    {
     "data": {
      "text/plain": [
       "[1, 2, 3, 4]"
      ]
     },
     "execution_count": 19,
     "metadata": {},
     "output_type": "execute_result"
    }
   ],
   "source": [
    "ret"
   ]
  },
  {
   "cell_type": "code",
   "execution_count": 22,
   "id": "27a17638",
   "metadata": {},
   "outputs": [
    {
     "name": "stdout",
     "output_type": "stream",
     "text": [
      "{'a': 'some value', 7: 'an integer'}\n"
     ]
    },
    {
     "data": {
      "text/plain": [
       "['a', 7]"
      ]
     },
     "execution_count": 22,
     "metadata": {},
     "output_type": "execute_result"
    }
   ],
   "source": [
    "\"\"\"\n",
    "``keys``和``values``是字典的键和值的迭代器方法。虽然键值对没有顺序，这两个方法可以用相同的顺序输出键和值：\n",
    "\"\"\"\n",
    "print(d1)\n",
    "\n",
    "list(d1.keys())"
   ]
  },
  {
   "cell_type": "code",
   "execution_count": 23,
   "id": "7e5dcd55",
   "metadata": {},
   "outputs": [
    {
     "data": {
      "text/plain": [
       "['some value', 'an integer']"
      ]
     },
     "execution_count": 23,
     "metadata": {},
     "output_type": "execute_result"
    }
   ],
   "source": [
    "list(d1.values())"
   ]
  },
  {
   "cell_type": "code",
   "execution_count": 24,
   "id": "2275616a",
   "metadata": {},
   "outputs": [
    {
     "data": {
      "text/plain": [
       "{'a': 'some value', 7: 'an integer', 'b': 'foo', 'c': 12}"
      ]
     },
     "execution_count": 24,
     "metadata": {},
     "output_type": "execute_result"
    }
   ],
   "source": [
    "# 融合\n",
    "d1.update({'b' : 'foo', 'c' : 12})\n",
    "d1"
   ]
  },
  {
   "cell_type": "markdown",
   "id": "40e324ff",
   "metadata": {},
   "source": [
    "### 用序列创建字典"
   ]
  },
  {
   "cell_type": "code",
   "execution_count": 26,
   "id": "c4fe8543",
   "metadata": {},
   "outputs": [
    {
     "name": "stdout",
     "output_type": "stream",
     "text": [
      "{'a1': 1, 'a2': 2, 'a3': 3, 'a4': 4, 'a5': 5}\n"
     ]
    }
   ],
   "source": [
    "# 常常，你可能想将两个序列配对组合成字典。下面是一种写法\n",
    "\n",
    "key_list = ['a1', 'a2', 'a3', 'a4', 'a5']\n",
    "value_list = [1,2,3,4,5]\n",
    "\n",
    "mapping = {}\n",
    "for key, value in zip(key_list, value_list):\n",
    "    mapping[key] = value\n",
    "    \n",
    "print(mapping)"
   ]
  },
  {
   "cell_type": "code",
   "execution_count": 28,
   "id": "66740cad",
   "metadata": {},
   "outputs": [
    {
     "name": "stdout",
     "output_type": "stream",
     "text": [
      "{0: 4, 1: 3, 2: 2, 3: 1, 4: 0}\n"
     ]
    }
   ],
   "source": [
    "# 因为字典本质上是2元元组的集合，dict可以接受2元元组的列表：\n",
    "mapping = dict(zip(range(5), reversed(range(5))))\n",
    "print(mapping)"
   ]
  },
  {
   "cell_type": "markdown",
   "id": "cb9d912f",
   "metadata": {},
   "source": [
    "### 默认值"
   ]
  },
  {
   "cell_type": "code",
   "execution_count": 29,
   "id": "fb3da133",
   "metadata": {},
   "outputs": [
    {
     "data": {
      "text/plain": [
       "'\\nif key in some_dict:\\n    value = some_dict[key]\\nelse:\\n    value = default_value\\n'"
      ]
     },
     "execution_count": 29,
     "metadata": {},
     "output_type": "execute_result"
    }
   ],
   "source": [
    "# 下面的逻辑很常见：\n",
    "\"\"\"\n",
    "if key in some_dict:\n",
    "    value = some_dict[key]\n",
    "else:\n",
    "    value = default_value\n",
    "\"\"\"\n",
    "\n",
    "# 因此，dict的方法get和pop可以取默认值进行返回，上面的if-else语句可以简写成下面：\n",
    "\"\"\"\n",
    "value = some_dict.get(key, default_value)\n",
    "\"\"\""
   ]
  },
  {
   "cell_type": "code",
   "execution_count": 31,
   "id": "f10a2e07",
   "metadata": {},
   "outputs": [
    {
     "data": {
      "text/plain": [
       "{'a': ['apple', 'atom'], 'b': ['bat', 'bar', 'book']}"
      ]
     },
     "execution_count": 31,
     "metadata": {},
     "output_type": "execute_result"
    }
   ],
   "source": [
    "words = ['apple', 'bat', 'bar', 'atom', 'book']\n",
    "\n",
    "by_letter = {}\n",
    "\n",
    "for word in words:\n",
    "    letter = word[0]\n",
    "    if letter not in by_letter:\n",
    "        by_letter[letter] = [word]\n",
    "    else:\n",
    "        # 追加写入\n",
    "        by_letter[letter].append(word)\n",
    "\n",
    "by_letter"
   ]
  },
  {
   "cell_type": "code",
   "execution_count": 34,
   "id": "a327294d",
   "metadata": {},
   "outputs": [
    {
     "data": {
      "text/plain": [
       "{'a': ['apple', 'atom'], 'b': ['bat', 'bar', 'book']}"
      ]
     },
     "execution_count": 34,
     "metadata": {},
     "output_type": "execute_result"
    }
   ],
   "source": [
    "# 升级版\n",
    "words = ['apple', 'bat', 'bar', 'atom', 'book']\n",
    "\n",
    "by_letter = {}\n",
    "\n",
    "for word in words:\n",
    "    letter = word[0]\n",
    "    by_letter.setdefault(letter, []).append(word)\n",
    "\n",
    "by_letter"
   ]
  },
  {
   "cell_type": "code",
   "execution_count": 36,
   "id": "6fcacbf5",
   "metadata": {},
   "outputs": [
    {
     "data": {
      "text/plain": [
       "defaultdict(list, {'a': ['apple', 'atom'], 'b': ['bat', 'bar', 'book']})"
      ]
     },
     "execution_count": 36,
     "metadata": {},
     "output_type": "execute_result"
    }
   ],
   "source": [
    "# 升级版\n",
    "from collections import defaultdict\n",
    "\n",
    "words = ['apple', 'bat', 'bar', 'atom', 'book']\n",
    "\n",
    "by_letter = {}\n",
    "\n",
    "by_letter = defaultdict(list)\n",
    "\n",
    "for word in words:\n",
    "    by_letter[word[0]].append(word)\n",
    "    \n",
    "by_letter"
   ]
  },
  {
   "cell_type": "markdown",
   "id": "e22c7626",
   "metadata": {},
   "source": [
    "### 有效的键类型"
   ]
  },
  {
   "cell_type": "code",
   "execution_count": 38,
   "id": "17ed351d",
   "metadata": {},
   "outputs": [
    {
     "data": {
      "text/plain": [
       "-6797420273463556624"
      ]
     },
     "execution_count": 38,
     "metadata": {},
     "output_type": "execute_result"
    }
   ],
   "source": [
    "\"\"\"\n",
    "字典的值可以是任意Python对象，而键通常是不可变的标量类型（整数、浮点型、字符串）或元组（元组中的对象必须是不可变的）。\n",
    "这被称为“可哈希性”。可以用``hash``函数检测一个对象是否是可哈希的（可被用作字典的键）\n",
    "\"\"\"\n",
    "hash('string')"
   ]
  },
  {
   "cell_type": "code",
   "execution_count": 39,
   "id": "1b8b1aa1",
   "metadata": {},
   "outputs": [
    {
     "data": {
      "text/plain": [
       "-9209053662355515447"
      ]
     },
     "execution_count": 39,
     "metadata": {},
     "output_type": "execute_result"
    }
   ],
   "source": [
    "hash((1, 2, (2, 3)))"
   ]
  },
  {
   "cell_type": "code",
   "execution_count": null,
   "id": "cc84a123",
   "metadata": {},
   "outputs": [],
   "source": [
    "# hash((1, 2, [2, 3]))"
   ]
  },
  {
   "cell_type": "code",
   "execution_count": 41,
   "id": "acb94135",
   "metadata": {},
   "outputs": [
    {
     "data": {
      "text/plain": [
       "{(1, 2, 3): 5}"
      ]
     },
     "execution_count": 41,
     "metadata": {},
     "output_type": "execute_result"
    }
   ],
   "source": [
    "# 要用列表当做键，一种方法是将列表转化为元组，只要内部元素可以被哈希，它也就可以被哈希：\n",
    "d = dict()\n",
    "d[tuple([1, 2, 3])] = 5\n",
    "\n",
    "d"
   ]
  },
  {
   "cell_type": "markdown",
   "id": "7c991492",
   "metadata": {},
   "source": [
    "## 集合"
   ]
  },
  {
   "cell_type": "code",
   "execution_count": 42,
   "id": "3858617a",
   "metadata": {},
   "outputs": [
    {
     "data": {
      "text/plain": [
       "{1, 2, 3}"
      ]
     },
     "execution_count": 42,
     "metadata": {},
     "output_type": "execute_result"
    }
   ],
   "source": [
    "\"\"\"\n",
    "集合是无序的不可重复的元素的集合。你可以把它当做字典，但是只有键没有值。可以用两种方式创建集合：通过set函数或使用尖括号set语句：\n",
    "\"\"\"\n",
    "\n",
    "set([2, 2, 2, 1, 3, 3])"
   ]
  },
  {
   "cell_type": "code",
   "execution_count": 43,
   "id": "662ae848",
   "metadata": {},
   "outputs": [
    {
     "data": {
      "text/plain": [
       "{1, 2, 3}"
      ]
     },
     "execution_count": 43,
     "metadata": {},
     "output_type": "execute_result"
    }
   ],
   "source": [
    "{2, 2, 2, 1, 3, 3}"
   ]
  },
  {
   "cell_type": "code",
   "execution_count": 44,
   "id": "4f85c562",
   "metadata": {},
   "outputs": [
    {
     "data": {
      "text/plain": [
       "{1, 2, 3, 4, 5, 6, 7, 8}"
      ]
     },
     "execution_count": 44,
     "metadata": {},
     "output_type": "execute_result"
    }
   ],
   "source": [
    "a = {1, 2, 3, 4, 5}\n",
    "b = {3, 4, 5, 6, 7, 8}\n",
    "\n",
    "# 合并是取两个集合中不重复的元素。可以用``union``方法，或者``|``运算符\n",
    "a.union(b)"
   ]
  },
  {
   "cell_type": "code",
   "execution_count": 45,
   "id": "675a29e7",
   "metadata": {},
   "outputs": [
    {
     "data": {
      "text/plain": [
       "{1, 2, 3, 4, 5, 6, 7, 8}"
      ]
     },
     "execution_count": 45,
     "metadata": {},
     "output_type": "execute_result"
    }
   ],
   "source": [
    "# 或者使用 | 合并集合\n",
    "a | b"
   ]
  },
  {
   "cell_type": "code",
   "execution_count": 46,
   "id": "a1803f07",
   "metadata": {},
   "outputs": [
    {
     "data": {
      "text/plain": [
       "{3, 4, 5}"
      ]
     },
     "execution_count": 46,
     "metadata": {},
     "output_type": "execute_result"
    }
   ],
   "source": [
    "# 交集\n",
    "a.intersection(b)"
   ]
  },
  {
   "cell_type": "code",
   "execution_count": 47,
   "id": "20ddc980",
   "metadata": {},
   "outputs": [
    {
     "data": {
      "text/plain": [
       "{3, 4, 5}"
      ]
     },
     "execution_count": 47,
     "metadata": {},
     "output_type": "execute_result"
    }
   ],
   "source": [
    "# 或者使用 & 符号\n",
    "a & b"
   ]
  },
  {
   "cell_type": "code",
   "execution_count": 49,
   "id": "6dbaafd6",
   "metadata": {},
   "outputs": [
    {
     "data": {
      "text/plain": [
       "{1, 2, 3, 4, 5, 6, 7, 8}"
      ]
     },
     "execution_count": 49,
     "metadata": {},
     "output_type": "execute_result"
    }
   ],
   "source": [
    "\"\"\"\n",
    "所有逻辑集合操作都有另外的原地实现方法，可以直接用结果替代集合的内容。对于大的集合，这么做效率更高：\n",
    "\"\"\"\n",
    "c = a.copy()\n",
    "\n",
    "c |= b\n",
    "c"
   ]
  },
  {
   "cell_type": "code",
   "execution_count": 50,
   "id": "8c51540a",
   "metadata": {},
   "outputs": [
    {
     "data": {
      "text/plain": [
       "{3, 4, 5}"
      ]
     },
     "execution_count": 50,
     "metadata": {},
     "output_type": "execute_result"
    }
   ],
   "source": [
    "d = a.copy()\n",
    "d &= b\n",
    "d"
   ]
  },
  {
   "cell_type": "code",
   "execution_count": 52,
   "id": "c7aad7d3",
   "metadata": {},
   "outputs": [
    {
     "data": {
      "text/plain": [
       "{(1, 2, 3, 4)}"
      ]
     },
     "execution_count": 52,
     "metadata": {},
     "output_type": "execute_result"
    }
   ],
   "source": [
    "# 与字典类似，集合元素通常都是不可变的。要获得类似列表的元素，必须转换成元组：\n",
    "\n",
    "my_data = [1, 2, 3, 4]\n",
    "\n",
    "my_set = {tuple(my_data)}\n",
    "\n",
    "my_set"
   ]
  },
  {
   "cell_type": "code",
   "execution_count": 55,
   "id": "ac28d8fa",
   "metadata": {},
   "outputs": [
    {
     "name": "stdout",
     "output_type": "stream",
     "text": [
      "True\n",
      "True\n"
     ]
    }
   ],
   "source": [
    "# 你还可以检测一个集合是否是另一个集合的子集或父集：\n",
    "\n",
    "a_set = {1, 2, 3, 4, 5}\n",
    "\n",
    "aa = {1, 2, 3}.issubset(a_set)\n",
    "print(aa)\n",
    "\n",
    "bb = a_set.issuperset({1, 2, 3})\n",
    "print(bb)"
   ]
  },
  {
   "cell_type": "code",
   "execution_count": 56,
   "id": "b4b4371a",
   "metadata": {},
   "outputs": [
    {
     "data": {
      "text/plain": [
       "True"
      ]
     },
     "execution_count": 56,
     "metadata": {},
     "output_type": "execute_result"
    }
   ],
   "source": [
    "# 集合的内容相同时，集合才对等：\n",
    "{1, 2, 3} == {3, 2, 1}"
   ]
  },
  {
   "cell_type": "markdown",
   "id": "27a85cef",
   "metadata": {},
   "source": [
    "### 列表、集合和字典推导式"
   ]
  },
  {
   "cell_type": "code",
   "execution_count": null,
   "id": "561967b5",
   "metadata": {},
   "outputs": [],
   "source": [
    "\"\"\"\n",
    "列表推导式是Python最受喜爱的特性之一。\n",
    "    它允许用户方便的从一个集合过滤元素，形成列表，在传递参数的过程中还可以修改元素。形式如下：\n",
    "    \n",
    "[expr for val in collection if condition]\n",
    "\n",
    "\n",
    "它等同于下面的for循环;\n",
    "result = []\n",
    "for val in collection:\n",
    "    if condition:\n",
    "        result.append(expr)\n",
    "\"\"\"\n"
   ]
  },
  {
   "cell_type": "code",
   "execution_count": 57,
   "id": "ba97bb60",
   "metadata": {},
   "outputs": [
    {
     "data": {
      "text/plain": [
       "['BAT', 'CAR', 'DOVE', 'PYTHON']"
      ]
     },
     "execution_count": 57,
     "metadata": {},
     "output_type": "execute_result"
    }
   ],
   "source": [
    "\"\"\"\n",
    "filter条件可以被忽略，只留下表达式就行。例如，给定一个字符串列表，我们可以过滤出长度在2及以下的字符串，并将其转换成大写：\n",
    "\"\"\"\n",
    "\n",
    "strings = ['a', 'as', 'bat', 'car', 'dove', 'python']\n",
    "\n",
    "[x.upper() for x in strings if len(x) > 2]"
   ]
  },
  {
   "cell_type": "code",
   "execution_count": null,
   "id": "3288deee",
   "metadata": {},
   "outputs": [],
   "source": [
    "\"\"\"\n",
    "用相似的方法，还可以推导集合和字典。字典的推导式如下所示：\n",
    "\n",
    "dict_comp = {key-expr : value-expr for value in collection if condition}\n",
    "\"\"\""
   ]
  },
  {
   "cell_type": "code",
   "execution_count": null,
   "id": "159280fd",
   "metadata": {},
   "outputs": [],
   "source": [
    "\"\"\"\n",
    "集合的推导式子\n",
    "set_comp = {expr for value in collection if condition}\n",
    "\"\"\""
   ]
  },
  {
   "cell_type": "code",
   "execution_count": null,
   "id": "0c7f6bc3",
   "metadata": {},
   "outputs": [],
   "source": [
    "\"\"\"\n",
    "与列表推导式类似，集合与字典的推导也很方便，而且使代码的读写都很容易。\n",
    "    来看前面的字符串列表。假如我们只想要字符串的长度，用集合推导式的方法非常方便：\n",
    "\"\"\""
   ]
  },
  {
   "cell_type": "code",
   "execution_count": 59,
   "id": "5ae9081b",
   "metadata": {},
   "outputs": [
    {
     "data": {
      "text/plain": [
       "{1, 2, 3, 4, 6}"
      ]
     },
     "execution_count": 59,
     "metadata": {},
     "output_type": "execute_result"
    }
   ],
   "source": [
    "unique_lengths = {len(x) for x in strings}\n",
    "\n",
    "unique_lengths"
   ]
  },
  {
   "cell_type": "code",
   "execution_count": 63,
   "id": "aab6b3ac",
   "metadata": {},
   "outputs": [
    {
     "data": {
      "text/plain": [
       "{1, 2, 3, 4, 6}"
      ]
     },
     "execution_count": 63,
     "metadata": {},
     "output_type": "execute_result"
    }
   ],
   "source": [
    "# ``map``函数可以进一步简化：\n",
    "\n",
    "set(map(len, strings))\n"
   ]
  },
  {
   "cell_type": "code",
   "execution_count": 65,
   "id": "5e008ff9",
   "metadata": {},
   "outputs": [
    {
     "name": "stdout",
     "output_type": "stream",
     "text": [
      "['a', 'as', 'bat', 'car', 'dove', 'python']\n"
     ]
    },
    {
     "data": {
      "text/plain": [
       "{'a': 0, 'as': 1, 'bat': 2, 'car': 3, 'dove': 4, 'python': 5}"
      ]
     },
     "execution_count": 65,
     "metadata": {},
     "output_type": "execute_result"
    }
   ],
   "source": [
    "# 作为一个字典推导式的例子，我们可以创建一个字符串的查找映射表以确定它在列表中的位置：\n",
    "\n",
    "print(strings)\n",
    "\n",
    "loc_mapping = {val : index for index, val in enumerate(strings)}\n",
    "\n",
    "loc_mapping"
   ]
  },
  {
   "cell_type": "markdown",
   "id": "db53b0f4",
   "metadata": {},
   "source": [
    "### 嵌套列表推导式"
   ]
  },
  {
   "cell_type": "code",
   "execution_count": 67,
   "id": "40721d16",
   "metadata": {},
   "outputs": [
    {
     "data": {
      "text/plain": [
       "\"\\n你可能是从一些文件得到的这些名字，然后想按照语言进行分类。\\n    现在假设我们想用一个列表包含所有的名字，这些名字中包含两个或更多的e。可以用for循环来做：\\n    \\nnames_of_interest = []\\nfor names in all_data:\\n    enough_es = [name for name in names if name.count('e') >= 2]\\n    names_of_interest.extend(enough_es)\\n\""
      ]
     },
     "execution_count": 67,
     "metadata": {},
     "output_type": "execute_result"
    }
   ],
   "source": [
    "all_data = [['John', 'Emily', 'Michael', 'Mary', 'Steven'], ['Maria', 'Juan', 'Javier', 'Natalia', 'Pilar']]\n",
    "\n",
    "\"\"\"\n",
    "你可能是从一些文件得到的这些名字，然后想按照语言进行分类。\n",
    "    现在假设我们想用一个列表包含所有的名字，这些名字中包含两个或更多的e。可以用for循环来做：\n",
    "    \n",
    "names_of_interest = []\n",
    "for names in all_data:\n",
    "    enough_es = [name for name in names if name.count('e') >= 2]\n",
    "    names_of_interest.extend(enough_es)\n",
    "\"\"\""
   ]
  },
  {
   "cell_type": "code",
   "execution_count": 68,
   "id": "a957f674",
   "metadata": {},
   "outputs": [
    {
     "data": {
      "text/plain": [
       "['Steven']"
      ]
     },
     "execution_count": 68,
     "metadata": {},
     "output_type": "execute_result"
    }
   ],
   "source": [
    "# 可以用嵌套列表推导式的方法，将这些写在一起，如下所示：\n",
    "result = [name for names in all_data for name in names if name.count('e') >= 2]\n",
    "\n",
    "result"
   ]
  },
  {
   "cell_type": "code",
   "execution_count": 69,
   "id": "e4f98358",
   "metadata": {},
   "outputs": [
    {
     "data": {
      "text/plain": [
       "[1, 2, 3, 4, 5, 6, 7, 8, 9]"
      ]
     },
     "execution_count": 69,
     "metadata": {},
     "output_type": "execute_result"
    }
   ],
   "source": [
    "\"\"\"\n",
    "嵌套列表推导式看起来有些复杂。列表推导式的for部分是根据嵌套的顺序，过滤条件还是放在最后。\n",
    "    下面是另一个例子，我们将一个整数元组的列表扁平化成了一个整数列表：\n",
    "\"\"\"\n",
    "some_tuples = [(1, 2, 3), (4, 5, 6), (7, 8, 9)]\n",
    "\n",
    "flattened = [x for tup in some_tuples for x in tup]\n",
    "\n",
    "flattened"
   ]
  },
  {
   "cell_type": "code",
   "execution_count": 70,
   "id": "f97fb88f",
   "metadata": {},
   "outputs": [
    {
     "data": {
      "text/plain": [
       "[[1, 2, 3], [4, 5, 6], [7, 8, 9]]"
      ]
     },
     "execution_count": 70,
     "metadata": {},
     "output_type": "execute_result"
    }
   ],
   "source": [
    "\"\"\"\n",
    "你可以有任意多级别的嵌套，但是如果你有两三个以上的嵌套，你就应该考虑下代码可读性的问题了。分辨列表推导式的列表推导式中的语法也是很重要的：\n",
    "\n",
    "这段代码产生了一个列表的列表，而不是扁平化的只包含元素的列表。\n",
    "\"\"\"\n",
    "\n",
    "[[x for x in tup] for tup in some_tuples]"
   ]
  },
  {
   "cell_type": "code",
   "execution_count": null,
   "id": "389d835c",
   "metadata": {},
   "outputs": [],
   "source": []
  }
 ],
 "metadata": {
  "kernelspec": {
   "display_name": "Python 3 (ipykernel)",
   "language": "python",
   "name": "python3"
  },
  "language_info": {
   "codemirror_mode": {
    "name": "ipython",
    "version": 3
   },
   "file_extension": ".py",
   "mimetype": "text/x-python",
   "name": "python",
   "nbconvert_exporter": "python",
   "pygments_lexer": "ipython3",
   "version": "3.8.10"
  },
  "toc": {
   "base_numbering": 1,
   "nav_menu": {},
   "number_sections": true,
   "sideBar": true,
   "skip_h1_title": false,
   "title_cell": "Table of Contents",
   "title_sidebar": "Contents",
   "toc_cell": false,
   "toc_position": {},
   "toc_section_display": true,
   "toc_window_display": false
  }
 },
 "nbformat": 4,
 "nbformat_minor": 5
}
