{
 "cells": [
  {
   "cell_type": "code",
   "execution_count": 1,
   "id": "e4e10663-068b-4b7d-9805-304510916448",
   "metadata": {
    "tags": []
   },
   "outputs": [],
   "source": [
    "import numpy as np\n",
    "import matplotlib.pyplot as plt"
   ]
  },
  {
   "cell_type": "markdown",
   "id": "18985ea5-9959-40a1-9122-678ffa094f5c",
   "metadata": {},
   "source": [
    "## 一次模拟多个随机漫步\n",
    "\n",
    "> 如果你希望模拟多个随机漫步过程（比如5000个），只需对上面的代码做一点点修改即可生成所有的随机漫步过程。只要给numpy.random的函数传入一个二元元组就可以产生一个二维数组，然后我们就可以一次性计算5000个随机漫步过程（一行一个）的累计和了："
   ]
  },
  {
   "cell_type": "code",
   "execution_count": 3,
   "id": "0659df8c-6481-40e8-a1b7-bf2c966936ed",
   "metadata": {
    "tags": []
   },
   "outputs": [],
   "source": [
    "nwalks = 5000\n",
    "nsteps = 1000\n",
    "\n",
    "\n",
    "draws = np.random.randint(0, 2, size=(nwalks, nsteps)) # 0 or 1\n",
    "\n",
    "\n",
    "steps = np.where(draws > 0, 1, -1)\n",
    "\n",
    "\n",
    "walks = steps.cumsum(1)"
   ]
  },
  {
   "cell_type": "code",
   "execution_count": 12,
   "id": "f23c0b7a-4384-490a-94e2-924391469cc3",
   "metadata": {
    "tags": []
   },
   "outputs": [
    {
     "name": "stdout",
     "output_type": "stream",
     "text": [
      "行走步数记录: \n"
     ]
    },
    {
     "data": {
      "text/plain": [
       "array([[-1, -1, -1, ...,  1,  1,  1],\n",
       "       [-1, -1,  1, ..., -1, -1, -1],\n",
       "       [-1,  1,  1, ...,  1,  1, -1],\n",
       "       ...,\n",
       "       [ 1,  1,  1, ...,  1,  1, -1],\n",
       "       [ 1,  1,  1, ..., -1,  1,  1],\n",
       "       [ 1, -1,  1, ...,  1,  1,  1]])"
      ]
     },
     "execution_count": 12,
     "metadata": {},
     "output_type": "execute_result"
    }
   ],
   "source": [
    "print(\"行走步数记录: \")\n",
    "steps"
   ]
  },
  {
   "cell_type": "code",
   "execution_count": 13,
   "id": "1d33d85a-a876-42ea-95b7-70209d7737a2",
   "metadata": {
    "tags": []
   },
   "outputs": [
    {
     "name": "stdout",
     "output_type": "stream",
     "text": [
      "每次行走, 距离起点路长: \n"
     ]
    },
    {
     "data": {
      "text/plain": [
       "array([[ -1,  -2,  -3, ..., -40, -39, -38],\n",
       "       [ -1,  -2,  -1, ...,  32,  31,  30],\n",
       "       [ -1,   0,   1, ...,  -8,  -7,  -8],\n",
       "       ...,\n",
       "       [  1,   2,   3, ...,  32,  33,  32],\n",
       "       [  1,   2,   3, ..., -18, -17, -16],\n",
       "       [  1,   0,   1, ..., -32, -31, -30]])"
      ]
     },
     "execution_count": 13,
     "metadata": {},
     "output_type": "execute_result"
    }
   ],
   "source": [
    "print(\"每次行走, 距离起点路长: \")\n",
    "walks"
   ]
  },
  {
   "cell_type": "markdown",
   "id": "0536705f-c485-4480-930f-ce4ec6a6fa69",
   "metadata": {},
   "source": [
    "> 现在，我们来计算所有随机漫步过程的最大值和最小值："
   ]
  },
  {
   "cell_type": "code",
   "execution_count": 14,
   "id": "90fc3c16-d08f-4d76-a811-6820d402d4ef",
   "metadata": {
    "tags": []
   },
   "outputs": [
    {
     "name": "stdout",
     "output_type": "stream",
     "text": [
      "118\n",
      "-122\n"
     ]
    }
   ],
   "source": [
    "print(walks.max())\n",
    "print(walks.min())"
   ]
  },
  {
   "cell_type": "markdown",
   "id": "2ba0e814-4d44-4047-948c-3573c1518c5f",
   "metadata": {
    "tags": []
   },
   "source": [
    "> 得到这些数据之后，我们来计算30或－30的最小穿越时间。这里稍微复杂些，因为不是5000个过程都到达了30。我们可以用any方法来对此进行检查："
   ]
  },
  {
   "cell_type": "code",
   "execution_count": 17,
   "id": "e9f917f6-6cbd-4862-a506-316a876fcedc",
   "metadata": {
    "tags": []
   },
   "outputs": [
    {
     "data": {
      "text/plain": [
       "array([ True,  True,  True, ...,  True, False,  True])"
      ]
     },
     "execution_count": 17,
     "metadata": {},
     "output_type": "execute_result"
    }
   ],
   "source": [
    "hits30 = (np.abs(walks) >= 30).any(1)\n",
    "\n",
    "hits30"
   ]
  },
  {
   "cell_type": "code",
   "execution_count": 16,
   "id": "3bda4242-0714-4b61-8fbe-dc810cfcd3b6",
   "metadata": {
    "tags": []
   },
   "outputs": [
    {
     "data": {
      "text/plain": [
       "3358"
      ]
     },
     "execution_count": 16,
     "metadata": {},
     "output_type": "execute_result"
    }
   ],
   "source": [
    "hits30.sum() # Number that hit 30 or -30"
   ]
  },
  {
   "cell_type": "markdown",
   "id": "762b4c1e-aad1-44be-a4fa-060addf21994",
   "metadata": {},
   "source": [
    "> 然后我们利用这个布尔型数组选出那些穿越了30（绝对值）的随机漫步（行），并调用argmax在轴1上获取穿越时间："
   ]
  },
  {
   "cell_type": "code",
   "execution_count": 18,
   "id": "fc7cea01-ac24-4ca1-b750-2f56ded71e9c",
   "metadata": {
    "tags": []
   },
   "outputs": [
    {
     "data": {
      "text/plain": [
       "502.15187611673616"
      ]
     },
     "execution_count": 18,
     "metadata": {},
     "output_type": "execute_result"
    }
   ],
   "source": [
    "crossing_times = (np.abs(walks[hits30]) >= 30).argmax(1)\n",
    "\n",
    "crossing_times.mean()"
   ]
  },
  {
   "cell_type": "markdown",
   "id": "8445fd20-aa0e-42d3-b487-7506fa797306",
   "metadata": {},
   "source": [
    "> 请尝试用其他分布方式得到漫步数据。只需使用不同的随机数生成函数即可，如normal用于生成指定均值和标准差的正态分布数据："
   ]
  },
  {
   "cell_type": "code",
   "execution_count": null,
   "id": "2f64f905-cda2-4ec3-87cf-d1f4233e2666",
   "metadata": {},
   "outputs": [],
   "source": []
  }
 ],
 "metadata": {
  "kernelspec": {
   "display_name": "Python 3 (ipykernel)",
   "language": "python",
   "name": "python3"
  },
  "language_info": {
   "codemirror_mode": {
    "name": "ipython",
    "version": 3
   },
   "file_extension": ".py",
   "mimetype": "text/x-python",
   "name": "python",
   "nbconvert_exporter": "python",
   "pygments_lexer": "ipython3",
   "version": "3.8.10"
  }
 },
 "nbformat": 4,
 "nbformat_minor": 5
}
