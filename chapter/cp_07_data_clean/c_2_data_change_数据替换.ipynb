{
 "cells": [
  {
   "cell_type": "markdown",
   "id": "5245ece5-aa42-4332-a38c-0bfaa4eea11a",
   "metadata": {},
   "source": [
    "# 7.2 数据转换\n",
    "\n",
    "本章到目前为止介绍的都是数据的重排。另一类重要操作则是过滤、清理以及其他的转换工作。\n",
    "\n",
    "## 移除重复数据\n",
    "\n",
    "DataFrame中出现重复行有多种原因。下面就是一个例子："
   ]
  },
  {
   "cell_type": "code",
   "execution_count": 1,
   "id": "29a61a61-57c0-47b8-b031-3f8ca4759086",
   "metadata": {
    "tags": []
   },
   "outputs": [],
   "source": [
    "import pandas as pd\n",
    "import numpy as np"
   ]
  },
  {
   "cell_type": "code",
   "execution_count": 2,
   "id": "f1f99f28-3f88-4231-9fbf-36cf0c777795",
   "metadata": {
    "tags": []
   },
   "outputs": [
    {
     "data": {
      "text/html": [
       "<div>\n",
       "<style scoped>\n",
       "    .dataframe tbody tr th:only-of-type {\n",
       "        vertical-align: middle;\n",
       "    }\n",
       "\n",
       "    .dataframe tbody tr th {\n",
       "        vertical-align: top;\n",
       "    }\n",
       "\n",
       "    .dataframe thead th {\n",
       "        text-align: right;\n",
       "    }\n",
       "</style>\n",
       "<table border=\"1\" class=\"dataframe\">\n",
       "  <thead>\n",
       "    <tr style=\"text-align: right;\">\n",
       "      <th></th>\n",
       "      <th>k1</th>\n",
       "      <th>k2</th>\n",
       "    </tr>\n",
       "  </thead>\n",
       "  <tbody>\n",
       "    <tr>\n",
       "      <th>0</th>\n",
       "      <td>one</td>\n",
       "      <td>1</td>\n",
       "    </tr>\n",
       "    <tr>\n",
       "      <th>1</th>\n",
       "      <td>two</td>\n",
       "      <td>1</td>\n",
       "    </tr>\n",
       "    <tr>\n",
       "      <th>2</th>\n",
       "      <td>one</td>\n",
       "      <td>2</td>\n",
       "    </tr>\n",
       "    <tr>\n",
       "      <th>3</th>\n",
       "      <td>two</td>\n",
       "      <td>3</td>\n",
       "    </tr>\n",
       "    <tr>\n",
       "      <th>4</th>\n",
       "      <td>one</td>\n",
       "      <td>3</td>\n",
       "    </tr>\n",
       "    <tr>\n",
       "      <th>5</th>\n",
       "      <td>two</td>\n",
       "      <td>4</td>\n",
       "    </tr>\n",
       "    <tr>\n",
       "      <th>6</th>\n",
       "      <td>two</td>\n",
       "      <td>4</td>\n",
       "    </tr>\n",
       "  </tbody>\n",
       "</table>\n",
       "</div>"
      ],
      "text/plain": [
       "    k1  k2\n",
       "0  one   1\n",
       "1  two   1\n",
       "2  one   2\n",
       "3  two   3\n",
       "4  one   3\n",
       "5  two   4\n",
       "6  two   4"
      ]
     },
     "execution_count": 2,
     "metadata": {},
     "output_type": "execute_result"
    }
   ],
   "source": [
    "data = pd.DataFrame({'k1': ['one', 'two'] * 3 + ['two'],\n",
    "                     'k2': [1, 1, 2, 3, 3, 4, 4]}\n",
    "                   )\n",
    "\n",
    "data"
   ]
  },
  {
   "cell_type": "markdown",
   "id": "93998bf0-4866-4084-a8b9-7e3adfb77c84",
   "metadata": {},
   "source": [
    "DataFrame的duplicated方法返回一个布尔型Series，表示各行是否是重复行（前面出现过的行）："
   ]
  },
  {
   "cell_type": "code",
   "execution_count": 3,
   "id": "6566990b-f9a8-4a94-bb73-0222c3e5099a",
   "metadata": {
    "tags": []
   },
   "outputs": [
    {
     "data": {
      "text/plain": [
       "0    False\n",
       "1    False\n",
       "2    False\n",
       "3    False\n",
       "4    False\n",
       "5    False\n",
       "6     True\n",
       "dtype: bool"
      ]
     },
     "execution_count": 3,
     "metadata": {},
     "output_type": "execute_result"
    }
   ],
   "source": [
    "data.duplicated()"
   ]
  },
  {
   "cell_type": "markdown",
   "id": "92703fe0-2092-4c0d-962d-47239fb14899",
   "metadata": {},
   "source": [
    "还有一个与此相关的drop_duplicates方法，它会返回一个DataFrame，重复的数组会标为False："
   ]
  },
  {
   "cell_type": "code",
   "execution_count": 4,
   "id": "d043eace-120c-471b-a691-6706273d85cc",
   "metadata": {
    "tags": []
   },
   "outputs": [
    {
     "data": {
      "text/html": [
       "<div>\n",
       "<style scoped>\n",
       "    .dataframe tbody tr th:only-of-type {\n",
       "        vertical-align: middle;\n",
       "    }\n",
       "\n",
       "    .dataframe tbody tr th {\n",
       "        vertical-align: top;\n",
       "    }\n",
       "\n",
       "    .dataframe thead th {\n",
       "        text-align: right;\n",
       "    }\n",
       "</style>\n",
       "<table border=\"1\" class=\"dataframe\">\n",
       "  <thead>\n",
       "    <tr style=\"text-align: right;\">\n",
       "      <th></th>\n",
       "      <th>k1</th>\n",
       "      <th>k2</th>\n",
       "    </tr>\n",
       "  </thead>\n",
       "  <tbody>\n",
       "    <tr>\n",
       "      <th>0</th>\n",
       "      <td>one</td>\n",
       "      <td>1</td>\n",
       "    </tr>\n",
       "    <tr>\n",
       "      <th>1</th>\n",
       "      <td>two</td>\n",
       "      <td>1</td>\n",
       "    </tr>\n",
       "    <tr>\n",
       "      <th>2</th>\n",
       "      <td>one</td>\n",
       "      <td>2</td>\n",
       "    </tr>\n",
       "    <tr>\n",
       "      <th>3</th>\n",
       "      <td>two</td>\n",
       "      <td>3</td>\n",
       "    </tr>\n",
       "    <tr>\n",
       "      <th>4</th>\n",
       "      <td>one</td>\n",
       "      <td>3</td>\n",
       "    </tr>\n",
       "    <tr>\n",
       "      <th>5</th>\n",
       "      <td>two</td>\n",
       "      <td>4</td>\n",
       "    </tr>\n",
       "  </tbody>\n",
       "</table>\n",
       "</div>"
      ],
      "text/plain": [
       "    k1  k2\n",
       "0  one   1\n",
       "1  two   1\n",
       "2  one   2\n",
       "3  two   3\n",
       "4  one   3\n",
       "5  two   4"
      ]
     },
     "execution_count": 4,
     "metadata": {},
     "output_type": "execute_result"
    }
   ],
   "source": [
    "data.drop_duplicates()"
   ]
  },
  {
   "cell_type": "markdown",
   "id": "7d03d72d-95b8-4d18-93e2-16f7a643c767",
   "metadata": {},
   "source": [
    "这两个方法默认会判断全部列，你也可以指定部分列进行重复项判断。假设我们还有一列值，且只希望根据k1列过滤重复项："
   ]
  },
  {
   "cell_type": "code",
   "execution_count": 5,
   "id": "18036900-98d5-40f7-8c2e-b2d3eaffd310",
   "metadata": {
    "tags": []
   },
   "outputs": [
    {
     "data": {
      "text/html": [
       "<div>\n",
       "<style scoped>\n",
       "    .dataframe tbody tr th:only-of-type {\n",
       "        vertical-align: middle;\n",
       "    }\n",
       "\n",
       "    .dataframe tbody tr th {\n",
       "        vertical-align: top;\n",
       "    }\n",
       "\n",
       "    .dataframe thead th {\n",
       "        text-align: right;\n",
       "    }\n",
       "</style>\n",
       "<table border=\"1\" class=\"dataframe\">\n",
       "  <thead>\n",
       "    <tr style=\"text-align: right;\">\n",
       "      <th></th>\n",
       "      <th>k1</th>\n",
       "      <th>k2</th>\n",
       "      <th>v1</th>\n",
       "    </tr>\n",
       "  </thead>\n",
       "  <tbody>\n",
       "    <tr>\n",
       "      <th>0</th>\n",
       "      <td>one</td>\n",
       "      <td>1</td>\n",
       "      <td>0</td>\n",
       "    </tr>\n",
       "    <tr>\n",
       "      <th>1</th>\n",
       "      <td>two</td>\n",
       "      <td>1</td>\n",
       "      <td>1</td>\n",
       "    </tr>\n",
       "    <tr>\n",
       "      <th>2</th>\n",
       "      <td>one</td>\n",
       "      <td>2</td>\n",
       "      <td>2</td>\n",
       "    </tr>\n",
       "    <tr>\n",
       "      <th>3</th>\n",
       "      <td>two</td>\n",
       "      <td>3</td>\n",
       "      <td>3</td>\n",
       "    </tr>\n",
       "    <tr>\n",
       "      <th>4</th>\n",
       "      <td>one</td>\n",
       "      <td>3</td>\n",
       "      <td>4</td>\n",
       "    </tr>\n",
       "    <tr>\n",
       "      <th>5</th>\n",
       "      <td>two</td>\n",
       "      <td>4</td>\n",
       "      <td>5</td>\n",
       "    </tr>\n",
       "    <tr>\n",
       "      <th>6</th>\n",
       "      <td>two</td>\n",
       "      <td>4</td>\n",
       "      <td>6</td>\n",
       "    </tr>\n",
       "  </tbody>\n",
       "</table>\n",
       "</div>"
      ],
      "text/plain": [
       "    k1  k2  v1\n",
       "0  one   1   0\n",
       "1  two   1   1\n",
       "2  one   2   2\n",
       "3  two   3   3\n",
       "4  one   3   4\n",
       "5  two   4   5\n",
       "6  two   4   6"
      ]
     },
     "execution_count": 5,
     "metadata": {},
     "output_type": "execute_result"
    }
   ],
   "source": [
    "data['v1'] = range(7)\n",
    "\n",
    "data"
   ]
  },
  {
   "cell_type": "code",
   "execution_count": 6,
   "id": "db6a047b-1cd1-4c70-af36-eba4e2a81942",
   "metadata": {
    "tags": []
   },
   "outputs": [
    {
     "data": {
      "text/html": [
       "<div>\n",
       "<style scoped>\n",
       "    .dataframe tbody tr th:only-of-type {\n",
       "        vertical-align: middle;\n",
       "    }\n",
       "\n",
       "    .dataframe tbody tr th {\n",
       "        vertical-align: top;\n",
       "    }\n",
       "\n",
       "    .dataframe thead th {\n",
       "        text-align: right;\n",
       "    }\n",
       "</style>\n",
       "<table border=\"1\" class=\"dataframe\">\n",
       "  <thead>\n",
       "    <tr style=\"text-align: right;\">\n",
       "      <th></th>\n",
       "      <th>k1</th>\n",
       "      <th>k2</th>\n",
       "      <th>v1</th>\n",
       "    </tr>\n",
       "  </thead>\n",
       "  <tbody>\n",
       "    <tr>\n",
       "      <th>0</th>\n",
       "      <td>one</td>\n",
       "      <td>1</td>\n",
       "      <td>0</td>\n",
       "    </tr>\n",
       "    <tr>\n",
       "      <th>1</th>\n",
       "      <td>two</td>\n",
       "      <td>1</td>\n",
       "      <td>1</td>\n",
       "    </tr>\n",
       "  </tbody>\n",
       "</table>\n",
       "</div>"
      ],
      "text/plain": [
       "    k1  k2  v1\n",
       "0  one   1   0\n",
       "1  two   1   1"
      ]
     },
     "execution_count": 6,
     "metadata": {},
     "output_type": "execute_result"
    }
   ],
   "source": [
    "data.drop_duplicates(['k1'])"
   ]
  },
  {
   "cell_type": "markdown",
   "id": "ef00f074-2440-4625-b7a6-797829aecc64",
   "metadata": {},
   "source": [
    "duplicated和drop_duplicates默认保留的是第一个出现的值组合。传入keep='last'则保留最后一个："
   ]
  },
  {
   "cell_type": "code",
   "execution_count": 7,
   "id": "29b23cb0-caa5-4118-bd53-671bcf6d3a2b",
   "metadata": {
    "tags": []
   },
   "outputs": [
    {
     "data": {
      "text/html": [
       "<div>\n",
       "<style scoped>\n",
       "    .dataframe tbody tr th:only-of-type {\n",
       "        vertical-align: middle;\n",
       "    }\n",
       "\n",
       "    .dataframe tbody tr th {\n",
       "        vertical-align: top;\n",
       "    }\n",
       "\n",
       "    .dataframe thead th {\n",
       "        text-align: right;\n",
       "    }\n",
       "</style>\n",
       "<table border=\"1\" class=\"dataframe\">\n",
       "  <thead>\n",
       "    <tr style=\"text-align: right;\">\n",
       "      <th></th>\n",
       "      <th>k1</th>\n",
       "      <th>k2</th>\n",
       "      <th>v1</th>\n",
       "    </tr>\n",
       "  </thead>\n",
       "  <tbody>\n",
       "    <tr>\n",
       "      <th>0</th>\n",
       "      <td>one</td>\n",
       "      <td>1</td>\n",
       "      <td>0</td>\n",
       "    </tr>\n",
       "    <tr>\n",
       "      <th>1</th>\n",
       "      <td>two</td>\n",
       "      <td>1</td>\n",
       "      <td>1</td>\n",
       "    </tr>\n",
       "    <tr>\n",
       "      <th>2</th>\n",
       "      <td>one</td>\n",
       "      <td>2</td>\n",
       "      <td>2</td>\n",
       "    </tr>\n",
       "    <tr>\n",
       "      <th>3</th>\n",
       "      <td>two</td>\n",
       "      <td>3</td>\n",
       "      <td>3</td>\n",
       "    </tr>\n",
       "    <tr>\n",
       "      <th>4</th>\n",
       "      <td>one</td>\n",
       "      <td>3</td>\n",
       "      <td>4</td>\n",
       "    </tr>\n",
       "    <tr>\n",
       "      <th>5</th>\n",
       "      <td>two</td>\n",
       "      <td>4</td>\n",
       "      <td>5</td>\n",
       "    </tr>\n",
       "    <tr>\n",
       "      <th>6</th>\n",
       "      <td>two</td>\n",
       "      <td>4</td>\n",
       "      <td>6</td>\n",
       "    </tr>\n",
       "  </tbody>\n",
       "</table>\n",
       "</div>"
      ],
      "text/plain": [
       "    k1  k2  v1\n",
       "0  one   1   0\n",
       "1  two   1   1\n",
       "2  one   2   2\n",
       "3  two   3   3\n",
       "4  one   3   4\n",
       "5  two   4   5\n",
       "6  two   4   6"
      ]
     },
     "execution_count": 7,
     "metadata": {},
     "output_type": "execute_result"
    }
   ],
   "source": [
    "data"
   ]
  },
  {
   "cell_type": "code",
   "execution_count": 8,
   "id": "7aad05dd-1313-40f1-9260-62c994d6ed6c",
   "metadata": {
    "tags": []
   },
   "outputs": [
    {
     "data": {
      "text/html": [
       "<div>\n",
       "<style scoped>\n",
       "    .dataframe tbody tr th:only-of-type {\n",
       "        vertical-align: middle;\n",
       "    }\n",
       "\n",
       "    .dataframe tbody tr th {\n",
       "        vertical-align: top;\n",
       "    }\n",
       "\n",
       "    .dataframe thead th {\n",
       "        text-align: right;\n",
       "    }\n",
       "</style>\n",
       "<table border=\"1\" class=\"dataframe\">\n",
       "  <thead>\n",
       "    <tr style=\"text-align: right;\">\n",
       "      <th></th>\n",
       "      <th>k1</th>\n",
       "      <th>k2</th>\n",
       "      <th>v1</th>\n",
       "    </tr>\n",
       "  </thead>\n",
       "  <tbody>\n",
       "    <tr>\n",
       "      <th>0</th>\n",
       "      <td>one</td>\n",
       "      <td>1</td>\n",
       "      <td>0</td>\n",
       "    </tr>\n",
       "    <tr>\n",
       "      <th>1</th>\n",
       "      <td>two</td>\n",
       "      <td>1</td>\n",
       "      <td>1</td>\n",
       "    </tr>\n",
       "    <tr>\n",
       "      <th>2</th>\n",
       "      <td>one</td>\n",
       "      <td>2</td>\n",
       "      <td>2</td>\n",
       "    </tr>\n",
       "    <tr>\n",
       "      <th>3</th>\n",
       "      <td>two</td>\n",
       "      <td>3</td>\n",
       "      <td>3</td>\n",
       "    </tr>\n",
       "    <tr>\n",
       "      <th>4</th>\n",
       "      <td>one</td>\n",
       "      <td>3</td>\n",
       "      <td>4</td>\n",
       "    </tr>\n",
       "    <tr>\n",
       "      <th>6</th>\n",
       "      <td>two</td>\n",
       "      <td>4</td>\n",
       "      <td>6</td>\n",
       "    </tr>\n",
       "  </tbody>\n",
       "</table>\n",
       "</div>"
      ],
      "text/plain": [
       "    k1  k2  v1\n",
       "0  one   1   0\n",
       "1  two   1   1\n",
       "2  one   2   2\n",
       "3  two   3   3\n",
       "4  one   3   4\n",
       "6  two   4   6"
      ]
     },
     "execution_count": 8,
     "metadata": {},
     "output_type": "execute_result"
    }
   ],
   "source": [
    "data.drop_duplicates(['k1', 'k2'], keep='last')"
   ]
  },
  {
   "cell_type": "markdown",
   "id": "8093a549-f99e-4111-8317-48c768a240c4",
   "metadata": {},
   "source": [
    "## 利用函数或映射进行数据转换\n",
    "\n",
    "对于许多数据集，你可能希望根据数组、Series或DataFrame列中的值来实现转换工作。我们来看看下面这组有关肉类的数据："
   ]
  },
  {
   "cell_type": "code",
   "execution_count": 9,
   "id": "35628a7a-7bf9-406f-83fd-faf86819acba",
   "metadata": {
    "tags": []
   },
   "outputs": [
    {
     "data": {
      "text/html": [
       "<div>\n",
       "<style scoped>\n",
       "    .dataframe tbody tr th:only-of-type {\n",
       "        vertical-align: middle;\n",
       "    }\n",
       "\n",
       "    .dataframe tbody tr th {\n",
       "        vertical-align: top;\n",
       "    }\n",
       "\n",
       "    .dataframe thead th {\n",
       "        text-align: right;\n",
       "    }\n",
       "</style>\n",
       "<table border=\"1\" class=\"dataframe\">\n",
       "  <thead>\n",
       "    <tr style=\"text-align: right;\">\n",
       "      <th></th>\n",
       "      <th>food</th>\n",
       "      <th>ounces</th>\n",
       "    </tr>\n",
       "  </thead>\n",
       "  <tbody>\n",
       "    <tr>\n",
       "      <th>0</th>\n",
       "      <td>bacon</td>\n",
       "      <td>4.0</td>\n",
       "    </tr>\n",
       "    <tr>\n",
       "      <th>1</th>\n",
       "      <td>pulled pork</td>\n",
       "      <td>3.0</td>\n",
       "    </tr>\n",
       "    <tr>\n",
       "      <th>2</th>\n",
       "      <td>bacon</td>\n",
       "      <td>12.0</td>\n",
       "    </tr>\n",
       "    <tr>\n",
       "      <th>3</th>\n",
       "      <td>Pastrami</td>\n",
       "      <td>6.0</td>\n",
       "    </tr>\n",
       "    <tr>\n",
       "      <th>4</th>\n",
       "      <td>corned beef</td>\n",
       "      <td>7.5</td>\n",
       "    </tr>\n",
       "    <tr>\n",
       "      <th>5</th>\n",
       "      <td>Bacon</td>\n",
       "      <td>8.0</td>\n",
       "    </tr>\n",
       "    <tr>\n",
       "      <th>6</th>\n",
       "      <td>pastrami</td>\n",
       "      <td>3.0</td>\n",
       "    </tr>\n",
       "    <tr>\n",
       "      <th>7</th>\n",
       "      <td>honey ham</td>\n",
       "      <td>5.0</td>\n",
       "    </tr>\n",
       "    <tr>\n",
       "      <th>8</th>\n",
       "      <td>nova lox</td>\n",
       "      <td>6.0</td>\n",
       "    </tr>\n",
       "  </tbody>\n",
       "</table>\n",
       "</div>"
      ],
      "text/plain": [
       "          food  ounces\n",
       "0        bacon     4.0\n",
       "1  pulled pork     3.0\n",
       "2        bacon    12.0\n",
       "3     Pastrami     6.0\n",
       "4  corned beef     7.5\n",
       "5        Bacon     8.0\n",
       "6     pastrami     3.0\n",
       "7    honey ham     5.0\n",
       "8     nova lox     6.0"
      ]
     },
     "execution_count": 9,
     "metadata": {},
     "output_type": "execute_result"
    }
   ],
   "source": [
    "data = pd.DataFrame({'food': ['bacon', 'pulled pork', 'bacon',\n",
    "                              'Pastrami', 'corned beef', 'Bacon',\n",
    "                              'pastrami', 'honey ham', 'nova lox'],\n",
    "                     'ounces': [4, 3, 12, 6, 7.5, 8, 3, 5, 6]}\n",
    "                   )\n",
    "\n",
    "data"
   ]
  },
  {
   "cell_type": "markdown",
   "id": "f3e8b9b8-8ab4-49a0-9a6b-791260eff54e",
   "metadata": {},
   "source": [
    "假设你想要添加一列表示该肉类食物来源的动物类型。我们先编写一个不同肉类到动物的映射："
   ]
  },
  {
   "cell_type": "code",
   "execution_count": 10,
   "id": "9b033a39-be86-474f-811c-0d1564b4c579",
   "metadata": {
    "tags": []
   },
   "outputs": [],
   "source": [
    "meat_to_animal = {\n",
    "  'bacon':       'pig',\n",
    "  'pulled pork': 'pig',\n",
    "  'pastrami':    'cow',\n",
    "  'corned beef': 'cow',\n",
    "  'honey ham':   'pig',\n",
    "  'nova lox':    'salmon'\n",
    "}"
   ]
  },
  {
   "cell_type": "markdown",
   "id": "2d5b3c02-264f-4dd7-976b-80a4b703a552",
   "metadata": {},
   "source": [
    "Series的map方法可以接受一个函数或含有映射关系的字典型对象，但是这里有一个小问题，即有些肉类的首字母大写了，而另一些则没有。因此，我们还需要使用Series的str.lower方法，将各个值转换为小写："
   ]
  },
  {
   "cell_type": "code",
   "execution_count": 11,
   "id": "e36f309d-f9d3-41c7-9896-4e0a089fadb6",
   "metadata": {
    "tags": []
   },
   "outputs": [
    {
     "data": {
      "text/plain": [
       "0          bacon\n",
       "1    pulled pork\n",
       "2          bacon\n",
       "3       pastrami\n",
       "4    corned beef\n",
       "5          bacon\n",
       "6       pastrami\n",
       "7      honey ham\n",
       "8       nova lox\n",
       "Name: food, dtype: object"
      ]
     },
     "execution_count": 11,
     "metadata": {},
     "output_type": "execute_result"
    }
   ],
   "source": [
    "lowercased = data['food'].str.lower()\n",
    "\n",
    "lowercased"
   ]
  },
  {
   "cell_type": "code",
   "execution_count": 12,
   "id": "aaa6a3a2-3fc0-429f-a1f7-50526c2c3cf0",
   "metadata": {
    "tags": []
   },
   "outputs": [
    {
     "data": {
      "text/html": [
       "<div>\n",
       "<style scoped>\n",
       "    .dataframe tbody tr th:only-of-type {\n",
       "        vertical-align: middle;\n",
       "    }\n",
       "\n",
       "    .dataframe tbody tr th {\n",
       "        vertical-align: top;\n",
       "    }\n",
       "\n",
       "    .dataframe thead th {\n",
       "        text-align: right;\n",
       "    }\n",
       "</style>\n",
       "<table border=\"1\" class=\"dataframe\">\n",
       "  <thead>\n",
       "    <tr style=\"text-align: right;\">\n",
       "      <th></th>\n",
       "      <th>food</th>\n",
       "      <th>ounces</th>\n",
       "      <th>animal</th>\n",
       "    </tr>\n",
       "  </thead>\n",
       "  <tbody>\n",
       "    <tr>\n",
       "      <th>0</th>\n",
       "      <td>bacon</td>\n",
       "      <td>4.0</td>\n",
       "      <td>pig</td>\n",
       "    </tr>\n",
       "    <tr>\n",
       "      <th>1</th>\n",
       "      <td>pulled pork</td>\n",
       "      <td>3.0</td>\n",
       "      <td>pig</td>\n",
       "    </tr>\n",
       "    <tr>\n",
       "      <th>2</th>\n",
       "      <td>bacon</td>\n",
       "      <td>12.0</td>\n",
       "      <td>pig</td>\n",
       "    </tr>\n",
       "    <tr>\n",
       "      <th>3</th>\n",
       "      <td>Pastrami</td>\n",
       "      <td>6.0</td>\n",
       "      <td>cow</td>\n",
       "    </tr>\n",
       "    <tr>\n",
       "      <th>4</th>\n",
       "      <td>corned beef</td>\n",
       "      <td>7.5</td>\n",
       "      <td>cow</td>\n",
       "    </tr>\n",
       "    <tr>\n",
       "      <th>5</th>\n",
       "      <td>Bacon</td>\n",
       "      <td>8.0</td>\n",
       "      <td>pig</td>\n",
       "    </tr>\n",
       "    <tr>\n",
       "      <th>6</th>\n",
       "      <td>pastrami</td>\n",
       "      <td>3.0</td>\n",
       "      <td>cow</td>\n",
       "    </tr>\n",
       "    <tr>\n",
       "      <th>7</th>\n",
       "      <td>honey ham</td>\n",
       "      <td>5.0</td>\n",
       "      <td>pig</td>\n",
       "    </tr>\n",
       "    <tr>\n",
       "      <th>8</th>\n",
       "      <td>nova lox</td>\n",
       "      <td>6.0</td>\n",
       "      <td>salmon</td>\n",
       "    </tr>\n",
       "  </tbody>\n",
       "</table>\n",
       "</div>"
      ],
      "text/plain": [
       "          food  ounces  animal\n",
       "0        bacon     4.0     pig\n",
       "1  pulled pork     3.0     pig\n",
       "2        bacon    12.0     pig\n",
       "3     Pastrami     6.0     cow\n",
       "4  corned beef     7.5     cow\n",
       "5        Bacon     8.0     pig\n",
       "6     pastrami     3.0     cow\n",
       "7    honey ham     5.0     pig\n",
       "8     nova lox     6.0  salmon"
      ]
     },
     "execution_count": 12,
     "metadata": {},
     "output_type": "execute_result"
    }
   ],
   "source": [
    "data['animal'] = lowercased.map(meat_to_animal)\n",
    "\n",
    "data"
   ]
  },
  {
   "cell_type": "markdown",
   "id": "f40e61cd-5cf8-4afa-8e29-f586a35e6486",
   "metadata": {},
   "source": [
    "我们也可以传入一个能够完成全部这些工作的函数："
   ]
  },
  {
   "cell_type": "code",
   "execution_count": 13,
   "id": "5ed6a530-fb46-4102-9711-b1e64e999c63",
   "metadata": {
    "tags": []
   },
   "outputs": [
    {
     "data": {
      "text/plain": [
       "0       pig\n",
       "1       pig\n",
       "2       pig\n",
       "3       cow\n",
       "4       cow\n",
       "5       pig\n",
       "6       cow\n",
       "7       pig\n",
       "8    salmon\n",
       "Name: food, dtype: object"
      ]
     },
     "execution_count": 13,
     "metadata": {},
     "output_type": "execute_result"
    }
   ],
   "source": [
    "data['food'].map(lambda x: meat_to_animal[x.lower()])"
   ]
  },
  {
   "cell_type": "markdown",
   "id": "48de85de-d17d-4d5f-aa63-f82385a9301a",
   "metadata": {},
   "source": [
    "使用map是一种实现元素级转换以及其他数据清理工作的便捷方式。"
   ]
  },
  {
   "cell_type": "markdown",
   "id": "6e12cc16-b597-487e-9306-61d8c5e02465",
   "metadata": {},
   "source": [
    "## 替换值\n",
    "\n",
    "利用fillna方法填充缺失数据可以看做值替换的一种特殊情况。前面已经看到，map可用于修改对象的数据子集，而replace则提供了一种实现该功能的更简单、更灵活的方式。我们来看看下面这个Series："
   ]
  },
  {
   "cell_type": "code",
   "execution_count": 14,
   "id": "bdbf46da-aef0-478f-8293-cb00fd63078f",
   "metadata": {
    "tags": []
   },
   "outputs": [
    {
     "data": {
      "text/plain": [
       "0       1.0\n",
       "1    -999.0\n",
       "2       2.0\n",
       "3    -999.0\n",
       "4   -1000.0\n",
       "5       3.0\n",
       "dtype: float64"
      ]
     },
     "execution_count": 14,
     "metadata": {},
     "output_type": "execute_result"
    }
   ],
   "source": [
    "data = pd.Series([1., -999., 2., -999., -1000., 3.])\n",
    "\n",
    "data"
   ]
  },
  {
   "cell_type": "markdown",
   "id": "efa47b74-a958-4a9c-a082-e9c394d31457",
   "metadata": {},
   "source": [
    "-999这个值可能是一个表示缺失数据的标记值。要将其替换为pandas能够理解的NA值，我们可以利用replace来产生一个新的Series（除非传入inplace=True）："
   ]
  },
  {
   "cell_type": "code",
   "execution_count": 15,
   "id": "f6c81b29-64a8-40b4-8109-a832105d48e5",
   "metadata": {
    "tags": []
   },
   "outputs": [
    {
     "data": {
      "text/plain": [
       "0       1.0\n",
       "1       NaN\n",
       "2       2.0\n",
       "3       NaN\n",
       "4   -1000.0\n",
       "5       3.0\n",
       "dtype: float64"
      ]
     },
     "execution_count": 15,
     "metadata": {},
     "output_type": "execute_result"
    }
   ],
   "source": [
    "data.replace(-999, np.nan)"
   ]
  },
  {
   "cell_type": "markdown",
   "id": "25632066-b21e-4740-ad1b-c2bca8ee0bdc",
   "metadata": {},
   "source": [
    "如果你希望一次性替换多个值，可以传入一个由待替换值组成的列表以及一个替换值：："
   ]
  },
  {
   "cell_type": "code",
   "execution_count": 16,
   "id": "5623a56d-d5ff-445f-91bf-917433ec25ed",
   "metadata": {
    "tags": []
   },
   "outputs": [
    {
     "data": {
      "text/plain": [
       "0    1.0\n",
       "1    NaN\n",
       "2    2.0\n",
       "3    NaN\n",
       "4    NaN\n",
       "5    3.0\n",
       "dtype: float64"
      ]
     },
     "execution_count": 16,
     "metadata": {},
     "output_type": "execute_result"
    }
   ],
   "source": [
    "data.replace([-999, -1000], np.nan)"
   ]
  },
  {
   "cell_type": "markdown",
   "id": "4a7afe5c-0806-479a-a364-69fda8ff3bb1",
   "metadata": {},
   "source": [
    "要让每个值有不同的替换值，可以传递一个替换列表："
   ]
  },
  {
   "cell_type": "code",
   "execution_count": 17,
   "id": "ceb42f1e-0996-449d-8d35-535edc0d95db",
   "metadata": {
    "tags": []
   },
   "outputs": [
    {
     "data": {
      "text/plain": [
       "0    1.0\n",
       "1    NaN\n",
       "2    2.0\n",
       "3    NaN\n",
       "4    0.0\n",
       "5    3.0\n",
       "dtype: float64"
      ]
     },
     "execution_count": 17,
     "metadata": {},
     "output_type": "execute_result"
    }
   ],
   "source": [
    "data.replace([-999, -1000], [np.nan, 0])"
   ]
  },
  {
   "cell_type": "markdown",
   "id": "e751598a-993b-4c62-b5f9-539869cb8471",
   "metadata": {},
   "source": [
    "传入的参数也可以是字典："
   ]
  },
  {
   "cell_type": "code",
   "execution_count": 18,
   "id": "a7ec4c0f-ce2b-4aa4-84ae-4bf58b81b071",
   "metadata": {
    "tags": []
   },
   "outputs": [
    {
     "data": {
      "text/plain": [
       "0    1.0\n",
       "1    NaN\n",
       "2    2.0\n",
       "3    NaN\n",
       "4    0.0\n",
       "5    3.0\n",
       "dtype: float64"
      ]
     },
     "execution_count": 18,
     "metadata": {},
     "output_type": "execute_result"
    }
   ],
   "source": [
    "data.replace({-999: np.nan, -1000: 0})"
   ]
  },
  {
   "cell_type": "markdown",
   "id": "e9fb511a-040d-4c69-8253-b2b9911b0bba",
   "metadata": {},
   "source": [
    "> 笔记：data.replace方法与data.str.replace不同，后者做的是字符串的元素级替换。我们会在后面学习Series的字符串方法。"
   ]
  },
  {
   "cell_type": "markdown",
   "id": "f5404c68-a4e1-4854-aed3-a24766d5c2eb",
   "metadata": {},
   "source": [
    "## 重命名轴索引\n",
    "\n",
    "跟Series中的值一样，轴标签也可以通过函数或映射进行转换，从而得到一个新的不同标签的对象。轴还可以被就地修改，而无需新建一个数据结构。接下来看看下面这个简单的例子："
   ]
  },
  {
   "cell_type": "code",
   "execution_count": 19,
   "id": "53dc3c59-253b-4138-a797-1cfdd54e5dda",
   "metadata": {},
   "outputs": [
    {
     "data": {
      "text/html": [
       "<div>\n",
       "<style scoped>\n",
       "    .dataframe tbody tr th:only-of-type {\n",
       "        vertical-align: middle;\n",
       "    }\n",
       "\n",
       "    .dataframe tbody tr th {\n",
       "        vertical-align: top;\n",
       "    }\n",
       "\n",
       "    .dataframe thead th {\n",
       "        text-align: right;\n",
       "    }\n",
       "</style>\n",
       "<table border=\"1\" class=\"dataframe\">\n",
       "  <thead>\n",
       "    <tr style=\"text-align: right;\">\n",
       "      <th></th>\n",
       "      <th>one</th>\n",
       "      <th>two</th>\n",
       "      <th>three</th>\n",
       "      <th>four</th>\n",
       "    </tr>\n",
       "  </thead>\n",
       "  <tbody>\n",
       "    <tr>\n",
       "      <th>Ohio</th>\n",
       "      <td>0</td>\n",
       "      <td>1</td>\n",
       "      <td>2</td>\n",
       "      <td>3</td>\n",
       "    </tr>\n",
       "    <tr>\n",
       "      <th>Colorado</th>\n",
       "      <td>4</td>\n",
       "      <td>5</td>\n",
       "      <td>6</td>\n",
       "      <td>7</td>\n",
       "    </tr>\n",
       "    <tr>\n",
       "      <th>New York</th>\n",
       "      <td>8</td>\n",
       "      <td>9</td>\n",
       "      <td>10</td>\n",
       "      <td>11</td>\n",
       "    </tr>\n",
       "  </tbody>\n",
       "</table>\n",
       "</div>"
      ],
      "text/plain": [
       "          one  two  three  four\n",
       "Ohio        0    1      2     3\n",
       "Colorado    4    5      6     7\n",
       "New York    8    9     10    11"
      ]
     },
     "execution_count": 19,
     "metadata": {},
     "output_type": "execute_result"
    }
   ],
   "source": [
    "data = pd.DataFrame(np.arange(12).reshape((3, 4)),\n",
    "                    index=['Ohio', 'Colorado', 'New York'],\n",
    "                    columns=['one', 'two', 'three', 'four']\n",
    "                   )\n",
    "\n",
    "data"
   ]
  },
  {
   "cell_type": "markdown",
   "id": "6798d5d1-6463-4a39-862b-05e233266174",
   "metadata": {},
   "source": [
    "跟Series一样，轴索引也有一个map方法："
   ]
  },
  {
   "cell_type": "code",
   "execution_count": 22,
   "id": "56404ac5-546c-488c-98bc-1eb9369a48ca",
   "metadata": {
    "tags": []
   },
   "outputs": [
    {
     "data": {
      "text/plain": [
       "Index(['OHIO', 'COLO', 'NEW '], dtype='object')"
      ]
     },
     "execution_count": 22,
     "metadata": {},
     "output_type": "execute_result"
    }
   ],
   "source": [
    "transform = lambda x: x[:4].upper()\n",
    "\n",
    "data.index.map(transform)"
   ]
  },
  {
   "cell_type": "code",
   "execution_count": 23,
   "id": "b4dd2aaf-b715-4154-84f6-f3621c3f1d55",
   "metadata": {
    "tags": []
   },
   "outputs": [
    {
     "data": {
      "text/html": [
       "<div>\n",
       "<style scoped>\n",
       "    .dataframe tbody tr th:only-of-type {\n",
       "        vertical-align: middle;\n",
       "    }\n",
       "\n",
       "    .dataframe tbody tr th {\n",
       "        vertical-align: top;\n",
       "    }\n",
       "\n",
       "    .dataframe thead th {\n",
       "        text-align: right;\n",
       "    }\n",
       "</style>\n",
       "<table border=\"1\" class=\"dataframe\">\n",
       "  <thead>\n",
       "    <tr style=\"text-align: right;\">\n",
       "      <th></th>\n",
       "      <th>one</th>\n",
       "      <th>two</th>\n",
       "      <th>three</th>\n",
       "      <th>four</th>\n",
       "    </tr>\n",
       "  </thead>\n",
       "  <tbody>\n",
       "    <tr>\n",
       "      <th>Ohio</th>\n",
       "      <td>0</td>\n",
       "      <td>1</td>\n",
       "      <td>2</td>\n",
       "      <td>3</td>\n",
       "    </tr>\n",
       "    <tr>\n",
       "      <th>Colorado</th>\n",
       "      <td>4</td>\n",
       "      <td>5</td>\n",
       "      <td>6</td>\n",
       "      <td>7</td>\n",
       "    </tr>\n",
       "    <tr>\n",
       "      <th>New York</th>\n",
       "      <td>8</td>\n",
       "      <td>9</td>\n",
       "      <td>10</td>\n",
       "      <td>11</td>\n",
       "    </tr>\n",
       "  </tbody>\n",
       "</table>\n",
       "</div>"
      ],
      "text/plain": [
       "          one  two  three  four\n",
       "Ohio        0    1      2     3\n",
       "Colorado    4    5      6     7\n",
       "New York    8    9     10    11"
      ]
     },
     "execution_count": 23,
     "metadata": {},
     "output_type": "execute_result"
    }
   ],
   "source": [
    "data"
   ]
  },
  {
   "cell_type": "markdown",
   "id": "5890e962-d52c-4126-805b-ca268c1b0e3e",
   "metadata": {},
   "source": [
    "你可以将其赋值给index，这样就可以对DataFrame进行就地修改："
   ]
  },
  {
   "cell_type": "code",
   "execution_count": 24,
   "id": "aade5b0c-914e-4a2a-802f-1168517b42e6",
   "metadata": {
    "tags": []
   },
   "outputs": [
    {
     "data": {
      "text/html": [
       "<div>\n",
       "<style scoped>\n",
       "    .dataframe tbody tr th:only-of-type {\n",
       "        vertical-align: middle;\n",
       "    }\n",
       "\n",
       "    .dataframe tbody tr th {\n",
       "        vertical-align: top;\n",
       "    }\n",
       "\n",
       "    .dataframe thead th {\n",
       "        text-align: right;\n",
       "    }\n",
       "</style>\n",
       "<table border=\"1\" class=\"dataframe\">\n",
       "  <thead>\n",
       "    <tr style=\"text-align: right;\">\n",
       "      <th></th>\n",
       "      <th>one</th>\n",
       "      <th>two</th>\n",
       "      <th>three</th>\n",
       "      <th>four</th>\n",
       "    </tr>\n",
       "  </thead>\n",
       "  <tbody>\n",
       "    <tr>\n",
       "      <th>OHIO</th>\n",
       "      <td>0</td>\n",
       "      <td>1</td>\n",
       "      <td>2</td>\n",
       "      <td>3</td>\n",
       "    </tr>\n",
       "    <tr>\n",
       "      <th>COLO</th>\n",
       "      <td>4</td>\n",
       "      <td>5</td>\n",
       "      <td>6</td>\n",
       "      <td>7</td>\n",
       "    </tr>\n",
       "    <tr>\n",
       "      <th>NEW</th>\n",
       "      <td>8</td>\n",
       "      <td>9</td>\n",
       "      <td>10</td>\n",
       "      <td>11</td>\n",
       "    </tr>\n",
       "  </tbody>\n",
       "</table>\n",
       "</div>"
      ],
      "text/plain": [
       "      one  two  three  four\n",
       "OHIO    0    1      2     3\n",
       "COLO    4    5      6     7\n",
       "NEW     8    9     10    11"
      ]
     },
     "execution_count": 24,
     "metadata": {},
     "output_type": "execute_result"
    }
   ],
   "source": [
    "data.index = data.index.map(transform)\n",
    "\n",
    "data"
   ]
  },
  {
   "cell_type": "markdown",
   "id": "7e12cfb6-ee48-48ef-8d20-2ee29a984f69",
   "metadata": {},
   "source": [
    "如果想要创建数据集的转换版（而不是修改原始数据），比较实用的方法是rename："
   ]
  },
  {
   "cell_type": "code",
   "execution_count": 27,
   "id": "01c3abba-6eba-4df8-880f-67f0e99f0f15",
   "metadata": {
    "tags": []
   },
   "outputs": [
    {
     "data": {
      "text/html": [
       "<div>\n",
       "<style scoped>\n",
       "    .dataframe tbody tr th:only-of-type {\n",
       "        vertical-align: middle;\n",
       "    }\n",
       "\n",
       "    .dataframe tbody tr th {\n",
       "        vertical-align: top;\n",
       "    }\n",
       "\n",
       "    .dataframe thead th {\n",
       "        text-align: right;\n",
       "    }\n",
       "</style>\n",
       "<table border=\"1\" class=\"dataframe\">\n",
       "  <thead>\n",
       "    <tr style=\"text-align: right;\">\n",
       "      <th></th>\n",
       "      <th>ONE</th>\n",
       "      <th>TWO</th>\n",
       "      <th>THREE</th>\n",
       "      <th>FOUR</th>\n",
       "    </tr>\n",
       "  </thead>\n",
       "  <tbody>\n",
       "    <tr>\n",
       "      <th>Ohio</th>\n",
       "      <td>0</td>\n",
       "      <td>1</td>\n",
       "      <td>2</td>\n",
       "      <td>3</td>\n",
       "    </tr>\n",
       "    <tr>\n",
       "      <th>Colo</th>\n",
       "      <td>4</td>\n",
       "      <td>5</td>\n",
       "      <td>6</td>\n",
       "      <td>7</td>\n",
       "    </tr>\n",
       "    <tr>\n",
       "      <th>New</th>\n",
       "      <td>8</td>\n",
       "      <td>9</td>\n",
       "      <td>10</td>\n",
       "      <td>11</td>\n",
       "    </tr>\n",
       "  </tbody>\n",
       "</table>\n",
       "</div>"
      ],
      "text/plain": [
       "      ONE  TWO  THREE  FOUR\n",
       "Ohio    0    1      2     3\n",
       "Colo    4    5      6     7\n",
       "New     8    9     10    11"
      ]
     },
     "execution_count": 27,
     "metadata": {},
     "output_type": "execute_result"
    }
   ],
   "source": [
    "data.rename(index=str.title, columns=str.upper)"
   ]
  },
  {
   "cell_type": "code",
   "execution_count": 28,
   "id": "e2f3da67-ccde-4627-96e4-b30d6cdcfb91",
   "metadata": {
    "tags": []
   },
   "outputs": [
    {
     "data": {
      "text/html": [
       "<div>\n",
       "<style scoped>\n",
       "    .dataframe tbody tr th:only-of-type {\n",
       "        vertical-align: middle;\n",
       "    }\n",
       "\n",
       "    .dataframe tbody tr th {\n",
       "        vertical-align: top;\n",
       "    }\n",
       "\n",
       "    .dataframe thead th {\n",
       "        text-align: right;\n",
       "    }\n",
       "</style>\n",
       "<table border=\"1\" class=\"dataframe\">\n",
       "  <thead>\n",
       "    <tr style=\"text-align: right;\">\n",
       "      <th></th>\n",
       "      <th>one</th>\n",
       "      <th>two</th>\n",
       "      <th>three</th>\n",
       "      <th>four</th>\n",
       "    </tr>\n",
       "  </thead>\n",
       "  <tbody>\n",
       "    <tr>\n",
       "      <th>OHIO</th>\n",
       "      <td>0</td>\n",
       "      <td>1</td>\n",
       "      <td>2</td>\n",
       "      <td>3</td>\n",
       "    </tr>\n",
       "    <tr>\n",
       "      <th>COLO</th>\n",
       "      <td>4</td>\n",
       "      <td>5</td>\n",
       "      <td>6</td>\n",
       "      <td>7</td>\n",
       "    </tr>\n",
       "    <tr>\n",
       "      <th>NEW</th>\n",
       "      <td>8</td>\n",
       "      <td>9</td>\n",
       "      <td>10</td>\n",
       "      <td>11</td>\n",
       "    </tr>\n",
       "  </tbody>\n",
       "</table>\n",
       "</div>"
      ],
      "text/plain": [
       "      one  two  three  four\n",
       "OHIO    0    1      2     3\n",
       "COLO    4    5      6     7\n",
       "NEW     8    9     10    11"
      ]
     },
     "execution_count": 28,
     "metadata": {},
     "output_type": "execute_result"
    }
   ],
   "source": [
    "data"
   ]
  },
  {
   "cell_type": "markdown",
   "id": "287ce405-4c3f-4251-937e-ca8eef7fdec7",
   "metadata": {},
   "source": [
    "特别说明一下，rename可以结合字典型对象实现对部分轴标签的更新："
   ]
  },
  {
   "cell_type": "code",
   "execution_count": 26,
   "id": "b6979c02-c14b-4f70-b796-214ee4c12d62",
   "metadata": {
    "tags": []
   },
   "outputs": [
    {
     "data": {
      "text/html": [
       "<div>\n",
       "<style scoped>\n",
       "    .dataframe tbody tr th:only-of-type {\n",
       "        vertical-align: middle;\n",
       "    }\n",
       "\n",
       "    .dataframe tbody tr th {\n",
       "        vertical-align: top;\n",
       "    }\n",
       "\n",
       "    .dataframe thead th {\n",
       "        text-align: right;\n",
       "    }\n",
       "</style>\n",
       "<table border=\"1\" class=\"dataframe\">\n",
       "  <thead>\n",
       "    <tr style=\"text-align: right;\">\n",
       "      <th></th>\n",
       "      <th>one</th>\n",
       "      <th>two</th>\n",
       "      <th>three</th>\n",
       "      <th>four</th>\n",
       "    </tr>\n",
       "  </thead>\n",
       "  <tbody>\n",
       "    <tr>\n",
       "      <th>OHIO</th>\n",
       "      <td>0</td>\n",
       "      <td>1</td>\n",
       "      <td>2</td>\n",
       "      <td>3</td>\n",
       "    </tr>\n",
       "    <tr>\n",
       "      <th>COLO</th>\n",
       "      <td>4</td>\n",
       "      <td>5</td>\n",
       "      <td>6</td>\n",
       "      <td>7</td>\n",
       "    </tr>\n",
       "    <tr>\n",
       "      <th>NEW</th>\n",
       "      <td>8</td>\n",
       "      <td>9</td>\n",
       "      <td>10</td>\n",
       "      <td>11</td>\n",
       "    </tr>\n",
       "  </tbody>\n",
       "</table>\n",
       "</div>"
      ],
      "text/plain": [
       "      one  two  three  four\n",
       "OHIO    0    1      2     3\n",
       "COLO    4    5      6     7\n",
       "NEW     8    9     10    11"
      ]
     },
     "execution_count": 26,
     "metadata": {},
     "output_type": "execute_result"
    }
   ],
   "source": [
    "data.rename(index={'OHIO': 'INDIANA'},\n",
    "            columns={'three': 'peekaboo'}\n",
    "           )\n",
    "\n",
    "data"
   ]
  },
  {
   "cell_type": "markdown",
   "id": "71806d53-fb0a-4669-bad1-4b0f60a01582",
   "metadata": {},
   "source": [
    "## 离散化和面元划分\n",
    "\n",
    "为了便于分析，连续数据常常被离散化或拆分为“面元”（bin）。假设有一组人员数据，而你希望将它们划分为不同的年龄组："
   ]
  },
  {
   "cell_type": "code",
   "execution_count": 29,
   "id": "b5f82ddc-9b8a-44a4-ae02-f6b045bb877c",
   "metadata": {
    "tags": []
   },
   "outputs": [],
   "source": [
    "ages = [20, 22, 25, 27, 21, 23, 37, 31, 61, 45, 41, 32]"
   ]
  },
  {
   "cell_type": "markdown",
   "id": "5ded55bc-e49f-4b53-ad43-5a3ee12cb56d",
   "metadata": {},
   "source": [
    "接下来将这些数据划分为“18到25”、“26到35”、“35到60”以及“60以上”几个面元。要实现该功能，你需要使用pandas的cut函数："
   ]
  },
  {
   "cell_type": "code",
   "execution_count": 31,
   "id": "7b136237-5f44-4b5a-9f64-5b14b6871e10",
   "metadata": {
    "tags": []
   },
   "outputs": [
    {
     "data": {
      "text/plain": [
       "[(18, 25], (18, 25], (18, 25], (25, 35], (18, 25], ..., (25, 35], (60, 100], (35, 60], (35, 60], (25, 35]]\n",
       "Length: 12\n",
       "Categories (4, interval[int64, right]): [(18, 25] < (25, 35] < (35, 60] < (60, 100]]"
      ]
     },
     "execution_count": 31,
     "metadata": {},
     "output_type": "execute_result"
    }
   ],
   "source": [
    "bins = [18, 25, 35, 60, 100]\n",
    "\n",
    "cats = pd.cut(ages, bins)\n",
    "\n",
    "cats"
   ]
  },
  {
   "cell_type": "markdown",
   "id": "2ea4f4bf-e337-488e-b41d-87912a027c32",
   "metadata": {},
   "source": [
    "pandas返回的是一个特殊的 `Categorical对象`。结果展示了pandas.cut划分的面元。你可以将其看做一组表示面元名称的字符串。它的底层含有一个表示不同分类名称的类型数组，以及一个codes属性中的年龄数据的标签："
   ]
  },
  {
   "cell_type": "code",
   "execution_count": 32,
   "id": "5387b73c-954c-4cf4-a5b7-4ee138d63db3",
   "metadata": {
    "tags": []
   },
   "outputs": [
    {
     "data": {
      "text/plain": [
       "array([0, 0, 0, 1, 0, 0, 2, 1, 3, 2, 2, 1], dtype=int8)"
      ]
     },
     "execution_count": 32,
     "metadata": {},
     "output_type": "execute_result"
    }
   ],
   "source": [
    "cats.codes"
   ]
  },
  {
   "cell_type": "code",
   "execution_count": 33,
   "id": "0b39902d-fe41-46ab-89c1-8a9164304ed8",
   "metadata": {
    "tags": []
   },
   "outputs": [
    {
     "data": {
      "text/plain": [
       "IntervalIndex([(18, 25], (25, 35], (35, 60], (60, 100]], dtype='interval[int64, right]')"
      ]
     },
     "execution_count": 33,
     "metadata": {},
     "output_type": "execute_result"
    }
   ],
   "source": [
    "cats.categories"
   ]
  },
  {
   "cell_type": "code",
   "execution_count": 34,
   "id": "b8118fbf-b3e0-4ba3-b9cb-d9b2f00ade0d",
   "metadata": {
    "tags": []
   },
   "outputs": [
    {
     "data": {
      "text/plain": [
       "(18, 25]     5\n",
       "(25, 35]     3\n",
       "(35, 60]     3\n",
       "(60, 100]    1\n",
       "dtype: int64"
      ]
     },
     "execution_count": 34,
     "metadata": {},
     "output_type": "execute_result"
    }
   ],
   "source": [
    "pd.value_counts(cats)"
   ]
  },
  {
   "cell_type": "markdown",
   "id": "3930f54f-470f-4af6-a4c2-e7c40539a810",
   "metadata": {},
   "source": [
    "pd.value_counts(cats)是pandas.cut结果的面元计数。\n",
    "\n",
    "跟“区间”的数学符号一样，圆括号表示开端，而方括号则表示闭端（包括）。哪边是闭端可以通过right=False进行修改："
   ]
  },
  {
   "cell_type": "code",
   "execution_count": 35,
   "id": "6f2c46cd-89f7-495f-a480-2c16fea0b84a",
   "metadata": {
    "tags": []
   },
   "outputs": [
    {
     "data": {
      "text/plain": [
       "[[18, 26), [18, 26), [18, 26), [26, 36), [18, 26), ..., [26, 36), [61, 100), [36, 61), [36, 61), [26, 36)]\n",
       "Length: 12\n",
       "Categories (4, interval[int64, left]): [[18, 26) < [26, 36) < [36, 61) < [61, 100)]"
      ]
     },
     "execution_count": 35,
     "metadata": {},
     "output_type": "execute_result"
    }
   ],
   "source": [
    "pd.cut(ages, [18, 26, 36, 61, 100], right=False)"
   ]
  },
  {
   "cell_type": "markdown",
   "id": "8496855d-4426-4b8c-9bcd-1b3a71c67b4b",
   "metadata": {},
   "source": [
    "你可 以通过传递一个列表或数组到labels，设置自己的面元名称："
   ]
  },
  {
   "cell_type": "code",
   "execution_count": 41,
   "id": "bc4b2236-4837-4c2b-8e6b-1485ee0f0998",
   "metadata": {
    "tags": []
   },
   "outputs": [
    {
     "data": {
      "text/plain": [
       "['Youth', 'Youth', 'Youth', 'YoungAdult', 'Youth', ..., 'YoungAdult', 'Senior', 'MiddleAged', 'MiddleAged', 'YoungAdult']\n",
       "Length: 12\n",
       "Categories (4, object): ['Youth' < 'YoungAdult' < 'MiddleAged' < 'Senior']"
      ]
     },
     "execution_count": 41,
     "metadata": {},
     "output_type": "execute_result"
    }
   ],
   "source": [
    "ages = [20, 22, 25, 27, 21, 23, 37, 31, 61, 45, 41, 32]\n",
    "\n",
    "bins = [18, 25, 35, 60, 100]\n",
    "\n",
    "group_names = ['Youth', 'YoungAdult', 'MiddleAged', 'Senior']\n",
    "\n",
    "\n",
    "cats_v2 = pd.cut(ages, bins, labels=group_names)\n",
    "\n",
    "cats_v2"
   ]
  },
  {
   "cell_type": "code",
   "execution_count": 42,
   "id": "9575c55d-a801-43fc-92af-29352cf83ff4",
   "metadata": {
    "tags": []
   },
   "outputs": [
    {
     "data": {
      "text/plain": [
       "Youth         5\n",
       "YoungAdult    3\n",
       "MiddleAged    3\n",
       "Senior        1\n",
       "dtype: int64"
      ]
     },
     "execution_count": 42,
     "metadata": {},
     "output_type": "execute_result"
    }
   ],
   "source": [
    "pd.value_counts(cats_v2)"
   ]
  },
  {
   "cell_type": "markdown",
   "id": "727c28de-e654-451a-bfe6-29954366022f",
   "metadata": {},
   "source": [
    "如果向cut传入的是面元的数量而不是确切的面元边界，则它会根据数据的最小值和最大值计算等长面元。下面这个例子中，我们将一些均匀分布的数据分成四组："
   ]
  },
  {
   "cell_type": "code",
   "execution_count": 43,
   "id": "d418bd0f-98a0-4e9d-a9b8-b208646bea79",
   "metadata": {
    "tags": []
   },
   "outputs": [
    {
     "data": {
      "text/plain": [
       "array([0.54661106, 0.21341118, 0.65048579, 0.34884671, 0.9600015 ,\n",
       "       0.10419172, 0.73374222, 0.62416117, 0.82897023, 0.24581848,\n",
       "       0.25113723, 0.96621713, 0.42638211, 0.74365619, 0.41152574,\n",
       "       0.10811416, 0.3895286 , 0.0455443 , 0.31114258, 0.02729113])"
      ]
     },
     "execution_count": 43,
     "metadata": {},
     "output_type": "execute_result"
    }
   ],
   "source": [
    "data = np.random.rand(20)\n",
    "\n",
    "data"
   ]
  },
  {
   "cell_type": "code",
   "execution_count": 45,
   "id": "462d6ca7-4dcb-4bc0-b538-8e724ae72902",
   "metadata": {
    "tags": []
   },
   "outputs": [
    {
     "data": {
      "text/plain": [
       "[(0.5, 0.73], (0.026, 0.26], (0.5, 0.73], (0.26, 0.5], (0.73, 0.97], ..., (0.026, 0.26], (0.26, 0.5], (0.026, 0.26], (0.26, 0.5], (0.026, 0.26]]\n",
       "Length: 20\n",
       "Categories (4, interval[float64, right]): [(0.026, 0.26] < (0.26, 0.5] < (0.5, 0.73] < (0.73, 0.97]]"
      ]
     },
     "execution_count": 45,
     "metadata": {},
     "output_type": "execute_result"
    }
   ],
   "source": [
    "res_v3 = pd.cut(data, 4, precision=2)\n",
    "\n",
    "res_v3"
   ]
  },
  {
   "cell_type": "code",
   "execution_count": 46,
   "id": "298b9831-4961-44ba-ad5c-756cc49426c7",
   "metadata": {
    "tags": []
   },
   "outputs": [
    {
     "data": {
      "text/plain": [
       "(0.026, 0.26]    7\n",
       "(0.26, 0.5]      5\n",
       "(0.73, 0.97]     5\n",
       "(0.5, 0.73]      3\n",
       "dtype: int64"
      ]
     },
     "execution_count": 46,
     "metadata": {},
     "output_type": "execute_result"
    }
   ],
   "source": [
    "pd.value_counts(res_v3)"
   ]
  },
  {
   "cell_type": "markdown",
   "id": "75a2424c-6032-41af-b895-b76778e193ac",
   "metadata": {},
   "source": [
    "选项precision=2，限定小数只有两位。\n",
    "\n",
    "qcut是一个非常类似于cut的函数，它可以根据样本分位数对数据进行面元划分。根据数据的分布情况，cut可能无法使各个面元中含有相同数量的数据点。而qcut由于使用的是样本分位数，因此可以得到大小基本相等的面元："
   ]
  },
  {
   "cell_type": "code",
   "execution_count": 47,
   "id": "71713287-ae7f-4c3c-9e54-d452470015a9",
   "metadata": {
    "scrolled": true,
    "tags": []
   },
   "outputs": [
    {
     "data": {
      "text/plain": [
       "array([-1.10780132e+00, -1.84965723e-02, -8.51714256e-01,  3.02786669e-01,\n",
       "        8.34704202e-01,  1.22747157e+00, -1.60465778e+00,  1.25436376e+00,\n",
       "       -7.68407164e-01, -1.39019942e-01,  1.72546399e-01,  9.68792824e-01,\n",
       "       -1.02136154e+00, -1.11638735e+00,  1.93257755e-01, -8.58587786e-01,\n",
       "        1.13567150e+00,  5.45667879e-01,  9.10790043e-02, -1.33910985e+00,\n",
       "       -1.27120220e-01,  4.71574570e-01,  7.88517195e-02,  2.03202875e+00,\n",
       "        3.82826307e-01, -7.05548182e-01, -1.95197975e+00,  5.52617690e-01,\n",
       "        1.34375651e+00,  1.67785442e-02, -2.24600928e-01, -6.15872946e-01,\n",
       "        1.67037921e+00, -6.48359356e-03, -9.72379169e-02,  9.84265927e-01,\n",
       "        2.76726982e+00, -7.39072712e-01, -9.73085135e-01,  8.88006510e-01,\n",
       "        2.84805483e-01, -1.53314694e+00, -1.21367666e+00,  1.68075090e+00,\n",
       "       -1.58652674e-01, -8.25579862e-01,  1.76249594e+00, -2.56894647e-01,\n",
       "       -8.77476942e-01,  7.49414243e-02, -2.61678641e-02,  3.19212472e+00,\n",
       "        1.17567781e+00, -1.34193724e+00,  7.05829357e-02,  2.85248642e-01,\n",
       "       -1.14544296e+00, -4.24998708e-01, -1.81827857e-01,  8.58270290e-01,\n",
       "        1.23567415e+00, -7.99648503e-01,  1.01806032e+00, -1.30720679e-01,\n",
       "        7.10568852e-01,  1.47937034e+00,  1.09717376e-01, -5.40980315e-01,\n",
       "        3.02687772e-01,  4.25178339e-01, -4.52302578e-01,  1.10041341e+00,\n",
       "        5.15234549e-01, -2.07434888e+00,  2.45147118e+00, -1.24995697e+00,\n",
       "       -5.41219116e-02,  1.00624091e+00, -8.20400624e-01, -1.57226011e+00,\n",
       "       -1.99199089e-01, -2.41346412e-01,  2.61658480e+00,  1.86506400e-01,\n",
       "       -4.76307134e-01, -1.07259757e+00,  3.06165415e-01, -3.48040270e-01,\n",
       "       -7.02620949e-01,  1.63036544e+00,  2.11658551e+00, -1.06626754e-01,\n",
       "       -1.07921033e+00, -1.13568504e+00,  1.96581513e+00,  1.24756602e+00,\n",
       "        8.51570650e-01,  7.02404690e-01, -1.73197187e+00,  6.32643167e-01,\n",
       "        9.64275735e-01, -1.32148282e+00,  4.91407187e-01,  3.61507591e-01,\n",
       "        6.15674150e-01,  1.00413847e-01, -9.68567014e-01, -1.12652797e+00,\n",
       "       -4.18395292e-01,  1.84156612e+00,  2.34368922e+00, -7.12605597e-01,\n",
       "        5.78906378e-01, -8.98060768e-02,  1.78918223e+00, -1.97044771e-01,\n",
       "       -8.68869234e-01, -4.71119821e-01,  1.35840193e-02, -8.25963055e-01,\n",
       "        7.51401426e-01,  7.35171123e-01, -1.81422308e-01,  3.00065681e-01,\n",
       "        1.39478189e-01,  3.69269703e-01, -4.24444531e-01,  2.10674001e-01,\n",
       "       -5.41784426e-01,  1.75959333e+00,  1.36527743e+00, -1.03593802e+00,\n",
       "        5.29876620e-01, -6.55499043e-01,  1.64420520e+00, -9.88563793e-01,\n",
       "       -2.03084689e+00, -1.14941433e+00,  2.90885218e-01,  7.31258219e-01,\n",
       "       -1.66083685e-01,  9.08620394e-01,  1.39067571e-01, -5.16115621e-01,\n",
       "        2.07931433e+00,  1.15766681e-01,  7.52273849e-02, -9.95210194e-01,\n",
       "       -1.45015833e-01,  7.16864775e-01, -9.62788515e-01,  4.37233153e-01,\n",
       "        1.04087707e+00, -2.40522641e-01, -1.86052625e+00, -2.90773323e-01,\n",
       "        4.11454742e-01, -3.60728120e-01,  8.74049648e-01,  1.30522067e+00,\n",
       "        1.62839670e+00,  4.65255629e-01,  1.75983531e+00,  1.83522514e-01,\n",
       "        1.03847363e+00,  1.32135217e+00,  1.08983671e-01, -9.90943148e-01,\n",
       "       -9.08227201e-01,  2.62598273e+00, -2.18022256e+00,  1.02042203e+00,\n",
       "        1.85663126e+00, -1.92646029e-01,  6.78861838e-01, -5.30388406e-01,\n",
       "        5.03160552e-01, -1.12865854e+00,  1.63035581e+00,  9.32613464e-01,\n",
       "       -6.22942284e-01,  2.21264314e+00,  6.66176291e-02,  1.10832543e+00,\n",
       "        1.14007653e+00, -3.06897475e-01,  1.30465961e-01,  1.18896104e+00,\n",
       "       -2.28277868e-01, -5.27156219e-01, -1.43563108e+00, -1.39570741e-01,\n",
       "       -8.03047905e-02, -2.73090404e-01,  1.14752610e+00, -1.13216824e+00,\n",
       "        1.16199793e-01,  1.42100254e+00, -1.38223881e+00,  1.35584524e-01,\n",
       "        3.28704133e-01, -7.42921738e-01,  6.68209747e-01, -1.48684844e+00,\n",
       "       -6.48253327e-01, -1.89071690e-01,  1.06339318e+00,  1.00938900e+00,\n",
       "       -8.57082510e-01, -3.78350522e-01, -8.90914237e-01,  1.04864048e+00,\n",
       "        1.04322306e+00,  2.02120467e-01,  1.67389352e+00, -6.20407358e-01,\n",
       "        1.78519239e-01,  3.22012423e-01,  1.47730698e+00, -8.87169513e-02,\n",
       "       -2.19245144e-01,  6.47197510e-01, -1.59083303e+00, -4.39769251e-01,\n",
       "        3.11310680e-01, -1.32884733e+00,  2.13797769e+00, -1.37148496e+00,\n",
       "       -1.74788927e-02, -5.11028414e-01, -1.17638119e+00,  7.81711586e-01,\n",
       "        1.48436202e+00,  6.77396160e-01,  6.14869742e-01,  5.66324619e-02,\n",
       "        1.58439900e-01, -1.15280924e+00,  1.18176176e+00,  6.39516999e-01,\n",
       "       -5.12394181e-01,  7.47973356e-01,  1.51693242e+00, -1.29667246e-01,\n",
       "        5.88507363e-01, -1.28957198e-01, -2.90509650e-01, -1.26516577e+00,\n",
       "        2.64790406e-01,  7.22660554e-01,  3.30350753e-01, -4.99818386e-01,\n",
       "       -7.61996528e-01, -2.38461318e-01, -6.43098046e-01,  1.48660755e+00,\n",
       "       -1.64258903e+00, -1.14216163e+00,  6.98208294e-01,  5.01089648e-01,\n",
       "       -5.08619025e-01,  8.90245350e-01,  2.14425559e-01,  1.14536681e-01,\n",
       "       -5.96967043e-01,  9.43491341e-02, -1.31732936e+00,  1.09144936e+00,\n",
       "        7.76739282e-01, -5.19768862e-02, -1.38371775e-01,  3.06615015e-01,\n",
       "        1.11760028e+00, -1.95304848e+00,  6.98672957e-01, -1.57458798e+00,\n",
       "       -5.75792365e-01, -5.73973116e-01,  2.22233672e-01,  1.00255448e+00,\n",
       "       -1.29226035e+00, -4.74805033e-01,  1.00003715e+00, -4.58727024e-01,\n",
       "       -5.13521854e-01, -2.01792009e-01, -5.23557398e-01, -1.47766439e+00,\n",
       "        3.20295073e-01,  1.38695166e-01,  1.69531042e+00,  2.04802219e+00,\n",
       "       -1.16199961e+00,  3.94576266e-02, -1.28216467e+00, -1.52136459e+00,\n",
       "       -4.75247664e-01,  2.17455987e+00, -7.91191849e-01, -8.13382039e-01,\n",
       "       -2.00461193e+00,  8.24500624e-01,  2.75727927e+00,  1.11809780e+00,\n",
       "        3.68669258e-01, -1.92007870e+00, -3.18657520e-01,  1.46184729e-01,\n",
       "       -4.49389718e-01, -3.98817272e-02, -9.59180365e-01,  1.59944113e+00,\n",
       "       -1.09726479e-01,  1.14917396e+00, -8.15924349e-01,  2.39766567e-01,\n",
       "       -2.94382479e-01,  5.84106881e-01, -4.39223986e-02, -6.49366863e-01,\n",
       "        1.29701454e+00, -8.31843350e-02,  4.68310060e-01,  3.35055724e-01,\n",
       "       -1.42805761e+00, -2.23314415e-01, -1.78426280e-01, -1.50765507e+00,\n",
       "        5.19814994e-01, -1.03928400e+00,  1.60794616e-01, -1.13041042e+00,\n",
       "       -1.16489426e+00, -7.00907022e-02, -7.13576903e-01, -5.66291708e-02,\n",
       "       -5.22760686e-01, -1.02696255e-01,  1.23137730e-01,  1.01443698e-01,\n",
       "       -6.09411742e-02,  4.57765832e-01,  4.14342976e-01, -8.90901646e-01,\n",
       "       -1.96664471e-01, -5.51574279e-01, -4.27214985e-01,  1.27735693e-01,\n",
       "       -1.01347450e+00,  7.18035502e-01,  1.22348482e+00,  8.62964533e-01,\n",
       "        1.24394331e+00, -9.77568695e-01, -1.78922433e+00, -1.94639879e-01,\n",
       "       -1.44717985e+00,  2.31632745e-01,  3.70817914e-01,  1.04549989e+00,\n",
       "       -5.75820371e-01,  2.76879051e-01,  9.94968875e-01, -1.83258441e-01,\n",
       "       -4.49488342e-01,  3.41098035e-01, -5.54653852e-01,  2.82095534e-01,\n",
       "       -1.61087488e-01,  1.98006358e-01, -1.52761653e-01,  1.24699536e+00,\n",
       "       -7.18622910e-01,  2.81681429e+00,  5.35909754e-01, -9.67894934e-01,\n",
       "        5.13910678e-03, -7.65141925e-01,  9.73989880e-01, -7.03271430e-01,\n",
       "        2.44682887e+00,  3.08954945e-02, -1.01910236e+00, -4.70765929e-02,\n",
       "        3.38151684e-01, -1.14886800e+00,  1.12042713e+00, -1.63311008e-01,\n",
       "        2.10109552e+00,  3.09216922e-01, -4.70482777e-01, -9.30887414e-02,\n",
       "        1.13374281e+00, -1.50220126e+00,  1.59612468e+00, -9.77009638e-01,\n",
       "        6.04182551e-01,  2.32593298e-01,  4.60984052e-01,  2.01945460e-01,\n",
       "        2.56909896e+00,  9.20873993e-01,  9.88512197e-01,  1.95681200e+00,\n",
       "       -5.28700687e-01,  9.90980200e-01,  1.21872482e+00, -8.80105236e-01,\n",
       "        6.69803483e-01,  1.02195005e+00, -1.60660766e-01,  8.47300551e-01,\n",
       "       -3.53080855e-01,  1.33095430e+00,  1.25874819e+00,  9.89322999e-02,\n",
       "       -2.87921493e-01,  4.25431911e-01, -8.71773347e-01,  8.75978768e-01,\n",
       "        1.01425533e+00, -3.70616846e-01,  8.48581598e-01,  1.00550664e+00,\n",
       "        4.62751787e-01, -6.55472114e-01, -1.35962878e-01,  1.04848132e+00,\n",
       "        6.71688318e-02, -5.10693455e-02,  1.47018895e+00,  5.87722527e-01,\n",
       "       -1.62392471e+00, -2.43180552e-01,  8.03923481e-01,  1.11749630e+00,\n",
       "       -1.35476822e+00, -7.23770403e-01,  7.97409963e-01, -4.58707555e-02,\n",
       "        2.71993221e-01,  2.39640545e+00, -1.43671465e+00,  1.12935710e+00,\n",
       "       -9.94898232e-01, -7.89307016e-02, -1.04550841e-01, -1.70879799e+00,\n",
       "       -8.16943964e-01, -2.20192281e+00, -5.25246235e-01, -2.10641559e-01,\n",
       "       -6.55679151e-01, -1.75821854e-02,  9.15715294e-01,  8.10739957e-01,\n",
       "       -1.24648073e+00, -7.80881262e-02, -5.02425820e-01,  5.11027714e-01,\n",
       "       -4.21709655e-01,  2.34075718e-01, -1.11764882e+00,  3.38226701e-01,\n",
       "        1.26046410e+00, -6.46886291e-01, -1.34834759e+00, -1.86491807e-01,\n",
       "       -8.13410874e-01,  4.36726720e-01,  8.29839183e-01, -9.22957093e-01,\n",
       "       -1.29112812e-01, -1.23230702e+00,  9.34483868e-01, -4.34904579e-01,\n",
       "        2.14559142e-01, -1.74339711e-01, -2.30343612e-01, -4.80687157e-01,\n",
       "       -2.28730208e+00,  8.49184571e-01,  1.77781664e-01,  1.25341333e+00,\n",
       "       -1.29215219e+00, -1.44953371e-01,  6.44275074e-01, -2.14972636e-01,\n",
       "        1.15190193e+00, -7.16710308e-01, -1.13329913e+00, -7.35010014e-01,\n",
       "       -9.79647942e-02,  6.87948116e-01, -5.36207767e-01,  4.67597395e-01,\n",
       "       -3.51563700e-01,  3.05396521e-01,  1.90822705e-01, -3.98913132e-01,\n",
       "        1.57650020e+00, -1.03466073e+00,  1.28337929e-01, -1.34795965e+00,\n",
       "        3.69345274e-01,  2.42587475e-01,  1.11299956e+00, -1.20520682e+00,\n",
       "       -4.41505531e-01, -4.03762358e-01,  7.14736833e-03, -4.82780317e-01,\n",
       "        1.30073304e+00, -5.70170266e-01, -1.25174461e+00,  2.12946637e+00,\n",
       "        3.41144484e-01, -3.88285730e-01, -1.64073521e-01,  6.65594524e-01,\n",
       "        9.03716694e-01, -8.05395878e-02,  9.95736995e-01,  6.21276057e-01,\n",
       "        1.83868049e-01,  6.34984582e-01,  5.37393254e-02, -1.30587695e+00,\n",
       "       -1.02802396e-01,  9.52804502e-01,  6.06921720e-01,  2.24160982e+00,\n",
       "       -1.36507936e-02,  2.06445484e+00, -6.92560323e-01, -2.59932379e+00,\n",
       "        4.25157202e-01, -1.43185563e+00, -4.99915860e-01, -1.06763897e+00,\n",
       "        7.73724767e-01,  1.26876410e+00,  1.02823345e+00, -4.42949626e-01,\n",
       "        1.47207877e+00, -1.46148338e+00,  2.42858161e-01,  1.76331319e-01,\n",
       "       -1.10196246e+00, -8.15464773e-01,  1.26281616e+00,  5.07327486e-01,\n",
       "        1.94530879e+00,  2.97398213e+00,  3.54432661e-01, -3.75147158e-02,\n",
       "        9.58782456e-01, -1.38013380e+00,  6.75657401e-01,  9.19208497e-01,\n",
       "        2.75968934e-01,  3.69903753e-01,  1.52691875e-01,  4.68433040e-02,\n",
       "       -1.16948411e+00, -7.81841985e-02, -1.59981407e-01, -3.66469696e-01,\n",
       "       -1.27460703e+00,  4.72240160e-01,  2.45036379e-01,  4.90447146e-01,\n",
       "       -2.53608666e-01,  7.40310343e-01, -7.97657278e-02, -4.26878190e-01,\n",
       "        7.44449088e-01, -1.81453141e-01, -4.81683326e-01,  5.67245159e-01,\n",
       "        1.02533210e+00, -5.43134348e-01, -1.68033008e+00,  5.07601981e-01,\n",
       "       -3.18944335e-01, -7.59893613e-01, -1.08518143e+00, -6.83434312e-01,\n",
       "        1.16446561e+00, -1.11527147e-01, -8.87708730e-01,  1.56409882e+00,\n",
       "        1.17424421e-01, -6.87433718e-01,  5.11053893e-01, -1.55010658e+00,\n",
       "        2.84237292e-01, -7.91786190e-01,  5.95059189e-01,  5.53895928e-01,\n",
       "       -1.93304898e+00,  4.33572113e-01, -1.18511712e+00, -5.40981153e-01,\n",
       "       -4.23890319e-01, -1.14546682e+00, -9.86665271e-01,  6.44766754e-01,\n",
       "        1.47362445e+00, -1.89817627e+00, -6.67048872e-01,  2.28668619e-01,\n",
       "        1.28978023e-01,  1.52433117e-01,  9.03327941e-01,  1.43819105e+00,\n",
       "        6.55506050e-01, -1.45718615e-01, -4.47277936e-01,  1.05903457e-01,\n",
       "       -1.02308932e+00,  9.51133318e-01, -3.37982522e-01,  9.89654708e-01,\n",
       "       -1.83588756e-01, -6.95828605e-02, -7.25382723e-01, -6.91460952e-01,\n",
       "        1.28494151e+00,  1.20272015e+00, -7.82161284e-01, -9.01302785e-01,\n",
       "        4.36518572e-01,  1.11643824e+00, -1.82148721e-01,  2.82321797e-01,\n",
       "       -2.06240263e-01, -1.09013581e-01, -8.62320221e-01, -3.41746652e-02,\n",
       "       -1.07120087e+00,  3.20376963e-01,  2.79555304e+00, -4.83953481e-01,\n",
       "        1.10856946e+00, -1.22298726e+00, -6.04157116e-01,  2.86639504e-01,\n",
       "       -6.78215063e-01,  1.79542482e-01,  6.46900214e-01,  9.09263524e-01,\n",
       "        1.76303771e-01,  2.88597800e-01, -6.67452422e-02,  9.65154843e-01,\n",
       "       -2.41429633e+00,  1.50535654e-01,  8.00795721e-01,  7.76200106e-02,\n",
       "       -9.28986382e-01,  1.94028747e-01, -3.29335891e-01, -7.07283250e-01,\n",
       "       -5.73280128e-01, -9.86286573e-01,  1.01521841e+00, -1.42821291e+00,\n",
       "       -8.77173607e-01,  8.94119999e-01,  7.59892403e-01,  1.38709507e+00,\n",
       "        7.61171954e-01, -2.26467904e-01, -1.49918936e+00,  8.27994202e-01,\n",
       "       -3.07770503e-02, -8.32393927e-01, -6.96455418e-01, -5.57643351e-01,\n",
       "        1.04386420e-01, -2.42740988e+00,  2.73011312e-01, -6.77002455e-01,\n",
       "        1.69887768e-01, -7.00023523e-01, -4.45027534e-01, -6.71495706e-01,\n",
       "       -8.32720559e-02,  1.37396264e+00, -1.70719047e+00,  8.85423982e-01,\n",
       "       -7.70507651e-01, -1.23089141e+00,  4.91378008e-01,  2.56006571e-01,\n",
       "       -7.79006725e-01, -1.89692955e+00, -1.17623380e+00,  2.05155023e-01,\n",
       "        2.63683052e+00,  1.51706003e+00, -5.43049481e-01, -1.10959461e+00,\n",
       "       -5.26123657e-02, -2.40332043e+00, -3.74577150e-01,  2.86585236e-01,\n",
       "        9.56162349e-01, -2.76014336e+00, -2.69562504e-01,  4.54457846e-01,\n",
       "       -5.98805610e-01,  7.66143440e-01,  1.54601679e+00, -1.60738705e+00,\n",
       "        9.10475554e-01,  1.09509140e-01,  7.58074982e-01,  1.03631333e+00,\n",
       "        1.11519511e+00,  1.69966958e+00, -6.23026980e-01,  2.04005217e+00,\n",
       "        1.73822955e+00, -5.10406362e-01,  1.35381527e-01,  4.01427399e-01,\n",
       "       -1.32314362e+00, -5.42138483e-01, -3.63789859e-01,  1.66241837e+00,\n",
       "       -6.27392701e-01, -8.42440801e-01, -2.86445446e-01, -1.14015729e+00,\n",
       "       -1.45625370e+00, -1.41535879e+00, -9.54096958e-01,  1.67812741e+00,\n",
       "       -3.95244355e-01, -1.04125793e+00, -3.44259498e-01,  1.09576372e+00,\n",
       "        8.62724850e-03, -6.62473270e-01, -5.15464430e-01, -6.92266700e-01,\n",
       "        2.40884171e-01,  3.00054104e-01, -1.55020497e+00,  3.77831976e-01,\n",
       "       -3.08070429e-01, -1.75950442e-01, -1.08556428e-01, -1.71895284e+00,\n",
       "       -1.60720397e+00,  9.52596861e-01,  1.71789053e+00, -1.02179071e-01,\n",
       "       -1.09497021e+00, -9.00356078e-01,  6.02399993e-01,  1.47840045e+00,\n",
       "       -3.30917789e-01,  4.31979943e-02,  1.06349368e+00,  2.35477583e+00,\n",
       "       -1.07963039e+00, -7.00001490e-01, -1.34314200e+00, -1.04015022e+00,\n",
       "        3.22994185e-01, -1.17431329e-01,  1.50362871e+00, -1.00263353e-01,\n",
       "        2.58078669e+00, -2.49391603e-01,  1.40235030e-01, -1.58950330e-01,\n",
       "       -2.60317686e-01,  9.33681075e-01,  5.09111813e-01,  2.36051502e+00,\n",
       "       -1.05970355e+00, -1.02805932e+00, -1.24141829e+00,  5.73126818e-01,\n",
       "        9.73036392e-01, -8.73370691e-01, -6.59707180e-01,  2.01236005e-01,\n",
       "        1.78102698e-01, -4.46452926e-01,  5.34954172e-01,  8.46296782e-01,\n",
       "       -7.85541428e-01, -7.94548791e-01, -9.14144294e-01,  2.58820907e-01,\n",
       "        4.39014999e-01,  5.75765554e-01, -1.14941586e-01,  1.01543282e+00,\n",
       "       -1.59191132e+00,  1.86576914e-01,  7.25993222e-01,  4.80697863e-01,\n",
       "        9.11081086e-01, -1.75336081e+00, -3.35471425e-01,  1.40731456e+00,\n",
       "        4.03583014e-01,  9.62248894e-02,  1.02608252e+00, -1.77127772e-01,\n",
       "        1.91930447e+00,  4.62417785e-01, -5.82119790e-01, -4.39297195e-01,\n",
       "        9.97189417e-02,  1.86198667e+00, -6.58174848e-01,  3.57911258e-01,\n",
       "        1.62699223e+00,  1.10510166e+00,  6.75515339e-01, -4.30549668e-01,\n",
       "       -6.11385261e-01,  1.14255814e+00, -9.17578791e-01, -1.03009453e+00,\n",
       "       -1.28548610e-02,  6.26538289e-02,  4.81282547e-01,  1.81751819e-01,\n",
       "       -1.08337354e+00,  1.06704030e+00, -5.55323665e-01,  6.06387920e-02,\n",
       "        4.66452454e-01, -5.87288103e-01, -2.39296392e-01, -3.34400621e-01,\n",
       "       -5.93976278e-01, -1.27225501e+00, -1.05503847e+00,  1.30372107e+00,\n",
       "        1.25456068e+00,  7.89197575e-01, -5.89890558e-01,  5.92879876e-01,\n",
       "       -9.25463657e-01,  5.06084114e-01,  9.63950287e-01, -1.91874301e+00,\n",
       "        3.21282835e+00, -7.03338705e-01,  4.13390993e-01,  1.27275628e+00,\n",
       "       -9.80376790e-01, -1.11833802e+00, -3.48399302e-01,  4.97652936e-01,\n",
       "        6.50927955e-01,  1.11016800e+00,  1.73408778e+00, -1.08566018e+00,\n",
       "       -1.66031951e+00,  1.74351275e+00, -1.26514286e+00, -6.93099767e-01,\n",
       "       -1.13274048e+00, -4.37461417e-01,  8.39555695e-01,  3.21179850e-01,\n",
       "        8.61023203e-01,  1.20656535e+00, -5.94847188e-01,  1.72548822e+00,\n",
       "        1.71137141e+00, -2.05461981e+00, -1.53198968e+00, -6.69890009e-01,\n",
       "        1.17335909e+00,  3.70214018e-01,  7.88574136e-01, -1.67998366e+00,\n",
       "        6.94875621e-01,  5.43283642e-01,  2.67880672e-01, -6.01653983e-01,\n",
       "       -1.03887223e+00,  3.81697899e-01, -3.31386134e+00, -3.30770082e-01,\n",
       "        5.17700311e-02, -1.05101512e+00, -2.45910457e-01, -3.61143744e-01,\n",
       "        2.25039705e-01, -5.70653491e-01,  2.46158759e+00,  2.14615085e-01,\n",
       "       -2.17449238e-01,  3.95067595e-01,  8.70615409e-01, -3.54561589e-01,\n",
       "        4.34405268e-01,  8.60134592e-02,  1.32634132e-01, -8.58320054e-01,\n",
       "        6.37412014e-01, -5.01970540e-01,  1.17903102e+00,  4.67040192e-01,\n",
       "        1.71977443e-01, -1.57627671e+00, -3.36701898e-01, -5.09742884e-02,\n",
       "       -9.39567155e-01, -1.06265045e-01, -7.14388367e-01, -1.92694208e-01,\n",
       "        1.21811286e+00, -1.51843277e-01, -2.04560314e+00, -1.00907795e+00,\n",
       "        1.39483151e+00,  1.55740255e+00, -1.07523775e+00,  5.34064771e-01,\n",
       "       -1.93112553e+00,  2.99492537e-01,  4.26685632e-01,  6.86491729e-01,\n",
       "        8.44802810e-01, -1.86382697e-01,  1.32001552e-01, -1.00215634e-01,\n",
       "        1.31157714e+00,  1.43014811e+00, -1.90897433e+00, -1.38129116e+00,\n",
       "        1.03304372e+00, -8.13420919e-01, -1.20158810e-01,  1.31889254e+00,\n",
       "       -1.46787638e-01, -1.76881797e-01,  3.04549905e-01, -6.53111216e-01,\n",
       "       -1.34008356e-01, -6.15126815e-01,  1.00063129e+00,  8.22439356e-02,\n",
       "        6.32273554e-01,  1.04378001e+00, -9.27391657e-01,  1.73122830e-01,\n",
       "       -2.90041639e-01,  2.98770008e-01, -4.33525181e-01,  7.63064478e-01,\n",
       "        8.73197562e-01, -1.47352273e+00,  2.21904014e+00, -9.38999950e-01,\n",
       "        1.05797814e-01, -1.77263098e+00,  5.34149929e-01,  1.64622287e+00,\n",
       "        1.35712344e+00, -4.00487998e-02, -5.14589977e-01, -2.47703293e-02,\n",
       "        8.27913711e-01, -5.50821383e-01, -1.07684166e+00, -2.76544164e-04,\n",
       "       -6.72691442e-02, -7.45853643e-01,  5.76723967e-01,  1.57838560e+00,\n",
       "       -1.13976199e+00, -1.26525772e-01, -8.40632863e-01, -1.89802590e+00,\n",
       "       -6.40897735e-02, -2.50371265e-01, -4.75773618e-01, -1.90146941e+00,\n",
       "        7.68426637e-01,  1.56233731e+00, -1.51420120e+00,  1.01071616e+00,\n",
       "       -1.00519661e+00, -6.18132599e-01,  9.85424449e-01,  5.12621244e-01])"
      ]
     },
     "execution_count": 47,
     "metadata": {},
     "output_type": "execute_result"
    }
   ],
   "source": [
    "data = np.random.randn(1000)  # Normally distributed\n",
    "\n",
    "data"
   ]
  },
  {
   "cell_type": "code",
   "execution_count": 48,
   "id": "20609a87-c729-404b-a4d1-dce81ccbfab5",
   "metadata": {
    "tags": []
   },
   "outputs": [
    {
     "data": {
      "text/plain": [
       "[(-3.315, -0.656], (-0.656, -0.0133], (-3.315, -0.656], (-0.0133, 0.719], (0.719, 3.213], ..., (0.719, 3.213], (-3.315, -0.656], (-0.656, -0.0133], (0.719, 3.213], (-0.0133, 0.719]]\n",
       "Length: 1000\n",
       "Categories (4, interval[float64, right]): [(-3.315, -0.656] < (-0.656, -0.0133] < (-0.0133, 0.719] < (0.719, 3.213]]"
      ]
     },
     "execution_count": 48,
     "metadata": {},
     "output_type": "execute_result"
    }
   ],
   "source": [
    "cats = pd.qcut(data, 4)  # Cut into quartiles\n",
    "\n",
    "cats"
   ]
  },
  {
   "cell_type": "code",
   "execution_count": 49,
   "id": "933b3b39-73c8-4843-a0cb-ebfae7c76b67",
   "metadata": {
    "tags": []
   },
   "outputs": [
    {
     "data": {
      "text/plain": [
       "(-3.315, -0.656]     250\n",
       "(-0.656, -0.0133]    250\n",
       "(-0.0133, 0.719]     250\n",
       "(0.719, 3.213]       250\n",
       "dtype: int64"
      ]
     },
     "execution_count": 49,
     "metadata": {},
     "output_type": "execute_result"
    }
   ],
   "source": [
    "pd.value_counts(cats)"
   ]
  },
  {
   "cell_type": "markdown",
   "id": "b0d56adb-997a-407e-aed1-64f1f57aaa29",
   "metadata": {},
   "source": [
    "与cut类似，你也可以传递自定义的分位数（0到1之间的数值，包含端点）："
   ]
  },
  {
   "cell_type": "code",
   "execution_count": 55,
   "id": "16e3c6e7-bb19-4e5f-93c5-f65c4498cbb0",
   "metadata": {
    "tags": []
   },
   "outputs": [
    {
     "data": {
      "text/plain": [
       "[(-1.176, -0.0133], (-1.176, -0.0133], (-1.176, -0.0133], (-0.0133, 1.274], (-0.0133, 1.274], ..., (-0.0133, 1.274], (-1.176, -0.0133], (-1.176, -0.0133], (-0.0133, 1.274], (-0.0133, 1.274]]\n",
       "Length: 1000\n",
       "Categories (4, interval[float64, right]): [(-3.315, -1.176] < (-1.176, -0.0133] < (-0.0133, 1.274] < (1.274, 3.213]]"
      ]
     },
     "execution_count": 55,
     "metadata": {},
     "output_type": "execute_result"
    }
   ],
   "source": [
    "res_a = pd.qcut(data, [0, 0.1, 0.5, 0.9, 1.])\n",
    "\n",
    "res_a"
   ]
  },
  {
   "cell_type": "code",
   "execution_count": 56,
   "id": "d858e367-454e-4828-9d80-6d7906f79d0a",
   "metadata": {
    "tags": []
   },
   "outputs": [
    {
     "data": {
      "text/plain": [
       "(-1.176, -0.0133]    400\n",
       "(-0.0133, 1.274]     400\n",
       "(-3.315, -1.176]     100\n",
       "(1.274, 3.213]       100\n",
       "dtype: int64"
      ]
     },
     "execution_count": 56,
     "metadata": {},
     "output_type": "execute_result"
    }
   ],
   "source": [
    "pd.value_counts(res_a)"
   ]
  },
  {
   "cell_type": "markdown",
   "id": "5e81dc1d-a645-4cd8-9e31-d67e23a7d408",
   "metadata": {},
   "source": [
    "本章稍后在讲解聚合和分组运算时会再次用到cut和qcut，因为这两个离散化函数对分位和分组分析非常重要。"
   ]
  },
  {
   "cell_type": "markdown",
   "id": "dc6e032d-c342-4638-a410-f99a3c96873b",
   "metadata": {},
   "source": [
    "## 检测和过滤异常值\n",
    "\n",
    "过滤或变换异常值（outlier）在很大程度上就是运用数组运算。来看一个含有正态分布数据的DataFrame："
   ]
  },
  {
   "cell_type": "code",
   "execution_count": 59,
   "id": "bb879424-0388-41c9-a00f-8e40e2d06c50",
   "metadata": {
    "tags": []
   },
   "outputs": [
    {
     "data": {
      "text/html": [
       "<div>\n",
       "<style scoped>\n",
       "    .dataframe tbody tr th:only-of-type {\n",
       "        vertical-align: middle;\n",
       "    }\n",
       "\n",
       "    .dataframe tbody tr th {\n",
       "        vertical-align: top;\n",
       "    }\n",
       "\n",
       "    .dataframe thead th {\n",
       "        text-align: right;\n",
       "    }\n",
       "</style>\n",
       "<table border=\"1\" class=\"dataframe\">\n",
       "  <thead>\n",
       "    <tr style=\"text-align: right;\">\n",
       "      <th></th>\n",
       "      <th>0</th>\n",
       "      <th>1</th>\n",
       "      <th>2</th>\n",
       "      <th>3</th>\n",
       "      <th>4</th>\n",
       "    </tr>\n",
       "  </thead>\n",
       "  <tbody>\n",
       "    <tr>\n",
       "      <th>0</th>\n",
       "      <td>-0.628470</td>\n",
       "      <td>0.852790</td>\n",
       "      <td>-1.391426</td>\n",
       "      <td>0.349387</td>\n",
       "      <td>1.220137</td>\n",
       "    </tr>\n",
       "    <tr>\n",
       "      <th>1</th>\n",
       "      <td>0.058644</td>\n",
       "      <td>0.310716</td>\n",
       "      <td>-0.164380</td>\n",
       "      <td>0.024320</td>\n",
       "      <td>1.179610</td>\n",
       "    </tr>\n",
       "    <tr>\n",
       "      <th>2</th>\n",
       "      <td>1.254495</td>\n",
       "      <td>0.402902</td>\n",
       "      <td>-2.289132</td>\n",
       "      <td>1.794590</td>\n",
       "      <td>-0.105957</td>\n",
       "    </tr>\n",
       "    <tr>\n",
       "      <th>3</th>\n",
       "      <td>-0.146018</td>\n",
       "      <td>0.127235</td>\n",
       "      <td>-2.283615</td>\n",
       "      <td>-1.063468</td>\n",
       "      <td>-0.616641</td>\n",
       "    </tr>\n",
       "    <tr>\n",
       "      <th>4</th>\n",
       "      <td>-1.006175</td>\n",
       "      <td>-0.791468</td>\n",
       "      <td>0.252518</td>\n",
       "      <td>0.665419</td>\n",
       "      <td>-0.504912</td>\n",
       "    </tr>\n",
       "    <tr>\n",
       "      <th>...</th>\n",
       "      <td>...</td>\n",
       "      <td>...</td>\n",
       "      <td>...</td>\n",
       "      <td>...</td>\n",
       "      <td>...</td>\n",
       "    </tr>\n",
       "    <tr>\n",
       "      <th>995</th>\n",
       "      <td>-0.720880</td>\n",
       "      <td>-0.108241</td>\n",
       "      <td>-0.035614</td>\n",
       "      <td>0.207703</td>\n",
       "      <td>-0.254406</td>\n",
       "    </tr>\n",
       "    <tr>\n",
       "      <th>996</th>\n",
       "      <td>1.432456</td>\n",
       "      <td>-0.506653</td>\n",
       "      <td>-1.513577</td>\n",
       "      <td>-1.748046</td>\n",
       "      <td>-0.107797</td>\n",
       "    </tr>\n",
       "    <tr>\n",
       "      <th>997</th>\n",
       "      <td>2.028627</td>\n",
       "      <td>-2.256784</td>\n",
       "      <td>-0.139630</td>\n",
       "      <td>0.012115</td>\n",
       "      <td>0.191477</td>\n",
       "    </tr>\n",
       "    <tr>\n",
       "      <th>998</th>\n",
       "      <td>0.234811</td>\n",
       "      <td>-0.173545</td>\n",
       "      <td>0.143070</td>\n",
       "      <td>0.489465</td>\n",
       "      <td>-0.162274</td>\n",
       "    </tr>\n",
       "    <tr>\n",
       "      <th>999</th>\n",
       "      <td>-1.000269</td>\n",
       "      <td>-0.038354</td>\n",
       "      <td>0.452454</td>\n",
       "      <td>-1.047262</td>\n",
       "      <td>1.960427</td>\n",
       "    </tr>\n",
       "  </tbody>\n",
       "</table>\n",
       "<p>1000 rows × 5 columns</p>\n",
       "</div>"
      ],
      "text/plain": [
       "            0         1         2         3         4\n",
       "0   -0.628470  0.852790 -1.391426  0.349387  1.220137\n",
       "1    0.058644  0.310716 -0.164380  0.024320  1.179610\n",
       "2    1.254495  0.402902 -2.289132  1.794590 -0.105957\n",
       "3   -0.146018  0.127235 -2.283615 -1.063468 -0.616641\n",
       "4   -1.006175 -0.791468  0.252518  0.665419 -0.504912\n",
       "..        ...       ...       ...       ...       ...\n",
       "995 -0.720880 -0.108241 -0.035614  0.207703 -0.254406\n",
       "996  1.432456 -0.506653 -1.513577 -1.748046 -0.107797\n",
       "997  2.028627 -2.256784 -0.139630  0.012115  0.191477\n",
       "998  0.234811 -0.173545  0.143070  0.489465 -0.162274\n",
       "999 -1.000269 -0.038354  0.452454 -1.047262  1.960427\n",
       "\n",
       "[1000 rows x 5 columns]"
      ]
     },
     "execution_count": 59,
     "metadata": {},
     "output_type": "execute_result"
    }
   ],
   "source": [
    "data = pd.DataFrame(np.random.randn(1000, 5))\n",
    "\n",
    "data"
   ]
  },
  {
   "cell_type": "code",
   "execution_count": 58,
   "id": "aadc5eb0-ac27-4c01-a164-20258516637c",
   "metadata": {
    "tags": []
   },
   "outputs": [
    {
     "data": {
      "text/html": [
       "<div>\n",
       "<style scoped>\n",
       "    .dataframe tbody tr th:only-of-type {\n",
       "        vertical-align: middle;\n",
       "    }\n",
       "\n",
       "    .dataframe tbody tr th {\n",
       "        vertical-align: top;\n",
       "    }\n",
       "\n",
       "    .dataframe thead th {\n",
       "        text-align: right;\n",
       "    }\n",
       "</style>\n",
       "<table border=\"1\" class=\"dataframe\">\n",
       "  <thead>\n",
       "    <tr style=\"text-align: right;\">\n",
       "      <th></th>\n",
       "      <th>0</th>\n",
       "      <th>1</th>\n",
       "      <th>2</th>\n",
       "      <th>3</th>\n",
       "    </tr>\n",
       "  </thead>\n",
       "  <tbody>\n",
       "    <tr>\n",
       "      <th>count</th>\n",
       "      <td>1000.000000</td>\n",
       "      <td>1000.000000</td>\n",
       "      <td>1000.000000</td>\n",
       "      <td>1000.000000</td>\n",
       "    </tr>\n",
       "    <tr>\n",
       "      <th>mean</th>\n",
       "      <td>-0.023053</td>\n",
       "      <td>-0.017792</td>\n",
       "      <td>0.019038</td>\n",
       "      <td>-0.013172</td>\n",
       "    </tr>\n",
       "    <tr>\n",
       "      <th>std</th>\n",
       "      <td>0.961715</td>\n",
       "      <td>0.990408</td>\n",
       "      <td>1.042301</td>\n",
       "      <td>1.023584</td>\n",
       "    </tr>\n",
       "    <tr>\n",
       "      <th>min</th>\n",
       "      <td>-2.840085</td>\n",
       "      <td>-2.971167</td>\n",
       "      <td>-3.704109</td>\n",
       "      <td>-2.929153</td>\n",
       "    </tr>\n",
       "    <tr>\n",
       "      <th>25%</th>\n",
       "      <td>-0.706753</td>\n",
       "      <td>-0.683379</td>\n",
       "      <td>-0.686312</td>\n",
       "      <td>-0.698741</td>\n",
       "    </tr>\n",
       "    <tr>\n",
       "      <th>50%</th>\n",
       "      <td>0.001285</td>\n",
       "      <td>-0.048737</td>\n",
       "      <td>-0.007689</td>\n",
       "      <td>0.000962</td>\n",
       "    </tr>\n",
       "    <tr>\n",
       "      <th>75%</th>\n",
       "      <td>0.619917</td>\n",
       "      <td>0.655426</td>\n",
       "      <td>0.753050</td>\n",
       "      <td>0.699141</td>\n",
       "    </tr>\n",
       "    <tr>\n",
       "      <th>max</th>\n",
       "      <td>2.936533</td>\n",
       "      <td>2.938289</td>\n",
       "      <td>3.710361</td>\n",
       "      <td>4.072049</td>\n",
       "    </tr>\n",
       "  </tbody>\n",
       "</table>\n",
       "</div>"
      ],
      "text/plain": [
       "                 0            1            2            3\n",
       "count  1000.000000  1000.000000  1000.000000  1000.000000\n",
       "mean     -0.023053    -0.017792     0.019038    -0.013172\n",
       "std       0.961715     0.990408     1.042301     1.023584\n",
       "min      -2.840085    -2.971167    -3.704109    -2.929153\n",
       "25%      -0.706753    -0.683379    -0.686312    -0.698741\n",
       "50%       0.001285    -0.048737    -0.007689     0.000962\n",
       "75%       0.619917     0.655426     0.753050     0.699141\n",
       "max       2.936533     2.938289     3.710361     4.072049"
      ]
     },
     "execution_count": 58,
     "metadata": {},
     "output_type": "execute_result"
    }
   ],
   "source": [
    "data.describe()"
   ]
  },
  {
   "cell_type": "markdown",
   "id": "c22309cf-4ac8-41f6-b790-faa921e7e3d8",
   "metadata": {},
   "source": [
    "假设你想要找出某列中绝对值大小超过3的值："
   ]
  },
  {
   "cell_type": "code",
   "execution_count": 61,
   "id": "0a954042-6026-4e78-aadd-37593570df76",
   "metadata": {
    "tags": []
   },
   "outputs": [
    {
     "data": {
      "text/plain": [
       "406    3.064622\n",
       "563   -3.006721\n",
       "Name: 2, dtype: float64"
      ]
     },
     "execution_count": 61,
     "metadata": {},
     "output_type": "execute_result"
    }
   ],
   "source": [
    "col = data[2]\n",
    "\n",
    "col[np.abs(col) > 3]"
   ]
  },
  {
   "cell_type": "markdown",
   "id": "cb376c14-b655-4735-8f1a-743e8433f83e",
   "metadata": {},
   "source": [
    "要选出全部含有“超过3或－3的值”的行，你可以在布尔型DataFrame中使用any方法："
   ]
  },
  {
   "cell_type": "code",
   "execution_count": 62,
   "id": "b7d6b227-e0d8-4c43-a740-a42a0613be6d",
   "metadata": {
    "tags": []
   },
   "outputs": [
    {
     "name": "stderr",
     "output_type": "stream",
     "text": [
      "/tmp/ipykernel_18158/2969116195.py:1: FutureWarning: In a future version of pandas all arguments of DataFrame.any and Series.any will be keyword-only.\n",
      "  data[(np.abs(data) > 3).any(1)]\n"
     ]
    },
    {
     "data": {
      "text/html": [
       "<div>\n",
       "<style scoped>\n",
       "    .dataframe tbody tr th:only-of-type {\n",
       "        vertical-align: middle;\n",
       "    }\n",
       "\n",
       "    .dataframe tbody tr th {\n",
       "        vertical-align: top;\n",
       "    }\n",
       "\n",
       "    .dataframe thead th {\n",
       "        text-align: right;\n",
       "    }\n",
       "</style>\n",
       "<table border=\"1\" class=\"dataframe\">\n",
       "  <thead>\n",
       "    <tr style=\"text-align: right;\">\n",
       "      <th></th>\n",
       "      <th>0</th>\n",
       "      <th>1</th>\n",
       "      <th>2</th>\n",
       "      <th>3</th>\n",
       "      <th>4</th>\n",
       "    </tr>\n",
       "  </thead>\n",
       "  <tbody>\n",
       "    <tr>\n",
       "      <th>79</th>\n",
       "      <td>-1.144499</td>\n",
       "      <td>0.219758</td>\n",
       "      <td>0.579791</td>\n",
       "      <td>-3.288305</td>\n",
       "      <td>0.775134</td>\n",
       "    </tr>\n",
       "    <tr>\n",
       "      <th>122</th>\n",
       "      <td>0.396242</td>\n",
       "      <td>3.219888</td>\n",
       "      <td>-1.771242</td>\n",
       "      <td>0.741403</td>\n",
       "      <td>-0.980629</td>\n",
       "    </tr>\n",
       "    <tr>\n",
       "      <th>130</th>\n",
       "      <td>1.013701</td>\n",
       "      <td>0.351426</td>\n",
       "      <td>0.754790</td>\n",
       "      <td>3.217495</td>\n",
       "      <td>-1.131902</td>\n",
       "    </tr>\n",
       "    <tr>\n",
       "      <th>406</th>\n",
       "      <td>-0.775349</td>\n",
       "      <td>1.332316</td>\n",
       "      <td>3.064622</td>\n",
       "      <td>-0.098900</td>\n",
       "      <td>1.107835</td>\n",
       "    </tr>\n",
       "    <tr>\n",
       "      <th>511</th>\n",
       "      <td>0.093836</td>\n",
       "      <td>0.191390</td>\n",
       "      <td>-1.139619</td>\n",
       "      <td>0.760228</td>\n",
       "      <td>3.115306</td>\n",
       "    </tr>\n",
       "    <tr>\n",
       "      <th>558</th>\n",
       "      <td>0.824484</td>\n",
       "      <td>0.415785</td>\n",
       "      <td>1.488446</td>\n",
       "      <td>-3.740257</td>\n",
       "      <td>-0.283510</td>\n",
       "    </tr>\n",
       "    <tr>\n",
       "      <th>563</th>\n",
       "      <td>1.849226</td>\n",
       "      <td>0.233756</td>\n",
       "      <td>-3.006721</td>\n",
       "      <td>-0.440746</td>\n",
       "      <td>0.410375</td>\n",
       "    </tr>\n",
       "    <tr>\n",
       "      <th>584</th>\n",
       "      <td>-1.575498</td>\n",
       "      <td>0.651002</td>\n",
       "      <td>1.233014</td>\n",
       "      <td>3.088325</td>\n",
       "      <td>0.616894</td>\n",
       "    </tr>\n",
       "    <tr>\n",
       "      <th>918</th>\n",
       "      <td>-1.931807</td>\n",
       "      <td>0.715558</td>\n",
       "      <td>-0.892657</td>\n",
       "      <td>0.523993</td>\n",
       "      <td>3.064280</td>\n",
       "    </tr>\n",
       "  </tbody>\n",
       "</table>\n",
       "</div>"
      ],
      "text/plain": [
       "            0         1         2         3         4\n",
       "79  -1.144499  0.219758  0.579791 -3.288305  0.775134\n",
       "122  0.396242  3.219888 -1.771242  0.741403 -0.980629\n",
       "130  1.013701  0.351426  0.754790  3.217495 -1.131902\n",
       "406 -0.775349  1.332316  3.064622 -0.098900  1.107835\n",
       "511  0.093836  0.191390 -1.139619  0.760228  3.115306\n",
       "558  0.824484  0.415785  1.488446 -3.740257 -0.283510\n",
       "563  1.849226  0.233756 -3.006721 -0.440746  0.410375\n",
       "584 -1.575498  0.651002  1.233014  3.088325  0.616894\n",
       "918 -1.931807  0.715558 -0.892657  0.523993  3.064280"
      ]
     },
     "execution_count": 62,
     "metadata": {},
     "output_type": "execute_result"
    }
   ],
   "source": [
    "data[(np.abs(data) > 3).any(1)]"
   ]
  },
  {
   "cell_type": "markdown",
   "id": "d193548c-0426-480b-a54d-7e2bb2d49e60",
   "metadata": {},
   "source": [
    "根据这些条件，就可以对值进行设置。下面的代码可以将值限制在区间－3到3以内："
   ]
  },
  {
   "cell_type": "code",
   "execution_count": 79,
   "id": "0f47ebca-69cb-446f-9568-2334744281ab",
   "metadata": {
    "tags": []
   },
   "outputs": [
    {
     "data": {
      "text/html": [
       "<div>\n",
       "<style scoped>\n",
       "    .dataframe tbody tr th:only-of-type {\n",
       "        vertical-align: middle;\n",
       "    }\n",
       "\n",
       "    .dataframe tbody tr th {\n",
       "        vertical-align: top;\n",
       "    }\n",
       "\n",
       "    .dataframe thead th {\n",
       "        text-align: right;\n",
       "    }\n",
       "</style>\n",
       "<table border=\"1\" class=\"dataframe\">\n",
       "  <thead>\n",
       "    <tr style=\"text-align: right;\">\n",
       "      <th></th>\n",
       "      <th>0</th>\n",
       "      <th>1</th>\n",
       "      <th>2</th>\n",
       "      <th>3</th>\n",
       "      <th>4</th>\n",
       "    </tr>\n",
       "  </thead>\n",
       "  <tbody>\n",
       "    <tr>\n",
       "      <th>0</th>\n",
       "      <td>NaN</td>\n",
       "      <td>NaN</td>\n",
       "      <td>NaN</td>\n",
       "      <td>NaN</td>\n",
       "      <td>1.220137</td>\n",
       "    </tr>\n",
       "    <tr>\n",
       "      <th>1</th>\n",
       "      <td>NaN</td>\n",
       "      <td>NaN</td>\n",
       "      <td>NaN</td>\n",
       "      <td>NaN</td>\n",
       "      <td>1.179610</td>\n",
       "    </tr>\n",
       "    <tr>\n",
       "      <th>2</th>\n",
       "      <td>1.254495</td>\n",
       "      <td>NaN</td>\n",
       "      <td>NaN</td>\n",
       "      <td>1.79459</td>\n",
       "      <td>NaN</td>\n",
       "    </tr>\n",
       "    <tr>\n",
       "      <th>3</th>\n",
       "      <td>NaN</td>\n",
       "      <td>NaN</td>\n",
       "      <td>NaN</td>\n",
       "      <td>NaN</td>\n",
       "      <td>NaN</td>\n",
       "    </tr>\n",
       "    <tr>\n",
       "      <th>4</th>\n",
       "      <td>NaN</td>\n",
       "      <td>NaN</td>\n",
       "      <td>NaN</td>\n",
       "      <td>NaN</td>\n",
       "      <td>NaN</td>\n",
       "    </tr>\n",
       "    <tr>\n",
       "      <th>...</th>\n",
       "      <td>...</td>\n",
       "      <td>...</td>\n",
       "      <td>...</td>\n",
       "      <td>...</td>\n",
       "      <td>...</td>\n",
       "    </tr>\n",
       "    <tr>\n",
       "      <th>995</th>\n",
       "      <td>NaN</td>\n",
       "      <td>NaN</td>\n",
       "      <td>NaN</td>\n",
       "      <td>NaN</td>\n",
       "      <td>NaN</td>\n",
       "    </tr>\n",
       "    <tr>\n",
       "      <th>996</th>\n",
       "      <td>1.432456</td>\n",
       "      <td>NaN</td>\n",
       "      <td>NaN</td>\n",
       "      <td>NaN</td>\n",
       "      <td>NaN</td>\n",
       "    </tr>\n",
       "    <tr>\n",
       "      <th>997</th>\n",
       "      <td>2.028627</td>\n",
       "      <td>NaN</td>\n",
       "      <td>NaN</td>\n",
       "      <td>NaN</td>\n",
       "      <td>NaN</td>\n",
       "    </tr>\n",
       "    <tr>\n",
       "      <th>998</th>\n",
       "      <td>NaN</td>\n",
       "      <td>NaN</td>\n",
       "      <td>NaN</td>\n",
       "      <td>NaN</td>\n",
       "      <td>NaN</td>\n",
       "    </tr>\n",
       "    <tr>\n",
       "      <th>999</th>\n",
       "      <td>NaN</td>\n",
       "      <td>NaN</td>\n",
       "      <td>NaN</td>\n",
       "      <td>NaN</td>\n",
       "      <td>1.960427</td>\n",
       "    </tr>\n",
       "  </tbody>\n",
       "</table>\n",
       "<p>1000 rows × 5 columns</p>\n",
       "</div>"
      ],
      "text/plain": [
       "            0   1   2        3         4\n",
       "0         NaN NaN NaN      NaN  1.220137\n",
       "1         NaN NaN NaN      NaN  1.179610\n",
       "2    1.254495 NaN NaN  1.79459       NaN\n",
       "3         NaN NaN NaN      NaN       NaN\n",
       "4         NaN NaN NaN      NaN       NaN\n",
       "..        ...  ..  ..      ...       ...\n",
       "995       NaN NaN NaN      NaN       NaN\n",
       "996  1.432456 NaN NaN      NaN       NaN\n",
       "997  2.028627 NaN NaN      NaN       NaN\n",
       "998       NaN NaN NaN      NaN       NaN\n",
       "999       NaN NaN NaN      NaN  1.960427\n",
       "\n",
       "[1000 rows x 5 columns]"
      ]
     },
     "execution_count": 79,
     "metadata": {},
     "output_type": "execute_result"
    }
   ],
   "source": [
    "data[np.abs(data) > 3] = np.sign(data) * 3\n",
    "\n",
    "a = data[data > 1]\n",
    "\n",
    "a"
   ]
  },
  {
   "cell_type": "code",
   "execution_count": 64,
   "id": "3658cc34-8637-4f1d-9917-6186ed16b6d5",
   "metadata": {
    "tags": []
   },
   "outputs": [
    {
     "data": {
      "text/html": [
       "<div>\n",
       "<style scoped>\n",
       "    .dataframe tbody tr th:only-of-type {\n",
       "        vertical-align: middle;\n",
       "    }\n",
       "\n",
       "    .dataframe tbody tr th {\n",
       "        vertical-align: top;\n",
       "    }\n",
       "\n",
       "    .dataframe thead th {\n",
       "        text-align: right;\n",
       "    }\n",
       "</style>\n",
       "<table border=\"1\" class=\"dataframe\">\n",
       "  <thead>\n",
       "    <tr style=\"text-align: right;\">\n",
       "      <th></th>\n",
       "      <th>0</th>\n",
       "      <th>1</th>\n",
       "      <th>2</th>\n",
       "      <th>3</th>\n",
       "      <th>4</th>\n",
       "    </tr>\n",
       "  </thead>\n",
       "  <tbody>\n",
       "    <tr>\n",
       "      <th>count</th>\n",
       "      <td>1000.000000</td>\n",
       "      <td>1000.000000</td>\n",
       "      <td>1000.000000</td>\n",
       "      <td>1000.000000</td>\n",
       "      <td>1000.000000</td>\n",
       "    </tr>\n",
       "    <tr>\n",
       "      <th>mean</th>\n",
       "      <td>0.025961</td>\n",
       "      <td>0.014795</td>\n",
       "      <td>0.006197</td>\n",
       "      <td>0.052174</td>\n",
       "      <td>0.049874</td>\n",
       "    </tr>\n",
       "    <tr>\n",
       "      <th>std</th>\n",
       "      <td>0.971061</td>\n",
       "      <td>0.962089</td>\n",
       "      <td>0.998731</td>\n",
       "      <td>1.012816</td>\n",
       "      <td>0.980095</td>\n",
       "    </tr>\n",
       "    <tr>\n",
       "      <th>min</th>\n",
       "      <td>-2.956450</td>\n",
       "      <td>-2.836477</td>\n",
       "      <td>-3.000000</td>\n",
       "      <td>-3.000000</td>\n",
       "      <td>-2.999570</td>\n",
       "    </tr>\n",
       "    <tr>\n",
       "      <th>25%</th>\n",
       "      <td>-0.609803</td>\n",
       "      <td>-0.631368</td>\n",
       "      <td>-0.673561</td>\n",
       "      <td>-0.667661</td>\n",
       "      <td>-0.599227</td>\n",
       "    </tr>\n",
       "    <tr>\n",
       "      <th>50%</th>\n",
       "      <td>0.017840</td>\n",
       "      <td>0.033052</td>\n",
       "      <td>-0.002411</td>\n",
       "      <td>0.054808</td>\n",
       "      <td>0.019438</td>\n",
       "    </tr>\n",
       "    <tr>\n",
       "      <th>75%</th>\n",
       "      <td>0.665794</td>\n",
       "      <td>0.644878</td>\n",
       "      <td>0.669578</td>\n",
       "      <td>0.766049</td>\n",
       "      <td>0.694287</td>\n",
       "    </tr>\n",
       "    <tr>\n",
       "      <th>max</th>\n",
       "      <td>2.990743</td>\n",
       "      <td>3.000000</td>\n",
       "      <td>3.000000</td>\n",
       "      <td>3.000000</td>\n",
       "      <td>3.000000</td>\n",
       "    </tr>\n",
       "  </tbody>\n",
       "</table>\n",
       "</div>"
      ],
      "text/plain": [
       "                 0            1            2            3            4\n",
       "count  1000.000000  1000.000000  1000.000000  1000.000000  1000.000000\n",
       "mean      0.025961     0.014795     0.006197     0.052174     0.049874\n",
       "std       0.971061     0.962089     0.998731     1.012816     0.980095\n",
       "min      -2.956450    -2.836477    -3.000000    -3.000000    -2.999570\n",
       "25%      -0.609803    -0.631368    -0.673561    -0.667661    -0.599227\n",
       "50%       0.017840     0.033052    -0.002411     0.054808     0.019438\n",
       "75%       0.665794     0.644878     0.669578     0.766049     0.694287\n",
       "max       2.990743     3.000000     3.000000     3.000000     3.000000"
      ]
     },
     "execution_count": 64,
     "metadata": {},
     "output_type": "execute_result"
    }
   ],
   "source": [
    "data.describe()"
   ]
  },
  {
   "cell_type": "markdown",
   "id": "f1e71c7b-462a-4071-93f1-68a1e19c48ed",
   "metadata": {},
   "source": [
    "根据数据的值是正还是负，np.sign(data)可以生成1和-1："
   ]
  },
  {
   "cell_type": "code",
   "execution_count": 65,
   "id": "a0472254-32b2-4350-b31e-8cf2c006eb2d",
   "metadata": {
    "tags": []
   },
   "outputs": [
    {
     "data": {
      "text/html": [
       "<div>\n",
       "<style scoped>\n",
       "    .dataframe tbody tr th:only-of-type {\n",
       "        vertical-align: middle;\n",
       "    }\n",
       "\n",
       "    .dataframe tbody tr th {\n",
       "        vertical-align: top;\n",
       "    }\n",
       "\n",
       "    .dataframe thead th {\n",
       "        text-align: right;\n",
       "    }\n",
       "</style>\n",
       "<table border=\"1\" class=\"dataframe\">\n",
       "  <thead>\n",
       "    <tr style=\"text-align: right;\">\n",
       "      <th></th>\n",
       "      <th>0</th>\n",
       "      <th>1</th>\n",
       "      <th>2</th>\n",
       "      <th>3</th>\n",
       "      <th>4</th>\n",
       "    </tr>\n",
       "  </thead>\n",
       "  <tbody>\n",
       "    <tr>\n",
       "      <th>0</th>\n",
       "      <td>-1.0</td>\n",
       "      <td>1.0</td>\n",
       "      <td>-1.0</td>\n",
       "      <td>1.0</td>\n",
       "      <td>1.0</td>\n",
       "    </tr>\n",
       "    <tr>\n",
       "      <th>1</th>\n",
       "      <td>1.0</td>\n",
       "      <td>1.0</td>\n",
       "      <td>-1.0</td>\n",
       "      <td>1.0</td>\n",
       "      <td>1.0</td>\n",
       "    </tr>\n",
       "    <tr>\n",
       "      <th>2</th>\n",
       "      <td>1.0</td>\n",
       "      <td>1.0</td>\n",
       "      <td>-1.0</td>\n",
       "      <td>1.0</td>\n",
       "      <td>-1.0</td>\n",
       "    </tr>\n",
       "    <tr>\n",
       "      <th>3</th>\n",
       "      <td>-1.0</td>\n",
       "      <td>1.0</td>\n",
       "      <td>-1.0</td>\n",
       "      <td>-1.0</td>\n",
       "      <td>-1.0</td>\n",
       "    </tr>\n",
       "    <tr>\n",
       "      <th>4</th>\n",
       "      <td>-1.0</td>\n",
       "      <td>-1.0</td>\n",
       "      <td>1.0</td>\n",
       "      <td>1.0</td>\n",
       "      <td>-1.0</td>\n",
       "    </tr>\n",
       "  </tbody>\n",
       "</table>\n",
       "</div>"
      ],
      "text/plain": [
       "     0    1    2    3    4\n",
       "0 -1.0  1.0 -1.0  1.0  1.0\n",
       "1  1.0  1.0 -1.0  1.0  1.0\n",
       "2  1.0  1.0 -1.0  1.0 -1.0\n",
       "3 -1.0  1.0 -1.0 -1.0 -1.0\n",
       "4 -1.0 -1.0  1.0  1.0 -1.0"
      ]
     },
     "execution_count": 65,
     "metadata": {},
     "output_type": "execute_result"
    }
   ],
   "source": [
    "np.sign(data).head()"
   ]
  },
  {
   "cell_type": "markdown",
   "id": "12cc9883-9fc9-4e19-9c9c-bdd32414d990",
   "metadata": {},
   "source": [
    "## 排列和随机采样\n",
    "\n",
    "利用`numpy.random.permutation`函数可以轻松实现对Series或DataFrame的列的排列工作（permuting，随机重排序）。通过需要排列的轴的长度调用permutation，可产生一个表示新顺序的整数数组："
   ]
  },
  {
   "cell_type": "code",
   "execution_count": 80,
   "id": "ae3e505b-3a59-43a5-bb00-f36055a615ef",
   "metadata": {
    "tags": []
   },
   "outputs": [
    {
     "data": {
      "text/html": [
       "<div>\n",
       "<style scoped>\n",
       "    .dataframe tbody tr th:only-of-type {\n",
       "        vertical-align: middle;\n",
       "    }\n",
       "\n",
       "    .dataframe tbody tr th {\n",
       "        vertical-align: top;\n",
       "    }\n",
       "\n",
       "    .dataframe thead th {\n",
       "        text-align: right;\n",
       "    }\n",
       "</style>\n",
       "<table border=\"1\" class=\"dataframe\">\n",
       "  <thead>\n",
       "    <tr style=\"text-align: right;\">\n",
       "      <th></th>\n",
       "      <th>0</th>\n",
       "      <th>1</th>\n",
       "      <th>2</th>\n",
       "      <th>3</th>\n",
       "    </tr>\n",
       "  </thead>\n",
       "  <tbody>\n",
       "    <tr>\n",
       "      <th>0</th>\n",
       "      <td>0</td>\n",
       "      <td>1</td>\n",
       "      <td>2</td>\n",
       "      <td>3</td>\n",
       "    </tr>\n",
       "    <tr>\n",
       "      <th>1</th>\n",
       "      <td>4</td>\n",
       "      <td>5</td>\n",
       "      <td>6</td>\n",
       "      <td>7</td>\n",
       "    </tr>\n",
       "    <tr>\n",
       "      <th>2</th>\n",
       "      <td>8</td>\n",
       "      <td>9</td>\n",
       "      <td>10</td>\n",
       "      <td>11</td>\n",
       "    </tr>\n",
       "    <tr>\n",
       "      <th>3</th>\n",
       "      <td>12</td>\n",
       "      <td>13</td>\n",
       "      <td>14</td>\n",
       "      <td>15</td>\n",
       "    </tr>\n",
       "    <tr>\n",
       "      <th>4</th>\n",
       "      <td>16</td>\n",
       "      <td>17</td>\n",
       "      <td>18</td>\n",
       "      <td>19</td>\n",
       "    </tr>\n",
       "  </tbody>\n",
       "</table>\n",
       "</div>"
      ],
      "text/plain": [
       "    0   1   2   3\n",
       "0   0   1   2   3\n",
       "1   4   5   6   7\n",
       "2   8   9  10  11\n",
       "3  12  13  14  15\n",
       "4  16  17  18  19"
      ]
     },
     "execution_count": 80,
     "metadata": {},
     "output_type": "execute_result"
    }
   ],
   "source": [
    "df = pd.DataFrame(np.arange(5 * 4).reshape((5, 4)))\n",
    "\n",
    "df"
   ]
  },
  {
   "cell_type": "code",
   "execution_count": 82,
   "id": "0a821d0c-8c5a-44f7-a93b-524a44f14776",
   "metadata": {
    "tags": []
   },
   "outputs": [
    {
     "data": {
      "text/plain": [
       "array([3, 1, 2, 4, 0])"
      ]
     },
     "execution_count": 82,
     "metadata": {},
     "output_type": "execute_result"
    }
   ],
   "source": [
    "sampler = np.random.permutation(5)\n",
    "\n",
    "sampler"
   ]
  },
  {
   "cell_type": "markdown",
   "id": "126a3e30-2cce-4c73-aaa7-274df222f1c6",
   "metadata": {},
   "source": [
    "然后就可以在基于iloc的索引操作或take函数中使用该数组了："
   ]
  },
  {
   "cell_type": "code",
   "execution_count": 83,
   "id": "2dc93ea3-f7ae-48ee-ba77-58b062462d25",
   "metadata": {
    "tags": []
   },
   "outputs": [
    {
     "data": {
      "text/html": [
       "<div>\n",
       "<style scoped>\n",
       "    .dataframe tbody tr th:only-of-type {\n",
       "        vertical-align: middle;\n",
       "    }\n",
       "\n",
       "    .dataframe tbody tr th {\n",
       "        vertical-align: top;\n",
       "    }\n",
       "\n",
       "    .dataframe thead th {\n",
       "        text-align: right;\n",
       "    }\n",
       "</style>\n",
       "<table border=\"1\" class=\"dataframe\">\n",
       "  <thead>\n",
       "    <tr style=\"text-align: right;\">\n",
       "      <th></th>\n",
       "      <th>0</th>\n",
       "      <th>1</th>\n",
       "      <th>2</th>\n",
       "      <th>3</th>\n",
       "    </tr>\n",
       "  </thead>\n",
       "  <tbody>\n",
       "    <tr>\n",
       "      <th>0</th>\n",
       "      <td>0</td>\n",
       "      <td>1</td>\n",
       "      <td>2</td>\n",
       "      <td>3</td>\n",
       "    </tr>\n",
       "    <tr>\n",
       "      <th>1</th>\n",
       "      <td>4</td>\n",
       "      <td>5</td>\n",
       "      <td>6</td>\n",
       "      <td>7</td>\n",
       "    </tr>\n",
       "    <tr>\n",
       "      <th>2</th>\n",
       "      <td>8</td>\n",
       "      <td>9</td>\n",
       "      <td>10</td>\n",
       "      <td>11</td>\n",
       "    </tr>\n",
       "    <tr>\n",
       "      <th>3</th>\n",
       "      <td>12</td>\n",
       "      <td>13</td>\n",
       "      <td>14</td>\n",
       "      <td>15</td>\n",
       "    </tr>\n",
       "    <tr>\n",
       "      <th>4</th>\n",
       "      <td>16</td>\n",
       "      <td>17</td>\n",
       "      <td>18</td>\n",
       "      <td>19</td>\n",
       "    </tr>\n",
       "  </tbody>\n",
       "</table>\n",
       "</div>"
      ],
      "text/plain": [
       "    0   1   2   3\n",
       "0   0   1   2   3\n",
       "1   4   5   6   7\n",
       "2   8   9  10  11\n",
       "3  12  13  14  15\n",
       "4  16  17  18  19"
      ]
     },
     "execution_count": 83,
     "metadata": {},
     "output_type": "execute_result"
    }
   ],
   "source": [
    "df"
   ]
  },
  {
   "cell_type": "code",
   "execution_count": 84,
   "id": "341c3d27-e961-4027-9dcd-36e78586df1a",
   "metadata": {
    "tags": []
   },
   "outputs": [
    {
     "data": {
      "text/html": [
       "<div>\n",
       "<style scoped>\n",
       "    .dataframe tbody tr th:only-of-type {\n",
       "        vertical-align: middle;\n",
       "    }\n",
       "\n",
       "    .dataframe tbody tr th {\n",
       "        vertical-align: top;\n",
       "    }\n",
       "\n",
       "    .dataframe thead th {\n",
       "        text-align: right;\n",
       "    }\n",
       "</style>\n",
       "<table border=\"1\" class=\"dataframe\">\n",
       "  <thead>\n",
       "    <tr style=\"text-align: right;\">\n",
       "      <th></th>\n",
       "      <th>0</th>\n",
       "      <th>1</th>\n",
       "      <th>2</th>\n",
       "      <th>3</th>\n",
       "    </tr>\n",
       "  </thead>\n",
       "  <tbody>\n",
       "    <tr>\n",
       "      <th>3</th>\n",
       "      <td>12</td>\n",
       "      <td>13</td>\n",
       "      <td>14</td>\n",
       "      <td>15</td>\n",
       "    </tr>\n",
       "    <tr>\n",
       "      <th>1</th>\n",
       "      <td>4</td>\n",
       "      <td>5</td>\n",
       "      <td>6</td>\n",
       "      <td>7</td>\n",
       "    </tr>\n",
       "    <tr>\n",
       "      <th>2</th>\n",
       "      <td>8</td>\n",
       "      <td>9</td>\n",
       "      <td>10</td>\n",
       "      <td>11</td>\n",
       "    </tr>\n",
       "    <tr>\n",
       "      <th>4</th>\n",
       "      <td>16</td>\n",
       "      <td>17</td>\n",
       "      <td>18</td>\n",
       "      <td>19</td>\n",
       "    </tr>\n",
       "    <tr>\n",
       "      <th>0</th>\n",
       "      <td>0</td>\n",
       "      <td>1</td>\n",
       "      <td>2</td>\n",
       "      <td>3</td>\n",
       "    </tr>\n",
       "  </tbody>\n",
       "</table>\n",
       "</div>"
      ],
      "text/plain": [
       "    0   1   2   3\n",
       "3  12  13  14  15\n",
       "1   4   5   6   7\n",
       "2   8   9  10  11\n",
       "4  16  17  18  19\n",
       "0   0   1   2   3"
      ]
     },
     "execution_count": 84,
     "metadata": {},
     "output_type": "execute_result"
    }
   ],
   "source": [
    "df.take(sampler)"
   ]
  },
  {
   "cell_type": "markdown",
   "id": "3aa615c7-35f7-400c-8c1d-0d4a731c1d10",
   "metadata": {},
   "source": [
    "如果不想用替换的方式选取随机子集，可以在Series和DataFrame上使用sample方法："
   ]
  },
  {
   "cell_type": "code",
   "execution_count": 90,
   "id": "2ca8f2a1-127a-4800-aa37-f4ffd3227d17",
   "metadata": {
    "tags": []
   },
   "outputs": [
    {
     "data": {
      "text/html": [
       "<div>\n",
       "<style scoped>\n",
       "    .dataframe tbody tr th:only-of-type {\n",
       "        vertical-align: middle;\n",
       "    }\n",
       "\n",
       "    .dataframe tbody tr th {\n",
       "        vertical-align: top;\n",
       "    }\n",
       "\n",
       "    .dataframe thead th {\n",
       "        text-align: right;\n",
       "    }\n",
       "</style>\n",
       "<table border=\"1\" class=\"dataframe\">\n",
       "  <thead>\n",
       "    <tr style=\"text-align: right;\">\n",
       "      <th></th>\n",
       "      <th>0</th>\n",
       "      <th>1</th>\n",
       "      <th>2</th>\n",
       "      <th>3</th>\n",
       "    </tr>\n",
       "  </thead>\n",
       "  <tbody>\n",
       "    <tr>\n",
       "      <th>4</th>\n",
       "      <td>16</td>\n",
       "      <td>17</td>\n",
       "      <td>18</td>\n",
       "      <td>19</td>\n",
       "    </tr>\n",
       "    <tr>\n",
       "      <th>0</th>\n",
       "      <td>0</td>\n",
       "      <td>1</td>\n",
       "      <td>2</td>\n",
       "      <td>3</td>\n",
       "    </tr>\n",
       "    <tr>\n",
       "      <th>3</th>\n",
       "      <td>12</td>\n",
       "      <td>13</td>\n",
       "      <td>14</td>\n",
       "      <td>15</td>\n",
       "    </tr>\n",
       "    <tr>\n",
       "      <th>2</th>\n",
       "      <td>8</td>\n",
       "      <td>9</td>\n",
       "      <td>10</td>\n",
       "      <td>11</td>\n",
       "    </tr>\n",
       "    <tr>\n",
       "      <th>1</th>\n",
       "      <td>4</td>\n",
       "      <td>5</td>\n",
       "      <td>6</td>\n",
       "      <td>7</td>\n",
       "    </tr>\n",
       "  </tbody>\n",
       "</table>\n",
       "</div>"
      ],
      "text/plain": [
       "    0   1   2   3\n",
       "4  16  17  18  19\n",
       "0   0   1   2   3\n",
       "3  12  13  14  15\n",
       "2   8   9  10  11\n",
       "1   4   5   6   7"
      ]
     },
     "execution_count": 90,
     "metadata": {},
     "output_type": "execute_result"
    }
   ],
   "source": [
    "df.sample(n=5)"
   ]
  },
  {
   "cell_type": "markdown",
   "id": "37ce5c10-f42c-4769-98ad-564314416353",
   "metadata": {},
   "source": [
    "要通过替换的方式产生样本（允许重复选择），可以传递replace=True到sample："
   ]
  },
  {
   "cell_type": "code",
   "execution_count": 92,
   "id": "0d84e3f3-e29b-4abc-9214-97fa22f26cad",
   "metadata": {
    "tags": []
   },
   "outputs": [
    {
     "data": {
      "text/plain": [
       "0    5\n",
       "1    7\n",
       "2   -1\n",
       "3    6\n",
       "4    4\n",
       "dtype: int64"
      ]
     },
     "execution_count": 92,
     "metadata": {},
     "output_type": "execute_result"
    }
   ],
   "source": [
    "choices = pd.Series([5, 7, -1, 6, 4])\n",
    "\n",
    "choices"
   ]
  },
  {
   "cell_type": "code",
   "execution_count": 94,
   "id": "8e5fd940-066f-4c85-ac35-2d800beb8796",
   "metadata": {
    "tags": []
   },
   "outputs": [
    {
     "data": {
      "text/plain": [
       "2   -1\n",
       "2   -1\n",
       "2   -1\n",
       "4    4\n",
       "0    5\n",
       "0    5\n",
       "4    4\n",
       "2   -1\n",
       "2   -1\n",
       "1    7\n",
       "dtype: int64"
      ]
     },
     "execution_count": 94,
     "metadata": {},
     "output_type": "execute_result"
    }
   ],
   "source": [
    "draws = choices.sample(n=10, replace=True)\n",
    "\n",
    "draws"
   ]
  },
  {
   "cell_type": "markdown",
   "id": "00efb4eb-b75c-4ff0-aa70-721bdf22dacf",
   "metadata": {},
   "source": [
    "## 计算指标/哑变量\n",
    "\n",
    "另一种常用于统计建模或机器学习的转换方式是：将分类变量（categorical variable）转换为“哑变量”或“指标矩阵”。\n",
    "\n",
    "如果DataFrame的某一列中含有k个不同的值，则可以派生出一个k列矩阵或DataFrame（其值全为1和0）。pandas有一个get_dummies函数可以实现该功能（其实自己动手做一个也不难）。使用之前的一个DataFrame例子："
   ]
  },
  {
   "cell_type": "code",
   "execution_count": 141,
   "id": "f639b9de-a699-46e8-9997-dd256b8b1a35",
   "metadata": {
    "tags": []
   },
   "outputs": [
    {
     "data": {
      "text/html": [
       "<div>\n",
       "<style scoped>\n",
       "    .dataframe tbody tr th:only-of-type {\n",
       "        vertical-align: middle;\n",
       "    }\n",
       "\n",
       "    .dataframe tbody tr th {\n",
       "        vertical-align: top;\n",
       "    }\n",
       "\n",
       "    .dataframe thead th {\n",
       "        text-align: right;\n",
       "    }\n",
       "</style>\n",
       "<table border=\"1\" class=\"dataframe\">\n",
       "  <thead>\n",
       "    <tr style=\"text-align: right;\">\n",
       "      <th></th>\n",
       "      <th>key</th>\n",
       "      <th>data1</th>\n",
       "    </tr>\n",
       "  </thead>\n",
       "  <tbody>\n",
       "    <tr>\n",
       "      <th>0</th>\n",
       "      <td>b</td>\n",
       "      <td>0</td>\n",
       "    </tr>\n",
       "    <tr>\n",
       "      <th>1</th>\n",
       "      <td>b</td>\n",
       "      <td>1</td>\n",
       "    </tr>\n",
       "    <tr>\n",
       "      <th>2</th>\n",
       "      <td>a</td>\n",
       "      <td>2</td>\n",
       "    </tr>\n",
       "    <tr>\n",
       "      <th>3</th>\n",
       "      <td>c</td>\n",
       "      <td>3</td>\n",
       "    </tr>\n",
       "    <tr>\n",
       "      <th>4</th>\n",
       "      <td>a</td>\n",
       "      <td>4</td>\n",
       "    </tr>\n",
       "    <tr>\n",
       "      <th>5</th>\n",
       "      <td>b</td>\n",
       "      <td>5</td>\n",
       "    </tr>\n",
       "  </tbody>\n",
       "</table>\n",
       "</div>"
      ],
      "text/plain": [
       "  key  data1\n",
       "0   b      0\n",
       "1   b      1\n",
       "2   a      2\n",
       "3   c      3\n",
       "4   a      4\n",
       "5   b      5"
      ]
     },
     "execution_count": 141,
     "metadata": {},
     "output_type": "execute_result"
    }
   ],
   "source": [
    "df = pd.DataFrame({'key': ['b', 'b', 'a', 'c', 'a', 'b'],\n",
    "                   'data1': range(6)})\n",
    "df"
   ]
  },
  {
   "cell_type": "markdown",
   "id": "ac680fa0-dab8-49ae-83c5-b22cca89dc97",
   "metadata": {},
   "source": [
    "有时候，你可能想给指标DataFrame的列加上一个前缀，以便能够跟其他数据进行合并。get_dummies的prefix参数可以实现该功能："
   ]
  },
  {
   "cell_type": "code",
   "execution_count": 139,
   "id": "68e13596-2ad2-4cf0-946a-ba89e97bb3d0",
   "metadata": {
    "tags": []
   },
   "outputs": [
    {
     "data": {
      "text/plain": [
       "0    b\n",
       "1    b\n",
       "2    a\n",
       "3    c\n",
       "4    a\n",
       "5    b\n",
       "Name: key, dtype: object"
      ]
     },
     "execution_count": 139,
     "metadata": {},
     "output_type": "execute_result"
    }
   ],
   "source": [
    "df_key = df['key']\n",
    "\n",
    "df_key"
   ]
  },
  {
   "cell_type": "code",
   "execution_count": 140,
   "id": "3fd131a7-a0b2-4ad0-b108-35c9d990e8a9",
   "metadata": {
    "tags": []
   },
   "outputs": [
    {
     "data": {
      "text/html": [
       "<div>\n",
       "<style scoped>\n",
       "    .dataframe tbody tr th:only-of-type {\n",
       "        vertical-align: middle;\n",
       "    }\n",
       "\n",
       "    .dataframe tbody tr th {\n",
       "        vertical-align: top;\n",
       "    }\n",
       "\n",
       "    .dataframe thead th {\n",
       "        text-align: right;\n",
       "    }\n",
       "</style>\n",
       "<table border=\"1\" class=\"dataframe\">\n",
       "  <thead>\n",
       "    <tr style=\"text-align: right;\">\n",
       "      <th></th>\n",
       "      <th>key_a</th>\n",
       "      <th>key_b</th>\n",
       "      <th>key_c</th>\n",
       "    </tr>\n",
       "  </thead>\n",
       "  <tbody>\n",
       "    <tr>\n",
       "      <th>0</th>\n",
       "      <td>0</td>\n",
       "      <td>1</td>\n",
       "      <td>0</td>\n",
       "    </tr>\n",
       "    <tr>\n",
       "      <th>1</th>\n",
       "      <td>0</td>\n",
       "      <td>1</td>\n",
       "      <td>0</td>\n",
       "    </tr>\n",
       "    <tr>\n",
       "      <th>2</th>\n",
       "      <td>1</td>\n",
       "      <td>0</td>\n",
       "      <td>0</td>\n",
       "    </tr>\n",
       "    <tr>\n",
       "      <th>3</th>\n",
       "      <td>0</td>\n",
       "      <td>0</td>\n",
       "      <td>1</td>\n",
       "    </tr>\n",
       "    <tr>\n",
       "      <th>4</th>\n",
       "      <td>1</td>\n",
       "      <td>0</td>\n",
       "      <td>0</td>\n",
       "    </tr>\n",
       "    <tr>\n",
       "      <th>5</th>\n",
       "      <td>0</td>\n",
       "      <td>1</td>\n",
       "      <td>0</td>\n",
       "    </tr>\n",
       "  </tbody>\n",
       "</table>\n",
       "</div>"
      ],
      "text/plain": [
       "   key_a  key_b  key_c\n",
       "0      0      1      0\n",
       "1      0      1      0\n",
       "2      1      0      0\n",
       "3      0      0      1\n",
       "4      1      0      0\n",
       "5      0      1      0"
      ]
     },
     "execution_count": 140,
     "metadata": {},
     "output_type": "execute_result"
    }
   ],
   "source": [
    "# 原来的 a, b, c [a, b, c] 行中所处的位置信息\n",
    "dummies = pd.get_dummies(df_key, prefix='key')\n",
    "\n",
    "dummies"
   ]
  },
  {
   "cell_type": "code",
   "execution_count": 101,
   "id": "ce78813d-8562-4f87-8f40-149811480ebf",
   "metadata": {
    "tags": []
   },
   "outputs": [
    {
     "data": {
      "text/html": [
       "<div>\n",
       "<style scoped>\n",
       "    .dataframe tbody tr th:only-of-type {\n",
       "        vertical-align: middle;\n",
       "    }\n",
       "\n",
       "    .dataframe tbody tr th {\n",
       "        vertical-align: top;\n",
       "    }\n",
       "\n",
       "    .dataframe thead th {\n",
       "        text-align: right;\n",
       "    }\n",
       "</style>\n",
       "<table border=\"1\" class=\"dataframe\">\n",
       "  <thead>\n",
       "    <tr style=\"text-align: right;\">\n",
       "      <th></th>\n",
       "      <th>data1</th>\n",
       "    </tr>\n",
       "  </thead>\n",
       "  <tbody>\n",
       "    <tr>\n",
       "      <th>0</th>\n",
       "      <td>0</td>\n",
       "    </tr>\n",
       "    <tr>\n",
       "      <th>1</th>\n",
       "      <td>1</td>\n",
       "    </tr>\n",
       "    <tr>\n",
       "      <th>2</th>\n",
       "      <td>2</td>\n",
       "    </tr>\n",
       "    <tr>\n",
       "      <th>3</th>\n",
       "      <td>3</td>\n",
       "    </tr>\n",
       "    <tr>\n",
       "      <th>4</th>\n",
       "      <td>4</td>\n",
       "    </tr>\n",
       "    <tr>\n",
       "      <th>5</th>\n",
       "      <td>5</td>\n",
       "    </tr>\n",
       "  </tbody>\n",
       "</table>\n",
       "</div>"
      ],
      "text/plain": [
       "   data1\n",
       "0      0\n",
       "1      1\n",
       "2      2\n",
       "3      3\n",
       "4      4\n",
       "5      5"
      ]
     },
     "execution_count": 101,
     "metadata": {},
     "output_type": "execute_result"
    }
   ],
   "source": [
    "df[['data1']]"
   ]
  },
  {
   "cell_type": "code",
   "execution_count": 100,
   "id": "bd6c6c85-5c5c-4144-a420-c301922cbf01",
   "metadata": {
    "tags": []
   },
   "outputs": [
    {
     "data": {
      "text/html": [
       "<div>\n",
       "<style scoped>\n",
       "    .dataframe tbody tr th:only-of-type {\n",
       "        vertical-align: middle;\n",
       "    }\n",
       "\n",
       "    .dataframe tbody tr th {\n",
       "        vertical-align: top;\n",
       "    }\n",
       "\n",
       "    .dataframe thead th {\n",
       "        text-align: right;\n",
       "    }\n",
       "</style>\n",
       "<table border=\"1\" class=\"dataframe\">\n",
       "  <thead>\n",
       "    <tr style=\"text-align: right;\">\n",
       "      <th></th>\n",
       "      <th>data1</th>\n",
       "      <th>key_a</th>\n",
       "      <th>key_b</th>\n",
       "      <th>key_c</th>\n",
       "    </tr>\n",
       "  </thead>\n",
       "  <tbody>\n",
       "    <tr>\n",
       "      <th>0</th>\n",
       "      <td>0</td>\n",
       "      <td>0</td>\n",
       "      <td>1</td>\n",
       "      <td>0</td>\n",
       "    </tr>\n",
       "    <tr>\n",
       "      <th>1</th>\n",
       "      <td>1</td>\n",
       "      <td>0</td>\n",
       "      <td>1</td>\n",
       "      <td>0</td>\n",
       "    </tr>\n",
       "    <tr>\n",
       "      <th>2</th>\n",
       "      <td>2</td>\n",
       "      <td>1</td>\n",
       "      <td>0</td>\n",
       "      <td>0</td>\n",
       "    </tr>\n",
       "    <tr>\n",
       "      <th>3</th>\n",
       "      <td>3</td>\n",
       "      <td>0</td>\n",
       "      <td>0</td>\n",
       "      <td>1</td>\n",
       "    </tr>\n",
       "    <tr>\n",
       "      <th>4</th>\n",
       "      <td>4</td>\n",
       "      <td>1</td>\n",
       "      <td>0</td>\n",
       "      <td>0</td>\n",
       "    </tr>\n",
       "    <tr>\n",
       "      <th>5</th>\n",
       "      <td>5</td>\n",
       "      <td>0</td>\n",
       "      <td>1</td>\n",
       "      <td>0</td>\n",
       "    </tr>\n",
       "  </tbody>\n",
       "</table>\n",
       "</div>"
      ],
      "text/plain": [
       "   data1  key_a  key_b  key_c\n",
       "0      0      0      1      0\n",
       "1      1      0      1      0\n",
       "2      2      1      0      0\n",
       "3      3      0      0      1\n",
       "4      4      1      0      0\n",
       "5      5      0      1      0"
      ]
     },
     "execution_count": 100,
     "metadata": {},
     "output_type": "execute_result"
    }
   ],
   "source": [
    "df_with_dummy = df[['data1']].join(dummies)\n",
    "\n",
    "df_with_dummy"
   ]
  }
 ],
 "metadata": {
  "kernelspec": {
   "display_name": "Python 3 (ipykernel)",
   "language": "python",
   "name": "python3"
  },
  "language_info": {
   "codemirror_mode": {
    "name": "ipython",
    "version": 3
   },
   "file_extension": ".py",
   "mimetype": "text/x-python",
   "name": "python",
   "nbconvert_exporter": "python",
   "pygments_lexer": "ipython3",
   "version": "3.8.10"
  }
 },
 "nbformat": 4,
 "nbformat_minor": 5
}
