{
 "cells": [
  {
   "cell_type": "markdown",
   "id": "7f1149a6-3bf5-46e4-8f58-884b269f8067",
   "metadata": {},
   "source": [
    "# 7.3 字符串操作\n",
    "\n",
    "Python能够成为流行的数据处理语言，部分原因是其简单易用的字符串和文本处理功能。大部分文本运算都直接做成了字符串对象的内置方法。对于更为复杂的模式匹配和文本操作，则可能需要用到正则表达式。pandas对此进行了加强，它使你能够对整组数据应用字符串表达式和正则表达式，而且能处理烦人的缺失数据。\n",
    "\n",
    "## 字符串对象方法\n",
    "\n",
    "对于许多字符串处理和脚本应用，内置的字符串方法已经能够满足要求了。例如，以逗号分隔的字符串可以用split拆分成数段："
   ]
  },
  {
   "cell_type": "code",
   "execution_count": 43,
   "id": "0a47705d-b6f8-4632-94c1-d0edd65c48c2",
   "metadata": {},
   "outputs": [
    {
     "data": {
      "text/plain": [
       "['a', 'b', '  guido']"
      ]
     },
     "execution_count": 43,
     "metadata": {},
     "output_type": "execute_result"
    }
   ],
   "source": [
    "val = 'a,b,  guido'\n",
    "\n",
    "val.split(',')"
   ]
  },
  {
   "cell_type": "markdown",
   "id": "068e4090-c7c8-40c2-82be-d119ed01f4d9",
   "metadata": {
    "tags": []
   },
   "source": [
    "split常常与strip一起使用，以去除空白符（包括换行符）："
   ]
  },
  {
   "cell_type": "code",
   "execution_count": 38,
   "id": "623800b1-be24-44d0-86f1-043f69ffcb6a",
   "metadata": {
    "tags": []
   },
   "outputs": [
    {
     "data": {
      "text/plain": [
       "['a', 'b', 'guido']"
      ]
     },
     "execution_count": 38,
     "metadata": {},
     "output_type": "execute_result"
    }
   ],
   "source": [
    "pieces = [x.strip() for x in val.split(',')]\n",
    "\n",
    "pieces"
   ]
  },
  {
   "cell_type": "markdown",
   "id": "a9fd1aab-d703-4f43-9b91-0b7960064c04",
   "metadata": {},
   "source": [
    "利用加法，可以将这些子字符串以双冒号分隔符的形式连接起来："
   ]
  },
  {
   "cell_type": "code",
   "execution_count": 39,
   "id": "e6df8ec5-c433-448d-9373-968c33bca8c3",
   "metadata": {
    "tags": []
   },
   "outputs": [
    {
     "data": {
      "text/plain": [
       "'a::b::guido'"
      ]
     },
     "execution_count": 39,
     "metadata": {},
     "output_type": "execute_result"
    }
   ],
   "source": [
    "first, second, third = pieces\n",
    "\n",
    "first + '::' + second + '::' + third"
   ]
  },
  {
   "cell_type": "markdown",
   "id": "a2f61712-528c-427e-b3cd-6c7c2339e706",
   "metadata": {},
   "source": [
    "但这种方式并不是很实用。一种更快更符合Python风格的方式是，向字符串\"::\"的join方法传入一个列表或元组："
   ]
  },
  {
   "cell_type": "code",
   "execution_count": 40,
   "id": "b1df0f36-7e17-4ddf-894c-dcd96606b575",
   "metadata": {
    "tags": []
   },
   "outputs": [
    {
     "data": {
      "text/plain": [
       "'a::b::guido'"
      ]
     },
     "execution_count": 40,
     "metadata": {},
     "output_type": "execute_result"
    }
   ],
   "source": [
    "'::'.join(pieces)"
   ]
  },
  {
   "cell_type": "markdown",
   "id": "27f543fa-e0a0-43d8-8752-f763ee81dff8",
   "metadata": {},
   "source": [
    "其它方法关注的是子串定位。检测子串的最佳方式是利用Python的in关键字，还可以使用index和find："
   ]
  },
  {
   "cell_type": "code",
   "execution_count": 41,
   "id": "e02a57d1-b3bf-4d93-b789-7586cd28dd20",
   "metadata": {
    "tags": []
   },
   "outputs": [
    {
     "name": "stdout",
     "output_type": "stream",
     "text": [
      "True\n",
      "1\n",
      "-1\n"
     ]
    }
   ],
   "source": [
    "print('guido' in val)\n",
    "\n",
    "print(val.index(','))\n",
    "\n",
    "print(val.find(':'))"
   ]
  },
  {
   "cell_type": "markdown",
   "id": "57982833-3fca-474c-876b-a09c0ebb3aff",
   "metadata": {},
   "source": [
    "注意find和index的区别：如果找不到字符串，index将会引发一个异常（而不是返回－1）："
   ]
  },
  {
   "cell_type": "code",
   "execution_count": 44,
   "id": "28cc04e3-923a-4264-82b0-202d7f810e83",
   "metadata": {
    "tags": []
   },
   "outputs": [
    {
     "ename": "ValueError",
     "evalue": "substring not found",
     "output_type": "error",
     "traceback": [
      "\u001b[0;31m---------------------------------------------------------------------------\u001b[0m",
      "\u001b[0;31mValueError\u001b[0m                                Traceback (most recent call last)",
      "Cell \u001b[0;32mIn[44], line 1\u001b[0m\n\u001b[0;32m----> 1\u001b[0m \u001b[43mval\u001b[49m\u001b[38;5;241;43m.\u001b[39;49m\u001b[43mindex\u001b[49m\u001b[43m(\u001b[49m\u001b[38;5;124;43m'\u001b[39;49m\u001b[38;5;124;43m:\u001b[39;49m\u001b[38;5;124;43m'\u001b[39;49m\u001b[43m)\u001b[49m\n",
      "\u001b[0;31mValueError\u001b[0m: substring not found"
     ]
    }
   ],
   "source": [
    "# error: 引发异常\n",
    "val.index(':')"
   ]
  },
  {
   "cell_type": "markdown",
   "id": "b35de87b-d723-4007-bf7b-526e5e8e5263",
   "metadata": {},
   "source": [
    "与此相关，count可以返回指定子串的出现次数："
   ]
  },
  {
   "cell_type": "code",
   "execution_count": 45,
   "id": "3ff2d4da-fc17-4b79-ba1f-ccedd7ec12eb",
   "metadata": {
    "tags": []
   },
   "outputs": [
    {
     "data": {
      "text/plain": [
       "2"
      ]
     },
     "execution_count": 45,
     "metadata": {},
     "output_type": "execute_result"
    }
   ],
   "source": [
    "val.count(',')"
   ]
  },
  {
   "cell_type": "code",
   "execution_count": 46,
   "id": "e3ade525-bba7-4cbe-9b6e-3c3b551878ac",
   "metadata": {
    "tags": []
   },
   "outputs": [
    {
     "data": {
      "text/plain": [
       "0"
      ]
     },
     "execution_count": 46,
     "metadata": {},
     "output_type": "execute_result"
    }
   ],
   "source": [
    "val.count('1')"
   ]
  },
  {
   "cell_type": "markdown",
   "id": "aebd51c3-04b8-4b14-90e4-efae34b98073",
   "metadata": {},
   "source": [
    "replace用于将指定模式替换为另一个模式。通过传入空字符串，它也常常用于删除模式："
   ]
  },
  {
   "cell_type": "code",
   "execution_count": 47,
   "id": "2f7fc137-9a31-4a4b-9019-d82c2506a586",
   "metadata": {
    "tags": []
   },
   "outputs": [
    {
     "data": {
      "text/plain": [
       "'a::b::  guido'"
      ]
     },
     "execution_count": 47,
     "metadata": {},
     "output_type": "execute_result"
    }
   ],
   "source": [
    "val.replace(',', '::')"
   ]
  },
  {
   "cell_type": "code",
   "execution_count": 48,
   "id": "d912193f-1261-481a-9015-99dc3b561a0e",
   "metadata": {
    "tags": []
   },
   "outputs": [
    {
     "data": {
      "text/plain": [
       "'ab  guido'"
      ]
     },
     "execution_count": 48,
     "metadata": {},
     "output_type": "execute_result"
    }
   ],
   "source": [
    "val.replace(',', '')"
   ]
  },
  {
   "cell_type": "markdown",
   "id": "3ca4b2c1-9105-4a44-ad89-b88497778972",
   "metadata": {},
   "source": [
    "casefold      将字符转换为小写，并将任何特定区域的变量字符组合转换成一个通用的可比较形式。"
   ]
  },
  {
   "cell_type": "markdown",
   "id": "d7eb9cf1-9702-4d58-b33d-5b2bd8bd684a",
   "metadata": {},
   "source": [
    "## 正则表达式\n",
    "\n",
    "正则表达式提供了一种灵活的在文本中搜索或匹配（通常比前者复杂）字符串模式的方式。正则表达式，常称作regex，是根据正则表达式语言编写的字符串。Python内置的re模块负责对字符串应用正则表达式。我将通过一些例子说明其使用方法。\n",
    "\n",
    ">笔记：正则表达式的编写技巧可以自成一章，超出了本书的范围。从网上和其它书可以找到许多非常不错的教程和参考资料。\n",
    "\n",
    "re模块的函数可以分为三个大类：模式匹配、替换以及拆分。当然，它们之间是相辅相成的。一个regex描述了需要在文本中定位的一个模式，它可以用于许多目的。我们先来看一个简单的例子：假设我想要拆分一个字符串，分隔符为数量不定的一组空白符（制表符、空格、换行符等）。描述一个或多个空白符的regex是\\s+："
   ]
  },
  {
   "cell_type": "code",
   "execution_count": 49,
   "id": "e61e08f7-ded2-4f08-a308-962019c63cdf",
   "metadata": {
    "tags": []
   },
   "outputs": [],
   "source": [
    "import re"
   ]
  },
  {
   "cell_type": "code",
   "execution_count": 50,
   "id": "a470d43a-44c9-4129-94fc-8d8c1e08142a",
   "metadata": {
    "tags": []
   },
   "outputs": [
    {
     "data": {
      "text/plain": [
       "['foo', 'bar', 'baz', 'qux']"
      ]
     },
     "execution_count": 50,
     "metadata": {},
     "output_type": "execute_result"
    }
   ],
   "source": [
    "text = \"foo    bar\\t baz  \\tqux\"\n",
    "\n",
    "re.split('\\s+', text)"
   ]
  },
  {
   "cell_type": "markdown",
   "id": "8fbaed7d-ccb1-4efe-a011-17cea063c186",
   "metadata": {},
   "source": [
    "调用re.split('\\s+',text)时，正则表达式会先被编译，然后再在text上调用其split方法。你可以用re.compile自己编译regex以得到一个可重用的regex对象："
   ]
  },
  {
   "cell_type": "code",
   "execution_count": 51,
   "id": "221cb3ac-a266-447b-b82f-680a974601ff",
   "metadata": {
    "tags": []
   },
   "outputs": [
    {
     "data": {
      "text/plain": [
       "['foo', 'bar', 'baz', 'qux']"
      ]
     },
     "execution_count": 51,
     "metadata": {},
     "output_type": "execute_result"
    }
   ],
   "source": [
    "regex = re.compile('\\s+')\n",
    "\n",
    "regex.split(text)"
   ]
  },
  {
   "cell_type": "markdown",
   "id": "7acca8a3-922d-4ed1-9328-7c7c8cafd8f6",
   "metadata": {},
   "source": [
    "如果只希望得到匹配regex的所有模式，则可以使用findall方法："
   ]
  },
  {
   "cell_type": "code",
   "execution_count": 52,
   "id": "98001d63-0a1f-41b4-90fb-c20b532129aa",
   "metadata": {
    "tags": []
   },
   "outputs": [
    {
     "data": {
      "text/plain": [
       "['    ', '\\t ', '  \\t']"
      ]
     },
     "execution_count": 52,
     "metadata": {},
     "output_type": "execute_result"
    }
   ],
   "source": [
    "regex.findall(text)"
   ]
  },
  {
   "cell_type": "markdown",
   "id": "0364408c-7ab6-4aa5-b089-75bfdc516dee",
   "metadata": {},
   "source": [
    ">笔记：如果想避免正则表达式中不需要的转义（\\），则可以使用原始字符串字面量如r'C:\\x'（也可以编写其等价式'C:\\\\x'）。\n",
    "\n",
    "如果打算对许多字符串应用同一条正则表达式，强烈建议通过re.compile创建regex对象。这样将可以节省大量的CPU时间。\n",
    "\n",
    "match和search跟findall功能类似。findall返回的是字符串中所有的匹配项，而search则只返回第一个匹配项。match更加严格，它只匹配字符串的首部。来看一个小例子，假设我们有一段文本以及一条能够识别大部分电子邮件地址的正则表达式："
   ]
  },
  {
   "cell_type": "code",
   "execution_count": 69,
   "id": "754815ca-d386-4fb2-91a1-43b82ce3a02a",
   "metadata": {
    "tags": []
   },
   "outputs": [
    {
     "data": {
      "text/plain": [
       "['dave@google.com', 'steve@gmail.com', 'rob@gmail.com', 'ryan@yahoo.com']"
      ]
     },
     "execution_count": 69,
     "metadata": {},
     "output_type": "execute_result"
    }
   ],
   "source": [
    "text = \"\"\"Dave dave@google.com\n",
    "Steve steve@gmail.com\n",
    "Rob rob@gmail.com\n",
    "Ryan ryan@yahoo.com\n",
    "\"\"\"\n",
    "\n",
    "\n",
    "pattern = r'[A-Z0-9._%+-]+@[A-Z0-9.-]+\\.[A-Z]{2,4}'\n",
    "\n",
    "# re.IGNORECASE makes the regex case-insensitive\n",
    "regex = re.compile(pattern, flags=re.IGNORECASE)\n",
    "\n",
    "regex.findall(text)"
   ]
  },
  {
   "cell_type": "markdown",
   "id": "163566f5-220e-4783-aab1-510b0c8a21e0",
   "metadata": {},
   "source": [
    "search返回的是文本中第一个电子邮件地址（以特殊的匹配项对象形式返回）。对于上面那个regex，匹配项对象只能告诉我们模式在原字符串中的起始和结束位置："
   ]
  },
  {
   "cell_type": "code",
   "execution_count": 76,
   "id": "8df9563e-2ec2-40bf-9ff6-233356610f97",
   "metadata": {
    "tags": []
   },
   "outputs": [
    {
     "name": "stdout",
     "output_type": "stream",
     "text": [
      "<re.Match object; span=(5, 20), match='dave@google.com'>\n",
      "\n",
      "Dave dave@google.com\n",
      "Steve steve@gmail.com\n",
      "Rob rob@gmail.com\n",
      "Ryan ryan@yahoo.com\n",
      "\n"
     ]
    }
   ],
   "source": [
    "m = regex.search(text)\n",
    "\n",
    "print(m)\n",
    "print(\"\")\n",
    "\n",
    "print(text)"
   ]
  },
  {
   "cell_type": "code",
   "execution_count": 77,
   "id": "5ca8f98c-4a1a-46c4-9934-4d88b83c3977",
   "metadata": {
    "tags": []
   },
   "outputs": [
    {
     "data": {
      "text/plain": [
       "'dave@google.com'"
      ]
     },
     "execution_count": 77,
     "metadata": {},
     "output_type": "execute_result"
    }
   ],
   "source": [
    "text[m.start():m.end()]"
   ]
  },
  {
   "cell_type": "markdown",
   "id": "a67ce29b-61ec-4e45-b7a5-712b5aaeaf2e",
   "metadata": {},
   "source": [
    "regex.match则将返回None，因为它只匹配出现在字符串开头的模式："
   ]
  },
  {
   "cell_type": "code",
   "execution_count": 57,
   "id": "95c6873f-5bbc-4a00-8629-a0ac2861ed7c",
   "metadata": {
    "tags": []
   },
   "outputs": [
    {
     "name": "stdout",
     "output_type": "stream",
     "text": [
      "None\n"
     ]
    }
   ],
   "source": [
    "print(regex.match(text))"
   ]
  },
  {
   "cell_type": "markdown",
   "id": "9749af8e-6fd6-46ae-9740-48bb17750583",
   "metadata": {},
   "source": [
    "相关的，sub方法可以将匹配到的模式替换为指定字符串，并返回所得到的新字符串："
   ]
  },
  {
   "cell_type": "code",
   "execution_count": 58,
   "id": "44663fe6-b30a-4113-be0d-d4fb48b3ed71",
   "metadata": {
    "tags": []
   },
   "outputs": [
    {
     "name": "stdout",
     "output_type": "stream",
     "text": [
      "Dave REDACTED\n",
      "Steve REDACTED\n",
      "Rob REDACTED\n",
      "Ryan REDACTED\n",
      "\n"
     ]
    }
   ],
   "source": [
    "print(regex.sub('REDACTED', text))"
   ]
  },
  {
   "cell_type": "markdown",
   "id": "e1479d66-6a83-43b9-90ff-75266b6ef5b8",
   "metadata": {},
   "source": [
    "假设你不仅想要找出电子邮件地址，还想将各个地址分成3个部分：用户名、域名以及域后缀。要实现此功能，只需将待分段的模式的各部分用圆括号包起来即可："
   ]
  },
  {
   "cell_type": "code",
   "execution_count": 59,
   "id": "fde80073-ecac-45e0-ba49-050fde04c5e1",
   "metadata": {
    "tags": []
   },
   "outputs": [
    {
     "data": {
      "text/plain": [
       "('wesm', 'bright', 'net')"
      ]
     },
     "execution_count": 59,
     "metadata": {},
     "output_type": "execute_result"
    }
   ],
   "source": [
    "pattern = r'([A-Z0-9._%+-]+)@([A-Z0-9.-]+)\\.([A-Z]{2,4})'\n",
    "\n",
    "regex = re.compile(pattern, flags=re.IGNORECASE)\n",
    "\n",
    "m = regex.match('wesm@bright.net')\n",
    "\n",
    "m.groups()"
   ]
  },
  {
   "cell_type": "markdown",
   "id": "07d59d4c-fbb5-4cd3-afa9-a95b800ddab1",
   "metadata": {},
   "source": [
    "对于带有分组功能的模式，findall会返回一个元组列表："
   ]
  },
  {
   "cell_type": "code",
   "execution_count": 60,
   "id": "3a3b42ca-dd93-4467-b28b-425ab69d7c37",
   "metadata": {
    "tags": []
   },
   "outputs": [
    {
     "data": {
      "text/plain": [
       "[('dave', 'google', 'com'),\n",
       " ('steve', 'gmail', 'com'),\n",
       " ('rob', 'gmail', 'com'),\n",
       " ('ryan', 'yahoo', 'com')]"
      ]
     },
     "execution_count": 60,
     "metadata": {},
     "output_type": "execute_result"
    }
   ],
   "source": [
    "regex.findall(text)"
   ]
  },
  {
   "cell_type": "markdown",
   "id": "9c06a4be-a645-45c5-b390-85b23c49d9ed",
   "metadata": {},
   "source": [
    "sub还能通过诸如\\1、\\2之类的特殊符号访问各匹配项中的分组。符号\\1对应第一个匹配的组，\\2对应第二个匹配的组，以此类推："
   ]
  },
  {
   "cell_type": "code",
   "execution_count": 61,
   "id": "d92ac834-da49-4587-8f75-1a5d8cd8350c",
   "metadata": {
    "tags": []
   },
   "outputs": [
    {
     "data": {
      "text/plain": [
       "'Dave Username: dave, Domain: google, Suffix: com\\nSteve Username: steve, Domain: gmail, Suffix: com\\nRob Username: rob, Domain: gmail, Suffix: com\\nRyan Username: ryan, Domain: yahoo, Suffix: com\\n'"
      ]
     },
     "execution_count": 61,
     "metadata": {},
     "output_type": "execute_result"
    }
   ],
   "source": [
    "res = regex.sub(r'Username: \\1, Domain: \\2, Suffix: \\3', text)\n",
    "\n",
    "res"
   ]
  },
  {
   "cell_type": "markdown",
   "id": "aa494798-f4df-4b8e-9978-e16fa2e0a246",
   "metadata": {},
   "source": [
    "## pandas的矢量化字符串函数\n",
    "\n",
    "清理待分析的散乱数据时，常常需要做一些字符串规整化工作。更为复杂的情况是，含有字符串的列有时还含有缺失数据："
   ]
  },
  {
   "cell_type": "code",
   "execution_count": 62,
   "id": "9e725f8d-da11-49d3-9276-5fe72f31e0b6",
   "metadata": {
    "tags": []
   },
   "outputs": [
    {
     "data": {
      "text/plain": [
       "Dave     dave@google.com\n",
       "Steve    steve@gmail.com\n",
       "Rob        rob@gmail.com\n",
       "Wes                  NaN\n",
       "dtype: object"
      ]
     },
     "execution_count": 62,
     "metadata": {},
     "output_type": "execute_result"
    }
   ],
   "source": [
    "import numpy as np\n",
    "import pandas as pd\n",
    "\n",
    "\n",
    "data = {'Dave':  'dave@google.com', \n",
    "        'Steve': 'steve@gmail.com',\n",
    "        'Rob':   'rob@gmail.com',\n",
    "        'Wes':    np.nan\n",
    "       }\n",
    "\n",
    "data = pd.Series(data)\n",
    "\n",
    "data"
   ]
  },
  {
   "cell_type": "code",
   "execution_count": 63,
   "id": "9ccafd2f-390b-464a-82ed-8d0b4562e3a3",
   "metadata": {
    "tags": []
   },
   "outputs": [
    {
     "data": {
      "text/plain": [
       "Dave     False\n",
       "Steve    False\n",
       "Rob      False\n",
       "Wes       True\n",
       "dtype: bool"
      ]
     },
     "execution_count": 63,
     "metadata": {},
     "output_type": "execute_result"
    }
   ],
   "source": [
    "data.isnull()"
   ]
  },
  {
   "cell_type": "markdown",
   "id": "9113532d-4cef-47e7-aff1-7b2cd3224390",
   "metadata": {},
   "source": [
    "通过data.map，所有字符串和正则表达式方法都能被应用于（传入lambda表达式或其他函数）各个值，但是如果存在NA（null）就会报错。为了解决这个问题，Series有一些能够跳过NA值的面向数组方法，进行字符串操作。通过Series的str属性即可访问这些方法。例如，我们可以通过str.contains检查各个电子邮件地址是否含有\"gmail\"："
   ]
  },
  {
   "cell_type": "code",
   "execution_count": 64,
   "id": "29d3ccfc-f65b-4ecb-8a26-fa23b612f516",
   "metadata": {
    "tags": []
   },
   "outputs": [
    {
     "data": {
      "text/plain": [
       "Dave     False\n",
       "Steve     True\n",
       "Rob       True\n",
       "Wes        NaN\n",
       "dtype: object"
      ]
     },
     "execution_count": 64,
     "metadata": {},
     "output_type": "execute_result"
    }
   ],
   "source": [
    "data.str.contains('gmail')"
   ]
  },
  {
   "cell_type": "markdown",
   "id": "86e53d36-637c-4e93-87fc-1e965d6ae566",
   "metadata": {
    "tags": []
   },
   "source": [
    "也可以使用正则表达式，还可以加上任意re选项（如IGNORECASE）："
   ]
  },
  {
   "cell_type": "code",
   "execution_count": 65,
   "id": "f640fbc0-8b2e-4f29-8066-0244eddb7fa5",
   "metadata": {
    "tags": []
   },
   "outputs": [
    {
     "data": {
      "text/plain": [
       "Dave     [(dave, google, com)]\n",
       "Steve    [(steve, gmail, com)]\n",
       "Rob        [(rob, gmail, com)]\n",
       "Wes                        NaN\n",
       "dtype: object"
      ]
     },
     "execution_count": 65,
     "metadata": {},
     "output_type": "execute_result"
    }
   ],
   "source": [
    "pattern = r'([A-Z0-9._%+-]+)@([A-Z0-9.-]+)\\.([A-Z]{2,4})'\n",
    "\n",
    "data.str.findall(pattern, flags=re.IGNORECASE)"
   ]
  },
  {
   "cell_type": "markdown",
   "id": "10fdecb0-32a7-44f6-bdde-275e0516e416",
   "metadata": {},
   "source": [
    "有两个办法可以实现矢量化的元素获取操作：要么使用str.get，要么在str属性上使用索引："
   ]
  },
  {
   "cell_type": "code",
   "execution_count": 66,
   "id": "4f75c36f-e009-4766-869c-c3eb660968d7",
   "metadata": {
    "tags": []
   },
   "outputs": [
    {
     "data": {
      "text/plain": [
       "Dave     True\n",
       "Steve    True\n",
       "Rob      True\n",
       "Wes       NaN\n",
       "dtype: object"
      ]
     },
     "execution_count": 66,
     "metadata": {},
     "output_type": "execute_result"
    }
   ],
   "source": [
    "matches = data.str.match(pattern, flags=re.IGNORECASE)\n",
    "\n",
    "matches"
   ]
  },
  {
   "cell_type": "markdown",
   "id": "9bf3f01d-d766-4c85-a1a6-ffc5be75511f",
   "metadata": {},
   "source": [
    "要访问嵌入列表中的元素，我们可以传递索引到这两个函数中："
   ]
  },
  {
   "cell_type": "code",
   "execution_count": 67,
   "id": "390f68a9-3057-4299-9a1b-9dfbd692d3cd",
   "metadata": {
    "tags": []
   },
   "outputs": [],
   "source": [
    "# 报错\n",
    "# matches.str.get(1)\n",
    "# matches.str[0]"
   ]
  },
  {
   "cell_type": "markdown",
   "id": "79f7a70e-9cb8-455e-96d5-c2491e8b992c",
   "metadata": {},
   "source": [
    "你可以利用这种方法对字符串进行截取："
   ]
  },
  {
   "cell_type": "code",
   "execution_count": 68,
   "id": "e52d6713-5964-4ede-8c57-7e14e2d33d65",
   "metadata": {
    "tags": []
   },
   "outputs": [
    {
     "data": {
      "text/plain": [
       "Dave     dave@\n",
       "Steve    steve\n",
       "Rob      rob@g\n",
       "Wes        NaN\n",
       "dtype: object"
      ]
     },
     "execution_count": 68,
     "metadata": {},
     "output_type": "execute_result"
    }
   ],
   "source": [
    "data.str[:5]"
   ]
  },
  {
   "cell_type": "code",
   "execution_count": null,
   "id": "6b01f1db-ff50-4003-b16d-5e23f28f78ea",
   "metadata": {},
   "outputs": [],
   "source": []
  }
 ],
 "metadata": {
  "kernelspec": {
   "display_name": "Python 3 (ipykernel)",
   "language": "python",
   "name": "python3"
  },
  "language_info": {
   "codemirror_mode": {
    "name": "ipython",
    "version": 3
   },
   "file_extension": ".py",
   "mimetype": "text/x-python",
   "name": "python",
   "nbconvert_exporter": "python",
   "pygments_lexer": "ipython3",
   "version": "3.8.10"
  }
 },
 "nbformat": 4,
 "nbformat_minor": 5
}
