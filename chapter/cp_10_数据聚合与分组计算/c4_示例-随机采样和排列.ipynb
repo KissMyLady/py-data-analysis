{
 "cells": [
  {
   "cell_type": "markdown",
   "id": "9df440d6-a217-4649-a34c-32a106a6ff03",
   "metadata": {},
   "source": [
    "## 示例：随机采样和排列\n",
    "\n",
    "假设你想要从一个大数据集中随机抽取（进行替换或不替换）样本以进行蒙特卡罗模拟（Monte Carlo simulation）或其他分析工作。“抽取”的方式有很多，这里使用的方法是对Series使用sample方法："
   ]
  },
  {
   "cell_type": "code",
   "execution_count": 1,
   "id": "2b9e84c9-3973-4334-be86-13521ec93bc1",
   "metadata": {
    "tags": []
   },
   "outputs": [],
   "source": [
    "import pandas as pd\n",
    "import numpy as np"
   ]
  },
  {
   "cell_type": "code",
   "execution_count": 10,
   "id": "33f572d4-b87e-4666-94e2-a2b5177a8381",
   "metadata": {
    "tags": []
   },
   "outputs": [],
   "source": [
    "# Hearts, Spades, Clubs, Diamonds\n",
    "\n",
    "suits = ['H', 'S', 'C', 'D']\n",
    "card_val = (list(range(1, 11)) + [10] * 3) * 4\n",
    "base_names = ['A'] + list(range(2, 11)) + ['J', 'K', 'Q']\n",
    "cards = []\n",
    "\n",
    "\n",
    "for suit in ['H', 'S', 'C', 'D']:\n",
    "    cards.extend(str(num) + suit for num in base_names)\n",
    "\n",
    "    \n",
    "deck = pd.Series(card_val, index=cards)"
   ]
  },
  {
   "cell_type": "markdown",
   "id": "d7a364f7-3f02-4676-885d-f7331a8559e6",
   "metadata": {},
   "source": [
    "现在我有了一个长度为52的Series，其索引包括牌名，值则是21点或其他游戏中用于计分的点数（为了简单起见，我当A的点数为1）："
   ]
  },
  {
   "cell_type": "code",
   "execution_count": 4,
   "id": "2869e5b9-bc2e-48be-8e6d-8387ca335ac4",
   "metadata": {
    "tags": []
   },
   "outputs": [
    {
     "data": {
      "text/plain": [
       "AH      1\n",
       "2H      2\n",
       "3H      3\n",
       "4H      4\n",
       "5H      5\n",
       "6H      6\n",
       "7H      7\n",
       "8H      8\n",
       "9H      9\n",
       "10H    10\n",
       "JH     10\n",
       "KH     10\n",
       "QH     10\n",
       "dtype: int64"
      ]
     },
     "execution_count": 4,
     "metadata": {},
     "output_type": "execute_result"
    }
   ],
   "source": [
    "deck[:13]"
   ]
  },
  {
   "cell_type": "markdown",
   "id": "00e912d6-cda2-44a9-96d8-ddaac5dc714e",
   "metadata": {},
   "source": [
    "现在，根据我上面所讲的，从整副牌中抽出5张，代码如下："
   ]
  },
  {
   "cell_type": "code",
   "execution_count": 5,
   "id": "ba15761e-712f-4209-91eb-b6b4779d093d",
   "metadata": {
    "tags": []
   },
   "outputs": [],
   "source": [
    "def draw(deck, n=5):\n",
    "    return deck.sample(n)"
   ]
  },
  {
   "cell_type": "code",
   "execution_count": 6,
   "id": "3c5d6bda-847c-4a87-960f-b9c4ac665fff",
   "metadata": {
    "tags": []
   },
   "outputs": [
    {
     "data": {
      "text/plain": [
       "6H     6\n",
       "7S     7\n",
       "QS    10\n",
       "9H     9\n",
       "JS    10\n",
       "dtype: int64"
      ]
     },
     "execution_count": 6,
     "metadata": {},
     "output_type": "execute_result"
    }
   ],
   "source": [
    "draw(deck)"
   ]
  },
  {
   "cell_type": "markdown",
   "id": "e78758da-f3f6-44dc-8ffe-2acee8d7b0e5",
   "metadata": {},
   "source": [
    "假设你想要从每种花色中随机抽取两张牌。由于花色是牌名的最后一个字符，所以我们可以据此进行分组，并使用apply："
   ]
  },
  {
   "cell_type": "code",
   "execution_count": 8,
   "id": "f5004f2a-60eb-453f-9bb1-5f05e16f5577",
   "metadata": {
    "tags": []
   },
   "outputs": [
    {
     "data": {
      "text/plain": [
       "C  8C     8\n",
       "   QC    10\n",
       "D  3D     3\n",
       "   JD    10\n",
       "H  QH    10\n",
       "   2H     2\n",
       "S  7S     7\n",
       "   QS    10\n",
       "dtype: int64"
      ]
     },
     "execution_count": 8,
     "metadata": {},
     "output_type": "execute_result"
    }
   ],
   "source": [
    "get_suit = lambda card: card[-1] # last letter is suit\n",
    "\n",
    "deck.groupby(get_suit).apply(draw, n=2)"
   ]
  },
  {
   "cell_type": "markdown",
   "id": "5f85017b-3390-4513-85c8-c97162aa338c",
   "metadata": {},
   "source": [
    "或者，也可以这样写："
   ]
  },
  {
   "cell_type": "code",
   "execution_count": 9,
   "id": "01fb2e09-ba91-46a2-86c2-67920f6acf22",
   "metadata": {
    "tags": []
   },
   "outputs": [
    {
     "data": {
      "text/plain": [
       "KC     10\n",
       "10C    10\n",
       "6D      6\n",
       "4D      4\n",
       "QH     10\n",
       "AH      1\n",
       "3S      3\n",
       "7S      7\n",
       "dtype: int64"
      ]
     },
     "execution_count": 9,
     "metadata": {},
     "output_type": "execute_result"
    }
   ],
   "source": [
    "deck.groupby(get_suit, group_keys=False).apply(draw, n=2)"
   ]
  },
  {
   "cell_type": "code",
   "execution_count": null,
   "id": "2b73705a-43f8-4768-8638-95df926d875b",
   "metadata": {},
   "outputs": [],
   "source": []
  }
 ],
 "metadata": {
  "kernelspec": {
   "display_name": "Python 3 (ipykernel)",
   "language": "python",
   "name": "python3"
  },
  "language_info": {
   "codemirror_mode": {
    "name": "ipython",
    "version": 3
   },
   "file_extension": ".py",
   "mimetype": "text/x-python",
   "name": "python",
   "nbconvert_exporter": "python",
   "pygments_lexer": "ipython3",
   "version": "3.8.10"
  }
 },
 "nbformat": 4,
 "nbformat_minor": 5
}
