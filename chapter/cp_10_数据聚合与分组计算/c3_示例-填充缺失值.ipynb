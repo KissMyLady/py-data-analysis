{
 "cells": [
  {
   "cell_type": "markdown",
   "id": "1fa92fff-d14d-4ab2-a278-6348d2a94609",
   "metadata": {},
   "source": [
    "## 示例：用特定于分组的值填充缺失值\n",
    "\n",
    "对于缺失数据的清理工作，有时你会用dropna将其替换掉，而有时则可能会希望用一个固定值或由数据集本身所衍生出来的值去填充NA值。这时就得使用fillna这个工具了。在下面这个例子中，我用平均值去填充NA值："
   ]
  },
  {
   "cell_type": "code",
   "execution_count": 2,
   "id": "8ea6d4c9-fbac-4fb1-9e4e-fef84b1c4d1c",
   "metadata": {
    "tags": []
   },
   "outputs": [],
   "source": [
    "import pandas as pd\n",
    "import numpy as np"
   ]
  },
  {
   "cell_type": "code",
   "execution_count": 4,
   "id": "1c96746d-8da9-43ef-8f5c-883dd00752bb",
   "metadata": {
    "tags": []
   },
   "outputs": [
    {
     "data": {
      "text/plain": [
       "0         NaN\n",
       "1   -0.634215\n",
       "2         NaN\n",
       "3   -0.390592\n",
       "4         NaN\n",
       "5    0.176936\n",
       "dtype: float64"
      ]
     },
     "execution_count": 4,
     "metadata": {},
     "output_type": "execute_result"
    }
   ],
   "source": [
    "s = pd.Series(np.random.randn(6))\n",
    "\n",
    "\n",
    "s[::2] = np.nan\n",
    "\n",
    "s"
   ]
  },
  {
   "cell_type": "code",
   "execution_count": 7,
   "id": "f481c96d-05fa-41fc-ae59-863001c10559",
   "metadata": {
    "tags": []
   },
   "outputs": [
    {
     "data": {
      "text/plain": [
       "0   -0.282624\n",
       "1   -0.634215\n",
       "2   -0.282624\n",
       "3   -0.390592\n",
       "4   -0.282624\n",
       "5    0.176936\n",
       "dtype: float64"
      ]
     },
     "execution_count": 7,
     "metadata": {},
     "output_type": "execute_result"
    }
   ],
   "source": [
    "s.fillna(s.mean())"
   ]
  },
  {
   "cell_type": "markdown",
   "id": "b613f509-bd59-4e68-bb29-c492565401a2",
   "metadata": {},
   "source": [
    "假设你需要对不同的分组填充不同的值。一种方法是将数据分组，并使用apply和一个能够对各数据块调用fillna的函数即可。下面是一些有关美国几个州的示例数据，这些州又被分为东部和西部："
   ]
  },
  {
   "cell_type": "code",
   "execution_count": 10,
   "id": "437f80c2-20bc-421e-90e7-997520ce4a8a",
   "metadata": {
    "tags": []
   },
   "outputs": [],
   "source": [
    "states = ['Ohio', 'New York', 'Vermont', 'Florida',\n",
    "          'Oregon', 'Nevada', 'California', 'Idaho']\n",
    "\n",
    "group_key = ['East'] * 4 + ['West'] * 4"
   ]
  },
  {
   "cell_type": "code",
   "execution_count": 12,
   "id": "9c17b638-22cc-4ff9-9350-9fbb8ab1d42c",
   "metadata": {
    "tags": []
   },
   "outputs": [
    {
     "data": {
      "text/plain": [
       "Ohio          1.939193\n",
       "New York     -0.998461\n",
       "Vermont      -0.488331\n",
       "Florida      -1.340052\n",
       "Oregon        0.652437\n",
       "Nevada       -1.368933\n",
       "California   -0.187816\n",
       "Idaho         1.983497\n",
       "dtype: float64"
      ]
     },
     "execution_count": 12,
     "metadata": {},
     "output_type": "execute_result"
    }
   ],
   "source": [
    "data = pd.Series(np.random.randn(8), index=states)\n",
    "\n",
    "data"
   ]
  },
  {
   "cell_type": "markdown",
   "id": "6b64166f-879e-42a3-9e29-210aa0d37a7f",
   "metadata": {},
   "source": [
    "['East'] * 4产生了一个列表，包括了['East']中元素的四个拷贝。将这些列表串联起来。\n",
    "\n",
    "将一些值设为缺失："
   ]
  },
  {
   "cell_type": "code",
   "execution_count": 13,
   "id": "dff66dd7-408f-4ede-8a7e-d6ab9470b071",
   "metadata": {
    "tags": []
   },
   "outputs": [
    {
     "data": {
      "text/plain": [
       "Ohio          1.939193\n",
       "New York     -0.998461\n",
       "Vermont            NaN\n",
       "Florida      -1.340052\n",
       "Oregon        0.652437\n",
       "Nevada             NaN\n",
       "California   -0.187816\n",
       "Idaho              NaN\n",
       "dtype: float64"
      ]
     },
     "execution_count": 13,
     "metadata": {},
     "output_type": "execute_result"
    }
   ],
   "source": [
    "data[['Vermont', 'Nevada', 'Idaho']] = np.nan\n",
    "\n",
    "data"
   ]
  },
  {
   "cell_type": "code",
   "execution_count": 14,
   "id": "d8e549b8-6f39-48c1-93a2-757aabc23111",
   "metadata": {
    "tags": []
   },
   "outputs": [
    {
     "data": {
      "text/plain": [
       "East   -0.133107\n",
       "West    0.232310\n",
       "dtype: float64"
      ]
     },
     "execution_count": 14,
     "metadata": {},
     "output_type": "execute_result"
    }
   ],
   "source": [
    "data.groupby(group_key).mean()"
   ]
  },
  {
   "cell_type": "markdown",
   "id": "f9f5ed81-d947-4d02-90bf-65a88bca0ebd",
   "metadata": {
    "tags": []
   },
   "source": [
    "我们可以用分组平均值去填充NA值:"
   ]
  },
  {
   "cell_type": "code",
   "execution_count": 17,
   "id": "1f20c2ee-7dd5-4de2-866e-8b3f8d4ee17c",
   "metadata": {
    "tags": []
   },
   "outputs": [
    {
     "name": "stderr",
     "output_type": "stream",
     "text": [
      "/tmp/ipykernel_89403/3003259577.py:3: FutureWarning: Not prepending group keys to the result index of transform-like apply. In the future, the group keys will be included in the index, regardless of whether the applied function returns a like-indexed object.\n",
      "To preserve the previous behavior, use\n",
      "\n",
      "\t>>> .groupby(..., group_keys=False)\n",
      "\n",
      "To adopt the future behavior and silence this warning, use \n",
      "\n",
      "\t>>> .groupby(..., group_keys=True)\n",
      "  data.groupby(group_key).apply(fill_mean)\n"
     ]
    },
    {
     "data": {
      "text/plain": [
       "Ohio          1.939193\n",
       "New York     -0.998461\n",
       "Vermont      -0.133107\n",
       "Florida      -1.340052\n",
       "Oregon        0.652437\n",
       "Nevada        0.232310\n",
       "California   -0.187816\n",
       "Idaho         0.232310\n",
       "dtype: float64"
      ]
     },
     "execution_count": 17,
     "metadata": {},
     "output_type": "execute_result"
    }
   ],
   "source": [
    "fill_mean = lambda g: g.fillna(g.mean())\n",
    "\n",
    "\n",
    "data.groupby(group_key).apply(fill_mean)"
   ]
  },
  {
   "cell_type": "markdown",
   "id": "24de4f1e-911c-4cc1-97e0-1280f20eaba0",
   "metadata": {},
   "source": [
    "另外，也可以在代码中预定义各组的填充值。由于分组具有一个name属性，所以我们可以拿来用一下："
   ]
  },
  {
   "cell_type": "code",
   "execution_count": 20,
   "id": "30b7dca7-ef4d-4314-9b46-bb44872dd8b2",
   "metadata": {
    "tags": []
   },
   "outputs": [
    {
     "name": "stderr",
     "output_type": "stream",
     "text": [
      "/tmp/ipykernel_89403/2932218286.py:5: FutureWarning: Not prepending group keys to the result index of transform-like apply. In the future, the group keys will be included in the index, regardless of whether the applied function returns a like-indexed object.\n",
      "To preserve the previous behavior, use\n",
      "\n",
      "\t>>> .groupby(..., group_keys=False)\n",
      "\n",
      "To adopt the future behavior and silence this warning, use \n",
      "\n",
      "\t>>> .groupby(..., group_keys=True)\n",
      "  data.groupby(group_key).apply(fill_func)\n"
     ]
    },
    {
     "data": {
      "text/plain": [
       "Ohio          1.939193\n",
       "New York     -0.998461\n",
       "Vermont       0.500000\n",
       "Florida      -1.340052\n",
       "Oregon        0.652437\n",
       "Nevada       -1.000000\n",
       "California   -0.187816\n",
       "Idaho        -1.000000\n",
       "dtype: float64"
      ]
     },
     "execution_count": 20,
     "metadata": {},
     "output_type": "execute_result"
    }
   ],
   "source": [
    "fill_values = {'East': 0.5, 'West': -1}\n",
    "\n",
    "fill_func = lambda g: g.fillna(fill_values[g.name])\n",
    "\n",
    "data.groupby(group_key).apply(fill_func)"
   ]
  },
  {
   "cell_type": "code",
   "execution_count": null,
   "id": "c6d75a76-8779-42ed-96be-74f5ddd0c9c3",
   "metadata": {},
   "outputs": [],
   "source": []
  }
 ],
 "metadata": {
  "kernelspec": {
   "display_name": "Python 3 (ipykernel)",
   "language": "python",
   "name": "python3"
  },
  "language_info": {
   "codemirror_mode": {
    "name": "ipython",
    "version": 3
   },
   "file_extension": ".py",
   "mimetype": "text/x-python",
   "name": "python",
   "nbconvert_exporter": "python",
   "pygments_lexer": "ipython3",
   "version": "3.8.10"
  }
 },
 "nbformat": 4,
 "nbformat_minor": 5
}
